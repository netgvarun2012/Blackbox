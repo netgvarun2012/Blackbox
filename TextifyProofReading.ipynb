{
  "nbformat": 4,
  "nbformat_minor": 0,
  "metadata": {
    "colab": {
      "name": "TextifyProofReading.ipynb",
      "provenance": [],
      "collapsed_sections": [],
      "authorship_tag": "ABX9TyPQPRFRbGUiS1ZM3eKeftWF",
      "include_colab_link": true
    },
    "kernelspec": {
      "name": "python3",
      "display_name": "Python 3"
    },
    "language_info": {
      "name": "python"
    }
  },
  "cells": [
    {
      "cell_type": "markdown",
      "metadata": {
        "id": "view-in-github",
        "colab_type": "text"
      },
      "source": [
        "<a href=\"https://colab.research.google.com/github/netgvarun2021/Blackbox/blob/main/TextifyProofReading.ipynb\" target=\"_parent\"><img src=\"https://colab.research.google.com/assets/colab-badge.svg\" alt=\"Open In Colab\"/></a>"
      ]
    },
    {
      "cell_type": "code",
      "metadata": {
        "colab": {
          "base_uri": "https://localhost:8080/"
        },
        "id": "oZp6LkQL1o4k",
        "outputId": "cd848862-5af0-439d-8da5-cb7da5f84428"
      },
      "source": [
        "gpu_info = !nvidia-smi\n",
        "gpu_info = '\\n'.join(gpu_info)\n",
        "if gpu_info.find('failed') >= 0:\n",
        "  print('Not connected to a GPU')\n",
        "else:\n",
        "  print(gpu_info)"
      ],
      "execution_count": 1,
      "outputs": [
        {
          "output_type": "stream",
          "name": "stdout",
          "text": [
            "Not connected to a GPU\n"
          ]
        }
      ]
    },
    {
      "cell_type": "code",
      "metadata": {
        "colab": {
          "base_uri": "https://localhost:8080/"
        },
        "id": "6SGIy8RG2WEu",
        "outputId": "1aca5e5b-ac64-4494-82e3-b7bab209547c"
      },
      "source": [
        "!nvidia-smi"
      ],
      "execution_count": 2,
      "outputs": [
        {
          "output_type": "stream",
          "name": "stdout",
          "text": [
            "NVIDIA-SMI has failed because it couldn't communicate with the NVIDIA driver. Make sure that the latest NVIDIA driver is installed and running.\n",
            "\n"
          ]
        }
      ]
    },
    {
      "cell_type": "code",
      "metadata": {
        "id": "HeQSttMz3JL6"
      },
      "source": [
        "import os\n",
        "import pandas as pd\n",
        "import spacy\n",
        "from spacy import displacy\n",
        "import nltk\n",
        "from nltk.tokenize import word_tokenize\n",
        "from google.colab import drive\n",
        "from nltk.corpus import stopwords\n",
        "import numpy as np\n",
        "import matplotlib.pyplot as plt\n",
        "import seaborn as sns\n",
        "import re\n",
        "from textatistic import Textatistic\n",
        "from spacy.matcher import Matcher\n",
        "from sklearn.model_selection import train_test_split\n",
        "from sklearn.metrics import accuracy_score, precision_score, recall_score, f1_score\n",
        "from sklearn.svm import SVC\n",
        "from sklearn.metrics import confusion_matrix\n",
        "from sklearn.naive_bayes import MultinomialNB\n",
        "from sklearn.linear_model import LogisticRegression\n",
        "from sklearn.tree import DecisionTreeClassifier\n",
        "from sklearn.metrics import make_scorer\n",
        "from sklearn.model_selection import GridSearchCV\n",
        "from collections import Counter\n",
        "from sklearn.ensemble import BaggingClassifier,RandomForestClassifier,AdaBoostClassifier\n",
        "from sklearn.pipeline import Pipeline\n",
        "from sklearn.feature_extraction.text import TfidfVectorizer"
      ],
      "execution_count": 296,
      "outputs": []
    },
    {
      "cell_type": "code",
      "metadata": {
        "colab": {
          "base_uri": "https://localhost:8080/"
        },
        "id": "xOfehfR72nvU",
        "outputId": "f20fb087-425b-48f1-9db1-09325a00c74f"
      },
      "source": [
        "drive.mount('/content/gdrive',force_remount=True)"
      ],
      "execution_count": 4,
      "outputs": [
        {
          "output_type": "stream",
          "name": "stdout",
          "text": [
            "Mounted at /content/gdrive\n"
          ]
        }
      ]
    },
    {
      "cell_type": "code",
      "metadata": {
        "id": "ATj27jXl2tHf"
      },
      "source": [
        "imdb_dir = '/content/gdrive/MyDrive'\n",
        "dataset_dir = os.path.join(imdb_dir, 'Textify.ai/Textify AI Text Corpus Center (Responses).xlsx')\n",
        "#dataset_dir = os.path.join(imdb_dir, 'Textify.ai/training_set_rel3.xls')\n",
        "#print(dataset_dir)\n",
        "bad_essays = os.path.join(imdb_dir,'Textify.ai/First Draft Essays.xlsx')"
      ],
      "execution_count": 297,
      "outputs": []
    },
    {
      "cell_type": "code",
      "metadata": {
        "id": "jcdJGhut3HGI"
      },
      "source": [
        "df = pd.read_excel(dataset_dir)\n",
        "df_bad = pd.read_excel(bad_essays)"
      ],
      "execution_count": 298,
      "outputs": []
    },
    {
      "cell_type": "code",
      "metadata": {
        "colab": {
          "base_uri": "https://localhost:8080/"
        },
        "id": "R_XKtKqqUXXZ",
        "outputId": "cb9a618b-9092-484a-f9ec-0172cadbb151"
      },
      "source": [
        "df.shape,df_bad.shape"
      ],
      "execution_count": 299,
      "outputs": [
        {
          "output_type": "execute_result",
          "data": {
            "text/plain": [
              "((734, 11), (302, 2))"
            ]
          },
          "metadata": {},
          "execution_count": 299
        }
      ]
    },
    {
      "cell_type": "code",
      "metadata": {
        "colab": {
          "base_uri": "https://localhost:8080/",
          "height": 414
        },
        "id": "Tytoiv3Vc8p1",
        "outputId": "31af4e8e-8b77-4f3d-c4e3-ad9792d9993e"
      },
      "source": [
        "df.head()"
      ],
      "execution_count": 300,
      "outputs": [
        {
          "output_type": "execute_result",
          "data": {
            "text/html": [
              "<div>\n",
              "<style scoped>\n",
              "    .dataframe tbody tr th:only-of-type {\n",
              "        vertical-align: middle;\n",
              "    }\n",
              "\n",
              "    .dataframe tbody tr th {\n",
              "        vertical-align: top;\n",
              "    }\n",
              "\n",
              "    .dataframe thead th {\n",
              "        text-align: right;\n",
              "    }\n",
              "</style>\n",
              "<table border=\"1\" class=\"dataframe\">\n",
              "  <thead>\n",
              "    <tr style=\"text-align: right;\">\n",
              "      <th></th>\n",
              "      <th>Timestamp</th>\n",
              "      <th>Contributor</th>\n",
              "      <th>Topic</th>\n",
              "      <th>Writing Style</th>\n",
              "      <th>Essay Text</th>\n",
              "      <th>Essay Grading</th>\n",
              "      <th>University Name</th>\n",
              "      <th>Education Program</th>\n",
              "      <th>Relevant Field (Major/ Subject of study etc)</th>\n",
              "      <th>Reference Link</th>\n",
              "      <th>Comments (is something unusual about the essay?)</th>\n",
              "    </tr>\n",
              "  </thead>\n",
              "  <tbody>\n",
              "    <tr>\n",
              "      <th>0</th>\n",
              "      <td>2021-06-20 05:36:05.410</td>\n",
              "      <td>Tin</td>\n",
              "      <td>Bacon</td>\n",
              "      <td>Narrative</td>\n",
              "      <td>THE ALARM CLOCK IS, TO MANY high school studen...</td>\n",
              "      <td>Average (B-C)</td>\n",
              "      <td>Duke University</td>\n",
              "      <td>Bachelors</td>\n",
              "      <td>NaN</td>\n",
              "      <td>http://www.qianmu.org/u/lystu/school/file/0hme...</td>\n",
              "      <td>NaN</td>\n",
              "    </tr>\n",
              "    <tr>\n",
              "      <th>1</th>\n",
              "      <td>2021-06-20 05:47:07.236</td>\n",
              "      <td>Tin</td>\n",
              "      <td>“Beyond Plug-and-Chug Math”</td>\n",
              "      <td>Persuasive</td>\n",
              "      <td>I HAVE ALWAYS BEEN A MATH-SCIENCE girl. I sigh...</td>\n",
              "      <td>Average (B-C)</td>\n",
              "      <td>MIT - Massachusetts Institute of Technology</td>\n",
              "      <td>Bachelors</td>\n",
              "      <td>Mathematics</td>\n",
              "      <td>http://www.qianmu.org/u/lystu/school/file/0hme...</td>\n",
              "      <td>NaN</td>\n",
              "    </tr>\n",
              "    <tr>\n",
              "      <th>2</th>\n",
              "      <td>2021-06-20 06:00:53.430</td>\n",
              "      <td>Tin</td>\n",
              "      <td>“A Different Kind of love”</td>\n",
              "      <td>Narrative, Personal</td>\n",
              "      <td>WHEN I WAS FOUR YEARS OLD, I fell in love. It ...</td>\n",
              "      <td>Excellent (A+)</td>\n",
              "      <td>Stanford University</td>\n",
              "      <td>Bachelors</td>\n",
              "      <td>Spanish Language</td>\n",
              "      <td>http://www.qianmu.org/u/lystu/school/file/0hme...</td>\n",
              "      <td>NaN</td>\n",
              "    </tr>\n",
              "    <tr>\n",
              "      <th>3</th>\n",
              "      <td>2021-06-20 06:12:52.684</td>\n",
              "      <td>Tin</td>\n",
              "      <td>“From Flaubert to Frisbee”</td>\n",
              "      <td>Persuasive</td>\n",
              "      <td>THIS SUMMER, I WENT TO THE governor’s Honors P...</td>\n",
              "      <td>Average (B-C)</td>\n",
              "      <td>Brown University</td>\n",
              "      <td>Masters</td>\n",
              "      <td>Literature</td>\n",
              "      <td>http://www.qianmu.org/u/lystu/school/file/0hme...</td>\n",
              "      <td>NaN</td>\n",
              "    </tr>\n",
              "    <tr>\n",
              "      <th>4</th>\n",
              "      <td>2021-06-20 06:20:05.473</td>\n",
              "      <td>Tin</td>\n",
              "      <td>Raising the Bar</td>\n",
              "      <td>Narrative</td>\n",
              "      <td>THIS PAST SUMMER I HAD THE opportunity to part...</td>\n",
              "      <td>Average (B-C)</td>\n",
              "      <td>NaN</td>\n",
              "      <td>Masters</td>\n",
              "      <td>Engineering and Sciences</td>\n",
              "      <td>http://www.qianmu.org/u/lystu/school/file/0hme...</td>\n",
              "      <td>NaN</td>\n",
              "    </tr>\n",
              "  </tbody>\n",
              "</table>\n",
              "</div>"
            ],
            "text/plain": [
              "                Timestamp  ... Comments (is something unusual about the essay?)\n",
              "0 2021-06-20 05:36:05.410  ...                                              NaN\n",
              "1 2021-06-20 05:47:07.236  ...                                              NaN\n",
              "2 2021-06-20 06:00:53.430  ...                                              NaN\n",
              "3 2021-06-20 06:12:52.684  ...                                              NaN\n",
              "4 2021-06-20 06:20:05.473  ...                                              NaN\n",
              "\n",
              "[5 rows x 11 columns]"
            ]
          },
          "metadata": {},
          "execution_count": 300
        }
      ]
    },
    {
      "cell_type": "code",
      "source": [
        "df_bad.head()"
      ],
      "metadata": {
        "colab": {
          "base_uri": "https://localhost:8080/",
          "height": 206
        },
        "id": "wTroWxu4w7mG",
        "outputId": "4bacc7f1-f229-4a04-fe8e-0078742ab305"
      },
      "execution_count": 301,
      "outputs": [
        {
          "output_type": "execute_result",
          "data": {
            "text/html": [
              "<div>\n",
              "<style scoped>\n",
              "    .dataframe tbody tr th:only-of-type {\n",
              "        vertical-align: middle;\n",
              "    }\n",
              "\n",
              "    .dataframe tbody tr th {\n",
              "        vertical-align: top;\n",
              "    }\n",
              "\n",
              "    .dataframe thead th {\n",
              "        text-align: right;\n",
              "    }\n",
              "</style>\n",
              "<table border=\"1\" class=\"dataframe\">\n",
              "  <thead>\n",
              "    <tr style=\"text-align: right;\">\n",
              "      <th></th>\n",
              "      <th>Essay_Text</th>\n",
              "      <th>Grade</th>\n",
              "    </tr>\n",
              "  </thead>\n",
              "  <tbody>\n",
              "    <tr>\n",
              "      <th>0</th>\n",
              "      <td>As I receive my diploma on graduation day, I'd...</td>\n",
              "      <td>Bad (D-F)</td>\n",
              "    </tr>\n",
              "    <tr>\n",
              "      <th>1</th>\n",
              "      <td>Cornell University School of Hotel Administrat...</td>\n",
              "      <td>Bad (D-F)</td>\n",
              "    </tr>\n",
              "    <tr>\n",
              "      <th>2</th>\n",
              "      <td>One thing that you do not know about me, is th...</td>\n",
              "      <td>Bad (D-F)</td>\n",
              "    </tr>\n",
              "    <tr>\n",
              "      <th>3</th>\n",
              "      <td>\"Don't Think\"\\n I was dancing the salsa, dress...</td>\n",
              "      <td>Bad (D-F)</td>\n",
              "    </tr>\n",
              "    <tr>\n",
              "      <th>4</th>\n",
              "      <td>\"Loading... Loading... Loading...\", I stared i...</td>\n",
              "      <td>Bad (D-F)</td>\n",
              "    </tr>\n",
              "  </tbody>\n",
              "</table>\n",
              "</div>"
            ],
            "text/plain": [
              "                                          Essay_Text      Grade\n",
              "0  As I receive my diploma on graduation day, I'd...  Bad (D-F)\n",
              "1  Cornell University School of Hotel Administrat...  Bad (D-F)\n",
              "2  One thing that you do not know about me, is th...  Bad (D-F)\n",
              "3  \"Don't Think\"\\n I was dancing the salsa, dress...  Bad (D-F)\n",
              "4  \"Loading... Loading... Loading...\", I stared i...  Bad (D-F)"
            ]
          },
          "metadata": {},
          "execution_count": 301
        }
      ]
    },
    {
      "cell_type": "code",
      "metadata": {
        "id": "I7UiCVjwUd6z"
      },
      "source": [
        "nlp = spacy.load('en_core_web_sm')"
      ],
      "execution_count": 302,
      "outputs": []
    },
    {
      "cell_type": "code",
      "metadata": {
        "id": "n2vy50-9V4JT",
        "colab": {
          "base_uri": "https://localhost:8080/"
        },
        "outputId": "c580e662-64dd-4705-9590-8b9eda39e828"
      },
      "source": [
        "#df_essays_recovery = df_essays.copy()\n",
        "df_initial = df[['Essay Text','Essay Grading']]\n",
        "df_initial['Essay Grading'].value_counts()"
      ],
      "execution_count": 303,
      "outputs": [
        {
          "output_type": "execute_result",
          "data": {
            "text/plain": [
              "Average (B-C)     401\n",
              "Excellent (A+)    288\n",
              "Bad (D-F)          45\n",
              "Name: Essay Grading, dtype: int64"
            ]
          },
          "metadata": {},
          "execution_count": 303
        }
      ]
    },
    {
      "cell_type": "code",
      "source": [
        "df_bad.rename(columns={'Essay_Text':'Essay Text','Grade':'Essay Grading'},inplace=True)"
      ],
      "metadata": {
        "id": "nvw4jtnoyyaL"
      },
      "execution_count": 304,
      "outputs": []
    },
    {
      "cell_type": "code",
      "metadata": {
        "id": "twrevbUJWPZc"
      },
      "source": [
        "df_essays = pd.concat([df_initial,df_bad])"
      ],
      "execution_count": 305,
      "outputs": []
    },
    {
      "cell_type": "code",
      "source": [
        "df_essays.head()"
      ],
      "metadata": {
        "colab": {
          "base_uri": "https://localhost:8080/",
          "height": 206
        },
        "id": "DehIzrY0yUUr",
        "outputId": "9f0bd23f-d297-46c9-a12f-460d3811eb68"
      },
      "execution_count": 306,
      "outputs": [
        {
          "output_type": "execute_result",
          "data": {
            "text/html": [
              "<div>\n",
              "<style scoped>\n",
              "    .dataframe tbody tr th:only-of-type {\n",
              "        vertical-align: middle;\n",
              "    }\n",
              "\n",
              "    .dataframe tbody tr th {\n",
              "        vertical-align: top;\n",
              "    }\n",
              "\n",
              "    .dataframe thead th {\n",
              "        text-align: right;\n",
              "    }\n",
              "</style>\n",
              "<table border=\"1\" class=\"dataframe\">\n",
              "  <thead>\n",
              "    <tr style=\"text-align: right;\">\n",
              "      <th></th>\n",
              "      <th>Essay Text</th>\n",
              "      <th>Essay Grading</th>\n",
              "    </tr>\n",
              "  </thead>\n",
              "  <tbody>\n",
              "    <tr>\n",
              "      <th>0</th>\n",
              "      <td>THE ALARM CLOCK IS, TO MANY high school studen...</td>\n",
              "      <td>Average (B-C)</td>\n",
              "    </tr>\n",
              "    <tr>\n",
              "      <th>1</th>\n",
              "      <td>I HAVE ALWAYS BEEN A MATH-SCIENCE girl. I sigh...</td>\n",
              "      <td>Average (B-C)</td>\n",
              "    </tr>\n",
              "    <tr>\n",
              "      <th>2</th>\n",
              "      <td>WHEN I WAS FOUR YEARS OLD, I fell in love. It ...</td>\n",
              "      <td>Excellent (A+)</td>\n",
              "    </tr>\n",
              "    <tr>\n",
              "      <th>3</th>\n",
              "      <td>THIS SUMMER, I WENT TO THE governor’s Honors P...</td>\n",
              "      <td>Average (B-C)</td>\n",
              "    </tr>\n",
              "    <tr>\n",
              "      <th>4</th>\n",
              "      <td>THIS PAST SUMMER I HAD THE opportunity to part...</td>\n",
              "      <td>Average (B-C)</td>\n",
              "    </tr>\n",
              "  </tbody>\n",
              "</table>\n",
              "</div>"
            ],
            "text/plain": [
              "                                          Essay Text   Essay Grading\n",
              "0  THE ALARM CLOCK IS, TO MANY high school studen...   Average (B-C)\n",
              "1  I HAVE ALWAYS BEEN A MATH-SCIENCE girl. I sigh...   Average (B-C)\n",
              "2  WHEN I WAS FOUR YEARS OLD, I fell in love. It ...  Excellent (A+)\n",
              "3  THIS SUMMER, I WENT TO THE governor’s Honors P...   Average (B-C)\n",
              "4  THIS PAST SUMMER I HAD THE opportunity to part...   Average (B-C)"
            ]
          },
          "metadata": {},
          "execution_count": 306
        }
      ]
    },
    {
      "cell_type": "code",
      "source": [
        "df_essays['Essay Grading'].value_counts()"
      ],
      "metadata": {
        "colab": {
          "base_uri": "https://localhost:8080/"
        },
        "id": "CZ5vybzyzEBe",
        "outputId": "8c6e6ce8-8038-44dc-b90f-e827dc24f66a"
      },
      "execution_count": 307,
      "outputs": [
        {
          "output_type": "execute_result",
          "data": {
            "text/plain": [
              "Average (B-C)     401\n",
              "Bad (D-F)         347\n",
              "Excellent (A+)    288\n",
              "Name: Essay Grading, dtype: int64"
            ]
          },
          "metadata": {},
          "execution_count": 307
        }
      ]
    },
    {
      "cell_type": "markdown",
      "metadata": {
        "id": "whKJ5ctrffwa"
      },
      "source": [
        "# **FEATURE EXTRACTION FROM ESSAY'S ASCII TEST**"
      ]
    },
    {
      "cell_type": "markdown",
      "metadata": {
        "id": "g-Zv7fITm-Ko"
      },
      "source": [
        "## **COUNTING SENTENCES**"
      ]
    },
    {
      "cell_type": "code",
      "metadata": {
        "id": "LgiBkzMggmCf"
      },
      "source": [
        "def count_sentences(essay):\n",
        "  doc = nlp(essay)\n",
        "  doc_sents = [sent for sent in doc.sents]\n",
        "  return len(doc_sents)\n"
      ],
      "execution_count": 308,
      "outputs": []
    },
    {
      "cell_type": "code",
      "source": [
        "str = '“I wanna go home!” I say as I sit on the kitchen floor watching my mother cook. “What do you mean?” she asks, giving me a questioning look. “Ethiopia?” “I don’t know.” Home. For most people, the word can be easily defined as the place where they grew up or live now. By that definition, the house in which I have lived for the past seven years would be my home. The problem is, I often find myself saying, “I wanna go home,” while sitting in that very house. The other candidate is the place where I grew up, but that could be either of two places: my home country of Ethiopia or my adopted hometown of Westbrook, Maine. I cannot choose one over the other. For better or for worse, each has shaped the person I am today more than can be expressed in words. Ethiopia is the place where I experienced so many of my “firsts.” Maine is the place where I developed my individuality. At the same time, neither can truly be my home. Though Ethiopia was my home at one point, it is no longer the same place I knew as a child because I am no longer that child. I can no longer relate to the culture the way I once did. As my sister often tells me, I have become “Americanized.” On the other hand, I have never felt at home in Maine. The first memory I have of Maine is my first day visiting Reiche Elementary, the school I would be attending. I stood in front of a group of seven- and eight-year-old boys and girls. Every face was pointed at me, every pair of eyes wide and expectant. I grabbed the fabric of my mother’s skirt and buried my face into the side of her leg. These children were all so different. Every child had a skin color different from mine. Though I picked out a few familiar words, I could not understand what they were saying. I knew I didn’t belong there, but there was no chance of hopping on a plane and going back to Ethiopia. I knew that, and the thought terrified me. I had never felt as uncomfortable and uncertain as I did that day. That day has stayed with me, along with the discomfort and uncertainty. Though the intensity of those feelings has faded, it has not gone away, and it is not likely to leave me soon. I cannot deny, however, that the environment Maine has provided has shaped me profoundly. Living in Maine has made me who I am today just as much as being born and raised in Ethiopia. Ethiopia gave me my cultural and family identity. Ethiopia is the place that comes to mind when I think of my family, since my entire extended family remains there. It is also the place that comes to mind when I think of my motivation, since I was raised in a culture that taught me to give one hundred percent at all times. Yet, the fact remains that I have lived in Maine for nearly ten years of my life. This environment has influenced me more than even I can comprehend. So, the question becomes: which of these places (if either) should I consider my home? In all honesty, I cannot choose one physical place and give it the title of “home.” Instead, I elect to compose my own definition of home, a definition that does not force me to choose between the two places in which I grew up. My definition allows me to think of home as a place in my mind, a state of mind that enables me to remember my childhood years in Ethiopia and the opportunities given to me by living in the U.S. It has taken a long time to define what home means to me — and even longer to find it — but doing so has given me an amazing sense of hope and comfort. In my mind, it is a place where I can escape. It is a place from which I draw strength when life gets too hectic or when I am faced with challenges that seem too great to overcome. It is what I really mean — what I have always meant — when I say that I want to go home.'\n",
        "count_sentences(str)"
      ],
      "metadata": {
        "colab": {
          "base_uri": "https://localhost:8080/"
        },
        "id": "prm-9nSyeOzx",
        "outputId": "47c8e63f-1642-416e-cf7c-8a5cbd8ff735"
      },
      "execution_count": 309,
      "outputs": [
        {
          "output_type": "execute_result",
          "data": {
            "text/plain": [
              "48"
            ]
          },
          "metadata": {},
          "execution_count": 309
        }
      ]
    },
    {
      "cell_type": "code",
      "metadata": {
        "id": "EFPH87zSevv3"
      },
      "source": [
        "df_essays['SentenceCount'] = df_essays['Essay Text'].apply(count_sentences)"
      ],
      "execution_count": 310,
      "outputs": []
    },
    {
      "cell_type": "code",
      "metadata": {
        "colab": {
          "base_uri": "https://localhost:8080/",
          "height": 363
        },
        "id": "BJNQzf5Lfy25",
        "outputId": "c40fa35c-81d6-4ade-ca68-f5b99bd77bd8"
      },
      "source": [
        "df_essays[:10]"
      ],
      "execution_count": 311,
      "outputs": [
        {
          "output_type": "execute_result",
          "data": {
            "text/html": [
              "<div>\n",
              "<style scoped>\n",
              "    .dataframe tbody tr th:only-of-type {\n",
              "        vertical-align: middle;\n",
              "    }\n",
              "\n",
              "    .dataframe tbody tr th {\n",
              "        vertical-align: top;\n",
              "    }\n",
              "\n",
              "    .dataframe thead th {\n",
              "        text-align: right;\n",
              "    }\n",
              "</style>\n",
              "<table border=\"1\" class=\"dataframe\">\n",
              "  <thead>\n",
              "    <tr style=\"text-align: right;\">\n",
              "      <th></th>\n",
              "      <th>Essay Text</th>\n",
              "      <th>Essay Grading</th>\n",
              "      <th>SentenceCount</th>\n",
              "    </tr>\n",
              "  </thead>\n",
              "  <tbody>\n",
              "    <tr>\n",
              "      <th>0</th>\n",
              "      <td>THE ALARM CLOCK IS, TO MANY high school studen...</td>\n",
              "      <td>Average (B-C)</td>\n",
              "      <td>35</td>\n",
              "    </tr>\n",
              "    <tr>\n",
              "      <th>1</th>\n",
              "      <td>I HAVE ALWAYS BEEN A MATH-SCIENCE girl. I sigh...</td>\n",
              "      <td>Average (B-C)</td>\n",
              "      <td>28</td>\n",
              "    </tr>\n",
              "    <tr>\n",
              "      <th>2</th>\n",
              "      <td>WHEN I WAS FOUR YEARS OLD, I fell in love. It ...</td>\n",
              "      <td>Excellent (A+)</td>\n",
              "      <td>40</td>\n",
              "    </tr>\n",
              "    <tr>\n",
              "      <th>3</th>\n",
              "      <td>THIS SUMMER, I WENT TO THE governor’s Honors P...</td>\n",
              "      <td>Average (B-C)</td>\n",
              "      <td>20</td>\n",
              "    </tr>\n",
              "    <tr>\n",
              "      <th>4</th>\n",
              "      <td>THIS PAST SUMMER I HAD THE opportunity to part...</td>\n",
              "      <td>Average (B-C)</td>\n",
              "      <td>23</td>\n",
              "    </tr>\n",
              "    <tr>\n",
              "      <th>5</th>\n",
              "      <td>My eyes widen. “It’s all Greek to me,” I whisp...</td>\n",
              "      <td>Excellent (A+)</td>\n",
              "      <td>46</td>\n",
              "    </tr>\n",
              "    <tr>\n",
              "      <th>6</th>\n",
              "      <td>I could still hear her words, the words my tea...</td>\n",
              "      <td>Average (B-C)</td>\n",
              "      <td>31</td>\n",
              "    </tr>\n",
              "    <tr>\n",
              "      <th>7</th>\n",
              "      <td>It was a wet and dreary October evening. I sho...</td>\n",
              "      <td>Average (B-C)</td>\n",
              "      <td>30</td>\n",
              "    </tr>\n",
              "    <tr>\n",
              "      <th>8</th>\n",
              "      <td>Oreos. On the exterior, a firm chocolate crust...</td>\n",
              "      <td>Average (B-C)</td>\n",
              "      <td>43</td>\n",
              "    </tr>\n",
              "    <tr>\n",
              "      <th>9</th>\n",
              "      <td>Whether I was blowing out candles, writing a l...</td>\n",
              "      <td>Average (B-C)</td>\n",
              "      <td>21</td>\n",
              "    </tr>\n",
              "  </tbody>\n",
              "</table>\n",
              "</div>"
            ],
            "text/plain": [
              "                                          Essay Text  ... SentenceCount\n",
              "0  THE ALARM CLOCK IS, TO MANY high school studen...  ...            35\n",
              "1  I HAVE ALWAYS BEEN A MATH-SCIENCE girl. I sigh...  ...            28\n",
              "2  WHEN I WAS FOUR YEARS OLD, I fell in love. It ...  ...            40\n",
              "3  THIS SUMMER, I WENT TO THE governor’s Honors P...  ...            20\n",
              "4  THIS PAST SUMMER I HAD THE opportunity to part...  ...            23\n",
              "5  My eyes widen. “It’s all Greek to me,” I whisp...  ...            46\n",
              "6  I could still hear her words, the words my tea...  ...            31\n",
              "7  It was a wet and dreary October evening. I sho...  ...            30\n",
              "8  Oreos. On the exterior, a firm chocolate crust...  ...            43\n",
              "9  Whether I was blowing out candles, writing a l...  ...            21\n",
              "\n",
              "[10 rows x 3 columns]"
            ]
          },
          "metadata": {},
          "execution_count": 311
        }
      ]
    },
    {
      "cell_type": "code",
      "metadata": {
        "colab": {
          "base_uri": "https://localhost:8080/",
          "height": 122
        },
        "id": "aUjVRoOwieWV",
        "outputId": "d6696da2-a439-4df6-b661-2893dd1c4bfd"
      },
      "source": [
        "df_essays.iloc[700].values[0]"
      ],
      "execution_count": 312,
      "outputs": [
        {
          "output_type": "execute_result",
          "data": {
            "application/vnd.google.colaboratory.intrinsic+json": {
              "type": "string"
            },
            "text/plain": [
              "'“Jooooorrrrddddannnnn,” my mom screamed with utter fear and panic in her voice. Surprisingly, amongst all of the chaos, her voice was all that I heard. I’m not sure if I was disoriented, bewildered or just in complete shock but at that particular moment, I felt nothing. That feeling of nothingness lasted 2.5 seconds because then the excruciating pain began. My knee felt as if someone had hit me with a Mack truck going 90 miles per hour. For the first time in my life, I had experienced real pain. I was 10 years old and I shattered my knee.\\nI have always been a well rounded student. My focus has always been on my school and everything that comes along with it, which included extra-curricular activities. I was an avid gymnast. I had been in gymnastics since I was 3 years old. My parents were both extremely athletic. My dad was an All-American college football player and my mom was a cheerleader, so it was only fitting that I participated in something athletically strenuous as well. They decided the earlier I began, the better I would be. I tried gymnastics and fell in love. I became a star athlete. I won several trophies and had my picture on posters, and at bus stops. We also took pictures next to the bus stops that had my picture there. My dad brags about the fact that Chelsea Piers in New York City had a poster of me hung in the lobby as soon as you entered. I had been traveling regularly for gymnastics meets and I was on top of the world.\\nI practiced every day after school as well as on weekends. I had just had my 10th birthday and I was at gymnastics practice as usual. I remember the day being rainy and dreary. It was my turn to get on the uneven bars. You would think that I would have a gut feeling or something but there was nothing. I did everything regularly but something happened on the dismount. I didn’t get enough air prior to landing and that led to my feet not properly planting and my knee taking the brunt of the impact. I was rushed to the hospital and received several knee surgeries. To this day I have a 4 inch long and ½ inch wide scar on my knee. I did gymnastics for another year and my parents decided that they couldn’t afford it anymore. I eventually turned all my energy into my studies and volunteer activities and that’s when I discovered my love of helping others.\\nOver the next couple years, I stayed focused and found a new outlet for my athletic nature. I joined my high school weightlifting team and have been so for the past 3 years. I won the conference competition 2 years in a row and I’m currently working on the 3rd one. My goal is to receive the title of strongest girl in Seminole County. I was also featured in the newspaper, which made my parents extremely proud. In addition to school and weightlifting, I work at Universal Studios in Orlando, FL. I love my job. My favorite part is interacting with tourists and the regulars. I am extremely personable and this job allows me to improve my interactive skills because I deal with people from different walks of life.\\nI have always been told that I am extremely mature for my age. I just feel that I have been honored and blessed to have had experiences that I have had. I know what it feels like to receive and I have learned what it is like to give back to others. I find great enjoyment in being a support system for people who needs it. I am a part of the anti-bullying club and I volunteer at numerous soup kitchens on a monthly basis. I love the feeling that it gives me. This feeling has lead me to want to enter the medical field where I can help people. Just like my doctors, coaches, family, and friends have helped me over the years. My goal is to become an obstetrician. I have also learned that working at Universal Studios forces me to remember that life is about having fun. It doesn’t matter how old you become, fun never ages. The way you have fun might change, but having fun itself never gets old.\\nMy diverse experiences, personable nature, and desire to give back to others would be a great asset to the university.'"
            ]
          },
          "metadata": {},
          "execution_count": 312
        }
      ]
    },
    {
      "cell_type": "markdown",
      "metadata": {
        "id": "7eAUJiVinI55"
      },
      "source": [
        "## **COUNTING WORDS w/o STOP WORDS**"
      ]
    },
    {
      "cell_type": "code",
      "metadata": {
        "colab": {
          "base_uri": "https://localhost:8080/"
        },
        "id": "Zvtu9ecSk3Lo",
        "outputId": "58420e4a-92be-4db9-f975-60df88aa7a1f"
      },
      "source": [
        "nltk.download('stopwords')"
      ],
      "execution_count": 208,
      "outputs": [
        {
          "output_type": "stream",
          "name": "stdout",
          "text": [
            "[nltk_data] Downloading package stopwords to /root/nltk_data...\n",
            "[nltk_data]   Package stopwords is already up-to-date!\n"
          ]
        },
        {
          "output_type": "execute_result",
          "data": {
            "text/plain": [
              "True"
            ]
          },
          "metadata": {},
          "execution_count": 208
        }
      ]
    },
    {
      "cell_type": "code",
      "metadata": {
        "colab": {
          "base_uri": "https://localhost:8080/"
        },
        "id": "2kEbKR23ltbS",
        "outputId": "74f4a3d4-b342-4a21-bc88-5fe2a191b1b4"
      },
      "source": [
        "nltk.download('punkt')"
      ],
      "execution_count": 313,
      "outputs": [
        {
          "output_type": "stream",
          "name": "stdout",
          "text": [
            "[nltk_data] Downloading package punkt to /root/nltk_data...\n",
            "[nltk_data]   Package punkt is already up-to-date!\n"
          ]
        },
        {
          "output_type": "execute_result",
          "data": {
            "text/plain": [
              "True"
            ]
          },
          "metadata": {},
          "execution_count": 313
        }
      ]
    },
    {
      "cell_type": "code",
      "metadata": {
        "id": "cv9-wnJ3lkNg"
      },
      "source": [
        "word_tokens = word_tokenize(df_essays.iloc[729].values[0])\n",
        "stop_words = set(stopwords.words('english'))"
      ],
      "execution_count": 314,
      "outputs": []
    },
    {
      "cell_type": "code",
      "metadata": {
        "id": "PB6RJteKi_RG"
      },
      "source": [
        "# def count_non_stop_words(essay):\n",
        "#   word_tokens = word_tokenize(essay)\n",
        "#   filtered_sentence = [w for w in word_tokens if not w.lower() in stop_words]\n",
        "#   return len(filtered_sentence)\n",
        "def count_non_stop_words(essay):\n",
        "  word_tokens = word_tokenize(essay)\n",
        "  filtered_sentence = [w for w in word_tokens]\n",
        "  return len(filtered_sentence)\n"
      ],
      "execution_count": 315,
      "outputs": []
    },
    {
      "cell_type": "code",
      "metadata": {
        "id": "crbb4-tokwAt"
      },
      "source": [
        "df_essays['WordCount'] = df_essays['Essay Text'].apply(count_non_stop_words)"
      ],
      "execution_count": 316,
      "outputs": []
    },
    {
      "cell_type": "code",
      "metadata": {
        "colab": {
          "base_uri": "https://localhost:8080/",
          "height": 206
        },
        "id": "TTq9tyy4mFho",
        "outputId": "77af5456-d52d-4d19-c913-0cd3c14e602b"
      },
      "source": [
        "df_essays.head()"
      ],
      "execution_count": 317,
      "outputs": [
        {
          "output_type": "execute_result",
          "data": {
            "text/html": [
              "<div>\n",
              "<style scoped>\n",
              "    .dataframe tbody tr th:only-of-type {\n",
              "        vertical-align: middle;\n",
              "    }\n",
              "\n",
              "    .dataframe tbody tr th {\n",
              "        vertical-align: top;\n",
              "    }\n",
              "\n",
              "    .dataframe thead th {\n",
              "        text-align: right;\n",
              "    }\n",
              "</style>\n",
              "<table border=\"1\" class=\"dataframe\">\n",
              "  <thead>\n",
              "    <tr style=\"text-align: right;\">\n",
              "      <th></th>\n",
              "      <th>Essay Text</th>\n",
              "      <th>Essay Grading</th>\n",
              "      <th>SentenceCount</th>\n",
              "      <th>WordCount</th>\n",
              "    </tr>\n",
              "  </thead>\n",
              "  <tbody>\n",
              "    <tr>\n",
              "      <th>0</th>\n",
              "      <td>THE ALARM CLOCK IS, TO MANY high school studen...</td>\n",
              "      <td>Average (B-C)</td>\n",
              "      <td>35</td>\n",
              "      <td>798</td>\n",
              "    </tr>\n",
              "    <tr>\n",
              "      <th>1</th>\n",
              "      <td>I HAVE ALWAYS BEEN A MATH-SCIENCE girl. I sigh...</td>\n",
              "      <td>Average (B-C)</td>\n",
              "      <td>28</td>\n",
              "      <td>588</td>\n",
              "    </tr>\n",
              "    <tr>\n",
              "      <th>2</th>\n",
              "      <td>WHEN I WAS FOUR YEARS OLD, I fell in love. It ...</td>\n",
              "      <td>Excellent (A+)</td>\n",
              "      <td>40</td>\n",
              "      <td>994</td>\n",
              "    </tr>\n",
              "    <tr>\n",
              "      <th>3</th>\n",
              "      <td>THIS SUMMER, I WENT TO THE governor’s Honors P...</td>\n",
              "      <td>Average (B-C)</td>\n",
              "      <td>20</td>\n",
              "      <td>560</td>\n",
              "    </tr>\n",
              "    <tr>\n",
              "      <th>4</th>\n",
              "      <td>THIS PAST SUMMER I HAD THE opportunity to part...</td>\n",
              "      <td>Average (B-C)</td>\n",
              "      <td>23</td>\n",
              "      <td>544</td>\n",
              "    </tr>\n",
              "  </tbody>\n",
              "</table>\n",
              "</div>"
            ],
            "text/plain": [
              "                                          Essay Text  ... WordCount\n",
              "0  THE ALARM CLOCK IS, TO MANY high school studen...  ...       798\n",
              "1  I HAVE ALWAYS BEEN A MATH-SCIENCE girl. I sigh...  ...       588\n",
              "2  WHEN I WAS FOUR YEARS OLD, I fell in love. It ...  ...       994\n",
              "3  THIS SUMMER, I WENT TO THE governor’s Honors P...  ...       560\n",
              "4  THIS PAST SUMMER I HAD THE opportunity to part...  ...       544\n",
              "\n",
              "[5 rows x 4 columns]"
            ]
          },
          "metadata": {},
          "execution_count": 317
        }
      ]
    },
    {
      "cell_type": "code",
      "source": [
        "#df_essays_mini = df_essays[:1]"
      ],
      "metadata": {
        "id": "1Z4kWIEoUlVN"
      },
      "execution_count": 214,
      "outputs": []
    },
    {
      "cell_type": "markdown",
      "metadata": {
        "id": "7rlptvRvnNZo"
      },
      "source": [
        "## **COUNTING PARTS OF SPEECH**"
      ]
    },
    {
      "cell_type": "code",
      "metadata": {
        "id": "7wPh_gWUnpVc"
      },
      "source": [
        "def count_feature(postag,essay,wordcount,roundval):\n",
        "  doc=nlp(essay)\n",
        "  pos_counts = doc.count_by(spacy.attrs.POS)\n",
        "  for k,v in sorted(pos_counts.items()):\n",
        "    if doc.vocab[k] == postag:\n",
        "      return round(v/wordcount,roundval)\n",
        "\n",
        "# def count_verb(essay,wordcount):\n",
        "#   doc=nlp(essay)\n",
        "#   pos_counts = doc.count_by(spacy.attrs.POS)\n",
        "#   for k,v in sorted(pos_counts.items()):\n",
        "#     if doc.vocab[k] == 'VERB':\n",
        "#       return round(v/wordcount,0)\n",
        "\n",
        "# def count_noun(essay,wordcount):\n",
        "#   doc=nlp(essay)\n",
        "#   pos_counts = doc.count_by(spacy.attrs.POS)\n",
        "#   for k,v in sorted(pos_counts.items()):\n",
        "#     if doc.vocab[k] == 'NOUN':\n",
        "#       return round(v/wordcount,0)\n",
        "\n",
        "# def count_adjective(essay,wordcount):\n",
        "#   doc=nlp(essay)\n",
        "#   pos_counts = doc.count_by(spacy.attrs.POS)\n",
        "#   for k,v in sorted(pos_counts.items()):\n",
        "#     if doc.vocab[k] == 'ADJ':\n",
        "#       return round(v/wordcount,0)\n",
        "\n",
        "# def count_adverb(essay,wordcount):\n",
        "#   doc=nlp(essay)\n",
        "#   pos_counts = doc.count_by(spacy.attrs.POS)\n",
        "#   for k,v in sorted(pos_counts.items()):\n",
        "#     if doc.vocab[k] == 'ADV':\n",
        "#       return round(v/wordcount,0)    \n",
        "\n",
        "# def count_pronoun(essay,wordcount):\n",
        "#   doc=nlp(essay)\n",
        "#   pos_counts = doc.count_by(spacy.attrs.POS)\n",
        "#   for k,v in sorted(pos_counts.items()):\n",
        "#     if doc.vocab[k] == 'PRON':\n",
        "#       return round(v/wordcount,0)\n",
        "\n",
        "# def count_punctuations(essay,wordcount):\n",
        "#   doc=nlp(essay)\n",
        "#   pos_counts = doc.count_by(spacy.attrs.POS)\n",
        "#   for k,v in sorted(pos_counts.items()):\n",
        "#     if doc.vocab[k] == 'PUNCT':\n",
        "#       return round(v/wordcount,0)                        "
      ],
      "execution_count": 318,
      "outputs": []
    },
    {
      "cell_type": "code",
      "metadata": {
        "id": "N8pJxJsPqgNi"
      },
      "source": [
        "df_essays['VerbCount']  = df_essays.apply(lambda x: count_feature('VERB',x['Essay Text'], 1,0), axis=1)\n",
        "df_essays['NounCount']  = df_essays.apply(lambda x: count_feature('NOUN',x['Essay Text'], 1,0), axis=1)\n",
        "df_essays['AdjCount']  = df_essays.apply(lambda x: count_feature('ADJ',x['Essay Text'], 1,0), axis=1)\n",
        "df_essays['AdverbCount']  = df_essays.apply(lambda x: count_feature('ADV',x['Essay Text'], 1,0), axis=1)\n",
        "df_essays['PronounCount']  = df_essays.apply(lambda x: count_feature('PRON',x['Essay Text'], 1,0), axis=1)\n",
        "df_essays['PunctCount']  = df_essays.apply(lambda x: count_feature('PUNCT',x['Essay Text'], 1,0), axis=1)"
      ],
      "execution_count": 319,
      "outputs": []
    },
    {
      "cell_type": "code",
      "metadata": {
        "colab": {
          "base_uri": "https://localhost:8080/",
          "height": 781
        },
        "id": "0pnQqU6qseKf",
        "outputId": "6ab3cc3f-e3ab-4ae7-a3cc-133761a65852"
      },
      "source": [
        "df_essays.hist(figsize=(10,10))"
      ],
      "execution_count": 320,
      "outputs": [
        {
          "output_type": "execute_result",
          "data": {
            "text/plain": [
              "array([[<matplotlib.axes._subplots.AxesSubplot object at 0x7f8533111450>,\n",
              "        <matplotlib.axes._subplots.AxesSubplot object at 0x7f8532c8e810>,\n",
              "        <matplotlib.axes._subplots.AxesSubplot object at 0x7f8531188850>],\n",
              "       [<matplotlib.axes._subplots.AxesSubplot object at 0x7f853050a390>,\n",
              "        <matplotlib.axes._subplots.AxesSubplot object at 0x7f8530515990>,\n",
              "        <matplotlib.axes._subplots.AxesSubplot object at 0x7f85304a0f90>],\n",
              "       [<matplotlib.axes._subplots.AxesSubplot object at 0x7f85304b1650>,\n",
              "        <matplotlib.axes._subplots.AxesSubplot object at 0x7f85304c1b90>,\n",
              "        <matplotlib.axes._subplots.AxesSubplot object at 0x7f85304c1bd0>]],\n",
              "      dtype=object)"
            ]
          },
          "metadata": {},
          "execution_count": 320
        },
        {
          "output_type": "display_data",
          "data": {
            "image/png": "[encoded data removed]",
            "text/plain": [
              "<Figure size 720x720 with 9 Axes>"
            ]
          },
          "metadata": {
            "needs_background": "light"
          }
        }
      ]
    },
    {
      "cell_type": "markdown",
      "metadata": {
        "id": "4frdERS6g3c-"
      },
      "source": [
        "# Day 2"
      ]
    },
    {
      "cell_type": "markdown",
      "metadata": {
        "id": "C4i17yI24l_g"
      },
      "source": [
        "# **Normalizing the grades distribution by Feature Counts**"
      ]
    },
    {
      "cell_type": "code",
      "metadata": {
        "colab": {
          "base_uri": "https://localhost:8080/",
          "height": 1000
        },
        "id": "4yaTeLHvAmUR",
        "outputId": "25f1ef01-2e01-416b-8f8c-469a0bd9c805"
      },
      "source": [
        "def display_stack_bar(col1,col2,title,xlabel,buffer,binsize):\n",
        "  df_new = pd.DataFrame()\n",
        "  bins_created = np.arange(min(df_essays[col1])-buffer, max(df_essays[col1]) + buffer, binsize) \n",
        "  df_essays[col2] = pd.cut(df_essays[col1], bins=bins_created)\n",
        "  df_essays.sort_values(by = col1,inplace=True)\n",
        "  counts = df_essays.groupby([col2,'Essay Grading'],sort=False).SentenceCount.count().unstack()\n",
        "  df_essays.drop([col2], axis=1,inplace=True)\n",
        "  counts.replace(np.nan,0,inplace=True)\n",
        "  counts[\"sum\"] = counts.sum(axis=1)\n",
        "  df_new['Average (B-C)'] = counts['Average (B-C)']/counts['sum']\n",
        "  df_new['Excellent (A+)'] = counts['Excellent (A+)']/counts['sum']\n",
        "  df_new['Bad (D-F)'] = counts['Bad (D-F)']/counts['sum']\n",
        "  ax = df_new.plot.bar(stacked=True,figsize=(10,10),width = 0.5)\n",
        "  for p in ax.patches:\n",
        "    width, height = p.get_width(), p.get_height()\n",
        "    x, y = p.get_xy() \n",
        "    ax.text(x+width/2, \n",
        "            y+height/2, \n",
        "            round(height,2), \n",
        "            horizontalalignment='center', \n",
        "            verticalalignment='center')  \n",
        "  plt.title(title,fontsize=18)\n",
        "  plt.xlabel(xlabel,fontsize=18)\n",
        "  plt.xticks(fontsize=14,rotation=45)\n",
        "  plt.ylabel('Number of Entries',fontsize=18)\n",
        "  plt.show()\t\n",
        "\n",
        "display_stack_bar('SentenceCount','SentenceCountCategory','Sentence Count for Different Grades','Sentence Counts',4,20)\n",
        "display_stack_bar('WordCount','WordCountCategory','Word Count for Different Grades','Word Counts',30,100)\n",
        "display_stack_bar('VerbCount','VerbCountCategory','Verb Count for Different Grades','Verb Counts',10,30)\n",
        "display_stack_bar('NounCount','NounCountCategory','Noun Count for Different Grades','Noun Counts',10,50)\n",
        "display_stack_bar('AdjCount','AdjectivesCountCategory','Adjectives Count for Different Grades','Adjective Counts',5,20)\n",
        "display_stack_bar('AdverbCount','AdverbCountCategory','Adverb Count for Different Grades','Adverb Counts',2,10)\n",
        "display_stack_bar('PronounCount','PronounCountCategory','Pronoun Count for Different Grades','Pronoun Counts',1,30)\n",
        "display_stack_bar('PunctCount','PunctCountCategory','Punctuations Count for Different Grades','Punctuations Counts',10,25)"
      ],
      "execution_count": 321,
      "outputs": [
        {
          "output_type": "display_data",
          "data": {
            "image/png": "[encoded data removed]",
            "text/plain": [
              "<Figure size 720x720 with 1 Axes>"
            ]
          },
          "metadata": {
            "needs_background": "light"
          }
        },
        {
          "output_type": "display_data",
          "data": {
            "image/png": "[encoded data removed]",
            "text/plain": [
              "<Figure size 720x720 with 1 Axes>"
            ]
          },
          "metadata": {
            "needs_background": "light"
          }
        },
        {
          "output_type": "display_data",
          "data": {
            "image/png": "[encoded data removed]",
            "text/plain": [
              "<Figure size 720x720 with 1 Axes>"
            ]
          },
          "metadata": {
            "needs_background": "light"
          }
        },
        {
          "output_type": "display_data",
          "data": {
            "image/png": "[encoded data removed]",
            "text/plain": [
              "<Figure size 720x720 with 1 Axes>"
            ]
          },
          "metadata": {
            "needs_background": "light"
          }
        },
        {
          "output_type": "display_data",
          "data": {
            "image/png": "[encoded data removed]",
            "text/plain": [
              "<Figure size 720x720 with 1 Axes>"
            ]
          },
          "metadata": {
            "needs_background": "light"
          }
        },
        {
          "output_type": "display_data",
          "data": {
            "image/png": "[encoded data removed]",
            "text/plain": [
              "<Figure size 720x720 with 1 Axes>"
            ]
          },
          "metadata": {
            "needs_background": "light"
          }
        },
        {
          "output_type": "display_data",
          "data": {
            "image/png": "[encoded data removed]",
            "text/plain": [
              "<Figure size 720x720 with 1 Axes>"
            ]
          },
          "metadata": {
            "needs_background": "light"
          }
        },
        {
          "output_type": "display_data",
          "data": {
            "image/png": "[encoded data removed]",
            "text/plain": [
              "<Figure size 720x720 with 1 Axes>"
            ]
          },
          "metadata": {
            "needs_background": "light"
          }
        }
      ]
    },
    {
      "cell_type": "markdown",
      "source": [
        "# **Calculating VERB/NOUN/ADJ.... density**"
      ],
      "metadata": {
        "id": "XIzaOkYtUuKu"
      }
    },
    {
      "cell_type": "code",
      "source": [
        "df_essays.tail()"
      ],
      "metadata": {
        "colab": {
          "base_uri": "https://localhost:8080/",
          "height": 206
        },
        "id": "H-9bMiksDIoS",
        "outputId": "be8695f3-9bfa-45d0-f0ee-2529281ec449"
      },
      "execution_count": 322,
      "outputs": [
        {
          "output_type": "execute_result",
          "data": {
            "text/html": [
              "<div>\n",
              "<style scoped>\n",
              "    .dataframe tbody tr th:only-of-type {\n",
              "        vertical-align: middle;\n",
              "    }\n",
              "\n",
              "    .dataframe tbody tr th {\n",
              "        vertical-align: top;\n",
              "    }\n",
              "\n",
              "    .dataframe thead th {\n",
              "        text-align: right;\n",
              "    }\n",
              "</style>\n",
              "<table border=\"1\" class=\"dataframe\">\n",
              "  <thead>\n",
              "    <tr style=\"text-align: right;\">\n",
              "      <th></th>\n",
              "      <th>Essay Text</th>\n",
              "      <th>Essay Grading</th>\n",
              "      <th>SentenceCount</th>\n",
              "      <th>WordCount</th>\n",
              "      <th>VerbCount</th>\n",
              "      <th>NounCount</th>\n",
              "      <th>AdjCount</th>\n",
              "      <th>AdverbCount</th>\n",
              "      <th>PronounCount</th>\n",
              "      <th>PunctCount</th>\n",
              "    </tr>\n",
              "  </thead>\n",
              "  <tbody>\n",
              "    <tr>\n",
              "      <th>303</th>\n",
              "      <td>An early influence on my worldview was my fath...</td>\n",
              "      <td>Excellent (A+)</td>\n",
              "      <td>63</td>\n",
              "      <td>1443</td>\n",
              "      <td>157.0</td>\n",
              "      <td>393.0</td>\n",
              "      <td>140.0</td>\n",
              "      <td>40.0</td>\n",
              "      <td>53.0</td>\n",
              "      <td>213.0</td>\n",
              "    </tr>\n",
              "    <tr>\n",
              "      <th>448</th>\n",
              "      <td>Confusion and panic were clearly visible. Peop...</td>\n",
              "      <td>Average (B-C)</td>\n",
              "      <td>109</td>\n",
              "      <td>1436</td>\n",
              "      <td>204.0</td>\n",
              "      <td>222.0</td>\n",
              "      <td>64.0</td>\n",
              "      <td>61.0</td>\n",
              "      <td>138.0</td>\n",
              "      <td>216.0</td>\n",
              "    </tr>\n",
              "    <tr>\n",
              "      <th>411</th>\n",
              "      <td>Confusion and panic were clearly visible. Peop...</td>\n",
              "      <td>Average (B-C)</td>\n",
              "      <td>109</td>\n",
              "      <td>1436</td>\n",
              "      <td>204.0</td>\n",
              "      <td>222.0</td>\n",
              "      <td>64.0</td>\n",
              "      <td>61.0</td>\n",
              "      <td>138.0</td>\n",
              "      <td>216.0</td>\n",
              "    </tr>\n",
              "    <tr>\n",
              "      <th>693</th>\n",
              "      <td>“Lower your lids!” Gilad, my drama instructor,...</td>\n",
              "      <td>Average (B-C)</td>\n",
              "      <td>92</td>\n",
              "      <td>1450</td>\n",
              "      <td>207.0</td>\n",
              "      <td>261.0</td>\n",
              "      <td>89.0</td>\n",
              "      <td>63.0</td>\n",
              "      <td>114.0</td>\n",
              "      <td>221.0</td>\n",
              "    </tr>\n",
              "    <tr>\n",
              "      <th>589</th>\n",
              "      <td>I wonder sometimes if any author’s story is qu...</td>\n",
              "      <td>Excellent (A+)</td>\n",
              "      <td>115</td>\n",
              "      <td>2043</td>\n",
              "      <td>273.0</td>\n",
              "      <td>285.0</td>\n",
              "      <td>94.0</td>\n",
              "      <td>136.0</td>\n",
              "      <td>260.0</td>\n",
              "      <td>256.0</td>\n",
              "    </tr>\n",
              "  </tbody>\n",
              "</table>\n",
              "</div>"
            ],
            "text/plain": [
              "                                            Essay Text  ... PunctCount\n",
              "303  An early influence on my worldview was my fath...  ...      213.0\n",
              "448  Confusion and panic were clearly visible. Peop...  ...      216.0\n",
              "411  Confusion and panic were clearly visible. Peop...  ...      216.0\n",
              "693  “Lower your lids!” Gilad, my drama instructor,...  ...      221.0\n",
              "589  I wonder sometimes if any author’s story is qu...  ...      256.0\n",
              "\n",
              "[5 rows x 10 columns]"
            ]
          },
          "metadata": {},
          "execution_count": 322
        }
      ]
    },
    {
      "cell_type": "code",
      "source": [
        "df_essays['VerbCount']  = df_essays.apply(lambda x: count_feature('VERB',x['Essay Text'], x['WordCount'],2), axis=1)\n",
        "df_essays['NounCount']  = df_essays.apply(lambda x: count_feature('NOUN',x['Essay Text'], x['WordCount'],2), axis=1)\n",
        "df_essays['AdjCount']  = df_essays.apply(lambda x: count_feature('ADJ',x['Essay Text'], x['WordCount'],2), axis=1)\n",
        "df_essays['AdverbCount']  = df_essays.apply(lambda x: count_feature('ADV',x['Essay Text'], x['WordCount'],2), axis=1)\n",
        "df_essays['PronounCount']  = df_essays.apply(lambda x: count_feature('PRON',x['Essay Text'], x['WordCount'],2), axis=1)\n",
        "df_essays['PunctCount']  = df_essays.apply(lambda x: count_feature('PUNCT',x['Essay Text'], x['WordCount'],2), axis=1)"
      ],
      "metadata": {
        "id": "PmBetysJNbLS"
      },
      "execution_count": 325,
      "outputs": []
    },
    {
      "cell_type": "code",
      "source": [
        "df_essays.tail()"
      ],
      "metadata": {
        "colab": {
          "base_uri": "https://localhost:8080/",
          "height": 206
        },
        "id": "Al20TUO1Ne2Q",
        "outputId": "20dca68c-df34-477f-d0d1-094645c05189"
      },
      "execution_count": 326,
      "outputs": [
        {
          "output_type": "execute_result",
          "data": {
            "text/html": [
              "<div>\n",
              "<style scoped>\n",
              "    .dataframe tbody tr th:only-of-type {\n",
              "        vertical-align: middle;\n",
              "    }\n",
              "\n",
              "    .dataframe tbody tr th {\n",
              "        vertical-align: top;\n",
              "    }\n",
              "\n",
              "    .dataframe thead th {\n",
              "        text-align: right;\n",
              "    }\n",
              "</style>\n",
              "<table border=\"1\" class=\"dataframe\">\n",
              "  <thead>\n",
              "    <tr style=\"text-align: right;\">\n",
              "      <th></th>\n",
              "      <th>Essay Text</th>\n",
              "      <th>Essay Grading</th>\n",
              "      <th>SentenceCount</th>\n",
              "      <th>WordCount</th>\n",
              "      <th>VerbCount</th>\n",
              "      <th>NounCount</th>\n",
              "      <th>AdjCount</th>\n",
              "      <th>AdverbCount</th>\n",
              "      <th>PronounCount</th>\n",
              "      <th>PunctCount</th>\n",
              "    </tr>\n",
              "  </thead>\n",
              "  <tbody>\n",
              "    <tr>\n",
              "      <th>303</th>\n",
              "      <td>An early influence on my worldview was my fath...</td>\n",
              "      <td>Excellent (A+)</td>\n",
              "      <td>63</td>\n",
              "      <td>1443</td>\n",
              "      <td>0.11</td>\n",
              "      <td>0.27</td>\n",
              "      <td>0.10</td>\n",
              "      <td>0.03</td>\n",
              "      <td>0.04</td>\n",
              "      <td>0.15</td>\n",
              "    </tr>\n",
              "    <tr>\n",
              "      <th>448</th>\n",
              "      <td>Confusion and panic were clearly visible. Peop...</td>\n",
              "      <td>Average (B-C)</td>\n",
              "      <td>109</td>\n",
              "      <td>1436</td>\n",
              "      <td>0.14</td>\n",
              "      <td>0.15</td>\n",
              "      <td>0.04</td>\n",
              "      <td>0.04</td>\n",
              "      <td>0.10</td>\n",
              "      <td>0.15</td>\n",
              "    </tr>\n",
              "    <tr>\n",
              "      <th>411</th>\n",
              "      <td>Confusion and panic were clearly visible. Peop...</td>\n",
              "      <td>Average (B-C)</td>\n",
              "      <td>109</td>\n",
              "      <td>1436</td>\n",
              "      <td>0.14</td>\n",
              "      <td>0.15</td>\n",
              "      <td>0.04</td>\n",
              "      <td>0.04</td>\n",
              "      <td>0.10</td>\n",
              "      <td>0.15</td>\n",
              "    </tr>\n",
              "    <tr>\n",
              "      <th>693</th>\n",
              "      <td>“Lower your lids!” Gilad, my drama instructor,...</td>\n",
              "      <td>Average (B-C)</td>\n",
              "      <td>92</td>\n",
              "      <td>1450</td>\n",
              "      <td>0.14</td>\n",
              "      <td>0.18</td>\n",
              "      <td>0.06</td>\n",
              "      <td>0.04</td>\n",
              "      <td>0.08</td>\n",
              "      <td>0.15</td>\n",
              "    </tr>\n",
              "    <tr>\n",
              "      <th>589</th>\n",
              "      <td>I wonder sometimes if any author’s story is qu...</td>\n",
              "      <td>Excellent (A+)</td>\n",
              "      <td>115</td>\n",
              "      <td>2043</td>\n",
              "      <td>0.13</td>\n",
              "      <td>0.14</td>\n",
              "      <td>0.05</td>\n",
              "      <td>0.07</td>\n",
              "      <td>0.13</td>\n",
              "      <td>0.13</td>\n",
              "    </tr>\n",
              "  </tbody>\n",
              "</table>\n",
              "</div>"
            ],
            "text/plain": [
              "                                            Essay Text  ... PunctCount\n",
              "303  An early influence on my worldview was my fath...  ...       0.15\n",
              "448  Confusion and panic were clearly visible. Peop...  ...       0.15\n",
              "411  Confusion and panic were clearly visible. Peop...  ...       0.15\n",
              "693  “Lower your lids!” Gilad, my drama instructor,...  ...       0.15\n",
              "589  I wonder sometimes if any author’s story is qu...  ...       0.13\n",
              "\n",
              "[5 rows x 10 columns]"
            ]
          },
          "metadata": {},
          "execution_count": 326
        }
      ]
    },
    {
      "cell_type": "markdown",
      "source": [
        "# **Let's visualize the dataset for normalization (w/o normalization)**"
      ],
      "metadata": {
        "id": "u7686uu1VEbY"
      }
    },
    {
      "cell_type": "code",
      "source": [
        "def display_stack_bar(col1,col2,title,xlabel,buffer,binsize):\n",
        "  bins_created = np.arange(min(df_essays[col1])-buffer, max(df_essays[col1]) + buffer, binsize) \n",
        "  print(bins_created)\n",
        "  df_essays[col2] = pd.cut(df_essays[col1], bins=bins_created)\n",
        "  df_essays.sort_values(by = col1,inplace=True)\n",
        "  counts = df_essays.groupby([col2,'Essay Grading'],sort=False).SentenceCount.count().unstack()\n",
        "  df_essays.drop([col2], axis=1,inplace=True)\n",
        "  counts.replace(np.nan,0,inplace=True)\n",
        "  ax = counts.plot.bar(stacked=True,figsize=(10,10),width = 0.5)\n",
        "  for p in ax.patches:\n",
        "    width, height = p.get_width(), p.get_height()\n",
        "    x, y = p.get_xy() \n",
        "    ax.text(x+width/2, \n",
        "            y+height/2, \n",
        "            round(height,2), \n",
        "            horizontalalignment='center', \n",
        "            verticalalignment='center')  \n",
        "  plt.title(title,fontsize=18)\n",
        "  plt.xlabel(xlabel,fontsize=18)\n",
        "  plt.xticks(fontsize=14,rotation=45)\n",
        "  plt.ylabel('Number of Entries',fontsize=18)\n",
        "  plt.show()\t\n",
        "\n",
        "display_stack_bar('SentenceCount','SentenceCountCategory','Sentence Count for Different Grades','Sentence Counts',4,20)\n",
        "display_stack_bar('WordCount','WordCountCategory','Word Count for Different Grades','Word Counts',30,100)\n",
        "display_stack_bar('VerbCount','VerbCountCategory','Verb Count for Different Grades','Verb Counts',0,.05)\n",
        "# display_stack_bar('NounCount','NounCountCategory','Noun Count for Different Grades','Noun Counts',10,50)\n",
        "# display_stack_bar('AdjCount','AdjectivesCountCategory','Adjectives Count for Different Grades','Adjective Counts',5,20)\n",
        "# display_stack_bar('AdverbCount','AdverbCountCategory','Adverb Count for Different Grades','Adverb Counts',2,10)\n",
        "# display_stack_bar('PronounCount','PronounCountCategory','Pronoun Count for Different Grades','Pronoun Counts',1,30)\n",
        "# display_stack_bar('PunctCount','PunctCountCategory','Punctuations Count for Different Grades','Punctuations Counts',10,25)"
      ],
      "metadata": {
        "colab": {
          "base_uri": "https://localhost:8080/",
          "height": 1000
        },
        "id": "Ac-bX8h7VZAs",
        "outputId": "762f175c-30d0-4647-c248-048c68fa2fa2"
      },
      "execution_count": 327,
      "outputs": [
        {
          "output_type": "stream",
          "name": "stdout",
          "text": [
            "[  0  20  40  60  80 100]\n"
          ]
        },
        {
          "output_type": "display_data",
          "data": {
            "image/png": "[encoded data removed]",
            "text/plain": [
              "<Figure size 720x720 with 1 Axes>"
            ]
          },
          "metadata": {
            "needs_background": "light"
          }
        },
        {
          "output_type": "stream",
          "name": "stdout",
          "text": [
            "[  81  181  281  381  481  581  681  781  881  981 1081 1181 1281 1381\n",
            " 1481 1581 1681 1781 1881 1981]\n"
          ]
        },
        {
          "output_type": "display_data",
          "data": {
            "image/png": "[encoded data removed]",
            "text/plain": [
              "<Figure size 720x720 with 1 Axes>"
            ]
          },
          "metadata": {
            "needs_background": "light"
          }
        },
        {
          "output_type": "stream",
          "name": "stdout",
          "text": [
            "[0.06 0.11 0.16]\n"
          ]
        },
        {
          "output_type": "display_data",
          "data": {
            "image/png": "[encoded data removed]",
            "text/plain": [
              "<Figure size 720x720 with 1 Axes>"
            ]
          },
          "metadata": {
            "needs_background": "light"
          }
        }
      ]
    },
    {
      "cell_type": "markdown",
      "source": [
        "# **Scatter Plot**"
      ],
      "metadata": {
        "id": "0DsFYa3tVpjO"
      }
    },
    {
      "cell_type": "code",
      "source": [
        "dict  = {2:'Excellent (A+)',1:'Average (B-C)',0:'Bad (D-F)'}\n",
        "# Split the data into features and target label\n",
        "\n",
        "df_essays_copy = df_essays.copy()\n",
        "\n",
        "df_essays_copy['Essay Grading'] = df_essays_copy['Essay Grading'].apply(lambda x:2 if x==\"Excellent (A+)\" else 1 if x=='Average (B-C)' else 0)\n",
        "df_essays_copy.drop(['Essay Text'], axis = 1,inplace=True,errors='ignore')\n",
        "data = np.asarray(df_essays_copy)"
      ],
      "metadata": {
        "id": "J1N8ChpuVsGo"
      },
      "execution_count": 328,
      "outputs": []
    },
    {
      "cell_type": "code",
      "source": [
        "X = data[:,0:2] # SentenceCount WordCount\n",
        "y = data[:,-1]\n",
        "\n",
        "plt.figure(figsize=(8, 8), dpi=80)\n",
        "plt.scatter(X[np.argwhere(y==0).flatten(),0], X[np.argwhere(y==0).flatten(),1],s = 50, color = 'blue', edgecolor = 'k',label=dict[0])\n",
        "plt.scatter(X[np.argwhere(y==1).flatten(),0], X[np.argwhere(y==1).flatten(),1],s = 50, color = 'red', edgecolor = 'k',label=dict[1])\n",
        "plt.scatter(X[np.argwhere(y==2).flatten(),0], X[np.argwhere(y==2).flatten(),1],s = 50, color = 'yellow', edgecolor = 'k',label=dict[2])\n",
        "plt.xlabel('SentenceCount')\n",
        "plt.ylabel('WordCount')\n",
        "plt.legend()\n",
        "plt.show()"
      ],
      "metadata": {
        "colab": {
          "base_uri": "https://localhost:8080/",
          "height": 548
        },
        "id": "t6VCaUpLV021",
        "outputId": "6590ff8b-f485-43f5-fdc2-0a3eb7248bec"
      },
      "execution_count": 329,
      "outputs": [
        {
          "output_type": "display_data",
          "data": {
            "image/png": "[encoded data removed]",
            "text/plain": [
              "<Figure size 640x640 with 1 Axes>"
            ]
          },
          "metadata": {
            "needs_background": "light"
          }
        }
      ]
    },
    {
      "cell_type": "code",
      "source": [
        "X = data[:,6:8] # PronounCount PunctCount\n",
        "y = data[:,-1]\n",
        "\n",
        "plt.figure(figsize=(8, 8), dpi=80)\n",
        "plt.scatter(X[np.argwhere(y==0).flatten(),0], X[np.argwhere(y==0).flatten(),1],s = 50, color = 'blue', edgecolor = 'k',label=dict[0])\n",
        "plt.scatter(X[np.argwhere(y==1).flatten(),0], X[np.argwhere(y==1).flatten(),1],s = 50, color = 'red', edgecolor = 'k',label=dict[1])\n",
        "plt.scatter(X[np.argwhere(y==2).flatten(),0], X[np.argwhere(y==2).flatten(),1],s = 50, color = 'yellow', edgecolor = 'k',label=dict[2])\n",
        "plt.xlabel('PronounCount')\n",
        "plt.ylabel('PunctuationCount')\n",
        "plt.legend()\n",
        "plt.show()"
      ],
      "metadata": {
        "colab": {
          "base_uri": "https://localhost:8080/",
          "height": 548
        },
        "id": "hpZ8rno-cq_A",
        "outputId": "b08cea0b-598c-48d3-aa11-d523de4d3688"
      },
      "execution_count": 225,
      "outputs": [
        {
          "output_type": "display_data",
          "data": {
            "image/png": "[encoded data removed]",
            "text/plain": [
              "<Figure size 640x640 with 1 Axes>"
            ]
          },
          "metadata": {
            "needs_background": "light"
          }
        }
      ]
    },
    {
      "cell_type": "code",
      "source": [
        "X = data[:,4:6] # Adjective AdverbCount\n",
        "y = data[:,-1]\n",
        "\n",
        "plt.figure(figsize=(8, 8), dpi=80)\n",
        "plt.scatter(X[np.argwhere(y==0).flatten(),0], X[np.argwhere(y==0).flatten(),1],s = 50, color = 'blue', edgecolor = 'k',label=dict[0])\n",
        "plt.scatter(X[np.argwhere(y==1).flatten(),0], X[np.argwhere(y==1).flatten(),1],s = 50, color = 'red', edgecolor = 'k',label=dict[1])\n",
        "plt.scatter(X[np.argwhere(y==2).flatten(),0], X[np.argwhere(y==2).flatten(),1],s = 50, color = 'yellow', edgecolor = 'k',label=dict[2])\n",
        "plt.xlabel('AdjectiveCount')\n",
        "plt.ylabel('AdverbCount')\n",
        "plt.legend()\n",
        "plt.show()\n"
      ],
      "metadata": {
        "colab": {
          "base_uri": "https://localhost:8080/",
          "height": 548
        },
        "id": "9z8SF4tYczKH",
        "outputId": "1534af1f-c920-4140-977d-cbee07690d23"
      },
      "execution_count": 226,
      "outputs": [
        {
          "output_type": "display_data",
          "data": {
            "image/png": "[encoded data removed]",
            "text/plain": [
              "<Figure size 640x640 with 1 Axes>"
            ]
          },
          "metadata": {
            "needs_background": "light"
          }
        }
      ]
    },
    {
      "cell_type": "code",
      "source": [
        "X = data[:,2:4] # VerbCount NounCount\n",
        "y = data[:,-1]\n",
        "\n",
        "plt.figure(figsize=(8, 8), dpi=80)\n",
        "plt.scatter(X[np.argwhere(y==0).flatten(),0], X[np.argwhere(y==0).flatten(),1],s = 50, color = 'blue', edgecolor = 'k',label=dict[0])\n",
        "plt.scatter(X[np.argwhere(y==1).flatten(),0], X[np.argwhere(y==1).flatten(),1],s = 50, color = 'red', edgecolor = 'k',label=dict[1])\n",
        "plt.scatter(X[np.argwhere(y==2).flatten(),0], X[np.argwhere(y==2).flatten(),1],s = 50, color = 'yellow', edgecolor = 'k',label=dict[2])\n",
        "plt.xlabel('VerbCount')\n",
        "plt.ylabel('NounCount')\n",
        "plt.legend()\n",
        "plt.show()"
      ],
      "metadata": {
        "colab": {
          "base_uri": "https://localhost:8080/",
          "height": 548
        },
        "id": "FP11tulrc2SP",
        "outputId": "5e5a33f7-2381-471e-d75f-15223523bfe4"
      },
      "execution_count": 227,
      "outputs": [
        {
          "output_type": "display_data",
          "data": {
            "image/png": "[encoded data removed]",
            "text/plain": [
              "<Figure size 640x640 with 1 Axes>"
            ]
          },
          "metadata": {
            "needs_background": "light"
          }
        }
      ]
    },
    {
      "cell_type": "markdown",
      "source": [
        "# **ROUGH WORK START**"
      ],
      "metadata": {
        "id": "hF7tAlOz08sF"
      }
    },
    {
      "cell_type": "code",
      "source": [
        "df_essays.replace([np.inf, -np.inf], np.nan, inplace=True)"
      ],
      "metadata": {
        "id": "X_Qq2AJExHmF"
      },
      "execution_count": 228,
      "outputs": []
    },
    {
      "cell_type": "code",
      "source": [
        "df_essays.isnull().sum()"
      ],
      "metadata": {
        "colab": {
          "base_uri": "https://localhost:8080/"
        },
        "id": "yNFDbCl3xLPp",
        "outputId": "f3f32ded-19be-4c91-8f49-002c51dfdb8d"
      },
      "execution_count": 330,
      "outputs": [
        {
          "output_type": "execute_result",
          "data": {
            "text/plain": [
              "Essay Text       0\n",
              "Essay Grading    0\n",
              "SentenceCount    0\n",
              "WordCount        0\n",
              "VerbCount        0\n",
              "NounCount        0\n",
              "AdjCount         0\n",
              "AdverbCount      0\n",
              "PronounCount     0\n",
              "PunctCount       0\n",
              "dtype: int64"
            ]
          },
          "metadata": {},
          "execution_count": 330
        }
      ]
    },
    {
      "cell_type": "code",
      "source": [
        "df_essays.dropna(inplace=True)\n"
      ],
      "metadata": {
        "id": "6SGZchNWxSi8"
      },
      "execution_count": 230,
      "outputs": []
    },
    {
      "cell_type": "code",
      "source": [
        "df_essays.isnull().sum()"
      ],
      "metadata": {
        "colab": {
          "base_uri": "https://localhost:8080/"
        },
        "id": "y-20AddjxUpT",
        "outputId": "7d0b237b-fdef-48b2-bf75-75a66bd4693a"
      },
      "execution_count": 231,
      "outputs": [
        {
          "output_type": "execute_result",
          "data": {
            "text/plain": [
              "Essay Text       0\n",
              "Essay Grading    0\n",
              "SentenceCount    0\n",
              "WordCount        0\n",
              "VerbCount        0\n",
              "NounCount        0\n",
              "AdjCount         0\n",
              "AdverbCount      0\n",
              "PronounCount     0\n",
              "PunctCount       0\n",
              "dtype: int64"
            ]
          },
          "metadata": {},
          "execution_count": 231
        }
      ]
    },
    {
      "cell_type": "code",
      "source": [
        "df_essays.head()"
      ],
      "metadata": {
        "colab": {
          "base_uri": "https://localhost:8080/",
          "height": 206
        },
        "id": "wD9Q2Y_p0mTo",
        "outputId": "06327032-6d24-432d-f655-a154c147c48d"
      },
      "execution_count": 232,
      "outputs": [
        {
          "output_type": "execute_result",
          "data": {
            "text/html": [
              "<div>\n",
              "<style scoped>\n",
              "    .dataframe tbody tr th:only-of-type {\n",
              "        vertical-align: middle;\n",
              "    }\n",
              "\n",
              "    .dataframe tbody tr th {\n",
              "        vertical-align: top;\n",
              "    }\n",
              "\n",
              "    .dataframe thead th {\n",
              "        text-align: right;\n",
              "    }\n",
              "</style>\n",
              "<table border=\"1\" class=\"dataframe\">\n",
              "  <thead>\n",
              "    <tr style=\"text-align: right;\">\n",
              "      <th></th>\n",
              "      <th>Essay Text</th>\n",
              "      <th>Essay Grading</th>\n",
              "      <th>SentenceCount</th>\n",
              "      <th>WordCount</th>\n",
              "      <th>VerbCount</th>\n",
              "      <th>NounCount</th>\n",
              "      <th>AdjCount</th>\n",
              "      <th>AdverbCount</th>\n",
              "      <th>PronounCount</th>\n",
              "      <th>PunctCount</th>\n",
              "    </tr>\n",
              "  </thead>\n",
              "  <tbody>\n",
              "    <tr>\n",
              "      <th>495</th>\n",
              "      <td>The provided line graph depicts the marriages ...</td>\n",
              "      <td>Average (B-C)</td>\n",
              "      <td>10</td>\n",
              "      <td>133</td>\n",
              "      <td>0.10</td>\n",
              "      <td>0.33</td>\n",
              "      <td>0.12</td>\n",
              "      <td>0.10</td>\n",
              "      <td>0.02</td>\n",
              "      <td>0.15</td>\n",
              "    </tr>\n",
              "    <tr>\n",
              "      <th>500</th>\n",
              "      <td>The pie chart illustrates the main causes of l...</td>\n",
              "      <td>Average (B-C)</td>\n",
              "      <td>8</td>\n",
              "      <td>154</td>\n",
              "      <td>0.11</td>\n",
              "      <td>0.42</td>\n",
              "      <td>0.10</td>\n",
              "      <td>0.08</td>\n",
              "      <td>0.01</td>\n",
              "      <td>0.23</td>\n",
              "    </tr>\n",
              "    <tr>\n",
              "      <th>132</th>\n",
              "      <td>My most recent work experience at B Ltd was by...</td>\n",
              "      <td>Bad (D-F)</td>\n",
              "      <td>6</td>\n",
              "      <td>142</td>\n",
              "      <td>0.12</td>\n",
              "      <td>0.39</td>\n",
              "      <td>0.13</td>\n",
              "      <td>0.05</td>\n",
              "      <td>0.04</td>\n",
              "      <td>0.14</td>\n",
              "    </tr>\n",
              "    <tr>\n",
              "      <th>501</th>\n",
              "      <td>The line graph represented how many units of e...</td>\n",
              "      <td>Average (B-C)</td>\n",
              "      <td>6</td>\n",
              "      <td>130</td>\n",
              "      <td>0.12</td>\n",
              "      <td>0.36</td>\n",
              "      <td>0.08</td>\n",
              "      <td>0.05</td>\n",
              "      <td>0.02</td>\n",
              "      <td>0.15</td>\n",
              "    </tr>\n",
              "    <tr>\n",
              "      <th>177</th>\n",
              "      <td>Though a landlocked nation, Nepal possesses a ...</td>\n",
              "      <td>Bad (D-F)</td>\n",
              "      <td>10</td>\n",
              "      <td>173</td>\n",
              "      <td>0.13</td>\n",
              "      <td>0.37</td>\n",
              "      <td>0.24</td>\n",
              "      <td>0.05</td>\n",
              "      <td>0.03</td>\n",
              "      <td>0.16</td>\n",
              "    </tr>\n",
              "  </tbody>\n",
              "</table>\n",
              "</div>"
            ],
            "text/plain": [
              "                                            Essay Text  ... PunctCount\n",
              "495  The provided line graph depicts the marriages ...  ...       0.15\n",
              "500  The pie chart illustrates the main causes of l...  ...       0.23\n",
              "132  My most recent work experience at B Ltd was by...  ...       0.14\n",
              "501  The line graph represented how many units of e...  ...       0.15\n",
              "177  Though a landlocked nation, Nepal possesses a ...  ...       0.16\n",
              "\n",
              "[5 rows x 10 columns]"
            ]
          },
          "metadata": {},
          "execution_count": 232
        }
      ]
    },
    {
      "cell_type": "markdown",
      "source": [
        "# **ROUGH WORK END**"
      ],
      "metadata": {
        "id": "38DJtcvC1Wv5"
      }
    },
    {
      "cell_type": "markdown",
      "source": [
        "# **Active/Passive Voice Feature**"
      ],
      "metadata": {
        "id": "SfjYexk7Y_El"
      }
    },
    {
      "cell_type": "code",
      "source": [
        "matcher = Matcher(nlp.vocab)\n",
        "\n",
        "# function to check the type of sentence\n",
        "def checkForSentType(inputEssay):  \n",
        "    # running the model on sentence\n",
        "    doc = nlp(inputEssay)\n",
        "    sents = list(doc.sents)\n",
        "\n",
        "    passive_rule = [{'DEP':'nsubjpass'},{'DEP':'aux','OP':'*'},{'DEP':'auxpass'},{'TAG':'VBN'}]\n",
        "    matcher.add('Passive',None,passive_rule)\n",
        "    matches = matcher(doc)\n",
        "    #return (len(matches)/len(sents),(len(sents)-len(matches))/len(sents))\n",
        "    return ((len(sents)-len(matches))/len(sents))\n",
        "\n",
        "#df_essays[['NumberofPassiveVoice','NumberofActiveVoice']] = df_essays.apply(lambda row: pd.Series(checkForSentType(row['Essay Text'])),axis=1) \n",
        "df_essays['NumberofActiveVoice'] = df_essays.apply(lambda row: pd.Series(checkForSentType(row['Essay Text'])),axis=1) \n",
        "\n",
        "df_essays.reset_index(drop=True,inplace=True)"
      ],
      "metadata": {
        "id": "ji48QHBg1gej"
      },
      "execution_count": 331,
      "outputs": []
    },
    {
      "cell_type": "markdown",
      "source": [
        "# **Complex, Compound Complex,Compound,Simple sentences Feature**"
      ],
      "metadata": {
        "id": "d_3VrTuIZQIB"
      }
    },
    {
      "cell_type": "code",
      "source": [
        "def getCountTypeSent(essay_text):\n",
        "  complex_comp_list=[]\n",
        "  complex_list=[]\n",
        "  compound_list=[]\n",
        "  simple_list=[]\n",
        "  dep_list = []\n",
        "  docu = nlp(essay_text)\n",
        "  num_sent = len([sent for sent in docu.sents]) # Counting the number of sentences\n",
        "\n",
        "  for sents in docu.sents:\n",
        "    for token in sents:# Tokenize the sentence into words/tokens\n",
        "      #subtree argument gives the subtree of the token when parsed in dependency parsing.\n",
        "      subtree = token.subtree\n",
        "      #Looking at the ancestors of a token can tell us how deep it is\n",
        "      k = list(token.ancestors)\n",
        "      #we need to add this to make the indexing work properly\n",
        "      k.append('added_to_get_proper_indexing')\n",
        "      #k=2 gives us the first level of the tree, k=3 will give us the next level.\n",
        "      if(len(k)==2):\n",
        "        #print([(t.text) for t in subtree], token.dep_)\n",
        "        dep_list.append(token.dep_)\n",
        "      #we missed the root phrase in the previous \n",
        "      if(token.dep_=='ROOT'):\n",
        "        k =[token.text]\n",
        "      #print(k, 'root')\n",
        "\n",
        "    #complex sentences have (advcl) in their dependency tree\n",
        "    #compound sentences have (cc)-> coordination and (conj)-> conjuction in their dependency tree\n",
        "    #compound complex sentences have both the above\n",
        "    #simple sentences have neither.\n",
        "    if ('advcl') in dep_list and ('cc') in dep_list and ('conj') in dep_list:\n",
        "      complex_comp_list.append('Complex-compound sentence')\n",
        "    elif ('advcl') in dep_list:\n",
        "      complex_list.append('Complex sentence')\n",
        "    elif ('cc') in dep_list and ('conj') in dep_list:\n",
        "      compound_list.append('Compound sentence')\n",
        "    else:\n",
        "      simple_list.append('Simple sentence')\n",
        "  return (len(complex_comp_list)/num_sent,len(complex_list)/num_sent,len(compound_list)/num_sent,len(simple_list)/num_sent)\n",
        "  \n",
        "df_essays[['NumComplexComp','NumComplex','NumCompund','NumSimple']] = df_essays.apply(lambda row: pd.Series(getCountTypeSent(row['Essay Text'])),axis=1) "
      ],
      "metadata": {
        "id": "WyrkQTr_1uGD"
      },
      "execution_count": 332,
      "outputs": []
    },
    {
      "cell_type": "markdown",
      "source": [
        "![image.png](data:image/png;base64,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)"
      ],
      "metadata": {
        "id": "Y1VrPc2pK3Fp"
      }
    },
    {
      "cell_type": "code",
      "source": [
        "!pip install textatistic\n",
        "def get_flesch_score(essay_text):\n",
        "  readability_score = Textatistic(essay_text).scores\n",
        "  return round(readability_score['flesch_score'],2)\n",
        "\n",
        "df_essays['FleschScore'] = df_essays.apply(lambda x: get_flesch_score(x['Essay Text']),axis=1) "
      ],
      "metadata": {
        "id": "nF9YZAixLBdA",
        "colab": {
          "base_uri": "https://localhost:8080/"
        },
        "outputId": "35c74787-06e5-4d3e-8b71-c2f639043029"
      },
      "execution_count": 333,
      "outputs": [
        {
          "output_type": "stream",
          "name": "stdout",
          "text": [
            "Requirement already satisfied: textatistic in /usr/local/lib/python3.7/dist-packages (0.0.1)\n",
            "Requirement already satisfied: pyhyphen>=2.0.5 in /usr/local/lib/python3.7/dist-packages (from textatistic) (4.0.2)\n",
            "Requirement already satisfied: setuptools>=52.0 in /usr/local/lib/python3.7/dist-packages (from pyhyphen>=2.0.5->textatistic) (57.4.0)\n",
            "Requirement already satisfied: requests>=2.25 in /usr/local/lib/python3.7/dist-packages (from pyhyphen>=2.0.5->textatistic) (2.26.0)\n",
            "Requirement already satisfied: appdirs>=1.4.0 in /usr/local/lib/python3.7/dist-packages (from pyhyphen>=2.0.5->textatistic) (1.4.4)\n",
            "Requirement already satisfied: wheel>=0.36.0 in /usr/local/lib/python3.7/dist-packages (from pyhyphen>=2.0.5->textatistic) (0.37.0)\n",
            "Requirement already satisfied: certifi>=2017.4.17 in /usr/local/lib/python3.7/dist-packages (from requests>=2.25->pyhyphen>=2.0.5->textatistic) (2021.10.8)\n",
            "Requirement already satisfied: charset-normalizer~=2.0.0 in /usr/local/lib/python3.7/dist-packages (from requests>=2.25->pyhyphen>=2.0.5->textatistic) (2.0.8)\n",
            "Requirement already satisfied: idna<4,>=2.5 in /usr/local/lib/python3.7/dist-packages (from requests>=2.25->pyhyphen>=2.0.5->textatistic) (2.10)\n",
            "Requirement already satisfied: urllib3<1.27,>=1.21.1 in /usr/local/lib/python3.7/dist-packages (from requests>=2.25->pyhyphen>=2.0.5->textatistic) (1.24.3)\n"
          ]
        }
      ]
    },
    {
      "cell_type": "code",
      "source": [
        "df_essays.head(30)"
      ],
      "metadata": {
        "colab": {
          "base_uri": "https://localhost:8080/",
          "height": 1000
        },
        "id": "Ionff7JVNExp",
        "outputId": "98c30d78-e20b-4ff1-97be-a96769eec1f3"
      },
      "execution_count": 338,
      "outputs": [
        {
          "output_type": "execute_result",
          "data": {
            "text/html": [
              "<div>\n",
              "<style scoped>\n",
              "    .dataframe tbody tr th:only-of-type {\n",
              "        vertical-align: middle;\n",
              "    }\n",
              "\n",
              "    .dataframe tbody tr th {\n",
              "        vertical-align: top;\n",
              "    }\n",
              "\n",
              "    .dataframe thead th {\n",
              "        text-align: right;\n",
              "    }\n",
              "</style>\n",
              "<table border=\"1\" class=\"dataframe\">\n",
              "  <thead>\n",
              "    <tr style=\"text-align: right;\">\n",
              "      <th></th>\n",
              "      <th>Essay Text</th>\n",
              "      <th>Essay Grading</th>\n",
              "      <th>SentenceCount</th>\n",
              "      <th>WordCount</th>\n",
              "      <th>VerbCount</th>\n",
              "      <th>NounCount</th>\n",
              "      <th>AdjCount</th>\n",
              "      <th>AdverbCount</th>\n",
              "      <th>PronounCount</th>\n",
              "      <th>PunctCount</th>\n",
              "      <th>NumberofActiveVoice</th>\n",
              "      <th>NumComplexComp</th>\n",
              "      <th>NumComplex</th>\n",
              "      <th>NumCompund</th>\n",
              "      <th>NumSimple</th>\n",
              "      <th>FleschScore</th>\n",
              "      <th>UniqWordDensity</th>\n",
              "    </tr>\n",
              "  </thead>\n",
              "  <tbody>\n",
              "    <tr>\n",
              "      <th>0</th>\n",
              "      <td>The provided line graph depicts the marriages ...</td>\n",
              "      <td>Average (B-C)</td>\n",
              "      <td>10</td>\n",
              "      <td>227</td>\n",
              "      <td>0.06</td>\n",
              "      <td>0.19</td>\n",
              "      <td>0.07</td>\n",
              "      <td>0.06</td>\n",
              "      <td>0.01</td>\n",
              "      <td>0.09</td>\n",
              "      <td>1.000000</td>\n",
              "      <td>0.100000</td>\n",
              "      <td>0.800000</td>\n",
              "      <td>0.000000</td>\n",
              "      <td>0.100000</td>\n",
              "      <td>74.66</td>\n",
              "      <td>0.361233</td>\n",
              "    </tr>\n",
              "    <tr>\n",
              "      <th>1</th>\n",
              "      <td>The pie chart illustrates the main causes of l...</td>\n",
              "      <td>Average (B-C)</td>\n",
              "      <td>8</td>\n",
              "      <td>247</td>\n",
              "      <td>0.07</td>\n",
              "      <td>0.26</td>\n",
              "      <td>0.06</td>\n",
              "      <td>0.05</td>\n",
              "      <td>0.01</td>\n",
              "      <td>0.14</td>\n",
              "      <td>1.000000</td>\n",
              "      <td>0.250000</td>\n",
              "      <td>0.125000</td>\n",
              "      <td>0.000000</td>\n",
              "      <td>0.625000</td>\n",
              "      <td>53.25</td>\n",
              "      <td>0.396761</td>\n",
              "    </tr>\n",
              "    <tr>\n",
              "      <th>2</th>\n",
              "      <td>Though a landlocked nation, Nepal possesses a ...</td>\n",
              "      <td>Bad (D-F)</td>\n",
              "      <td>10</td>\n",
              "      <td>270</td>\n",
              "      <td>0.08</td>\n",
              "      <td>0.24</td>\n",
              "      <td>0.15</td>\n",
              "      <td>0.03</td>\n",
              "      <td>0.02</td>\n",
              "      <td>0.10</td>\n",
              "      <td>0.900000</td>\n",
              "      <td>0.000000</td>\n",
              "      <td>1.000000</td>\n",
              "      <td>0.000000</td>\n",
              "      <td>0.000000</td>\n",
              "      <td>28.67</td>\n",
              "      <td>0.629630</td>\n",
              "    </tr>\n",
              "    <tr>\n",
              "      <th>3</th>\n",
              "      <td>The line graph represented how many units of e...</td>\n",
              "      <td>Average (B-C)</td>\n",
              "      <td>6</td>\n",
              "      <td>200</td>\n",
              "      <td>0.08</td>\n",
              "      <td>0.23</td>\n",
              "      <td>0.06</td>\n",
              "      <td>0.04</td>\n",
              "      <td>0.01</td>\n",
              "      <td>0.10</td>\n",
              "      <td>0.833333</td>\n",
              "      <td>0.000000</td>\n",
              "      <td>0.666667</td>\n",
              "      <td>0.000000</td>\n",
              "      <td>0.333333</td>\n",
              "      <td>56.16</td>\n",
              "      <td>0.460000</td>\n",
              "    </tr>\n",
              "    <tr>\n",
              "      <th>4</th>\n",
              "      <td>Throughout my high school career, I have recei...</td>\n",
              "      <td>Average (B-C)</td>\n",
              "      <td>10</td>\n",
              "      <td>252</td>\n",
              "      <td>0.08</td>\n",
              "      <td>0.19</td>\n",
              "      <td>0.06</td>\n",
              "      <td>0.03</td>\n",
              "      <td>0.07</td>\n",
              "      <td>0.10</td>\n",
              "      <td>0.800000</td>\n",
              "      <td>0.100000</td>\n",
              "      <td>0.000000</td>\n",
              "      <td>0.000000</td>\n",
              "      <td>0.900000</td>\n",
              "      <td>51.76</td>\n",
              "      <td>0.559524</td>\n",
              "    </tr>\n",
              "    <tr>\n",
              "      <th>5</th>\n",
              "      <td>I may seem to be a little bit unexpected, a ta...</td>\n",
              "      <td>Excellent (A+)</td>\n",
              "      <td>18</td>\n",
              "      <td>570</td>\n",
              "      <td>0.08</td>\n",
              "      <td>0.17</td>\n",
              "      <td>0.08</td>\n",
              "      <td>0.06</td>\n",
              "      <td>0.05</td>\n",
              "      <td>0.13</td>\n",
              "      <td>1.000000</td>\n",
              "      <td>0.833333</td>\n",
              "      <td>0.166667</td>\n",
              "      <td>0.000000</td>\n",
              "      <td>0.000000</td>\n",
              "      <td>48.10</td>\n",
              "      <td>0.531579</td>\n",
              "    </tr>\n",
              "    <tr>\n",
              "      <th>6</th>\n",
              "      <td>My most recent work experience at B Ltd was by...</td>\n",
              "      <td>Bad (D-F)</td>\n",
              "      <td>6</td>\n",
              "      <td>222</td>\n",
              "      <td>0.08</td>\n",
              "      <td>0.25</td>\n",
              "      <td>0.09</td>\n",
              "      <td>0.03</td>\n",
              "      <td>0.02</td>\n",
              "      <td>0.09</td>\n",
              "      <td>1.000000</td>\n",
              "      <td>0.000000</td>\n",
              "      <td>0.833333</td>\n",
              "      <td>0.000000</td>\n",
              "      <td>0.166667</td>\n",
              "      <td>18.72</td>\n",
              "      <td>0.639640</td>\n",
              "    </tr>\n",
              "    <tr>\n",
              "      <th>7</th>\n",
              "      <td>The community of honor guard members in Taiwan...</td>\n",
              "      <td>Bad (D-F)</td>\n",
              "      <td>11</td>\n",
              "      <td>281</td>\n",
              "      <td>0.08</td>\n",
              "      <td>0.22</td>\n",
              "      <td>0.08</td>\n",
              "      <td>0.06</td>\n",
              "      <td>0.09</td>\n",
              "      <td>0.10</td>\n",
              "      <td>1.000000</td>\n",
              "      <td>0.000000</td>\n",
              "      <td>0.818182</td>\n",
              "      <td>0.000000</td>\n",
              "      <td>0.181818</td>\n",
              "      <td>75.48</td>\n",
              "      <td>0.462633</td>\n",
              "    </tr>\n",
              "    <tr>\n",
              "      <th>8</th>\n",
              "      <td>Physical sciences, particularly physics cosmol...</td>\n",
              "      <td>Bad (D-F)</td>\n",
              "      <td>22</td>\n",
              "      <td>438</td>\n",
              "      <td>0.09</td>\n",
              "      <td>0.18</td>\n",
              "      <td>0.08</td>\n",
              "      <td>0.08</td>\n",
              "      <td>0.06</td>\n",
              "      <td>0.09</td>\n",
              "      <td>1.000000</td>\n",
              "      <td>0.000000</td>\n",
              "      <td>0.954545</td>\n",
              "      <td>0.000000</td>\n",
              "      <td>0.045455</td>\n",
              "      <td>61.15</td>\n",
              "      <td>0.527397</td>\n",
              "    </tr>\n",
              "    <tr>\n",
              "      <th>9</th>\n",
              "      <td>The line graph illustrates the guests of four ...</td>\n",
              "      <td>Average (B-C)</td>\n",
              "      <td>9</td>\n",
              "      <td>175</td>\n",
              "      <td>0.09</td>\n",
              "      <td>0.22</td>\n",
              "      <td>0.09</td>\n",
              "      <td>0.04</td>\n",
              "      <td>0.01</td>\n",
              "      <td>0.10</td>\n",
              "      <td>1.000000</td>\n",
              "      <td>0.000000</td>\n",
              "      <td>0.666667</td>\n",
              "      <td>0.000000</td>\n",
              "      <td>0.333333</td>\n",
              "      <td>74.97</td>\n",
              "      <td>0.502857</td>\n",
              "    </tr>\n",
              "    <tr>\n",
              "      <th>10</th>\n",
              "      <td>1 \\nEntrepreneur: In 1998, at the age of eight...</td>\n",
              "      <td>Average (B-C)</td>\n",
              "      <td>32</td>\n",
              "      <td>690</td>\n",
              "      <td>0.09</td>\n",
              "      <td>0.21</td>\n",
              "      <td>0.09</td>\n",
              "      <td>0.04</td>\n",
              "      <td>0.04</td>\n",
              "      <td>0.13</td>\n",
              "      <td>0.968750</td>\n",
              "      <td>0.781250</td>\n",
              "      <td>0.031250</td>\n",
              "      <td>0.000000</td>\n",
              "      <td>0.187500</td>\n",
              "      <td>62.41</td>\n",
              "      <td>0.491304</td>\n",
              "    </tr>\n",
              "    <tr>\n",
              "      <th>11</th>\n",
              "      <td>I have chosen Canada because of its comprehens...</td>\n",
              "      <td>Average (B-C)</td>\n",
              "      <td>15</td>\n",
              "      <td>327</td>\n",
              "      <td>0.09</td>\n",
              "      <td>0.22</td>\n",
              "      <td>0.08</td>\n",
              "      <td>0.03</td>\n",
              "      <td>0.06</td>\n",
              "      <td>0.07</td>\n",
              "      <td>0.933333</td>\n",
              "      <td>0.866667</td>\n",
              "      <td>0.000000</td>\n",
              "      <td>0.066667</td>\n",
              "      <td>0.066667</td>\n",
              "      <td>63.42</td>\n",
              "      <td>0.464832</td>\n",
              "    </tr>\n",
              "    <tr>\n",
              "      <th>12</th>\n",
              "      <td>The give line graph compares the four differen...</td>\n",
              "      <td>Average (B-C)</td>\n",
              "      <td>9</td>\n",
              "      <td>253</td>\n",
              "      <td>0.09</td>\n",
              "      <td>0.15</td>\n",
              "      <td>0.03</td>\n",
              "      <td>0.07</td>\n",
              "      <td>0.01</td>\n",
              "      <td>0.08</td>\n",
              "      <td>0.777778</td>\n",
              "      <td>0.000000</td>\n",
              "      <td>0.555556</td>\n",
              "      <td>0.000000</td>\n",
              "      <td>0.444444</td>\n",
              "      <td>63.63</td>\n",
              "      <td>0.387352</td>\n",
              "    </tr>\n",
              "    <tr>\n",
              "      <th>13</th>\n",
              "      <td>As everyone has some memorable event in the ye...</td>\n",
              "      <td>Bad (D-F)</td>\n",
              "      <td>14</td>\n",
              "      <td>234</td>\n",
              "      <td>0.09</td>\n",
              "      <td>0.17</td>\n",
              "      <td>0.06</td>\n",
              "      <td>0.04</td>\n",
              "      <td>0.09</td>\n",
              "      <td>0.17</td>\n",
              "      <td>0.928571</td>\n",
              "      <td>0.357143</td>\n",
              "      <td>0.642857</td>\n",
              "      <td>0.000000</td>\n",
              "      <td>0.000000</td>\n",
              "      <td>86.36</td>\n",
              "      <td>0.602564</td>\n",
              "    </tr>\n",
              "    <tr>\n",
              "      <th>14</th>\n",
              "      <td>For me, a great participant is an active produ...</td>\n",
              "      <td>Bad (D-F)</td>\n",
              "      <td>26</td>\n",
              "      <td>547</td>\n",
              "      <td>0.09</td>\n",
              "      <td>0.20</td>\n",
              "      <td>0.08</td>\n",
              "      <td>0.04</td>\n",
              "      <td>0.06</td>\n",
              "      <td>0.10</td>\n",
              "      <td>1.000000</td>\n",
              "      <td>0.807692</td>\n",
              "      <td>0.000000</td>\n",
              "      <td>0.115385</td>\n",
              "      <td>0.076923</td>\n",
              "      <td>56.60</td>\n",
              "      <td>0.460695</td>\n",
              "    </tr>\n",
              "    <tr>\n",
              "      <th>15</th>\n",
              "      <td>\"Who am I?\" i HAVE THE ANSWER\\n By the virtue ...</td>\n",
              "      <td>Bad (D-F)</td>\n",
              "      <td>41</td>\n",
              "      <td>649</td>\n",
              "      <td>0.09</td>\n",
              "      <td>0.18</td>\n",
              "      <td>0.07</td>\n",
              "      <td>0.04</td>\n",
              "      <td>0.08</td>\n",
              "      <td>0.14</td>\n",
              "      <td>1.000000</td>\n",
              "      <td>0.512195</td>\n",
              "      <td>0.000000</td>\n",
              "      <td>0.097561</td>\n",
              "      <td>0.390244</td>\n",
              "      <td>84.83</td>\n",
              "      <td>0.420647</td>\n",
              "    </tr>\n",
              "    <tr>\n",
              "      <th>16</th>\n",
              "      <td>The illustration given depicts the landscape t...</td>\n",
              "      <td>Average (B-C)</td>\n",
              "      <td>10</td>\n",
              "      <td>204</td>\n",
              "      <td>0.09</td>\n",
              "      <td>0.27</td>\n",
              "      <td>0.06</td>\n",
              "      <td>0.02</td>\n",
              "      <td>0.01</td>\n",
              "      <td>0.09</td>\n",
              "      <td>1.000000</td>\n",
              "      <td>0.000000</td>\n",
              "      <td>0.900000</td>\n",
              "      <td>0.000000</td>\n",
              "      <td>0.100000</td>\n",
              "      <td>71.97</td>\n",
              "      <td>0.549020</td>\n",
              "    </tr>\n",
              "    <tr>\n",
              "      <th>17</th>\n",
              "      <td>UC Davis is the best fit for me because it is ...</td>\n",
              "      <td>Bad (D-F)</td>\n",
              "      <td>9</td>\n",
              "      <td>214</td>\n",
              "      <td>0.09</td>\n",
              "      <td>0.17</td>\n",
              "      <td>0.09</td>\n",
              "      <td>0.05</td>\n",
              "      <td>0.06</td>\n",
              "      <td>0.08</td>\n",
              "      <td>1.000000</td>\n",
              "      <td>0.000000</td>\n",
              "      <td>1.000000</td>\n",
              "      <td>0.000000</td>\n",
              "      <td>0.000000</td>\n",
              "      <td>54.64</td>\n",
              "      <td>0.593458</td>\n",
              "    </tr>\n",
              "    <tr>\n",
              "      <th>18</th>\n",
              "      <td>Abhik Basu Jolly…Abhik B. Jolly…A—When I repea...</td>\n",
              "      <td>Average (B-C)</td>\n",
              "      <td>42</td>\n",
              "      <td>771</td>\n",
              "      <td>0.09</td>\n",
              "      <td>0.17</td>\n",
              "      <td>0.06</td>\n",
              "      <td>0.06</td>\n",
              "      <td>0.07</td>\n",
              "      <td>0.16</td>\n",
              "      <td>0.952381</td>\n",
              "      <td>0.642857</td>\n",
              "      <td>0.309524</td>\n",
              "      <td>0.000000</td>\n",
              "      <td>0.047619</td>\n",
              "      <td>75.95</td>\n",
              "      <td>0.464332</td>\n",
              "    </tr>\n",
              "    <tr>\n",
              "      <th>19</th>\n",
              "      <td>It was an ideal day for a wedding. The sun was...</td>\n",
              "      <td>Average (B-C)</td>\n",
              "      <td>32</td>\n",
              "      <td>688</td>\n",
              "      <td>0.09</td>\n",
              "      <td>0.21</td>\n",
              "      <td>0.07</td>\n",
              "      <td>0.04</td>\n",
              "      <td>0.07</td>\n",
              "      <td>0.09</td>\n",
              "      <td>0.906250</td>\n",
              "      <td>0.906250</td>\n",
              "      <td>0.000000</td>\n",
              "      <td>0.062500</td>\n",
              "      <td>0.031250</td>\n",
              "      <td>72.42</td>\n",
              "      <td>0.437500</td>\n",
              "    </tr>\n",
              "    <tr>\n",
              "      <th>20</th>\n",
              "      <td>My violin’s name is Philip. He’s not as expens...</td>\n",
              "      <td>Average (B-C)</td>\n",
              "      <td>20</td>\n",
              "      <td>522</td>\n",
              "      <td>0.09</td>\n",
              "      <td>0.16</td>\n",
              "      <td>0.06</td>\n",
              "      <td>0.08</td>\n",
              "      <td>0.06</td>\n",
              "      <td>0.13</td>\n",
              "      <td>0.900000</td>\n",
              "      <td>0.400000</td>\n",
              "      <td>0.000000</td>\n",
              "      <td>0.550000</td>\n",
              "      <td>0.050000</td>\n",
              "      <td>72.37</td>\n",
              "      <td>0.448276</td>\n",
              "    </tr>\n",
              "    <tr>\n",
              "      <th>21</th>\n",
              "      <td>In this day and age , the delivery for a varie...</td>\n",
              "      <td>Bad (D-F)</td>\n",
              "      <td>17</td>\n",
              "      <td>444</td>\n",
              "      <td>0.09</td>\n",
              "      <td>0.25</td>\n",
              "      <td>0.09</td>\n",
              "      <td>0.05</td>\n",
              "      <td>0.03</td>\n",
              "      <td>0.08</td>\n",
              "      <td>0.823529</td>\n",
              "      <td>0.588235</td>\n",
              "      <td>0.000000</td>\n",
              "      <td>0.176471</td>\n",
              "      <td>0.235294</td>\n",
              "      <td>56.65</td>\n",
              "      <td>0.463964</td>\n",
              "    </tr>\n",
              "    <tr>\n",
              "      <th>22</th>\n",
              "      <td>With a hiss and a piercing squeal, the doors s...</td>\n",
              "      <td>Bad (D-F)</td>\n",
              "      <td>16</td>\n",
              "      <td>301</td>\n",
              "      <td>0.09</td>\n",
              "      <td>0.21</td>\n",
              "      <td>0.08</td>\n",
              "      <td>0.05</td>\n",
              "      <td>0.04</td>\n",
              "      <td>0.13</td>\n",
              "      <td>0.937500</td>\n",
              "      <td>0.812500</td>\n",
              "      <td>0.062500</td>\n",
              "      <td>0.000000</td>\n",
              "      <td>0.125000</td>\n",
              "      <td>65.02</td>\n",
              "      <td>0.594684</td>\n",
              "    </tr>\n",
              "    <tr>\n",
              "      <th>23</th>\n",
              "      <td>Franklin Delano Roosevelt once said, \"The only...</td>\n",
              "      <td>Bad (D-F)</td>\n",
              "      <td>21</td>\n",
              "      <td>669</td>\n",
              "      <td>0.09</td>\n",
              "      <td>0.18</td>\n",
              "      <td>0.10</td>\n",
              "      <td>0.03</td>\n",
              "      <td>0.02</td>\n",
              "      <td>0.11</td>\n",
              "      <td>0.952381</td>\n",
              "      <td>0.047619</td>\n",
              "      <td>0.666667</td>\n",
              "      <td>0.000000</td>\n",
              "      <td>0.285714</td>\n",
              "      <td>58.26</td>\n",
              "      <td>0.460389</td>\n",
              "    </tr>\n",
              "    <tr>\n",
              "      <th>24</th>\n",
              "      <td>I first considered applying to Berry College w...</td>\n",
              "      <td>Excellent (A+)</td>\n",
              "      <td>20</td>\n",
              "      <td>469</td>\n",
              "      <td>0.09</td>\n",
              "      <td>0.25</td>\n",
              "      <td>0.08</td>\n",
              "      <td>0.03</td>\n",
              "      <td>0.06</td>\n",
              "      <td>0.16</td>\n",
              "      <td>1.000000</td>\n",
              "      <td>0.700000</td>\n",
              "      <td>0.000000</td>\n",
              "      <td>0.200000</td>\n",
              "      <td>0.100000</td>\n",
              "      <td>61.84</td>\n",
              "      <td>0.494670</td>\n",
              "    </tr>\n",
              "    <tr>\n",
              "      <th>25</th>\n",
              "      <td>The history of politics reads somewhat like a ...</td>\n",
              "      <td>Bad (D-F)</td>\n",
              "      <td>18</td>\n",
              "      <td>283</td>\n",
              "      <td>0.09</td>\n",
              "      <td>0.20</td>\n",
              "      <td>0.07</td>\n",
              "      <td>0.05</td>\n",
              "      <td>0.06</td>\n",
              "      <td>0.12</td>\n",
              "      <td>1.000000</td>\n",
              "      <td>0.444444</td>\n",
              "      <td>0.000000</td>\n",
              "      <td>0.111111</td>\n",
              "      <td>0.444444</td>\n",
              "      <td>68.44</td>\n",
              "      <td>0.600707</td>\n",
              "    </tr>\n",
              "    <tr>\n",
              "      <th>26</th>\n",
              "      <td>Fourteen: that is the age I was when my brothe...</td>\n",
              "      <td>Bad (D-F)</td>\n",
              "      <td>12</td>\n",
              "      <td>279</td>\n",
              "      <td>0.09</td>\n",
              "      <td>0.19</td>\n",
              "      <td>0.10</td>\n",
              "      <td>0.06</td>\n",
              "      <td>0.06</td>\n",
              "      <td>0.13</td>\n",
              "      <td>1.000000</td>\n",
              "      <td>0.666667</td>\n",
              "      <td>0.000000</td>\n",
              "      <td>0.000000</td>\n",
              "      <td>0.333333</td>\n",
              "      <td>55.24</td>\n",
              "      <td>0.602151</td>\n",
              "    </tr>\n",
              "    <tr>\n",
              "      <th>27</th>\n",
              "      <td>It is October 9, and a multitude of high schoo...</td>\n",
              "      <td>Bad (D-F)</td>\n",
              "      <td>39</td>\n",
              "      <td>558</td>\n",
              "      <td>0.09</td>\n",
              "      <td>0.20</td>\n",
              "      <td>0.05</td>\n",
              "      <td>0.05</td>\n",
              "      <td>0.09</td>\n",
              "      <td>0.13</td>\n",
              "      <td>1.000000</td>\n",
              "      <td>0.717949</td>\n",
              "      <td>0.000000</td>\n",
              "      <td>0.282051</td>\n",
              "      <td>0.000000</td>\n",
              "      <td>74.76</td>\n",
              "      <td>0.491039</td>\n",
              "    </tr>\n",
              "    <tr>\n",
              "      <th>28</th>\n",
              "      <td>Since graduating from college, I have played v...</td>\n",
              "      <td>Average (B-C)</td>\n",
              "      <td>21</td>\n",
              "      <td>347</td>\n",
              "      <td>0.10</td>\n",
              "      <td>0.18</td>\n",
              "      <td>0.09</td>\n",
              "      <td>0.02</td>\n",
              "      <td>0.07</td>\n",
              "      <td>0.13</td>\n",
              "      <td>0.952381</td>\n",
              "      <td>0.190476</td>\n",
              "      <td>0.761905</td>\n",
              "      <td>0.000000</td>\n",
              "      <td>0.047619</td>\n",
              "      <td>65.62</td>\n",
              "      <td>0.507205</td>\n",
              "    </tr>\n",
              "    <tr>\n",
              "      <th>29</th>\n",
              "      <td>THIS PAST SUMMER I HAD THE opportunity to part...</td>\n",
              "      <td>Average (B-C)</td>\n",
              "      <td>23</td>\n",
              "      <td>544</td>\n",
              "      <td>0.10</td>\n",
              "      <td>0.20</td>\n",
              "      <td>0.06</td>\n",
              "      <td>0.05</td>\n",
              "      <td>0.05</td>\n",
              "      <td>0.12</td>\n",
              "      <td>0.869565</td>\n",
              "      <td>0.869565</td>\n",
              "      <td>0.000000</td>\n",
              "      <td>0.000000</td>\n",
              "      <td>0.130435</td>\n",
              "      <td>65.39</td>\n",
              "      <td>0.503676</td>\n",
              "    </tr>\n",
              "  </tbody>\n",
              "</table>\n",
              "</div>"
            ],
            "text/plain": [
              "                                           Essay Text  ... UniqWordDensity\n",
              "0   The provided line graph depicts the marriages ...  ...        0.361233\n",
              "1   The pie chart illustrates the main causes of l...  ...        0.396761\n",
              "2   Though a landlocked nation, Nepal possesses a ...  ...        0.629630\n",
              "3   The line graph represented how many units of e...  ...        0.460000\n",
              "4   Throughout my high school career, I have recei...  ...        0.559524\n",
              "5   I may seem to be a little bit unexpected, a ta...  ...        0.531579\n",
              "6   My most recent work experience at B Ltd was by...  ...        0.639640\n",
              "7   The community of honor guard members in Taiwan...  ...        0.462633\n",
              "8   Physical sciences, particularly physics cosmol...  ...        0.527397\n",
              "9   The line graph illustrates the guests of four ...  ...        0.502857\n",
              "10  1 \\nEntrepreneur: In 1998, at the age of eight...  ...        0.491304\n",
              "11  I have chosen Canada because of its comprehens...  ...        0.464832\n",
              "12  The give line graph compares the four differen...  ...        0.387352\n",
              "13  As everyone has some memorable event in the ye...  ...        0.602564\n",
              "14  For me, a great participant is an active produ...  ...        0.460695\n",
              "15  \"Who am I?\" i HAVE THE ANSWER\\n By the virtue ...  ...        0.420647\n",
              "16  The illustration given depicts the landscape t...  ...        0.549020\n",
              "17  UC Davis is the best fit for me because it is ...  ...        0.593458\n",
              "18  Abhik Basu Jolly…Abhik B. Jolly…A—When I repea...  ...        0.464332\n",
              "19  It was an ideal day for a wedding. The sun was...  ...        0.437500\n",
              "20  My violin’s name is Philip. He’s not as expens...  ...        0.448276\n",
              "21  In this day and age , the delivery for a varie...  ...        0.463964\n",
              "22  With a hiss and a piercing squeal, the doors s...  ...        0.594684\n",
              "23  Franklin Delano Roosevelt once said, \"The only...  ...        0.460389\n",
              "24  I first considered applying to Berry College w...  ...        0.494670\n",
              "25  The history of politics reads somewhat like a ...  ...        0.600707\n",
              "26  Fourteen: that is the age I was when my brothe...  ...        0.602151\n",
              "27  It is October 9, and a multitude of high schoo...  ...        0.491039\n",
              "28  Since graduating from college, I have played v...  ...        0.507205\n",
              "29  THIS PAST SUMMER I HAD THE opportunity to part...  ...        0.503676\n",
              "\n",
              "[30 rows x 17 columns]"
            ]
          },
          "metadata": {},
          "execution_count": 338
        }
      ]
    },
    {
      "cell_type": "markdown",
      "source": [
        "## **Number of 'Unique Words' Feature**"
      ],
      "metadata": {
        "id": "tmaT8BojZeMv"
      }
    },
    {
      "cell_type": "code",
      "source": [
        "#stop_words = set(stopwords.words('english'))\n",
        "\n",
        "nlp = spacy.load(\"en_core_web_sm\")\n",
        "\n",
        "\n",
        "def non_stop_words(essay):\n",
        "  word_tokens = word_tokenize(essay)\n",
        "  #filtered_sentence = [w for w in word_tokens if not w.lower() in stop_words]\n",
        "  filtered_sentence = [w for w in word_tokens]\n",
        "  str = ' '.join(filtered_sentence)\n",
        "  mylist = re.findall(r'[^!?.,-;]+',str) # To remove punctuations\n",
        "  str = ''.join(mylist)\n",
        "  return str,len(filtered_sentence)\n",
        "\n",
        "def word_count(essay):\n",
        "  out = []\n",
        "  seen = set()\n",
        "  string,length = non_stop_words(essay)\n",
        "  # print(essay)\n",
        "  # print()\n",
        "  # print(string)\n",
        "  # print()\n",
        "  # print(length)\n",
        "  # print()\n",
        "  doc = nlp(string)\n",
        "  for word in doc:\n",
        "    if word.text not in seen:\n",
        "      if word.text != ' ':\n",
        "        out.append(word)\n",
        "        seen.add(word.text)\n",
        "  #print(len(seen))\n",
        "  return (len(seen)/length)   # Unique words density\n",
        "  #return (len(seen))   # Unique words set\n",
        "\n",
        "\n",
        "df_essays['UniqWordDensity']  = df_essays.apply(lambda x: word_count(x['Essay Text']), axis=1)"
      ],
      "metadata": {
        "id": "87a-XmO49-Ho"
      },
      "execution_count": 335,
      "outputs": []
    },
    {
      "cell_type": "code",
      "source": [
        "df_essays.head()\n",
        "#print(df_test['Essay Text'].values)"
      ],
      "metadata": {
        "colab": {
          "base_uri": "https://localhost:8080/",
          "height": 643
        },
        "id": "QflsXi49_f4W",
        "outputId": "43619567-e8e0-47c7-cce6-c9bccfb934d4"
      },
      "execution_count": 238,
      "outputs": [
        {
          "output_type": "execute_result",
          "data": {
            "text/html": [
              "<div>\n",
              "<style scoped>\n",
              "    .dataframe tbody tr th:only-of-type {\n",
              "        vertical-align: middle;\n",
              "    }\n",
              "\n",
              "    .dataframe tbody tr th {\n",
              "        vertical-align: top;\n",
              "    }\n",
              "\n",
              "    .dataframe thead th {\n",
              "        text-align: right;\n",
              "    }\n",
              "</style>\n",
              "<table border=\"1\" class=\"dataframe\">\n",
              "  <thead>\n",
              "    <tr style=\"text-align: right;\">\n",
              "      <th></th>\n",
              "      <th>Essay Text</th>\n",
              "      <th>Essay Grading</th>\n",
              "      <th>SentenceCount</th>\n",
              "      <th>WordCount</th>\n",
              "      <th>VerbCount</th>\n",
              "      <th>NounCount</th>\n",
              "      <th>AdjCount</th>\n",
              "      <th>AdverbCount</th>\n",
              "      <th>PronounCount</th>\n",
              "      <th>PunctCount</th>\n",
              "      <th>NumberofPassiveVoice</th>\n",
              "      <th>NumberofActiveVoice</th>\n",
              "      <th>NumComplexComp</th>\n",
              "      <th>NumComplex</th>\n",
              "      <th>NumCompund</th>\n",
              "      <th>NumSimple</th>\n",
              "      <th>FleschScore</th>\n",
              "      <th>UniqWordDensity</th>\n",
              "    </tr>\n",
              "  </thead>\n",
              "  <tbody>\n",
              "    <tr>\n",
              "      <th>0</th>\n",
              "      <td>The provided line graph depicts the marriages ...</td>\n",
              "      <td>Average (B-C)</td>\n",
              "      <td>10</td>\n",
              "      <td>133</td>\n",
              "      <td>0.10</td>\n",
              "      <td>0.33</td>\n",
              "      <td>0.12</td>\n",
              "      <td>0.10</td>\n",
              "      <td>0.02</td>\n",
              "      <td>0.15</td>\n",
              "      <td>0.000000</td>\n",
              "      <td>1.000000</td>\n",
              "      <td>0.10</td>\n",
              "      <td>0.800000</td>\n",
              "      <td>0.0</td>\n",
              "      <td>0.100000</td>\n",
              "      <td>74.66</td>\n",
              "      <td>0.436090</td>\n",
              "    </tr>\n",
              "    <tr>\n",
              "      <th>1</th>\n",
              "      <td>The pie chart illustrates the main causes of l...</td>\n",
              "      <td>Average (B-C)</td>\n",
              "      <td>8</td>\n",
              "      <td>154</td>\n",
              "      <td>0.11</td>\n",
              "      <td>0.42</td>\n",
              "      <td>0.10</td>\n",
              "      <td>0.08</td>\n",
              "      <td>0.01</td>\n",
              "      <td>0.23</td>\n",
              "      <td>0.000000</td>\n",
              "      <td>1.000000</td>\n",
              "      <td>0.25</td>\n",
              "      <td>0.125000</td>\n",
              "      <td>0.0</td>\n",
              "      <td>0.625000</td>\n",
              "      <td>53.25</td>\n",
              "      <td>0.428571</td>\n",
              "    </tr>\n",
              "    <tr>\n",
              "      <th>2</th>\n",
              "      <td>My most recent work experience at B Ltd was by...</td>\n",
              "      <td>Bad (D-F)</td>\n",
              "      <td>6</td>\n",
              "      <td>142</td>\n",
              "      <td>0.12</td>\n",
              "      <td>0.39</td>\n",
              "      <td>0.13</td>\n",
              "      <td>0.05</td>\n",
              "      <td>0.04</td>\n",
              "      <td>0.14</td>\n",
              "      <td>0.000000</td>\n",
              "      <td>1.000000</td>\n",
              "      <td>0.00</td>\n",
              "      <td>0.833333</td>\n",
              "      <td>0.0</td>\n",
              "      <td>0.166667</td>\n",
              "      <td>18.72</td>\n",
              "      <td>0.753521</td>\n",
              "    </tr>\n",
              "    <tr>\n",
              "      <th>3</th>\n",
              "      <td>The line graph represented how many units of e...</td>\n",
              "      <td>Average (B-C)</td>\n",
              "      <td>6</td>\n",
              "      <td>130</td>\n",
              "      <td>0.12</td>\n",
              "      <td>0.36</td>\n",
              "      <td>0.08</td>\n",
              "      <td>0.05</td>\n",
              "      <td>0.02</td>\n",
              "      <td>0.15</td>\n",
              "      <td>0.166667</td>\n",
              "      <td>0.833333</td>\n",
              "      <td>0.00</td>\n",
              "      <td>0.666667</td>\n",
              "      <td>0.0</td>\n",
              "      <td>0.333333</td>\n",
              "      <td>56.16</td>\n",
              "      <td>0.515385</td>\n",
              "    </tr>\n",
              "    <tr>\n",
              "      <th>4</th>\n",
              "      <td>Though a landlocked nation, Nepal possesses a ...</td>\n",
              "      <td>Bad (D-F)</td>\n",
              "      <td>10</td>\n",
              "      <td>173</td>\n",
              "      <td>0.13</td>\n",
              "      <td>0.37</td>\n",
              "      <td>0.24</td>\n",
              "      <td>0.05</td>\n",
              "      <td>0.03</td>\n",
              "      <td>0.16</td>\n",
              "      <td>0.100000</td>\n",
              "      <td>0.900000</td>\n",
              "      <td>0.00</td>\n",
              "      <td>1.000000</td>\n",
              "      <td>0.0</td>\n",
              "      <td>0.000000</td>\n",
              "      <td>28.67</td>\n",
              "      <td>0.786127</td>\n",
              "    </tr>\n",
              "  </tbody>\n",
              "</table>\n",
              "</div>"
            ],
            "text/plain": [
              "                                          Essay Text  ... UniqWordDensity\n",
              "0  The provided line graph depicts the marriages ...  ...        0.436090\n",
              "1  The pie chart illustrates the main causes of l...  ...        0.428571\n",
              "2  My most recent work experience at B Ltd was by...  ...        0.753521\n",
              "3  The line graph represented how many units of e...  ...        0.515385\n",
              "4  Though a landlocked nation, Nepal possesses a ...  ...        0.786127\n",
              "\n",
              "[5 rows x 18 columns]"
            ]
          },
          "metadata": {},
          "execution_count": 238
        }
      ]
    },
    {
      "cell_type": "code",
      "source": [
        "df_essays.head()"
      ],
      "metadata": {
        "colab": {
          "base_uri": "https://localhost:8080/",
          "height": 660
        },
        "id": "UkYmwtwqZonb",
        "outputId": "bc088019-eb20-4945-c721-950b4bb6b694"
      },
      "execution_count": 337,
      "outputs": [
        {
          "output_type": "execute_result",
          "data": {
            "text/html": [
              "<div>\n",
              "<style scoped>\n",
              "    .dataframe tbody tr th:only-of-type {\n",
              "        vertical-align: middle;\n",
              "    }\n",
              "\n",
              "    .dataframe tbody tr th {\n",
              "        vertical-align: top;\n",
              "    }\n",
              "\n",
              "    .dataframe thead th {\n",
              "        text-align: right;\n",
              "    }\n",
              "</style>\n",
              "<table border=\"1\" class=\"dataframe\">\n",
              "  <thead>\n",
              "    <tr style=\"text-align: right;\">\n",
              "      <th></th>\n",
              "      <th>Essay Text</th>\n",
              "      <th>Essay Grading</th>\n",
              "      <th>SentenceCount</th>\n",
              "      <th>WordCount</th>\n",
              "      <th>VerbCount</th>\n",
              "      <th>NounCount</th>\n",
              "      <th>AdjCount</th>\n",
              "      <th>AdverbCount</th>\n",
              "      <th>PronounCount</th>\n",
              "      <th>PunctCount</th>\n",
              "      <th>NumberofActiveVoice</th>\n",
              "      <th>NumComplexComp</th>\n",
              "      <th>NumComplex</th>\n",
              "      <th>NumCompund</th>\n",
              "      <th>NumSimple</th>\n",
              "      <th>FleschScore</th>\n",
              "      <th>UniqWordDensity</th>\n",
              "    </tr>\n",
              "  </thead>\n",
              "  <tbody>\n",
              "    <tr>\n",
              "      <th>0</th>\n",
              "      <td>The provided line graph depicts the marriages ...</td>\n",
              "      <td>Average (B-C)</td>\n",
              "      <td>10</td>\n",
              "      <td>227</td>\n",
              "      <td>0.06</td>\n",
              "      <td>0.19</td>\n",
              "      <td>0.07</td>\n",
              "      <td>0.06</td>\n",
              "      <td>0.01</td>\n",
              "      <td>0.09</td>\n",
              "      <td>1.000000</td>\n",
              "      <td>0.10</td>\n",
              "      <td>0.800000</td>\n",
              "      <td>0.0</td>\n",
              "      <td>0.100000</td>\n",
              "      <td>74.66</td>\n",
              "      <td>0.361233</td>\n",
              "    </tr>\n",
              "    <tr>\n",
              "      <th>1</th>\n",
              "      <td>The pie chart illustrates the main causes of l...</td>\n",
              "      <td>Average (B-C)</td>\n",
              "      <td>8</td>\n",
              "      <td>247</td>\n",
              "      <td>0.07</td>\n",
              "      <td>0.26</td>\n",
              "      <td>0.06</td>\n",
              "      <td>0.05</td>\n",
              "      <td>0.01</td>\n",
              "      <td>0.14</td>\n",
              "      <td>1.000000</td>\n",
              "      <td>0.25</td>\n",
              "      <td>0.125000</td>\n",
              "      <td>0.0</td>\n",
              "      <td>0.625000</td>\n",
              "      <td>53.25</td>\n",
              "      <td>0.396761</td>\n",
              "    </tr>\n",
              "    <tr>\n",
              "      <th>2</th>\n",
              "      <td>Though a landlocked nation, Nepal possesses a ...</td>\n",
              "      <td>Bad (D-F)</td>\n",
              "      <td>10</td>\n",
              "      <td>270</td>\n",
              "      <td>0.08</td>\n",
              "      <td>0.24</td>\n",
              "      <td>0.15</td>\n",
              "      <td>0.03</td>\n",
              "      <td>0.02</td>\n",
              "      <td>0.10</td>\n",
              "      <td>0.900000</td>\n",
              "      <td>0.00</td>\n",
              "      <td>1.000000</td>\n",
              "      <td>0.0</td>\n",
              "      <td>0.000000</td>\n",
              "      <td>28.67</td>\n",
              "      <td>0.629630</td>\n",
              "    </tr>\n",
              "    <tr>\n",
              "      <th>3</th>\n",
              "      <td>The line graph represented how many units of e...</td>\n",
              "      <td>Average (B-C)</td>\n",
              "      <td>6</td>\n",
              "      <td>200</td>\n",
              "      <td>0.08</td>\n",
              "      <td>0.23</td>\n",
              "      <td>0.06</td>\n",
              "      <td>0.04</td>\n",
              "      <td>0.01</td>\n",
              "      <td>0.10</td>\n",
              "      <td>0.833333</td>\n",
              "      <td>0.00</td>\n",
              "      <td>0.666667</td>\n",
              "      <td>0.0</td>\n",
              "      <td>0.333333</td>\n",
              "      <td>56.16</td>\n",
              "      <td>0.460000</td>\n",
              "    </tr>\n",
              "    <tr>\n",
              "      <th>4</th>\n",
              "      <td>Throughout my high school career, I have recei...</td>\n",
              "      <td>Average (B-C)</td>\n",
              "      <td>10</td>\n",
              "      <td>252</td>\n",
              "      <td>0.08</td>\n",
              "      <td>0.19</td>\n",
              "      <td>0.06</td>\n",
              "      <td>0.03</td>\n",
              "      <td>0.07</td>\n",
              "      <td>0.10</td>\n",
              "      <td>0.800000</td>\n",
              "      <td>0.10</td>\n",
              "      <td>0.000000</td>\n",
              "      <td>0.0</td>\n",
              "      <td>0.900000</td>\n",
              "      <td>51.76</td>\n",
              "      <td>0.559524</td>\n",
              "    </tr>\n",
              "  </tbody>\n",
              "</table>\n",
              "</div>"
            ],
            "text/plain": [
              "                                          Essay Text  ... UniqWordDensity\n",
              "0  The provided line graph depicts the marriages ...  ...        0.361233\n",
              "1  The pie chart illustrates the main causes of l...  ...        0.396761\n",
              "2  Though a landlocked nation, Nepal possesses a ...  ...        0.629630\n",
              "3  The line graph represented how many units of e...  ...        0.460000\n",
              "4  Throughout my high school career, I have recei...  ...        0.559524\n",
              "\n",
              "[5 rows x 17 columns]"
            ]
          },
          "metadata": {},
          "execution_count": 337
        }
      ]
    },
    {
      "cell_type": "markdown",
      "source": [
        "## **Using TfIdf Vectorizer**\n",
        "\n",
        "###Spacy use is limited to 'Text Preprocessing' but not into 'Vectorization' or training.\n",
        "\n",
        "### Next level of sophistication can be built by converting each word in the mail into its numerical value. We call this a 'word vectors'.\n",
        "\n",
        "## **Technique**:\n",
        "### An \"*inverse document frequency factor*\" is incorporated, which diminishes the weight of terms that occur very frequently in the document set and \t       increases the weight of the terms that occur rarely.\n",
        "\n",
        "### This technique is implemented using **TfIdf Vectorizer** which also creates a 'DTM' matrix . However, instead of filling up the DTM with the 'token counts' , it calculates 'term frequency inverse document \tfrequency' value for each word (TF-IDF)."
      ],
      "metadata": {
        "id": "95-sX3IwZwa6"
      }
    },
    {
      "cell_type": "code",
      "source": [
        "# Split the data into features and target label\n",
        "y = df_essays['Essay Grading']\n",
        "X = df_essays['Essay Text']\n",
        "\n",
        "y = y.apply(lambda x:2 if x==\"Excellent (A+)\" else 1 if x=='Average (B-C)' else 0)\n",
        "\n",
        "\n",
        "# Import train_test_split\n",
        "\n",
        "# Split the 'features' and 'income' data into training and testing sets\n",
        "X_train, X_test, y_train, y_test = train_test_split(X, \n",
        "                                                    y, \n",
        "                                                    test_size = 0.2, \n",
        "                                                    random_state = 0)\n",
        "\n",
        "# Show the results of the split\n",
        "print(\"Training set has {} samples.\".format(X_train.shape[0]))\n",
        "print(\"Testing set has {} samples.\".format(X_test.shape[0]))\n",
        "\n",
        "# Naïve Bayes:\n",
        "text_clf_nb = Pipeline([('tfidf', TfidfVectorizer()),\n",
        "                     ('clf', MultinomialNB()),\n",
        "])\n",
        "text_clf_nb.fit(X_train, y_train)\n",
        "\n",
        "y_train_pred = text_clf_nb.predict(X_train)\n",
        "y_test_pred = text_clf_nb.predict(X_test)\n",
        "\n",
        "# # Calculate the accuracy\n",
        "train_accuracy = accuracy_score(y_train, y_train_pred)\n",
        "test_accuracy = accuracy_score(y_test, y_test_pred)\n",
        "print('The training accuracy is', train_accuracy)\n",
        "print('The test accuracy is', test_accuracy)\n",
        "print('F1 score: ', format(f1_score(y_test,y_test_pred,average='micro')))\n",
        "confusion_matrix(y_test, y_test_pred)"
      ],
      "metadata": {
        "colab": {
          "base_uri": "https://localhost:8080/"
        },
        "id": "kInX29u1NF9_",
        "outputId": "ff9f9019-a1df-456d-cc66-48e413c50dd2"
      },
      "execution_count": 339,
      "outputs": [
        {
          "output_type": "stream",
          "name": "stdout",
          "text": [
            "Training set has 828 samples.\n",
            "Testing set has 208 samples.\n",
            "The training accuracy is 0.6473429951690821\n",
            "The test accuracy is 0.4230769230769231\n",
            "F1 score:  0.4230769230769231\n"
          ]
        },
        {
          "output_type": "execute_result",
          "data": {
            "text/plain": [
              "array([[18, 44,  0],\n",
              "       [ 5, 70,  0],\n",
              "       [ 2, 69,  0]])"
            ]
          },
          "metadata": {},
          "execution_count": 339
        }
      ]
    },
    {
      "cell_type": "markdown",
      "source": [
        "## Below, We will not use **'TfIdfVectorizer'** but will use the features engineered above to do training and predictions."
      ],
      "metadata": {
        "id": "QBKXkVyzbGDu"
      }
    },
    {
      "cell_type": "code",
      "source": [
        "# Split the data into features and target label\n",
        "y = df_essays['Essay Grading']\n",
        "X = df_essays.drop(['Essay Grading','Essay Text'], axis = 1)\n",
        "\n",
        "y = y.apply(lambda x:2 if x==\"Excellent (A+)\" else 1 if x=='Average (B-C)' else 0)\n",
        "\n",
        "# Import train_test_split\n",
        "\n",
        "# Split the 'features' and 'income' data into training and testing sets\n",
        "X_train, X_test, y_train, y_test = train_test_split(X, \n",
        "                                                    y, \n",
        "                                                    test_size = 0.2, \n",
        "                                                    random_state = 0)\n",
        "\n",
        "# Show the results of the split\n",
        "print(\"Training set has {} samples.\".format(X_train.shape[0]))\n",
        "print(\"Testing set has {} samples.\".format(X_test.shape[0]))\n",
        "\n",
        "model = SVC(kernel='rbf', gamma=1,random_state = 39,probability=True)\n",
        "model.fit(X_train, y_train)\n",
        "# # Making predictions\n",
        "y_train_pred = model.predict(X_train)\n",
        "y_test_pred = model.predict(X_test)\n",
        "\n",
        "# Calculate the accuracy\n",
        "train_accuracy = accuracy_score(y_train, y_train_pred)\n",
        "test_accuracy = accuracy_score(y_test, y_test_pred)\n",
        "print('The training accuracy is', train_accuracy)\n",
        "print('The test accuracy is', test_accuracy)\n",
        "print('F1 score: ', format(f1_score(y_test,y_test_pred,average='micro')))\n",
        "confusion_matrix(y_test, y_test_pred)"
      ],
      "metadata": {
        "colab": {
          "base_uri": "https://localhost:8080/"
        },
        "id": "jSjdGFHrarkS",
        "outputId": "2b59885f-1d83-4105-dc49-b1e09293880c"
      },
      "execution_count": 357,
      "outputs": [
        {
          "output_type": "stream",
          "name": "stdout",
          "text": [
            "Training set has 828 samples.\n",
            "Testing set has 208 samples.\n",
            "The training accuracy is 0.9927536231884058\n",
            "The test accuracy is 0.36538461538461536\n",
            "F1 score:  0.3653846153846153\n"
          ]
        },
        {
          "output_type": "execute_result",
          "data": {
            "text/plain": [
              "array([[ 0, 62,  0],\n",
              "       [ 1, 72,  2],\n",
              "       [ 0, 67,  4]])"
            ]
          },
          "metadata": {},
          "execution_count": 357
        }
      ]
    },
    {
      "cell_type": "code",
      "source": [
        "X_train.head()"
      ],
      "metadata": {
        "colab": {
          "base_uri": "https://localhost:8080/",
          "height": 226
        },
        "id": "C5yCiEDfEAIG",
        "outputId": "72efef17-dee9-46bf-f650-ece35f8a6edc"
      },
      "execution_count": 341,
      "outputs": [
        {
          "output_type": "execute_result",
          "data": {
            "text/html": [
              "<div>\n",
              "<style scoped>\n",
              "    .dataframe tbody tr th:only-of-type {\n",
              "        vertical-align: middle;\n",
              "    }\n",
              "\n",
              "    .dataframe tbody tr th {\n",
              "        vertical-align: top;\n",
              "    }\n",
              "\n",
              "    .dataframe thead th {\n",
              "        text-align: right;\n",
              "    }\n",
              "</style>\n",
              "<table border=\"1\" class=\"dataframe\">\n",
              "  <thead>\n",
              "    <tr style=\"text-align: right;\">\n",
              "      <th></th>\n",
              "      <th>SentenceCount</th>\n",
              "      <th>WordCount</th>\n",
              "      <th>VerbCount</th>\n",
              "      <th>NounCount</th>\n",
              "      <th>AdjCount</th>\n",
              "      <th>AdverbCount</th>\n",
              "      <th>PronounCount</th>\n",
              "      <th>PunctCount</th>\n",
              "      <th>NumberofActiveVoice</th>\n",
              "      <th>NumComplexComp</th>\n",
              "      <th>NumComplex</th>\n",
              "      <th>NumCompund</th>\n",
              "      <th>NumSimple</th>\n",
              "      <th>FleschScore</th>\n",
              "      <th>UniqWordDensity</th>\n",
              "    </tr>\n",
              "  </thead>\n",
              "  <tbody>\n",
              "    <tr>\n",
              "      <th>658</th>\n",
              "      <td>36</td>\n",
              "      <td>729</td>\n",
              "      <td>0.14</td>\n",
              "      <td>0.22</td>\n",
              "      <td>0.07</td>\n",
              "      <td>0.05</td>\n",
              "      <td>0.05</td>\n",
              "      <td>0.11</td>\n",
              "      <td>0.972222</td>\n",
              "      <td>0.944444</td>\n",
              "      <td>0.000000</td>\n",
              "      <td>0.027778</td>\n",
              "      <td>0.027778</td>\n",
              "      <td>69.98</td>\n",
              "      <td>0.448560</td>\n",
              "    </tr>\n",
              "    <tr>\n",
              "      <th>704</th>\n",
              "      <td>18</td>\n",
              "      <td>342</td>\n",
              "      <td>0.14</td>\n",
              "      <td>0.22</td>\n",
              "      <td>0.10</td>\n",
              "      <td>0.08</td>\n",
              "      <td>0.04</td>\n",
              "      <td>0.11</td>\n",
              "      <td>0.888889</td>\n",
              "      <td>0.888889</td>\n",
              "      <td>0.055556</td>\n",
              "      <td>0.000000</td>\n",
              "      <td>0.055556</td>\n",
              "      <td>69.45</td>\n",
              "      <td>0.514620</td>\n",
              "    </tr>\n",
              "    <tr>\n",
              "      <th>954</th>\n",
              "      <td>23</td>\n",
              "      <td>507</td>\n",
              "      <td>0.16</td>\n",
              "      <td>0.20</td>\n",
              "      <td>0.05</td>\n",
              "      <td>0.04</td>\n",
              "      <td>0.08</td>\n",
              "      <td>0.12</td>\n",
              "      <td>0.913043</td>\n",
              "      <td>0.695652</td>\n",
              "      <td>0.173913</td>\n",
              "      <td>0.000000</td>\n",
              "      <td>0.130435</td>\n",
              "      <td>61.87</td>\n",
              "      <td>0.502959</td>\n",
              "    </tr>\n",
              "    <tr>\n",
              "      <th>800</th>\n",
              "      <td>26</td>\n",
              "      <td>715</td>\n",
              "      <td>0.14</td>\n",
              "      <td>0.19</td>\n",
              "      <td>0.05</td>\n",
              "      <td>0.03</td>\n",
              "      <td>0.09</td>\n",
              "      <td>0.08</td>\n",
              "      <td>1.000000</td>\n",
              "      <td>0.884615</td>\n",
              "      <td>0.076923</td>\n",
              "      <td>0.000000</td>\n",
              "      <td>0.038462</td>\n",
              "      <td>69.66</td>\n",
              "      <td>0.469930</td>\n",
              "    </tr>\n",
              "    <tr>\n",
              "      <th>39</th>\n",
              "      <td>23</td>\n",
              "      <td>558</td>\n",
              "      <td>0.10</td>\n",
              "      <td>0.21</td>\n",
              "      <td>0.08</td>\n",
              "      <td>0.06</td>\n",
              "      <td>0.08</td>\n",
              "      <td>0.11</td>\n",
              "      <td>0.956522</td>\n",
              "      <td>0.478261</td>\n",
              "      <td>0.434783</td>\n",
              "      <td>0.000000</td>\n",
              "      <td>0.086957</td>\n",
              "      <td>67.09</td>\n",
              "      <td>0.494624</td>\n",
              "    </tr>\n",
              "  </tbody>\n",
              "</table>\n",
              "</div>"
            ],
            "text/plain": [
              "     SentenceCount  WordCount  ...  FleschScore  UniqWordDensity\n",
              "658             36        729  ...        69.98         0.448560\n",
              "704             18        342  ...        69.45         0.514620\n",
              "954             23        507  ...        61.87         0.502959\n",
              "800             26        715  ...        69.66         0.469930\n",
              "39              23        558  ...        67.09         0.494624\n",
              "\n",
              "[5 rows x 15 columns]"
            ]
          },
          "metadata": {},
          "execution_count": 341
        }
      ]
    },
    {
      "cell_type": "code",
      "source": [
        "y.value_counts()"
      ],
      "metadata": {
        "colab": {
          "base_uri": "https://localhost:8080/"
        },
        "id": "Go5SJP4V9Cqt",
        "outputId": "c36d9de6-f657-42b1-d31b-e42952dc6781"
      },
      "execution_count": 342,
      "outputs": [
        {
          "output_type": "execute_result",
          "data": {
            "text/plain": [
              "1    401\n",
              "0    347\n",
              "2    288\n",
              "Name: Essay Grading, dtype: int64"
            ]
          },
          "metadata": {},
          "execution_count": 342
        }
      ]
    },
    {
      "cell_type": "code",
      "source": [
        "y.head()"
      ],
      "metadata": {
        "colab": {
          "base_uri": "https://localhost:8080/"
        },
        "id": "SpQNu6Pv7GZu",
        "outputId": "c395a283-055f-4ab4-d25b-235c7147f3cc"
      },
      "execution_count": 255,
      "outputs": [
        {
          "output_type": "execute_result",
          "data": {
            "text/plain": [
              "0    1\n",
              "1    1\n",
              "2    0\n",
              "3    1\n",
              "4    0\n",
              "Name: Essay Grading, dtype: int64"
            ]
          },
          "metadata": {},
          "execution_count": 255
        }
      ]
    },
    {
      "cell_type": "code",
      "source": [
        "# # Split the data into features and target label\n",
        "# y = df_essays['Essay Grading']\n",
        "# X = df_essays.drop(['Essay Grading','Essay Text'], axis = 1)\n",
        "\n",
        "# y = y.apply(lambda x:2 if x==\"Excellent (A+)\" else 1 if x=='Average (B-C)' else 0)\n",
        "# X.head()"
      ],
      "metadata": {
        "id": "p8IKMHnc1NrO"
      },
      "execution_count": null,
      "outputs": []
    },
    {
      "cell_type": "code",
      "source": [
        "# # Import train_test_split\n",
        "\n",
        "# # Split the 'features' and 'income' data into training and testing sets\n",
        "# X_train, X_test, y_train, y_test = train_test_split(X, \n",
        "#                                                     y, \n",
        "#                                                     test_size = 0.3, \n",
        "#                                                     random_state = 0)\n",
        "\n",
        "# # Show the results of the split\n",
        "# print(\"Training set has {} samples.\".format(X_train.shape[0]))\n",
        "# print(\"Testing set has {} samples.\".format(X_test.shape[0]))"
      ],
      "metadata": {
        "id": "MQ8dw1zE1I2Q"
      },
      "execution_count": null,
      "outputs": []
    },
    {
      "cell_type": "code",
      "source": [
        "# model = SVC(kernel='rbf', gamma=10,random_state = 39,probability=True)\n",
        "# model.fit(X_train, y_train)\n",
        "# # Making predictions\n",
        "# y_train_pred = model.predict(X_train)\n",
        "# y_test_pred = model.predict(X_test)\n",
        "\n",
        "# # Calculate the accuracy\n",
        "# train_accuracy = accuracy_score(y_train, y_train_pred)\n",
        "# test_accuracy = accuracy_score(y_test, y_test_pred)\n",
        "# print('The training accuracy is', train_accuracy)\n",
        "# print('The test accuracy is', test_accuracy)\n",
        "# print('F1 score: ', format(f1_score(y_test,y_test_pred,average='micro')))\n",
        "# confusion_matrix(y_test, y_test_pred)"
      ],
      "metadata": {
        "colab": {
          "base_uri": "https://localhost:8080/"
        },
        "id": "dY06-dXcFije",
        "outputId": "04acf442-b13f-4484-8768-d8fec8082ac9"
      },
      "execution_count": 354,
      "outputs": [
        {
          "output_type": "stream",
          "name": "stdout",
          "text": [
            "The training accuracy is 0.993103448275862\n",
            "The test accuracy is 0.35691318327974275\n",
            "F1 score:  0.3569131832797428\n"
          ]
        },
        {
          "output_type": "execute_result",
          "data": {
            "text/plain": [
              "array([[  0, 109,   0],\n",
              "       [  0, 108,   1],\n",
              "       [  0,  90,   3]])"
            ]
          },
          "metadata": {},
          "execution_count": 354
        }
      ]
    },
    {
      "cell_type": "code",
      "source": [
        "# # model = SVC(kernel='', gamma=10,random_state = 39,probability=True)\n",
        "# # model.fit(X_train, y_train)\n",
        "# # #results = model.predict_proba(X_test)[0]\n",
        "# # #print(model.predict_proba(X_test)[:, 1])\n",
        "# # predictions_test = model.predict(X_test)\n",
        "\n",
        "\n",
        "# #  #gets a dictionary of {'class_name': probability}\n",
        "# # #prob_per_class_dictionary = dict(zip(model.classes_, results))\n",
        "\n",
        "# # # gets a list of ['most_probable_class', 'second_most_probable_class', ..., 'least_class']\n",
        "# # #results_ordered_by_probability = map(lambda x: x[0], sorted(zip(model.classes_, results), key=lambda x: x[1], reverse=True))\n",
        "# # #print(list(results_ordered_by_probability))\n",
        "# # print(accuracy_score(y_test,predictions_test))\n",
        "# naive_bayes = MultinomialNB()\n",
        "# naive_bayes.fit(X_train, y_train)\n",
        "# predictions = naive_bayes.predict(X_test)\n",
        "\n",
        "# print('Accuracy score: ', format(accuracy_score(y_test,predictions)))\n",
        "# print('Precision score: ', format(precision_score(y_test,predictions,average='micro')))\n",
        "# print('Recall score: ', format(recall_score(y_test,predictions,average='micro')))\n",
        "# print('F1 score: ', format(f1_score(y_test,predictions,average='micro')))"
      ],
      "metadata": {
        "colab": {
          "base_uri": "https://localhost:8080/"
        },
        "id": "ENnXl7x_hCQc",
        "outputId": "8cc3cbf3-dc3b-47c8-987b-0c0c768ac1c3"
      },
      "execution_count": 344,
      "outputs": [
        {
          "output_type": "stream",
          "name": "stdout",
          "text": [
            "Accuracy score:  0.40514469453376206\n",
            "Precision score:  0.40514469453376206\n",
            "Recall score:  0.40514469453376206\n",
            "F1 score:  0.40514469453376206\n"
          ]
        }
      ]
    },
    {
      "cell_type": "code",
      "source": [
        "# from sklearn.linear_model import LogisticRegression\n",
        "\n",
        "# lr= LogisticRegression(solver='lbfgs', random_state=0,max_iter =1000)\n",
        "# lr.fit(X_train, y_train)\n",
        "# y_pred_prob = lr.predict_proba(X_test)\n",
        "# print(y_pred_prob.shape)\n",
        "# labels = np.argmax(y_pred_prob, axis=0)\n",
        "# # print(labels.shape)\n",
        "# # print(labels)\n",
        "# # print(lr.classes_)\n",
        "# # print([y_pred_prob[i] for i in labels])\n",
        "# y_pred_prob[125]"
      ],
      "metadata": {
        "id": "j1XgdBsbXsQB"
      },
      "execution_count": null,
      "outputs": []
    },
    {
      "cell_type": "code",
      "source": [
        "\n",
        "# lr= LogisticRegression(solver='lbfgs', random_state=0,max_iter =1000)\n",
        "# lr.fit(X_train, y_train)\n",
        "# y_pred_prob = lr.predict_proba(X_test)\n",
        "# y_pred_prob\n",
        "# # labels = np.argmax(y_pred_prob, axis=0)\n",
        "# classes = lr.classes_\n",
        "# print(classes)\n",
        "# # labels = [classes[i] for i in labels]\n",
        "# # print(accuracy_score(y_test, labels))\n",
        "# # #x = y_pred_prob[0].argmax().item()\n",
        "# # # ix\n",
        "# # #y_pred_prob_test[0][ix]\n",
        "# # # list = []\n",
        "# # # list.append(y_pred_prob_test[0][ix])\n",
        "# # # list.append(f'{y_pred_prob_test[0,ix]:.2%}')\n",
        "# # # list"
      ],
      "metadata": {
        "id": "qdp0XrswIdQZ",
        "colab": {
          "base_uri": "https://localhost:8080/"
        },
        "outputId": "276a91e3-7632-41a3-f686-44bfed61158d"
      },
      "execution_count": 358,
      "outputs": [
        {
          "output_type": "stream",
          "name": "stdout",
          "text": [
            "[0 1 2]\n"
          ]
        }
      ]
    },
    {
      "cell_type": "code",
      "source": [
        "# #model = LogisticRegression(solver='sag', random_state=0,max_iter =10000)\n",
        "# model = LogisticRegression(solver='newton-cg', random_state=0,max_iter =10000)\n",
        "\n",
        "# model.fit(X_train, y_train)\n",
        "# predictions = model.predict(X_test)\n",
        "\n",
        "# print('Accuracy score: ', format(accuracy_score(y_test,predictions)))\n",
        "# print('Precision score: ', format(precision_score(y_test,predictions,average='micro')))\n",
        "# print('Recall score: ', format(recall_score(y_test,predictions,average='micro')))\n",
        "# print('F1 score: ', format(f1_score(y_test,predictions,average='micro')))"
      ],
      "metadata": {
        "colab": {
          "base_uri": "https://localhost:8080/"
        },
        "id": "MU-zVuPVFFCY",
        "outputId": "6d03d045-0aa4-432e-9689-cd36dac9f4a5"
      },
      "execution_count": 361,
      "outputs": [
        {
          "output_type": "stream",
          "name": "stdout",
          "text": [
            "Accuracy score:  0.4326923076923077\n",
            "Precision score:  0.4326923076923077\n",
            "Recall score:  0.4326923076923077\n",
            "F1 score:  0.4326923076923077\n"
          ]
        }
      ]
    },
    {
      "cell_type": "code",
      "source": [
        "# # Import the classifier from sklearn\n",
        "# from sklearn.tree import DecisionTreeClassifier\n",
        "\n",
        "# # TODO: Define the classifier, and fit it to the data\n",
        "# model = DecisionTreeClassifier()\n",
        "# model.fit(X_train, y_train)\n",
        "# # Making predictions\n",
        "# y_train_pred = model.predict(X_train)\n",
        "# y_test_pred = model.predict(X_test)\n",
        "\n",
        "# # Calculate the accuracy\n",
        "# from sklearn.metrics import accuracy_score\n",
        "# train_accuracy = accuracy_score(y_train, y_train_pred)\n",
        "# test_accuracy = accuracy_score(y_test, y_test_pred)\n",
        "# print('The training accuracy is', train_accuracy)\n",
        "# print('The test accuracy is', test_accuracy)"
      ],
      "metadata": {
        "colab": {
          "base_uri": "https://localhost:8080/"
        },
        "id": "_3U7ZDuWlpVZ",
        "outputId": "708bc1cb-1528-4b96-d963-70a6f2e2da17"
      },
      "execution_count": 362,
      "outputs": [
        {
          "output_type": "stream",
          "name": "stdout",
          "text": [
            "The training accuracy is 0.9927536231884058\n",
            "The test accuracy is 0.375\n"
          ]
        }
      ]
    },
    {
      "cell_type": "code",
      "source": [
        "# from sklearn.ensemble import BaggingClassifier,RandomForestClassifier,AdaBoostClassifier\n",
        "# BaggingClassifier = BaggingClassifier(n_estimators = 400)\n",
        "# BaggingClassifier.fit(X_train, y_train)\n",
        "# y_train_pred = BaggingClassifier.predict(X_train)\n",
        "# y_test_pred = BaggingClassifier.predict(X_test)\n",
        "# train_accuracy = accuracy_score(y_train, y_train_pred)\n",
        "# test_accuracy = accuracy_score(y_test, y_test_pred)\n",
        "# print('The training accuracy is', train_accuracy)\n",
        "# print('The test accuracy is', test_accuracy)\n"
      ],
      "metadata": {
        "colab": {
          "base_uri": "https://localhost:8080/"
        },
        "id": "73qv0L5jl8qy",
        "outputId": "83a3985b-95cb-43d8-b6be-16642fdd9fe5"
      },
      "execution_count": 363,
      "outputs": [
        {
          "output_type": "stream",
          "name": "stdout",
          "text": [
            "The training accuracy is 0.9927536231884058\n",
            "The test accuracy is 0.47115384615384615\n"
          ]
        }
      ]
    },
    {
      "cell_type": "code",
      "source": [
        "# from sklearn.ensemble import BaggingClassifier,RandomForestClassifier,AdaBoostClassifier\n",
        "# RfClassifier = RandomForestClassifier(n_estimators = 5000)\n",
        "# RfClassifier.fit(X_train, y_train)\n",
        "# y_train_pred = RfClassifier.predict(X_train)\n",
        "# y_test_pred = RfClassifier.predict(X_test)\n",
        "# train_accuracy = accuracy_score(y_train, y_train_pred)\n",
        "# test_accuracy = accuracy_score(y_test, y_test_pred)\n",
        "# print('The training accuracy is', train_accuracy)\n",
        "# print('The test accuracy is', test_accuracy)\n"
      ],
      "metadata": {
        "colab": {
          "base_uri": "https://localhost:8080/"
        },
        "id": "LyuN-NS5UKKC",
        "outputId": "b6ae7c2f-1b76-4bac-9435-9a72de6199d2"
      },
      "execution_count": 374,
      "outputs": [
        {
          "output_type": "stream",
          "name": "stdout",
          "text": [
            "The training accuracy is 0.9927536231884058\n",
            "The test accuracy is 0.46634615384615385\n"
          ]
        }
      ]
    },
    {
      "cell_type": "code",
      "source": [
        "clf = RandomForestClassifier(random_state=42)\n",
        "\n",
        "# TODO: Create the parameters list you wish to tune.\n",
        "parameters = {'max_depth':[2,4,6,8,10],'min_samples_leaf':[2,4,6,8,10], 'min_samples_split':[2,4,6,8,10]}\n",
        "\n",
        "def calculate_F1_Score(parameters):\n",
        "    # TODO: Make an fbeta_score scoring object.\n",
        "   # scorer = make_scorer(f1_score)\n",
        "\n",
        "    # TODO: Perform grid search on the classifier using 'scorer' as the scoring method.\n",
        "    grid_obj = GridSearchCV(clf, parameters, scoring='f1_macro')\n",
        "\n",
        "    # TODO: Fit the grid search object to the training data and find the optimal parameters.\n",
        "    grid_fit = grid_obj.fit(X_train, y_train)\n",
        "\n",
        "    # Get the estimator.\n",
        "    best_clf = grid_fit.best_estimator_\n",
        "\n",
        "    # Fit the new model.\n",
        "    best_clf.fit(X_train, y_train)\n",
        "\n",
        "    # Make predictions using the new model.\n",
        "    best_train_predictions = best_clf.predict(X_train)\n",
        "    best_test_predictions = best_clf.predict(X_test)\n",
        "\n",
        "    best_train_predictions = best_clf.predict(X_train)\n",
        "    best_test_predictions = best_clf.predict(X_test)\n",
        "\n",
        "    y_pred_prob = best_clf.predict_proba(X_test)\n",
        "\n",
        "    train_accuracy = accuracy_score(y_train, best_train_predictions)\n",
        "    test_accuracy = accuracy_score(y_test, best_test_predictions)\n",
        "    print('The training accuracy is', train_accuracy)\n",
        "    print('The test accuracy is', test_accuracy)\n",
        "    print(y_pred_prob)\n",
        "#----------------------------------------------#\n",
        "\n",
        "# Call the function\n",
        "calculate_F1_Score(parameters)\n"
      ],
      "metadata": {
        "colab": {
          "base_uri": "https://localhost:8080/"
        },
        "id": "U6a5XEEKnKif",
        "outputId": "f97a8fbf-6908-46fd-d204-a32d74eb5054"
      },
      "execution_count": 380,
      "outputs": [
        {
          "output_type": "stream",
          "name": "stdout",
          "text": [
            "The training accuracy is 0.717391304347826\n",
            "The test accuracy is 0.5\n",
            "[[0.35249078 0.38354272 0.2639665 ]\n",
            " [0.62684676 0.23453274 0.13862049]\n",
            " [0.24142502 0.40887184 0.34970314]\n",
            " [0.19501527 0.51913145 0.28585328]\n",
            " [0.18407706 0.48166598 0.33425697]\n",
            " [0.10383595 0.59607135 0.3000927 ]\n",
            " [0.33917709 0.46902146 0.19180145]\n",
            " [0.12090928 0.53923109 0.33985962]\n",
            " [0.54526792 0.26485295 0.18987913]\n",
            " [0.20833955 0.4525288  0.33913165]\n",
            " [0.55076464 0.32454133 0.12469403]\n",
            " [0.14728434 0.52693265 0.32578301]\n",
            " [0.22590593 0.41111154 0.36298253]\n",
            " [0.72085118 0.20061011 0.07853871]\n",
            " [0.54184055 0.32689654 0.13126291]\n",
            " [0.63030189 0.29824103 0.07145708]\n",
            " [0.14683846 0.45753395 0.39562758]\n",
            " [0.67542954 0.23071993 0.09385052]\n",
            " [0.44919222 0.41480333 0.13600445]\n",
            " [0.41796624 0.47309466 0.1089391 ]\n",
            " [0.14484191 0.47161856 0.38353953]\n",
            " [0.2056477  0.4435203  0.350832  ]\n",
            " [0.25771885 0.40525334 0.33702781]\n",
            " [0.54135783 0.31450291 0.14413926]\n",
            " [0.25787403 0.47191863 0.27020734]\n",
            " [0.11308579 0.49606763 0.39084658]\n",
            " [0.36039509 0.36231957 0.27728534]\n",
            " [0.6172062  0.27954292 0.10325088]\n",
            " [0.287886   0.35322668 0.35888732]\n",
            " [0.32092508 0.47312789 0.20594703]\n",
            " [0.28693283 0.46716657 0.2459006 ]\n",
            " [0.12393428 0.46978004 0.40628568]\n",
            " [0.29542454 0.39683776 0.3077377 ]\n",
            " [0.13215364 0.50346034 0.36438602]\n",
            " [0.2417964  0.42848819 0.3297154 ]\n",
            " [0.17737796 0.45667229 0.36594975]\n",
            " [0.14750739 0.39312445 0.45936816]\n",
            " [0.23129924 0.27956356 0.4891372 ]\n",
            " [0.78639511 0.14450253 0.06910235]\n",
            " [0.1056596  0.49005882 0.40428157]\n",
            " [0.30755522 0.37918139 0.31326339]\n",
            " [0.19096559 0.52271032 0.28632409]\n",
            " [0.41618334 0.3244644  0.25935226]\n",
            " [0.15702725 0.62473654 0.21823621]\n",
            " [0.24004616 0.43065884 0.329295  ]\n",
            " [0.10012255 0.59315072 0.30672673]\n",
            " [0.25490017 0.42420884 0.32089099]\n",
            " [0.22795175 0.37555785 0.3964904 ]\n",
            " [0.83220515 0.11048676 0.05730809]\n",
            " [0.31563563 0.39938836 0.28497601]\n",
            " [0.59361627 0.29539042 0.1109933 ]\n",
            " [0.37077322 0.35710846 0.27211832]\n",
            " [0.22247613 0.4629203  0.31460357]\n",
            " [0.19256575 0.52799704 0.2794372 ]\n",
            " [0.1313778  0.58030291 0.28831928]\n",
            " [0.56515187 0.33618164 0.0986665 ]\n",
            " [0.47274447 0.41712596 0.11012957]\n",
            " [0.33677358 0.36988315 0.29334327]\n",
            " [0.58669631 0.2969786  0.11632509]\n",
            " [0.3003842  0.42521239 0.27440341]\n",
            " [0.21113984 0.40496827 0.38389189]\n",
            " [0.21933996 0.44649418 0.33416586]\n",
            " [0.23037312 0.39439528 0.3752316 ]\n",
            " [0.30203227 0.51216761 0.18580012]\n",
            " [0.39671769 0.4914778  0.11180452]\n",
            " [0.20537529 0.44048555 0.35413916]\n",
            " [0.20283597 0.43469252 0.36247151]\n",
            " [0.15743175 0.43338905 0.4091792 ]\n",
            " [0.59425186 0.2875703  0.11817784]\n",
            " [0.13744977 0.5508472  0.31170302]\n",
            " [0.22911065 0.58197988 0.18890947]\n",
            " [0.24688927 0.37626788 0.37684286]\n",
            " [0.57953165 0.24575727 0.17471109]\n",
            " [0.40096925 0.36480953 0.23422122]\n",
            " [0.12590582 0.49314319 0.38095099]\n",
            " [0.37135605 0.41398024 0.2146637 ]\n",
            " [0.15883503 0.55592092 0.28524404]\n",
            " [0.36716783 0.43732457 0.1955076 ]\n",
            " [0.16002098 0.46514659 0.37483244]\n",
            " [0.16111278 0.31767977 0.52120745]\n",
            " [0.44403482 0.31231695 0.24364823]\n",
            " [0.25216855 0.36364423 0.38418722]\n",
            " [0.20448379 0.42852461 0.3669916 ]\n",
            " [0.34443906 0.30233334 0.35322761]\n",
            " [0.18964776 0.493659   0.31669323]\n",
            " [0.20063385 0.47450221 0.32486394]\n",
            " [0.15737206 0.50317253 0.33945541]\n",
            " [0.7086603  0.22433622 0.06700349]\n",
            " [0.26120273 0.45923729 0.27955998]\n",
            " [0.16553052 0.42747756 0.40699192]\n",
            " [0.23153812 0.56199291 0.20646898]\n",
            " [0.69695482 0.23581203 0.06723315]\n",
            " [0.26342961 0.4653676  0.2712028 ]\n",
            " [0.17986043 0.50963882 0.31050076]\n",
            " [0.7873974  0.12689287 0.08570973]\n",
            " [0.13854541 0.53719746 0.32425713]\n",
            " [0.23475005 0.53973532 0.22551463]\n",
            " [0.35452674 0.42743116 0.2180421 ]\n",
            " [0.21072271 0.5187365  0.27054079]\n",
            " [0.16167895 0.51750192 0.32081912]\n",
            " [0.1829     0.42629153 0.39080846]\n",
            " [0.17610924 0.44901364 0.37487713]\n",
            " [0.30375511 0.38780043 0.30844446]\n",
            " [0.2392371  0.38201092 0.37875198]\n",
            " [0.59693856 0.23626894 0.1667925 ]\n",
            " [0.43780233 0.35233371 0.20986396]\n",
            " [0.23155444 0.57023885 0.19820671]\n",
            " [0.44281    0.34492127 0.21226872]\n",
            " [0.18486138 0.43219408 0.38294455]\n",
            " [0.27326445 0.34962498 0.37711057]\n",
            " [0.59945997 0.3011251  0.09941493]\n",
            " [0.28065136 0.39555929 0.32378935]\n",
            " [0.1613352  0.33984759 0.49881721]\n",
            " [0.20951    0.39787421 0.39261578]\n",
            " [0.23754009 0.33037797 0.43208195]\n",
            " [0.23078147 0.43339402 0.33582452]\n",
            " [0.18293105 0.36202791 0.45504103]\n",
            " [0.17721613 0.45692978 0.36585408]\n",
            " [0.2011825  0.47403934 0.32477816]\n",
            " [0.45642146 0.31091092 0.23266762]\n",
            " [0.26650841 0.37157856 0.36191303]\n",
            " [0.31702869 0.41047555 0.27249576]\n",
            " [0.27157142 0.40679959 0.321629  ]\n",
            " [0.15162632 0.45020434 0.39816934]\n",
            " [0.39521696 0.37749186 0.22729118]\n",
            " [0.3975196  0.30440934 0.29807106]\n",
            " [0.22219922 0.40629558 0.3715052 ]\n",
            " [0.6077823  0.26024823 0.13196947]\n",
            " [0.12385788 0.51225181 0.36389031]\n",
            " [0.69614921 0.20523038 0.09862041]\n",
            " [0.13860632 0.46461882 0.39677487]\n",
            " [0.48322549 0.30732944 0.20944507]\n",
            " [0.23573121 0.46425125 0.30001755]\n",
            " [0.46621859 0.3431254  0.19065601]\n",
            " [0.21715326 0.44265326 0.34019347]\n",
            " [0.34219246 0.45218952 0.20561803]\n",
            " [0.20292869 0.40854994 0.38852138]\n",
            " [0.33301881 0.41353266 0.25344853]\n",
            " [0.58294973 0.26278367 0.1542666 ]\n",
            " [0.32812004 0.49810565 0.17377431]\n",
            " [0.11412501 0.61372492 0.27215007]\n",
            " [0.24652474 0.41083571 0.34263955]\n",
            " [0.24046991 0.53651955 0.22301054]\n",
            " [0.20855388 0.42494571 0.36650041]\n",
            " [0.28759558 0.51554435 0.19686008]\n",
            " [0.19261569 0.49024454 0.31713976]\n",
            " [0.13739963 0.42343864 0.43916173]\n",
            " [0.18816446 0.48308634 0.3287492 ]\n",
            " [0.66634013 0.26637558 0.06728428]\n",
            " [0.46199823 0.29481454 0.24318723]\n",
            " [0.22173419 0.48419915 0.29406666]\n",
            " [0.10656598 0.60054462 0.2928894 ]\n",
            " [0.20443216 0.35910057 0.43646727]\n",
            " [0.21254742 0.36220451 0.42524807]\n",
            " [0.29647882 0.52236988 0.18115131]\n",
            " [0.4946784  0.30745727 0.19786433]\n",
            " [0.16300609 0.45225106 0.38474285]\n",
            " [0.21092813 0.39136124 0.39771062]\n",
            " [0.2651132  0.44509201 0.28979479]\n",
            " [0.33686294 0.30716831 0.35596875]\n",
            " [0.22623679 0.43247175 0.34129145]\n",
            " [0.43102356 0.35480204 0.21417439]\n",
            " [0.43442353 0.34556846 0.22000801]\n",
            " [0.28282818 0.29840175 0.41877007]\n",
            " [0.32731907 0.36501354 0.30766739]\n",
            " [0.40735591 0.26520947 0.32743462]\n",
            " [0.21057077 0.36917285 0.42025638]\n",
            " [0.16317378 0.42343801 0.41338821]\n",
            " [0.16109609 0.46886524 0.37003867]\n",
            " [0.31352839 0.379139   0.30733261]\n",
            " [0.22225423 0.43234537 0.3454004 ]\n",
            " [0.1333011  0.41025085 0.45644805]\n",
            " [0.22772768 0.41420877 0.35806355]\n",
            " [0.23088965 0.44023016 0.3288802 ]\n",
            " [0.27173789 0.41291695 0.31534516]\n",
            " [0.3778379  0.35460968 0.26755242]\n",
            " [0.33327547 0.40333068 0.26339385]\n",
            " [0.13343536 0.51287185 0.35369279]\n",
            " [0.24323303 0.39610373 0.36066324]\n",
            " [0.20216468 0.4256907  0.37214462]\n",
            " [0.13235614 0.50609511 0.36154875]\n",
            " [0.66128273 0.24877217 0.0899451 ]\n",
            " [0.09078495 0.58099469 0.32822036]\n",
            " [0.14140132 0.5365284  0.32207028]\n",
            " [0.2853972  0.37635677 0.33824603]\n",
            " [0.56696883 0.25792917 0.175102  ]\n",
            " [0.4949315  0.33161185 0.17345665]\n",
            " [0.7674457  0.16536308 0.06719122]\n",
            " [0.12351169 0.50111803 0.37537028]\n",
            " [0.13465308 0.48428679 0.38106012]\n",
            " [0.29277128 0.34554875 0.36167997]\n",
            " [0.53706613 0.34227183 0.12066205]\n",
            " [0.55279292 0.26258009 0.18462699]\n",
            " [0.12050888 0.58386708 0.29562405]\n",
            " [0.16499115 0.47218405 0.3628248 ]\n",
            " [0.39289751 0.41482134 0.19228115]\n",
            " [0.61021586 0.26450343 0.12528071]\n",
            " [0.25286136 0.48591639 0.26122225]\n",
            " [0.4654321  0.30666054 0.22790737]\n",
            " [0.20039367 0.50173077 0.29787556]\n",
            " [0.21783501 0.40950288 0.37266211]\n",
            " [0.45803432 0.34853701 0.19342866]\n",
            " [0.14299627 0.46914156 0.38786217]\n",
            " [0.15665918 0.44279444 0.40054638]\n",
            " [0.54912467 0.3187318  0.13214353]\n",
            " [0.2470385  0.42194049 0.33102101]\n",
            " [0.3308168  0.38990703 0.27927617]\n",
            " [0.19176511 0.54212644 0.26610845]]\n"
          ]
        }
      ]
    },
    {
      "cell_type": "code",
      "source": [
        "# # df_test = df_essays[:5]\n",
        "# df_essays['Essay Grading'].value_counts()"
      ],
      "metadata": {
        "id": "pxozV7sH03Re",
        "colab": {
          "base_uri": "https://localhost:8080/"
        },
        "outputId": "ba08528d-afd8-479a-b428-b43502d52ed7"
      },
      "execution_count": 252,
      "outputs": [
        {
          "output_type": "execute_result",
          "data": {
            "text/plain": [
              "Average (B-C)     401\n",
              "Bad (D-F)         347\n",
              "Excellent (A+)    288\n",
              "Name: Essay Grading, dtype: int64"
            ]
          },
          "metadata": {},
          "execution_count": 252
        }
      ]
    },
    {
      "cell_type": "code",
      "source": [
        "# # df_essays.head()\n",
        "# df_essays[df_essays['Essay Grading']=='Bad (D-F)'].tail()"
      ],
      "metadata": {
        "id": "6BfWoeiuHHMY",
        "colab": {
          "base_uri": "https://localhost:8080/",
          "height": 625
        },
        "outputId": "7f2c04c4-c0d5-47e8-9a8e-a7b43cf6c8f6"
      },
      "execution_count": 253,
      "outputs": [
        {
          "output_type": "execute_result",
          "data": {
            "text/html": [
              "<div>\n",
              "<style scoped>\n",
              "    .dataframe tbody tr th:only-of-type {\n",
              "        vertical-align: middle;\n",
              "    }\n",
              "\n",
              "    .dataframe tbody tr th {\n",
              "        vertical-align: top;\n",
              "    }\n",
              "\n",
              "    .dataframe thead th {\n",
              "        text-align: right;\n",
              "    }\n",
              "</style>\n",
              "<table border=\"1\" class=\"dataframe\">\n",
              "  <thead>\n",
              "    <tr style=\"text-align: right;\">\n",
              "      <th></th>\n",
              "      <th>Essay Text</th>\n",
              "      <th>Essay Grading</th>\n",
              "      <th>SentenceCount</th>\n",
              "      <th>WordCount</th>\n",
              "      <th>VerbCount</th>\n",
              "      <th>NounCount</th>\n",
              "      <th>AdjCount</th>\n",
              "      <th>AdverbCount</th>\n",
              "      <th>PronounCount</th>\n",
              "      <th>PunctCount</th>\n",
              "      <th>NumberofPassiveVoice</th>\n",
              "      <th>NumberofActiveVoice</th>\n",
              "      <th>NumComplexComp</th>\n",
              "      <th>NumComplex</th>\n",
              "      <th>NumCompund</th>\n",
              "      <th>NumSimple</th>\n",
              "      <th>FleschScore</th>\n",
              "      <th>UniqWordDensity</th>\n",
              "    </tr>\n",
              "  </thead>\n",
              "  <tbody>\n",
              "    <tr>\n",
              "      <th>1029</th>\n",
              "      <td>\"Can you explain it again professor?\" I feel w...</td>\n",
              "      <td>Bad (D-F)</td>\n",
              "      <td>13</td>\n",
              "      <td>135</td>\n",
              "      <td>0.33</td>\n",
              "      <td>0.32</td>\n",
              "      <td>0.07</td>\n",
              "      <td>0.12</td>\n",
              "      <td>0.27</td>\n",
              "      <td>0.17</td>\n",
              "      <td>0.076923</td>\n",
              "      <td>0.923077</td>\n",
              "      <td>0.923077</td>\n",
              "      <td>0.000000</td>\n",
              "      <td>0.000000</td>\n",
              "      <td>0.076923</td>\n",
              "      <td>78.33</td>\n",
              "      <td>0.674074</td>\n",
              "    </tr>\n",
              "    <tr>\n",
              "      <th>1031</th>\n",
              "      <td>My very first Kpop audition was for a company ...</td>\n",
              "      <td>Bad (D-F)</td>\n",
              "      <td>14</td>\n",
              "      <td>111</td>\n",
              "      <td>0.33</td>\n",
              "      <td>0.26</td>\n",
              "      <td>0.09</td>\n",
              "      <td>0.16</td>\n",
              "      <td>0.19</td>\n",
              "      <td>0.17</td>\n",
              "      <td>0.000000</td>\n",
              "      <td>1.000000</td>\n",
              "      <td>0.857143</td>\n",
              "      <td>0.000000</td>\n",
              "      <td>0.071429</td>\n",
              "      <td>0.071429</td>\n",
              "      <td>83.42</td>\n",
              "      <td>0.720721</td>\n",
              "    </tr>\n",
              "    <tr>\n",
              "      <th>1033</th>\n",
              "      <td>Please check for grammatical mistakes and even...</td>\n",
              "      <td>Bad (D-F)</td>\n",
              "      <td>38</td>\n",
              "      <td>361</td>\n",
              "      <td>0.35</td>\n",
              "      <td>0.35</td>\n",
              "      <td>0.07</td>\n",
              "      <td>0.10</td>\n",
              "      <td>0.27</td>\n",
              "      <td>0.12</td>\n",
              "      <td>0.052632</td>\n",
              "      <td>0.947368</td>\n",
              "      <td>0.973684</td>\n",
              "      <td>0.000000</td>\n",
              "      <td>0.026316</td>\n",
              "      <td>0.000000</td>\n",
              "      <td>76.28</td>\n",
              "      <td>0.584488</td>\n",
              "    </tr>\n",
              "    <tr>\n",
              "      <th>1034</th>\n",
              "      <td>The last race for the cross country team was a...</td>\n",
              "      <td>Bad (D-F)</td>\n",
              "      <td>31</td>\n",
              "      <td>239</td>\n",
              "      <td>0.35</td>\n",
              "      <td>0.28</td>\n",
              "      <td>0.11</td>\n",
              "      <td>0.10</td>\n",
              "      <td>0.23</td>\n",
              "      <td>0.16</td>\n",
              "      <td>0.000000</td>\n",
              "      <td>1.000000</td>\n",
              "      <td>0.806452</td>\n",
              "      <td>0.129032</td>\n",
              "      <td>0.000000</td>\n",
              "      <td>0.064516</td>\n",
              "      <td>81.93</td>\n",
              "      <td>0.656904</td>\n",
              "    </tr>\n",
              "    <tr>\n",
              "      <th>1035</th>\n",
              "      <td>I was walking out of a company with a smile on...</td>\n",
              "      <td>Bad (D-F)</td>\n",
              "      <td>36</td>\n",
              "      <td>429</td>\n",
              "      <td>0.35</td>\n",
              "      <td>0.31</td>\n",
              "      <td>0.11</td>\n",
              "      <td>0.08</td>\n",
              "      <td>0.26</td>\n",
              "      <td>0.13</td>\n",
              "      <td>0.055556</td>\n",
              "      <td>0.944444</td>\n",
              "      <td>0.916667</td>\n",
              "      <td>0.083333</td>\n",
              "      <td>0.000000</td>\n",
              "      <td>0.000000</td>\n",
              "      <td>57.79</td>\n",
              "      <td>0.582751</td>\n",
              "    </tr>\n",
              "  </tbody>\n",
              "</table>\n",
              "</div>"
            ],
            "text/plain": [
              "                                             Essay Text  ... UniqWordDensity\n",
              "1029  \"Can you explain it again professor?\" I feel w...  ...        0.674074\n",
              "1031  My very first Kpop audition was for a company ...  ...        0.720721\n",
              "1033  Please check for grammatical mistakes and even...  ...        0.584488\n",
              "1034  The last race for the cross country team was a...  ...        0.656904\n",
              "1035  I was walking out of a company with a smile on...  ...        0.582751\n",
              "\n",
              "[5 rows x 18 columns]"
            ]
          },
          "metadata": {},
          "execution_count": 253
        }
      ]
    },
    {
      "cell_type": "markdown",
      "source": [
        "# **Plotting Passive Voice & Active voice against number of sentences**#"
      ],
      "metadata": {
        "id": "K-lHuv1yUmxI"
      }
    },
    {
      "cell_type": "code",
      "source": [
        "df_essays[df_essays['Essay Grading']=='Average (B-C)']"
      ],
      "metadata": {
        "id": "USja6oC8TdkK",
        "colab": {
          "base_uri": "https://localhost:8080/",
          "height": 982
        },
        "outputId": "189791c9-ff06-45c7-d8f1-bc561c5a1fbe"
      },
      "execution_count": 260,
      "outputs": [
        {
          "output_type": "execute_result",
          "data": {
            "text/html": [
              "<div>\n",
              "<style scoped>\n",
              "    .dataframe tbody tr th:only-of-type {\n",
              "        vertical-align: middle;\n",
              "    }\n",
              "\n",
              "    .dataframe tbody tr th {\n",
              "        vertical-align: top;\n",
              "    }\n",
              "\n",
              "    .dataframe thead th {\n",
              "        text-align: right;\n",
              "    }\n",
              "</style>\n",
              "<table border=\"1\" class=\"dataframe\">\n",
              "  <thead>\n",
              "    <tr style=\"text-align: right;\">\n",
              "      <th></th>\n",
              "      <th>Essay Text</th>\n",
              "      <th>Essay Grading</th>\n",
              "      <th>SentenceCount</th>\n",
              "      <th>WordCount</th>\n",
              "      <th>VerbCount</th>\n",
              "      <th>NounCount</th>\n",
              "      <th>AdjCount</th>\n",
              "      <th>AdverbCount</th>\n",
              "      <th>PronounCount</th>\n",
              "      <th>PunctCount</th>\n",
              "      <th>NumberofPassiveVoice</th>\n",
              "      <th>NumberofActiveVoice</th>\n",
              "      <th>NumComplexComp</th>\n",
              "      <th>NumComplex</th>\n",
              "      <th>NumCompund</th>\n",
              "      <th>NumSimple</th>\n",
              "      <th>FleschScore</th>\n",
              "      <th>UniqWordDensity</th>\n",
              "    </tr>\n",
              "  </thead>\n",
              "  <tbody>\n",
              "    <tr>\n",
              "      <th>0</th>\n",
              "      <td>The provided line graph depicts the marriages ...</td>\n",
              "      <td>Average (B-C)</td>\n",
              "      <td>10</td>\n",
              "      <td>133</td>\n",
              "      <td>0.10</td>\n",
              "      <td>0.33</td>\n",
              "      <td>0.12</td>\n",
              "      <td>0.10</td>\n",
              "      <td>0.02</td>\n",
              "      <td>0.15</td>\n",
              "      <td>0.000000</td>\n",
              "      <td>1.000000</td>\n",
              "      <td>0.100000</td>\n",
              "      <td>0.800000</td>\n",
              "      <td>0.0</td>\n",
              "      <td>0.100000</td>\n",
              "      <td>74.66</td>\n",
              "      <td>0.436090</td>\n",
              "    </tr>\n",
              "    <tr>\n",
              "      <th>1</th>\n",
              "      <td>The pie chart illustrates the main causes of l...</td>\n",
              "      <td>Average (B-C)</td>\n",
              "      <td>8</td>\n",
              "      <td>154</td>\n",
              "      <td>0.11</td>\n",
              "      <td>0.42</td>\n",
              "      <td>0.10</td>\n",
              "      <td>0.08</td>\n",
              "      <td>0.01</td>\n",
              "      <td>0.23</td>\n",
              "      <td>0.000000</td>\n",
              "      <td>1.000000</td>\n",
              "      <td>0.250000</td>\n",
              "      <td>0.125000</td>\n",
              "      <td>0.0</td>\n",
              "      <td>0.625000</td>\n",
              "      <td>53.25</td>\n",
              "      <td>0.428571</td>\n",
              "    </tr>\n",
              "    <tr>\n",
              "      <th>3</th>\n",
              "      <td>The line graph represented how many units of e...</td>\n",
              "      <td>Average (B-C)</td>\n",
              "      <td>6</td>\n",
              "      <td>130</td>\n",
              "      <td>0.12</td>\n",
              "      <td>0.36</td>\n",
              "      <td>0.08</td>\n",
              "      <td>0.05</td>\n",
              "      <td>0.02</td>\n",
              "      <td>0.15</td>\n",
              "      <td>0.166667</td>\n",
              "      <td>0.833333</td>\n",
              "      <td>0.000000</td>\n",
              "      <td>0.666667</td>\n",
              "      <td>0.0</td>\n",
              "      <td>0.333333</td>\n",
              "      <td>56.16</td>\n",
              "      <td>0.515385</td>\n",
              "    </tr>\n",
              "    <tr>\n",
              "      <th>5</th>\n",
              "      <td>1 \\nEntrepreneur: In 1998, at the age of eight...</td>\n",
              "      <td>Average (B-C)</td>\n",
              "      <td>32</td>\n",
              "      <td>441</td>\n",
              "      <td>0.14</td>\n",
              "      <td>0.33</td>\n",
              "      <td>0.14</td>\n",
              "      <td>0.07</td>\n",
              "      <td>0.06</td>\n",
              "      <td>0.21</td>\n",
              "      <td>0.031250</td>\n",
              "      <td>0.968750</td>\n",
              "      <td>0.781250</td>\n",
              "      <td>0.031250</td>\n",
              "      <td>0.0</td>\n",
              "      <td>0.187500</td>\n",
              "      <td>62.41</td>\n",
              "      <td>0.637188</td>\n",
              "    </tr>\n",
              "    <tr>\n",
              "      <th>7</th>\n",
              "      <td>Throughout my high school career, I have recei...</td>\n",
              "      <td>Average (B-C)</td>\n",
              "      <td>10</td>\n",
              "      <td>148</td>\n",
              "      <td>0.14</td>\n",
              "      <td>0.32</td>\n",
              "      <td>0.10</td>\n",
              "      <td>0.05</td>\n",
              "      <td>0.12</td>\n",
              "      <td>0.16</td>\n",
              "      <td>0.200000</td>\n",
              "      <td>0.800000</td>\n",
              "      <td>0.100000</td>\n",
              "      <td>0.000000</td>\n",
              "      <td>0.0</td>\n",
              "      <td>0.900000</td>\n",
              "      <td>51.76</td>\n",
              "      <td>0.702703</td>\n",
              "    </tr>\n",
              "    <tr>\n",
              "      <th>...</th>\n",
              "      <td>...</td>\n",
              "      <td>...</td>\n",
              "      <td>...</td>\n",
              "      <td>...</td>\n",
              "      <td>...</td>\n",
              "      <td>...</td>\n",
              "      <td>...</td>\n",
              "      <td>...</td>\n",
              "      <td>...</td>\n",
              "      <td>...</td>\n",
              "      <td>...</td>\n",
              "      <td>...</td>\n",
              "      <td>...</td>\n",
              "      <td>...</td>\n",
              "      <td>...</td>\n",
              "      <td>...</td>\n",
              "      <td>...</td>\n",
              "      <td>...</td>\n",
              "    </tr>\n",
              "    <tr>\n",
              "      <th>1004</th>\n",
              "      <td>MY FAMILY HAS TAKEN LIVING IN the big city as ...</td>\n",
              "      <td>Average (B-C)</td>\n",
              "      <td>23</td>\n",
              "      <td>257</td>\n",
              "      <td>0.30</td>\n",
              "      <td>0.33</td>\n",
              "      <td>0.14</td>\n",
              "      <td>0.10</td>\n",
              "      <td>0.20</td>\n",
              "      <td>0.16</td>\n",
              "      <td>0.217391</td>\n",
              "      <td>0.782609</td>\n",
              "      <td>0.826087</td>\n",
              "      <td>0.000000</td>\n",
              "      <td>0.0</td>\n",
              "      <td>0.173913</td>\n",
              "      <td>71.79</td>\n",
              "      <td>0.696498</td>\n",
              "    </tr>\n",
              "    <tr>\n",
              "      <th>1011</th>\n",
              "      <td>I like talking to people. And I like to thrift...</td>\n",
              "      <td>Average (B-C)</td>\n",
              "      <td>5</td>\n",
              "      <td>78</td>\n",
              "      <td>0.31</td>\n",
              "      <td>0.42</td>\n",
              "      <td>0.09</td>\n",
              "      <td>0.09</td>\n",
              "      <td>0.15</td>\n",
              "      <td>0.15</td>\n",
              "      <td>0.200000</td>\n",
              "      <td>0.800000</td>\n",
              "      <td>0.200000</td>\n",
              "      <td>0.000000</td>\n",
              "      <td>0.2</td>\n",
              "      <td>0.600000</td>\n",
              "      <td>55.73</td>\n",
              "      <td>0.846154</td>\n",
              "    </tr>\n",
              "    <tr>\n",
              "      <th>1013</th>\n",
              "      <td>When I turned twelve, my stepdad turned violen...</td>\n",
              "      <td>Average (B-C)</td>\n",
              "      <td>22</td>\n",
              "      <td>293</td>\n",
              "      <td>0.31</td>\n",
              "      <td>0.34</td>\n",
              "      <td>0.11</td>\n",
              "      <td>0.10</td>\n",
              "      <td>0.21</td>\n",
              "      <td>0.17</td>\n",
              "      <td>0.045455</td>\n",
              "      <td>0.954545</td>\n",
              "      <td>0.818182</td>\n",
              "      <td>0.181818</td>\n",
              "      <td>0.0</td>\n",
              "      <td>0.000000</td>\n",
              "      <td>75.31</td>\n",
              "      <td>0.682594</td>\n",
              "    </tr>\n",
              "    <tr>\n",
              "      <th>1022</th>\n",
              "      <td>I laugh when people say that they wonder about...</td>\n",
              "      <td>Average (B-C)</td>\n",
              "      <td>29</td>\n",
              "      <td>293</td>\n",
              "      <td>0.32</td>\n",
              "      <td>0.24</td>\n",
              "      <td>0.13</td>\n",
              "      <td>0.13</td>\n",
              "      <td>0.25</td>\n",
              "      <td>0.24</td>\n",
              "      <td>0.206897</td>\n",
              "      <td>0.793103</td>\n",
              "      <td>0.827586</td>\n",
              "      <td>0.172414</td>\n",
              "      <td>0.0</td>\n",
              "      <td>0.000000</td>\n",
              "      <td>71.31</td>\n",
              "      <td>0.655290</td>\n",
              "    </tr>\n",
              "    <tr>\n",
              "      <th>1025</th>\n",
              "      <td>“All I know about leadership I learned from......</td>\n",
              "      <td>Average (B-C)</td>\n",
              "      <td>59</td>\n",
              "      <td>446</td>\n",
              "      <td>0.32</td>\n",
              "      <td>0.30</td>\n",
              "      <td>0.14</td>\n",
              "      <td>0.11</td>\n",
              "      <td>0.21</td>\n",
              "      <td>0.19</td>\n",
              "      <td>0.084746</td>\n",
              "      <td>0.915254</td>\n",
              "      <td>0.898305</td>\n",
              "      <td>0.050847</td>\n",
              "      <td>0.0</td>\n",
              "      <td>0.050847</td>\n",
              "      <td>81.62</td>\n",
              "      <td>0.493274</td>\n",
              "    </tr>\n",
              "  </tbody>\n",
              "</table>\n",
              "<p>401 rows × 18 columns</p>\n",
              "</div>"
            ],
            "text/plain": [
              "                                             Essay Text  ... UniqWordDensity\n",
              "0     The provided line graph depicts the marriages ...  ...        0.436090\n",
              "1     The pie chart illustrates the main causes of l...  ...        0.428571\n",
              "3     The line graph represented how many units of e...  ...        0.515385\n",
              "5     1 \\nEntrepreneur: In 1998, at the age of eight...  ...        0.637188\n",
              "7     Throughout my high school career, I have recei...  ...        0.702703\n",
              "...                                                 ...  ...             ...\n",
              "1004  MY FAMILY HAS TAKEN LIVING IN the big city as ...  ...        0.696498\n",
              "1011  I like talking to people. And I like to thrift...  ...        0.846154\n",
              "1013  When I turned twelve, my stepdad turned violen...  ...        0.682594\n",
              "1022  I laugh when people say that they wonder about...  ...        0.655290\n",
              "1025  “All I know about leadership I learned from......  ...        0.493274\n",
              "\n",
              "[401 rows x 18 columns]"
            ]
          },
          "metadata": {},
          "execution_count": 260
        }
      ]
    },
    {
      "cell_type": "code",
      "source": [
        "print(df_essays.iloc[2]['Essay Text'])"
      ],
      "metadata": {
        "colab": {
          "base_uri": "https://localhost:8080/"
        },
        "id": "N3yvL7zy7fNh",
        "outputId": "886ce0b8-aee7-46bd-c80e-cbbe075838e9"
      },
      "execution_count": 324,
      "outputs": [
        {
          "output_type": "stream",
          "name": "stdout",
          "text": [
            "I love mathematics, my whole life I've been involved in activities related to this subject. Through my participation in competitions I've been interested in the combinatorial problems and conferences offered by famous mathematicians like \"The mathematics of Doodling\" by Professor Ravi Vakil on the IMO Lecture. Talking with him and contestants from other countries I've found myself immersed in the maths world, which is why I'd love to be part of your Mathematics Department in applied combinatorics. I find very exciting how your UROP can help me to obtain experience and make contributions in the field before even graduating.\n"
          ]
        }
      ]
    },
    {
      "cell_type": "code",
      "source": [
        "df_test = df_essays.iloc[[1035]]\n",
        "def count_sentences(essay):\n",
        "  doc = nlp(essay)\n",
        "  for sent in doc.sents:\n",
        "    print(\"This is the sentence\")\n",
        "    print(sent)\n",
        "    print()\n",
        "  # doc_sents = [sent for sent in doc.sents]\n",
        "  # print(len(doc_sents))\n",
        "\n",
        "df_test['SentenceCount'] = df_test['Essay Text'].apply(count_sentences)"
      ],
      "metadata": {
        "colab": {
          "base_uri": "https://localhost:8080/"
        },
        "id": "puO6Z1-m_Jou",
        "outputId": "372554a4-cd6e-4540-c958-0cb73081e60a"
      },
      "execution_count": 294,
      "outputs": [
        {
          "output_type": "stream",
          "name": "stdout",
          "text": [
            "This is the sentence\n",
            "I was walking out of a company with a smile on my face, happiness in my heart and a voice inside my head saying \"this is what you are and you finally did it\".\n",
            "\n",
            "This is the sentence\n",
            "Before I explain you why I was so happy and satisfied\n",
            "\n",
            "This is the sentence\n",
            "let me start with an incident happened 2 months back.\n",
            " \n",
            "\n",
            "This is the sentence\n",
            "From 1 year I was working on my independent project to build a network system which cannot be hacked, I went to different companies to know the major issues they are facing with information security, and one day I came up with an idea to build a centralized network which acts like a brain which has no way to hack into.\n",
            "\n",
            "This is the sentence\n",
            "So I went to a company to meet the systems architect to confirm if the idea could work, he was surprised with the idea and said it will work if I can design the absolute network I explained.\n",
            "\n",
            "This is the sentence\n",
            "He gave me some of his research records and said if they could help, I returned home and started reading his work and after reading some pages I thought it was useless to me\n",
            "\n",
            "This is the sentence\n",
            "so I kept it aside.\n",
            " \n",
            "\n",
            "This is the sentence\n",
            "After a few days I started searching for top universities in the world with best undergraduate research opportunities and I found out most of them were situated in America.\n",
            "\n",
            "This is the sentence\n",
            "I decided to apply to some of the universities, so I read the requirements and found that SAT score is a major part of the application.\n",
            "\n",
            "This is the sentence\n",
            "My father encouraged me to take SAT even though we found it hard to pay.\n",
            "\n",
            "This is the sentence\n",
            "I decided to take SAT in October so that I could apply early, I started working hard for SAT as there is only one month left.\n",
            "\n",
            "This is the sentence\n",
            "It's October 13\n",
            "\n",
            "This is the sentence\n",
            "and I was confident that I could perform well\n",
            "\n",
            "This is the sentence\n",
            ", I reached the exam center and at checkpoint I was asked to show my ID\n",
            "\n",
            "This is the sentence\n",
            ", I showed them my government issued ID, but he said they would only accept passport as valuable ID in India, which I didn't have.\n",
            "\n",
            "This is the sentence\n",
            "I was not allowed even after requesting for long time\n",
            "\n",
            "This is the sentence\n",
            "and I didn't know what to do, I was in shock because I was never expected a hit like that, and it was replaying over and over in my head that I cannot afford for another registration and all my dreams of attending those universities were fading away.\n",
            " \n",
            "\n",
            "This is the sentence\n",
            "I was inconsolably angry with myself.\n",
            "\n",
            "This is the sentence\n",
            "I spent the entire car ride home tuning out my mother's words of consolation and my father blaming me for my over-confidence and recklessness.\n",
            "\n",
            "This is the sentence\n",
            "For the next few days I was thinking about any last chances for making it right\n",
            "\n",
            "This is the sentence\n",
            "and I was angry on my father for blaming me because I thought it was an honest mistake.\n",
            "\n",
            "This is the sentence\n",
            "One day my father came to me saying about the option of changing test date even after the exam at an affordable cost, and I shed tears with happiness and thanked my dad for helping.\n",
            "\n",
            "This is the sentence\n",
            "Later my father said it would take more than 2 months to get passport, so\n",
            "\n",
            "This is the sentence\n",
            "the only option left for me to take SAT in January which I thought would be late for submission.\n",
            "\n",
            "This is the sentence\n",
            "I send emails to universities requesting to accept January scores and they replied positively, everything was back to normal\n",
            "\n",
            "This is the sentence\n",
            "and I am ready to apply to the universities.\n",
            " \n",
            "\n",
            "This is the sentence\n",
            "But one day I was recalling all those nightmares and I started asking myself why I have gone through all these, so I opened the College Board website to read all the terms and conditions\n",
            "\n",
            "This is the sentence\n",
            "and I found out the line mentioning about specific countries was exactly below the line mentioning\n",
            "\n",
            "This is the sentence\n",
            "\"any government issued ID will be accepted\", and I was thinking why I didn't read that line, then I remembered the negatives my father used to point out in me, which I didn't care until I went through a break song.\n",
            "\n",
            "This is the sentence\n",
            "Yes, I had a habit of not reading completely and imagining what they would write next will be useless, I thought myself as genius while doing those but now see that behavior as nothing but immaturity.\n",
            "\n",
            "This is the sentence\n",
            "My father was right\n",
            "\n",
            "This is the sentence\n",
            "I was a lot over-confident in things I used to do, but I think that failure is not actually a failure, it gave me a second chance to change my attitude.\n",
            "\n",
            "This is the sentence\n",
            "I started seeing myself nothing but a common student like others, so I started reading the research work gave to me by the engineer and\n",
            "\n",
            "This is the sentence\n",
            "after working on it for a month I found a brilliant formula to build my project.\n",
            "\n",
            "This is the sentence\n",
            "I visited his company to thank him personally for giving his personal work for my project and he said he was very happy to see a passionate student like me, and this is what made me happy and satisfied today\n",
            "\n",
            "This is the sentence\n",
            "and maybe I needed to stopped entering the exam hall to see the other side.\n",
            "\n"
          ]
        },
        {
          "output_type": "stream",
          "name": "stderr",
          "text": [
            "/usr/local/lib/python3.7/dist-packages/ipykernel_launcher.py:11: SettingWithCopyWarning: \n",
            "A value is trying to be set on a copy of a slice from a DataFrame.\n",
            "Try using .loc[row_indexer,col_indexer] = value instead\n",
            "\n",
            "See the caveats in the documentation: https://pandas.pydata.org/pandas-docs/stable/user_guide/indexing.html#returning-a-view-versus-a-copy\n",
            "  # This is added back by InteractiveShellApp.init_path()\n"
          ]
        }
      ]
    },
    {
      "cell_type": "code",
      "source": [
        "df_test.head"
      ],
      "metadata": {
        "colab": {
          "base_uri": "https://localhost:8080/"
        },
        "id": "y3BAQPyY_php",
        "outputId": "22d59281-f8bd-4fd7-a881-74bb5b355deb"
      },
      "execution_count": 283,
      "outputs": [
        {
          "output_type": "execute_result",
          "data": {
            "text/plain": [
              "Essay Text       I was walking out of a company with a smile on...\n",
              "Essay Grading                                            Bad (D-F)\n",
              "SentenceCount                                                   36\n",
              "WordCount                                                      429\n",
              "VerbCount                                                     0.35\n",
              "Name: 1035, dtype: object"
            ]
          },
          "metadata": {},
          "execution_count": 283
        }
      ]
    },
    {
      "cell_type": "code",
      "source": [
        "df_essays.iloc[1035]"
      ],
      "metadata": {
        "colab": {
          "base_uri": "https://localhost:8080/"
        },
        "id": "JFYXWBTs8BPK",
        "outputId": "9bc5a703-c68a-46a5-c03d-0b275b69f8a6"
      },
      "execution_count": 279,
      "outputs": [
        {
          "output_type": "execute_result",
          "data": {
            "text/plain": [
              "Essay Text              I was walking out of a company with a smile on...\n",
              "Essay Grading                                                   Bad (D-F)\n",
              "SentenceCount                                                          36\n",
              "WordCount                                                             429\n",
              "VerbCount                                                            0.35\n",
              "NounCount                                                            0.31\n",
              "AdjCount                                                             0.11\n",
              "AdverbCount                                                          0.08\n",
              "PronounCount                                                         0.26\n",
              "PunctCount                                                           0.13\n",
              "NumberofPassiveVoice                                            0.0555556\n",
              "NumberofActiveVoice                                              0.944444\n",
              "NumComplexComp                                                   0.916667\n",
              "NumComplex                                                      0.0833333\n",
              "NumCompund                                                              0\n",
              "NumSimple                                                               0\n",
              "FleschScore                                                         57.79\n",
              "UniqWordDensity                                                  0.582751\n",
              "Name: 1035, dtype: object"
            ]
          },
          "metadata": {},
          "execution_count": 279
        }
      ]
    },
    {
      "cell_type": "code",
      "source": [
        "dict  = {2:'Excellent (A+)',1:'Average (B-C)',0:'Bad (D-F)'}\n",
        "# Split the data into features and target label\n",
        "\n",
        "df_essays_copy = df_essays.copy()\n",
        "\n",
        "df_essays_copy['Essay Grading'] = df_essays_copy['Essay Grading'].apply(lambda x:2 if x==\"Excellent (A+)\" else 1 if x=='Average (B-C)' else 0)\n",
        "df_essays_copy.drop(['Essay Text'], axis = 1,inplace=True,errors='ignore')\n",
        "data = np.asarray(df_essays_copy)"
      ],
      "metadata": {
        "id": "niAk0yO_Rq07"
      },
      "execution_count": null,
      "outputs": []
    },
    {
      "cell_type": "code",
      "source": [
        "X = data[:, [0, 9]] # SentenceCount,NumberofPassiveVoice\n",
        "y = data[:,-3]\n",
        "\n",
        "plt.figure(figsize=(18, 18), dpi=80)\n",
        "plt.scatter(X[np.argwhere(y==0).flatten(),0], X[np.argwhere(y==0).flatten(),1],s = 50, color = 'blue', edgecolor = 'k',label=dict[0])\n",
        "plt.scatter(X[np.argwhere(y==1).flatten(),0], X[np.argwhere(y==1).flatten(),1],s = 50, color = 'red', edgecolor = 'k',label=dict[1])\n",
        "plt.scatter(X[np.argwhere(y==2).flatten(),0], X[np.argwhere(y==2).flatten(),1],s = 50, color = 'yellow', edgecolor = 'k',label=dict[2])\n",
        "plt.ylabel('Number of Passive Voice Sentences')\n",
        "plt.xlabel('Number of Sentences')\n",
        "plt.legend()\n",
        "plt.show()\n"
      ],
      "metadata": {
        "id": "CbYV70n2pvEy"
      },
      "execution_count": null,
      "outputs": []
    },
    {
      "cell_type": "code",
      "source": [
        "X = data[:, [0, 10]] # SentenceCount,NumberofActiveVoice\n",
        "y = data[:,-3]\n",
        "\n",
        "plt.figure(figsize=(18, 18), dpi=80)\n",
        "plt.scatter(X[np.argwhere(y==0).flatten(),0], X[np.argwhere(y==0).flatten(),1],s = 50, color = 'blue', edgecolor = 'k',label=dict[0])\n",
        "plt.scatter(X[np.argwhere(y==1).flatten(),0], X[np.argwhere(y==1).flatten(),1],s = 50, color = 'red', edgecolor = 'k',label=dict[1])\n",
        "plt.scatter(X[np.argwhere(y==2).flatten(),0], X[np.argwhere(y==2).flatten(),1],s = 50, color = 'yellow', edgecolor = 'k',label=dict[2])\n",
        "plt.ylabel('Number of Active Voice Sentences')\n",
        "plt.xlabel('Number of Sentences')\n",
        "plt.legend()\n",
        "plt.show()\n"
      ],
      "metadata": {
        "id": "osIK9s_QU2t_"
      },
      "execution_count": null,
      "outputs": []
    },
    {
      "cell_type": "code",
      "source": [
        ""
      ],
      "metadata": {
        "id": "Lt1S73EkzOTs"
      },
      "execution_count": null,
      "outputs": []
    },
    {
      "cell_type": "code",
      "source": [
        "X.head"
      ],
      "metadata": {
        "id": "qNDbAHOpNXHq"
      },
      "execution_count": null,
      "outputs": []
    },
    {
      "cell_type": "code",
      "source": [
        "y.head()"
      ],
      "metadata": {
        "id": "7Z61v9F6Na-z"
      },
      "execution_count": null,
      "outputs": []
    },
    {
      "cell_type": "code",
      "source": [
        ""
      ],
      "metadata": {
        "id": "NhhfSzDnNfRl"
      },
      "execution_count": null,
      "outputs": []
    }
  ]
}