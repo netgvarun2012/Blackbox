{
  "nbformat": 4,
  "nbformat_minor": 0,
  "metadata": {
    "colab": {
      "name": "TextifyProofReading.ipynb",
      "provenance": [],
      "collapsed_sections": [],
      "authorship_tag": "ABX9TyObczZ+YrdG7LkePVEWqbaC",
      "include_colab_link": true
    },
    "kernelspec": {
      "name": "python3",
      "display_name": "Python 3"
    },
    "language_info": {
      "name": "python"
    }
  },
  "cells": [
    {
      "cell_type": "markdown",
      "metadata": {
        "id": "view-in-github",
        "colab_type": "text"
      },
      "source": [
        "<a href=\"https://colab.research.google.com/github/netgvarun2021/Blackbox/blob/main/TextifyProofReading.ipynb\" target=\"_parent\"><img src=\"https://colab.research.google.com/assets/colab-badge.svg\" alt=\"Open In Colab\"/></a>"
      ]
    },
    {
      "cell_type": "code",
      "metadata": {
        "colab": {
          "base_uri": "https://localhost:8080/"
        },
        "id": "oZp6LkQL1o4k",
        "outputId": "077f8ddf-8050-41d8-f7aa-e123487d12af"
      },
      "source": [
        "gpu_info = !nvidia-smi\n",
        "gpu_info = '\\n'.join(gpu_info)\n",
        "if gpu_info.find('failed') >= 0:\n",
        "  print('Not connected to a GPU')\n",
        "else:\n",
        "  print(gpu_info)"
      ],
      "execution_count": null,
      "outputs": [
        {
          "output_type": "stream",
          "name": "stdout",
          "text": [
            "Not connected to a GPU\n"
          ]
        }
      ]
    },
    {
      "cell_type": "code",
      "metadata": {
        "colab": {
          "base_uri": "https://localhost:8080/"
        },
        "id": "6SGIy8RG2WEu",
        "outputId": "65904ea1-73fa-4700-a76d-1a6669ff5a65"
      },
      "source": [
        "!nvidia-smi"
      ],
      "execution_count": null,
      "outputs": [
        {
          "output_type": "stream",
          "name": "stdout",
          "text": [
            "NVIDIA-SMI has failed because it couldn't communicate with the NVIDIA driver. Make sure that the latest NVIDIA driver is installed and running.\n",
            "\n"
          ]
        }
      ]
    },
    {
      "cell_type": "code",
      "metadata": {
        "id": "HeQSttMz3JL6"
      },
      "source": [
        "import os\n",
        "import pandas as pd\n",
        "import spacy\n",
        "from spacy import displacy\n",
        "import nltk\n",
        "from nltk.tokenize import word_tokenize\n",
        "from google.colab import drive"
      ],
      "execution_count": 128,
      "outputs": []
    },
    {
      "cell_type": "code",
      "metadata": {
        "colab": {
          "base_uri": "https://localhost:8080/"
        },
        "id": "xOfehfR72nvU",
        "outputId": "fd5e9345-96f0-43a4-852f-ea58be4ce91e"
      },
      "source": [
        "drive.mount('/content/gdrive')"
      ],
      "execution_count": 129,
      "outputs": [
        {
          "output_type": "stream",
          "name": "stdout",
          "text": [
            "Drive already mounted at /content/gdrive; to attempt to forcibly remount, call drive.mount(\"/content/gdrive\", force_remount=True).\n"
          ]
        }
      ]
    },
    {
      "cell_type": "code",
      "metadata": {
        "colab": {
          "base_uri": "https://localhost:8080/"
        },
        "id": "ATj27jXl2tHf",
        "outputId": "516659b1-e4f5-4ed9-c209-4f4a2f2eee9c"
      },
      "source": [
        "imdb_dir = '/content/gdrive/MyDrive'\n",
        "dataset_dir = os.path.join(imdb_dir, 'Textify.ai/Textify AI Text Corpus Center (Responses).xlsx')\n",
        "print(dataset_dir)"
      ],
      "execution_count": 130,
      "outputs": [
        {
          "output_type": "stream",
          "name": "stdout",
          "text": [
            "/content/gdrive/MyDrive/Textify.ai/Textify AI Text Corpus Center (Responses).xlsx\n"
          ]
        }
      ]
    },
    {
      "cell_type": "code",
      "metadata": {
        "id": "jcdJGhut3HGI"
      },
      "source": [
        "df = pd.read_excel(dataset_dir)"
      ],
      "execution_count": 131,
      "outputs": []
    },
    {
      "cell_type": "code",
      "metadata": {
        "colab": {
          "base_uri": "https://localhost:8080/"
        },
        "id": "R_XKtKqqUXXZ",
        "outputId": "1c2bd164-4e07-4c31-c685-b63680bdef7f"
      },
      "source": [
        "df.shape"
      ],
      "execution_count": 132,
      "outputs": [
        {
          "output_type": "execute_result",
          "data": {
            "text/plain": [
              "(734, 11)"
            ]
          },
          "metadata": {},
          "execution_count": 132
        }
      ]
    },
    {
      "cell_type": "code",
      "metadata": {
        "id": "I7UiCVjwUd6z"
      },
      "source": [
        "nlp = spacy.load('en_core_web_sm')\n"
      ],
      "execution_count": 133,
      "outputs": []
    },
    {
      "cell_type": "code",
      "metadata": {
        "colab": {
          "base_uri": "https://localhost:8080/",
          "height": 122
        },
        "id": "HISy80EeVMGD",
        "outputId": "5a403860-99c1-4641-a699-f22863fb0fcc"
      },
      "source": [
        "df[:1]['Essay Text'].values[0]"
      ],
      "execution_count": 134,
      "outputs": [
        {
          "output_type": "execute_result",
          "data": {
            "application/vnd.google.colaboratory.intrinsic+json": {
              "type": "string"
            },
            "text/plain": [
              "'THE ALARM CLOCK IS, TO MANY high school students, a wailing monstrosity whose purpose is to torture all who are sleep-deprived. Those who believe this are misguided, and are simply viewing the situation from a twisted perspective. For when these imprudent early-risers blearily rub their eyes each morning, and search in vain for whatever is making that earsplitting noise, they are, without a doubt, annoyed. Why? \\nIt isn’t because the only thing they desire is to sleep a few extra hours, as many would presume. no, these kids are groggy and irritable because they are waking up to what they think will be another horribly boring day of school. If one of these foolish Sallys or Joes were, say, sleeping comfortably on a Saturday morning, I could certainly see something different happening. A beautiful breakfast of tantalizing vittles—eggs, hash browns, and the like—would be ready and waiting for them on their kitchen tables. But the scrumptious delight to outshine them all would be a slab of bacon, piled proudly for the taking. It would be that wafting, wondrous bacon smell that would draw dear, sweet Sally abruptly from her slumber—long before an alarm clock has the chance to pierce the air. \\nOh, bacon: what a marvelous, glorious thing! I live for those heart-stoppingly good strips of succulence, so crispy and crunchy, so packed with perfection. The thought of having a plate of bacon every day, perhaps every school day, sends me into sheer waves of ecstasy! \\nTo be sure, many others would also wax poetic about this lovely breakfast food. But precious few would share this same zeal for learning. I, however, can smugly decree that I do regard both very highly. I brightly waken every morning to the mellifluous joy that sounds from my alarm clock, a huge smile plastered on my face, and the yearning to learn in my heart. \\nWhen I board my school bus Monday through Friday, it is still pitch black outside. Busmates will groan about how even the day has not yet dragged itself out of bed; I only chuckle through their thirty-minute rant fest as we chug down the freeway. Opting to be part of a faraway Magnet school, after all, has its benefits. My peers may still not look forward to waking up earlier, but when we are all together in a classroom, we take on the “bacon mentality.” I have the opportunity to choose from a wealth of diverse classes, and love arriving to school each day with the prospect of having a new Spanish History lesson—taught to me in Spanish, for a change. Teachers, driven by the enthusiasm of their Magnet students, are inspired to create new classes for advanced students, including those who have completed AP Spanish Literature and are still eager to learn more, or those who want to learn about a specific aspect of a subject—we now have a Middle Eastern History class. not to be outdone, the post-AP exam period of my English Language class included an intensive literature study, where we laughed at good ol’ Yossarian in Catch-22, and developed a strong attachment to Jay gatsby. I’d like to think that The Great Gatsby’s pursuit of Daisy is not unlike my own pursuit of bacon. I’ve gobbled up new knowledge rapidly, hankering after it like any elusive bacon strip, and happily digesting any new bits of information. \\nBut six classes a year are simply not enough to satisfy my hunger for knowledge. Just as I eat bacon all three meals of the day (when possible), I attempt to learn all days of the week. rather than make another trip to some lackluster movie theatre on the weekend, I dedicate my time to reading another good book, or reviewing Economics with my friends. But high school is starting to smell like leftovers to me now; I want fresh, new, crisp learning. I want not to read a textbook written by a renowned professor: I want to hear him speak directly. I’m ready for the university, and hunger for all the new opportunities waiting for me! I’ve finished my breakfast, and now it’s time to get going to school.'"
            ]
          },
          "metadata": {},
          "execution_count": 134
        }
      ]
    },
    {
      "cell_type": "code",
      "metadata": {
        "id": "8h8M1DXOVUSl"
      },
      "source": [
        "# Create a simple Doc object\n",
        "doc = nlp(df[:1]['Essay Text'].values[0])"
      ],
      "execution_count": 135,
      "outputs": []
    },
    {
      "cell_type": "code",
      "metadata": {
        "colab": {
          "base_uri": "https://localhost:8080/"
        },
        "id": "cvxAIroHVlNO",
        "outputId": "5d81dacd-d202-441c-d8af-5ebe6ed6c514"
      },
      "source": [
        "for token in doc:\n",
        "    print(f'{token.text:{10}} {token.pos_:{7}} {token.dep_:{7}} {spacy.explain(token.dep_)}')"
      ],
      "execution_count": 136,
      "outputs": [
        {
          "output_type": "stream",
          "name": "stdout",
          "text": [
            "THE        DET     det     determiner\n",
            "ALARM      PROPN   compound compound\n",
            "CLOCK      PROPN   nsubj   nominal subject\n",
            "IS         VERB    ROOT    None\n",
            ",          PUNCT   punct   punctuation\n",
            "TO         ADP     prep    prepositional modifier\n",
            "MANY       ADJ     amod    adjectival modifier\n",
            "high       ADJ     amod    adjectival modifier\n",
            "school     NOUN    compound compound\n",
            "students   NOUN    pobj    object of preposition\n",
            ",          PUNCT   punct   punctuation\n",
            "a          DET     det     determiner\n",
            "wailing    VERB    amod    adjectival modifier\n",
            "monstrosity NOUN    appos   appositional modifier\n",
            "whose      DET     poss    possession modifier\n",
            "purpose    NOUN    nsubj   nominal subject\n",
            "is         AUX     relcl   relative clause modifier\n",
            "to         PART    aux     auxiliary\n",
            "torture    VERB    xcomp   open clausal complement\n",
            "all        DET     dobj    direct object\n",
            "who        PRON    nsubj   nominal subject\n",
            "are        AUX     relcl   relative clause modifier\n",
            "sleep      NOUN    dep     unclassified dependent\n",
            "-          PUNCT   punct   punctuation\n",
            "deprived   VERB    acomp   adjectival complement\n",
            ".          PUNCT   punct   punctuation\n",
            "Those      DET     nsubjpass nominal subject (passive)\n",
            "who        PRON    nsubj   nominal subject\n",
            "believe    VERB    relcl   relative clause modifier\n",
            "this       DET     dobj    direct object\n",
            "are        AUX     auxpass auxiliary (passive)\n",
            "misguided  ADJ     ROOT    None\n",
            ",          PUNCT   punct   punctuation\n",
            "and        CCONJ   cc      coordinating conjunction\n",
            "are        AUX     aux     auxiliary\n",
            "simply     ADV     advmod  adverbial modifier\n",
            "viewing    VERB    conj    conjunct\n",
            "the        DET     det     determiner\n",
            "situation  NOUN    dobj    direct object\n",
            "from       ADP     prep    prepositional modifier\n",
            "a          DET     det     determiner\n",
            "twisted    ADJ     amod    adjectival modifier\n",
            "perspective NOUN    pobj    object of preposition\n",
            ".          PUNCT   punct   punctuation\n",
            "For        ADP     prep    prepositional modifier\n",
            "when       ADV     advmod  adverbial modifier\n",
            "these      DET     det     determiner\n",
            "imprudent  ADJ     intj    interjection\n",
            "early      ADJ     amod    adjectival modifier\n",
            "-          PUNCT   punct   punctuation\n",
            "risers     NOUN    nsubj   nominal subject\n",
            "blearily   NOUN    advmod  adverbial modifier\n",
            "rub        VERB    pcomp   complement of preposition\n",
            "their      DET     poss    possession modifier\n",
            "eyes       NOUN    dobj    direct object\n",
            "each       DET     det     determiner\n",
            "morning    NOUN    npadvmod noun phrase as adverbial modifier\n",
            ",          PUNCT   punct   punctuation\n",
            "and        CCONJ   cc      coordinating conjunction\n",
            "search     VERB    conj    conjunct\n",
            "in         ADP     prep    prepositional modifier\n",
            "vain       NOUN    pobj    object of preposition\n",
            "for        ADP     prep    prepositional modifier\n",
            "whatever   DET     nsubj   nominal subject\n",
            "is         AUX     aux     auxiliary\n",
            "making     VERB    pcomp   complement of preposition\n",
            "that       SCONJ   det     determiner\n",
            "earsplitting ADJ     compound compound\n",
            "noise      NOUN    dobj    direct object\n",
            ",          PUNCT   punct   punctuation\n",
            "they       PRON    nsubj   nominal subject\n",
            "are        AUX     ROOT    None\n",
            ",          PUNCT   punct   punctuation\n",
            "without    ADP     prep    prepositional modifier\n",
            "a          DET     det     determiner\n",
            "doubt      NOUN    pobj    object of preposition\n",
            ",          PUNCT   punct   punctuation\n",
            "annoyed    VERB    acomp   adjectival complement\n",
            ".          PUNCT   punct   punctuation\n",
            "Why        ADV     ROOT    None\n",
            "?          PUNCT   punct   punctuation\n",
            "\n",
            "          SPACE           None\n",
            "It         PRON    nsubj   nominal subject\n",
            "is         AUX     ROOT    None\n",
            "n’t        PART    acomp   adjectival complement\n",
            "because    SCONJ   mark    marker\n",
            "the        DET     det     determiner\n",
            "only       ADJ     amod    adjectival modifier\n",
            "thing      NOUN    nsubj   nominal subject\n",
            "they       PRON    nsubj   nominal subject\n",
            "desire     VERB    relcl   relative clause modifier\n",
            "is         AUX     advcl   adverbial clause modifier\n",
            "to         PART    aux     auxiliary\n",
            "sleep      VERB    xcomp   open clausal complement\n",
            "a          DET     quantmod modifier of quantifier\n",
            "few        ADJ     nummod  numeric modifier\n",
            "extra      ADJ     amod    adjectival modifier\n",
            "hours      NOUN    dobj    direct object\n",
            ",          PUNCT   punct   punctuation\n",
            "as         SCONJ   mark    marker\n",
            "many       ADJ     nsubj   nominal subject\n",
            "would      VERB    aux     auxiliary\n",
            "presume    VERB    advcl   adverbial clause modifier\n",
            ".          PUNCT   punct   punctuation\n",
            "no         INTJ    intj    interjection\n",
            ",          PUNCT   punct   punctuation\n",
            "these      DET     det     determiner\n",
            "kids       NOUN    nsubj   nominal subject\n",
            "are        AUX     ROOT    None\n",
            "groggy     ADJ     attr    attribute\n",
            "and        CCONJ   cc      coordinating conjunction\n",
            "irritable  ADJ     conj    conjunct\n",
            "because    SCONJ   mark    marker\n",
            "they       PRON    nsubj   nominal subject\n",
            "are        AUX     aux     auxiliary\n",
            "waking     VERB    advcl   adverbial clause modifier\n",
            "up         ADP     prt     particle\n",
            "to         ADP     prep    prepositional modifier\n",
            "what       PRON    nsubj   nominal subject\n",
            "they       PRON    nsubj   nominal subject\n",
            "think      VERB    pcomp   complement of preposition\n",
            "will       VERB    aux     auxiliary\n",
            "be         AUX     ccomp   clausal complement\n",
            "another    DET     det     determiner\n",
            "horribly   ADV     advmod  adverbial modifier\n",
            "boring     ADJ     amod    adjectival modifier\n",
            "day        NOUN    attr    attribute\n",
            "of         ADP     prep    prepositional modifier\n",
            "school     NOUN    pobj    object of preposition\n",
            ".          PUNCT   punct   punctuation\n",
            "If         SCONJ   mark    marker\n",
            "one        NUM     nsubj   nominal subject\n",
            "of         ADP     prep    prepositional modifier\n",
            "these      DET     det     determiner\n",
            "foolish    ADJ     amod    adjectival modifier\n",
            "Sallys     PROPN   pobj    object of preposition\n",
            "or         CCONJ   cc      coordinating conjunction\n",
            "Joes       NOUN    conj    conjunct\n",
            "were       AUX     advcl   adverbial clause modifier\n",
            ",          PUNCT   punct   punctuation\n",
            "say        INTJ    acomp   adjectival complement\n",
            ",          PUNCT   punct   punctuation\n",
            "sleeping   VERB    advcl   adverbial clause modifier\n",
            "comfortably ADV     advmod  adverbial modifier\n",
            "on         ADP     prep    prepositional modifier\n",
            "a          DET     det     determiner\n",
            "Saturday   PROPN   compound compound\n",
            "morning    NOUN    pobj    object of preposition\n",
            ",          PUNCT   punct   punctuation\n",
            "I          PRON    nsubj   nominal subject\n",
            "could      VERB    aux     auxiliary\n",
            "certainly  ADV     advmod  adverbial modifier\n",
            "see        VERB    ROOT    None\n",
            "something  PRON    nsubj   nominal subject\n",
            "different  ADJ     amod    adjectival modifier\n",
            "happening  NOUN    ccomp   clausal complement\n",
            ".          PUNCT   punct   punctuation\n",
            "A          DET     det     determiner\n",
            "beautiful  ADJ     amod    adjectival modifier\n",
            "breakfast  NOUN    nsubj   nominal subject\n",
            "of         ADP     prep    prepositional modifier\n",
            "tantalizing NOUN    compound compound\n",
            "vittles    NOUN    pobj    object of preposition\n",
            "—          PUNCT   punct   punctuation\n",
            "eggs       NOUN    appos   appositional modifier\n",
            ",          PUNCT   punct   punctuation\n",
            "hash       NOUN    compound compound\n",
            "browns     NOUN    conj    conjunct\n",
            ",          PUNCT   punct   punctuation\n",
            "and        CCONJ   cc      coordinating conjunction\n",
            "the        DET     det     determiner\n",
            "like       ADJ     conj    conjunct\n",
            "—          PUNCT   punct   punctuation\n",
            "would      VERB    aux     auxiliary\n",
            "be         AUX     ROOT    None\n",
            "ready      ADJ     acomp   adjectival complement\n",
            "and        CCONJ   cc      coordinating conjunction\n",
            "waiting    VERB    conj    conjunct\n",
            "for        ADP     prep    prepositional modifier\n",
            "them       PRON    pobj    object of preposition\n",
            "on         ADP     prep    prepositional modifier\n",
            "their      DET     poss    possession modifier\n",
            "kitchen    NOUN    compound compound\n",
            "tables     NOUN    pobj    object of preposition\n",
            ".          PUNCT   punct   punctuation\n",
            "But        CCONJ   cc      coordinating conjunction\n",
            "the        DET     det     determiner\n",
            "scrumptious ADJ     amod    adjectival modifier\n",
            "delight    NOUN    nsubj   nominal subject\n",
            "to         PART    aux     auxiliary\n",
            "outshine   VERB    relcl   relative clause modifier\n",
            "them       PRON    dobj    direct object\n",
            "all        DET     dobj    direct object\n",
            "would      VERB    aux     auxiliary\n",
            "be         AUX     ROOT    None\n",
            "a          DET     det     determiner\n",
            "slab       NOUN    attr    attribute\n",
            "of         ADP     prep    prepositional modifier\n",
            "bacon      NOUN    pobj    object of preposition\n",
            ",          PUNCT   punct   punctuation\n",
            "piled      VERB    conj    conjunct\n",
            "proudly    ADV     advmod  adverbial modifier\n",
            "for        ADP     prep    prepositional modifier\n",
            "the        DET     det     determiner\n",
            "taking     NOUN    pobj    object of preposition\n",
            ".          PUNCT   punct   punctuation\n",
            "It         PRON    nsubj   nominal subject\n",
            "would      VERB    aux     auxiliary\n",
            "be         AUX     ROOT    None\n",
            "that       ADV     det     determiner\n",
            "wafting    VERB    amod    adjectival modifier\n",
            ",          PUNCT   punct   punctuation\n",
            "wondrous   ADJ     amod    adjectival modifier\n",
            "bacon      NOUN    compound compound\n",
            "smell      NOUN    attr    attribute\n",
            "that       DET     nsubj   nominal subject\n",
            "would      VERB    aux     auxiliary\n",
            "draw       VERB    relcl   relative clause modifier\n",
            "dear       ADJ     amod    adjectival modifier\n",
            ",          PUNCT   punct   punctuation\n",
            "sweet      ADJ     amod    adjectival modifier\n",
            "Sally      PROPN   dobj    direct object\n",
            "abruptly   ADV     advmod  adverbial modifier\n",
            "from       ADP     prep    prepositional modifier\n",
            "her        DET     poss    possession modifier\n",
            "slumber    NOUN    pobj    object of preposition\n",
            "—          PUNCT   punct   punctuation\n",
            "long       ADV     advmod  adverbial modifier\n",
            "before     ADP     mark    marker\n",
            "an         DET     det     determiner\n",
            "alarm      NOUN    compound compound\n",
            "clock      NOUN    nsubj   nominal subject\n",
            "has        AUX     advcl   adverbial clause modifier\n",
            "the        DET     det     determiner\n",
            "chance     NOUN    dobj    direct object\n",
            "to         PART    aux     auxiliary\n",
            "pierce     VERB    acl     clausal modifier of noun (adjectival clause)\n",
            "the        DET     det     determiner\n",
            "air        NOUN    dobj    direct object\n",
            ".          PUNCT   punct   punctuation\n",
            "\n",
            "          SPACE           None\n",
            "Oh         INTJ    intj    interjection\n",
            ",          PUNCT   punct   punctuation\n",
            "bacon      PROPN   ROOT    None\n",
            ":          PUNCT   punct   punctuation\n",
            "what       DET     det     determiner\n",
            "a          DET     det     determiner\n",
            "marvelous  ADJ     amod    adjectival modifier\n",
            ",          PUNCT   punct   punctuation\n",
            "glorious   ADJ     amod    adjectival modifier\n",
            "thing      NOUN    ROOT    None\n",
            "!          PUNCT   punct   punctuation\n",
            "I          PRON    nsubj   nominal subject\n",
            "live       VERB    ROOT    None\n",
            "for        ADP     prep    prepositional modifier\n",
            "those      DET     det     determiner\n",
            "heart      NOUN    npadvmod noun phrase as adverbial modifier\n",
            "-          PUNCT   punct   punctuation\n",
            "stoppingly ADV     advmod  adverbial modifier\n",
            "good       ADJ     amod    adjectival modifier\n",
            "strips     NOUN    pobj    object of preposition\n",
            "of         ADP     prep    prepositional modifier\n",
            "succulence NOUN    pobj    object of preposition\n",
            ",          PUNCT   punct   punctuation\n",
            "so         CCONJ   cc      coordinating conjunction\n",
            "crispy     PROPN   intj    interjection\n",
            "and        CCONJ   cc      coordinating conjunction\n",
            "crunchy    VERB    conj    conjunct\n",
            ",          PUNCT   punct   punctuation\n",
            "so         ADV     advmod  adverbial modifier\n",
            "packed     ADJ     conj    conjunct\n",
            "with       ADP     prep    prepositional modifier\n",
            "perfection NOUN    pobj    object of preposition\n",
            ".          PUNCT   punct   punctuation\n",
            "The        DET     det     determiner\n",
            "thought    NOUN    nsubj   nominal subject\n",
            "of         ADP     prep    prepositional modifier\n",
            "having     VERB    pcomp   complement of preposition\n",
            "a          DET     det     determiner\n",
            "plate      NOUN    dobj    direct object\n",
            "of         ADP     prep    prepositional modifier\n",
            "bacon      NOUN    pobj    object of preposition\n",
            "every      DET     det     determiner\n",
            "day        NOUN    npadvmod noun phrase as adverbial modifier\n",
            ",          PUNCT   punct   punctuation\n",
            "perhaps    ADV     advmod  adverbial modifier\n",
            "every      DET     det     determiner\n",
            "school     NOUN    compound compound\n",
            "day        NOUN    appos   appositional modifier\n",
            ",          PUNCT   punct   punctuation\n",
            "sends      VERB    ROOT    None\n",
            "me         PRON    dobj    direct object\n",
            "into       ADP     prep    prepositional modifier\n",
            "sheer      ADJ     amod    adjectival modifier\n",
            "waves      NOUN    pobj    object of preposition\n",
            "of         ADP     prep    prepositional modifier\n",
            "ecstasy    NOUN    pobj    object of preposition\n",
            "!          PUNCT   punct   punctuation\n",
            "\n",
            "          SPACE           None\n",
            "To         PART    aux     auxiliary\n",
            "be         AUX     advcl   adverbial clause modifier\n",
            "sure       ADJ     acomp   adjectival complement\n",
            ",          PUNCT   punct   punctuation\n",
            "many       ADJ     amod    adjectival modifier\n",
            "others     NOUN    nsubj   nominal subject\n",
            "would      VERB    aux     auxiliary\n",
            "also       ADV     advmod  adverbial modifier\n",
            "wax        VERB    ROOT    None\n",
            "poetic     ADJ     dobj    direct object\n",
            "about      ADP     prep    prepositional modifier\n",
            "this       DET     det     determiner\n",
            "lovely     ADJ     amod    adjectival modifier\n",
            "breakfast  NOUN    compound compound\n",
            "food       NOUN    pobj    object of preposition\n",
            ".          PUNCT   punct   punctuation\n",
            "But        CCONJ   cc      coordinating conjunction\n",
            "precious   ADJ     amod    adjectival modifier\n",
            "few        ADJ     nsubj   nominal subject\n",
            "would      VERB    aux     auxiliary\n",
            "share      VERB    ROOT    None\n",
            "this       DET     det     determiner\n",
            "same       ADJ     amod    adjectival modifier\n",
            "zeal       NOUN    dobj    direct object\n",
            "for        ADP     prep    prepositional modifier\n",
            "learning   NOUN    pobj    object of preposition\n",
            ".          PUNCT   punct   punctuation\n",
            "I          PRON    nsubj   nominal subject\n",
            ",          PUNCT   punct   punctuation\n",
            "however    ADV     advmod  adverbial modifier\n",
            ",          PUNCT   punct   punctuation\n",
            "can        VERB    aux     auxiliary\n",
            "smugly     ADV     advmod  adverbial modifier\n",
            "decree     VERB    ROOT    None\n",
            "that       SCONJ   mark    marker\n",
            "I          PRON    nsubj   nominal subject\n",
            "do         AUX     aux     auxiliary\n",
            "regard     VERB    ccomp   clausal complement\n",
            "both       DET     advmod  adverbial modifier\n",
            "very       ADV     advmod  adverbial modifier\n",
            "highly     ADV     advmod  adverbial modifier\n",
            ".          PUNCT   punct   punctuation\n",
            "I          PRON    nsubj   nominal subject\n",
            "brightly   ADV     advmod  adverbial modifier\n",
            "waken      VERB    ROOT    None\n",
            "every      DET     det     determiner\n",
            "morning    NOUN    npadvmod noun phrase as adverbial modifier\n",
            "to         ADP     prep    prepositional modifier\n",
            "the        DET     det     determiner\n",
            "mellifluous ADJ     amod    adjectival modifier\n",
            "joy        NOUN    pobj    object of preposition\n",
            "that       DET     nsubj   nominal subject\n",
            "sounds     VERB    relcl   relative clause modifier\n",
            "from       ADP     prep    prepositional modifier\n",
            "my         DET     poss    possession modifier\n",
            "alarm      NOUN    compound compound\n",
            "clock      NOUN    pobj    object of preposition\n",
            ",          PUNCT   punct   punctuation\n",
            "a          DET     det     determiner\n",
            "huge       ADJ     amod    adjectival modifier\n",
            "smile      NOUN    appos   appositional modifier\n",
            "plastered  VERB    acl     clausal modifier of noun (adjectival clause)\n",
            "on         ADP     prep    prepositional modifier\n",
            "my         DET     poss    possession modifier\n",
            "face       NOUN    pobj    object of preposition\n",
            ",          PUNCT   punct   punctuation\n",
            "and        CCONJ   cc      coordinating conjunction\n",
            "the        DET     det     determiner\n",
            "yearning   NOUN    conj    conjunct\n",
            "to         PART    aux     auxiliary\n",
            "learn      VERB    relcl   relative clause modifier\n",
            "in         ADP     prep    prepositional modifier\n",
            "my         DET     poss    possession modifier\n",
            "heart      NOUN    pobj    object of preposition\n",
            ".          PUNCT   punct   punctuation\n",
            "\n",
            "          SPACE           None\n",
            "When       ADV     advmod  adverbial modifier\n",
            "I          PRON    nsubj   nominal subject\n",
            "board      VERB    advcl   adverbial clause modifier\n",
            "my         DET     poss    possession modifier\n",
            "school     NOUN    compound compound\n",
            "bus        NOUN    dobj    direct object\n",
            "Monday     PROPN   npadvmod noun phrase as adverbial modifier\n",
            "through    ADP     prep    prepositional modifier\n",
            "Friday     PROPN   pobj    object of preposition\n",
            ",          PUNCT   punct   punctuation\n",
            "it         PRON    nsubj   nominal subject\n",
            "is         AUX     ROOT    None\n",
            "still      ADV     advmod  adverbial modifier\n",
            "pitch      NOUN    acomp   adjectival complement\n",
            "black      ADJ     acomp   adjectival complement\n",
            "outside    ADV     advmod  adverbial modifier\n",
            ".          PUNCT   punct   punctuation\n",
            "Busmates   NOUN    nsubj   nominal subject\n",
            "will       VERB    aux     auxiliary\n",
            "groan      VERB    ccomp   clausal complement\n",
            "about      ADP     prep    prepositional modifier\n",
            "how        ADV     advmod  adverbial modifier\n",
            "even       ADV     advmod  adverbial modifier\n",
            "the        DET     det     determiner\n",
            "day        NOUN    nsubj   nominal subject\n",
            "has        AUX     aux     auxiliary\n",
            "not        PART    neg     negation modifier\n",
            "yet        ADV     advmod  adverbial modifier\n",
            "dragged    VERB    pcomp   complement of preposition\n",
            "itself     PRON    dobj    direct object\n",
            "out        SCONJ   prep    prepositional modifier\n",
            "of         ADP     prep    prepositional modifier\n",
            "bed        NOUN    pobj    object of preposition\n",
            ";          PUNCT   punct   punctuation\n",
            "I          PRON    nsubj   nominal subject\n",
            "only       ADV     advmod  adverbial modifier\n",
            "chuckle    VERB    ROOT    None\n",
            "through    ADP     prep    prepositional modifier\n",
            "their      DET     poss    possession modifier\n",
            "thirty     NUM     nummod  numeric modifier\n",
            "-          PUNCT   punct   punctuation\n",
            "minute     NOUN    compound compound\n",
            "rant       NOUN    amod    adjectival modifier\n",
            "fest       ADJ     pobj    object of preposition\n",
            "as         SCONJ   mark    marker\n",
            "we         PRON    nsubj   nominal subject\n",
            "chug       VERB    advcl   adverbial clause modifier\n",
            "down       ADP     prep    prepositional modifier\n",
            "the        DET     det     determiner\n",
            "freeway    NOUN    pobj    object of preposition\n",
            ".          PUNCT   punct   punctuation\n",
            "Opting     VERB    advcl   adverbial clause modifier\n",
            "to         PART    aux     auxiliary\n",
            "be         AUX     xcomp   open clausal complement\n",
            "part       NOUN    attr    attribute\n",
            "of         ADP     prep    prepositional modifier\n",
            "a          DET     det     determiner\n",
            "faraway    ADJ     amod    adjectival modifier\n",
            "Magnet     NOUN    compound compound\n",
            "school     NOUN    pobj    object of preposition\n",
            ",          PUNCT   punct   punctuation\n",
            "after      ADV     advmod  adverbial modifier\n",
            "all        ADV     advmod  adverbial modifier\n",
            ",          PUNCT   punct   punctuation\n",
            "has        AUX     ROOT    None\n",
            "its        DET     poss    possession modifier\n",
            "benefits   NOUN    dobj    direct object\n",
            ".          PUNCT   punct   punctuation\n",
            "My         DET     poss    possession modifier\n",
            "peers      NOUN    nsubj   nominal subject\n",
            "may        VERB    aux     auxiliary\n",
            "still      ADV     advmod  adverbial modifier\n",
            "not        PART    neg     negation modifier\n",
            "look       VERB    ROOT    None\n",
            "forward    ADV     advmod  adverbial modifier\n",
            "to         ADP     prep    prepositional modifier\n",
            "waking     VERB    pcomp   complement of preposition\n",
            "up         ADP     prt     particle\n",
            "earlier    ADV     advmod  adverbial modifier\n",
            ",          PUNCT   punct   punctuation\n",
            "but        CCONJ   cc      coordinating conjunction\n",
            "when       ADV     advmod  adverbial modifier\n",
            "we         PRON    nsubj   nominal subject\n",
            "are        AUX     advcl   adverbial clause modifier\n",
            "all        ADV     advmod  adverbial modifier\n",
            "together   ADV     advmod  adverbial modifier\n",
            "in         ADP     prep    prepositional modifier\n",
            "a          DET     det     determiner\n",
            "classroom  NOUN    pobj    object of preposition\n",
            ",          PUNCT   punct   punctuation\n",
            "we         PRON    nsubj   nominal subject\n",
            "take       VERB    conj    conjunct\n",
            "on         ADP     prt     particle\n",
            "the        DET     det     determiner\n",
            "“          PUNCT   punct   punctuation\n",
            "bacon      PROPN   compound compound\n",
            "mentality  NOUN    dobj    direct object\n",
            ".          PUNCT   punct   punctuation\n",
            "”          PUNCT   ROOT    None\n",
            "I          PRON    nsubj   nominal subject\n",
            "have       AUX     ROOT    None\n",
            "the        DET     det     determiner\n",
            "opportunity NOUN    dobj    direct object\n",
            "to         PART    aux     auxiliary\n",
            "choose     VERB    acl     clausal modifier of noun (adjectival clause)\n",
            "from       ADP     prep    prepositional modifier\n",
            "a          DET     det     determiner\n",
            "wealth     NOUN    pobj    object of preposition\n",
            "of         ADP     prep    prepositional modifier\n",
            "diverse    ADJ     amod    adjectival modifier\n",
            "classes    NOUN    pobj    object of preposition\n",
            ",          PUNCT   punct   punctuation\n",
            "and        CCONJ   cc      coordinating conjunction\n",
            "love       NOUN    conj    conjunct\n",
            "arriving   VERB    acl     clausal modifier of noun (adjectival clause)\n",
            "to         PART    prep    prepositional modifier\n",
            "school     NOUN    pobj    object of preposition\n",
            "each       DET     det     determiner\n",
            "day        NOUN    npadvmod noun phrase as adverbial modifier\n",
            "with       ADP     prep    prepositional modifier\n",
            "the        DET     det     determiner\n",
            "prospect   NOUN    pobj    object of preposition\n",
            "of         ADP     prep    prepositional modifier\n",
            "having     VERB    pcomp   complement of preposition\n",
            "a          DET     det     determiner\n",
            "new        ADJ     amod    adjectival modifier\n",
            "Spanish    ADJ     compound compound\n",
            "History    NOUN    compound compound\n",
            "lesson     NOUN    dobj    direct object\n",
            "—          PUNCT   punct   punctuation\n",
            "taught     VERB    acl     clausal modifier of noun (adjectival clause)\n",
            "to         ADP     prep    prepositional modifier\n",
            "me         PRON    pobj    object of preposition\n",
            "in         ADP     prep    prepositional modifier\n",
            "Spanish    PROPN   pobj    object of preposition\n",
            ",          PUNCT   punct   punctuation\n",
            "for        ADP     prep    prepositional modifier\n",
            "a          DET     det     determiner\n",
            "change     NOUN    pobj    object of preposition\n",
            ".          PUNCT   punct   punctuation\n",
            "Teachers   NOUN    nsubjpass nominal subject (passive)\n",
            ",          PUNCT   punct   punctuation\n",
            "driven     VERB    acl     clausal modifier of noun (adjectival clause)\n",
            "by         ADP     agent   agent\n",
            "the        DET     det     determiner\n",
            "enthusiasm NOUN    pobj    object of preposition\n",
            "of         ADP     prep    prepositional modifier\n",
            "their      DET     poss    possession modifier\n",
            "Magnet     PROPN   compound compound\n",
            "students   NOUN    pobj    object of preposition\n",
            ",          PUNCT   punct   punctuation\n",
            "are        AUX     auxpass auxiliary (passive)\n",
            "inspired   VERB    ccomp   clausal complement\n",
            "to         PART    aux     auxiliary\n",
            "create     VERB    xcomp   open clausal complement\n",
            "new        ADJ     amod    adjectival modifier\n",
            "classes    NOUN    dobj    direct object\n",
            "for        ADP     prep    prepositional modifier\n",
            "advanced   ADJ     amod    adjectival modifier\n",
            "students   NOUN    pobj    object of preposition\n",
            ",          PUNCT   punct   punctuation\n",
            "including  VERB    prep    prepositional modifier\n",
            "those      DET     pobj    object of preposition\n",
            "who        PRON    nsubj   nominal subject\n",
            "have       AUX     aux     auxiliary\n",
            "completed  VERB    relcl   relative clause modifier\n",
            "AP         PROPN   nmod    modifier of nominal\n",
            "Spanish    PROPN   compound compound\n",
            "Literature PROPN   dobj    direct object\n",
            "and        CCONJ   cc      coordinating conjunction\n",
            "are        AUX     conj    conjunct\n",
            "still      ADV     advmod  adverbial modifier\n",
            "eager      ADJ     acomp   adjectival complement\n",
            "to         PART    aux     auxiliary\n",
            "learn      VERB    xcomp   open clausal complement\n",
            "more       ADJ     dobj    direct object\n",
            ",          PUNCT   punct   punctuation\n",
            "or         CCONJ   cc      coordinating conjunction\n",
            "those      DET     conj    conjunct\n",
            "who        PRON    nsubj   nominal subject\n",
            "want       VERB    relcl   relative clause modifier\n",
            "to         PART    aux     auxiliary\n",
            "learn      VERB    xcomp   open clausal complement\n",
            "about      ADP     prep    prepositional modifier\n",
            "a          DET     det     determiner\n",
            "specific   ADJ     amod    adjectival modifier\n",
            "aspect     NOUN    pobj    object of preposition\n",
            "of         ADP     prep    prepositional modifier\n",
            "a          DET     det     determiner\n",
            "subject    NOUN    pobj    object of preposition\n",
            "—          PUNCT   punct   punctuation\n",
            "we         PRON    nsubj   nominal subject\n",
            "now        ADV     advmod  adverbial modifier\n",
            "have       AUX     ROOT    None\n",
            "a          DET     det     determiner\n",
            "Middle     ADJ     compound compound\n",
            "Eastern    ADJ     compound compound\n",
            "History    NOUN    compound compound\n",
            "class      NOUN    dobj    direct object\n",
            ".          PUNCT   punct   punctuation\n",
            "not        PART    neg     negation modifier\n",
            "to         PART    aux     auxiliary\n",
            "be         AUX     auxpass auxiliary (passive)\n",
            "outdone    VERB    advcl   adverbial clause modifier\n",
            ",          PUNCT   punct   punctuation\n",
            "the        DET     det     determiner\n",
            "post       ADJ     dep     unclassified dependent\n",
            "-          ADJ     dep     unclassified dependent\n",
            "AP         PROPN   amod    adjectival modifier\n",
            "exam       NOUN    compound compound\n",
            "period     NOUN    nsubj   nominal subject\n",
            "of         ADP     prep    prepositional modifier\n",
            "my         DET     poss    possession modifier\n",
            "English    PROPN   compound compound\n",
            "Language   PROPN   compound compound\n",
            "class      NOUN    pobj    object of preposition\n",
            "included   VERB    ROOT    None\n",
            "an         DET     det     determiner\n",
            "intensive  ADJ     amod    adjectival modifier\n",
            "literature NOUN    compound compound\n",
            "study      NOUN    dobj    direct object\n",
            ",          PUNCT   punct   punctuation\n",
            "where      ADV     advmod  adverbial modifier\n",
            "we         PRON    nsubj   nominal subject\n",
            "laughed    VERB    relcl   relative clause modifier\n",
            "at         ADP     prep    prepositional modifier\n",
            "good       ADJ     amod    adjectival modifier\n",
            "ol’        NUM     compound compound\n",
            "Yossarian  PROPN   pobj    object of preposition\n",
            "in         ADP     prep    prepositional modifier\n",
            "Catch-22   PROPN   pobj    object of preposition\n",
            ",          PUNCT   punct   punctuation\n",
            "and        CCONJ   cc      coordinating conjunction\n",
            "developed  VERB    conj    conjunct\n",
            "a          DET     det     determiner\n",
            "strong     ADJ     amod    adjectival modifier\n",
            "attachment NOUN    dobj    direct object\n",
            "to         ADP     prep    prepositional modifier\n",
            "Jay        PROPN   compound compound\n",
            "gatsby     PROPN   pobj    object of preposition\n",
            ".          PUNCT   punct   punctuation\n",
            "I          PRON    nsubj   nominal subject\n",
            "’d         VERB    aux     auxiliary\n",
            "like       VERB    ROOT    None\n",
            "to         PART    aux     auxiliary\n",
            "think      VERB    xcomp   open clausal complement\n",
            "that       SCONJ   mark    marker\n",
            "The        DET     det     determiner\n",
            "Great      PROPN   compound compound\n",
            "Gatsby     PROPN   nsubj   nominal subject\n",
            "’s         PART    punct   punctuation\n",
            "pursuit    NOUN    appos   appositional modifier\n",
            "of         ADP     prep    prepositional modifier\n",
            "Daisy      PROPN   pobj    object of preposition\n",
            "is         AUX     ccomp   clausal complement\n",
            "not        PART    neg     negation modifier\n",
            "unlike     ADP     prep    prepositional modifier\n",
            "my         DET     poss    possession modifier\n",
            "own        ADJ     amod    adjectival modifier\n",
            "pursuit    NOUN    pobj    object of preposition\n",
            "of         ADP     prep    prepositional modifier\n",
            "bacon      NOUN    pobj    object of preposition\n",
            ".          PUNCT   punct   punctuation\n",
            "I          PRON    nsubj   nominal subject\n",
            "’ve        VERB    aux     auxiliary\n",
            "gobbled    VERB    ROOT    None\n",
            "up         ADP     prt     particle\n",
            "new        ADJ     amod    adjectival modifier\n",
            "knowledge  NOUN    dobj    direct object\n",
            "rapidly    ADV     advmod  adverbial modifier\n",
            ",          PUNCT   punct   punctuation\n",
            "hankering  VERB    advcl   adverbial clause modifier\n",
            "after      ADP     prep    prepositional modifier\n",
            "it         PRON    pobj    object of preposition\n",
            "like       SCONJ   prep    prepositional modifier\n",
            "any        DET     det     determiner\n",
            "elusive    ADJ     amod    adjectival modifier\n",
            "bacon      NOUN    compound compound\n",
            "strip      NOUN    pobj    object of preposition\n",
            ",          PUNCT   punct   punctuation\n",
            "and        CCONJ   cc      coordinating conjunction\n",
            "happily    ADV     advmod  adverbial modifier\n",
            "digesting  VERB    conj    conjunct\n",
            "any        DET     det     determiner\n",
            "new        ADJ     amod    adjectival modifier\n",
            "bits       NOUN    dobj    direct object\n",
            "of         ADP     prep    prepositional modifier\n",
            "information NOUN    pobj    object of preposition\n",
            ".          PUNCT   punct   punctuation\n",
            "\n",
            "          SPACE           None\n",
            "But        CCONJ   cc      coordinating conjunction\n",
            "six        NUM     nummod  numeric modifier\n",
            "classes    NOUN    nsubj   nominal subject\n",
            "a          DET     det     determiner\n",
            "year       NOUN    npadvmod noun phrase as adverbial modifier\n",
            "are        AUX     ROOT    None\n",
            "simply     ADV     advmod  adverbial modifier\n",
            "not        PART    neg     negation modifier\n",
            "enough     ADJ     acomp   adjectival complement\n",
            "to         PART    aux     auxiliary\n",
            "satisfy    VERB    xcomp   open clausal complement\n",
            "my         DET     poss    possession modifier\n",
            "hunger     NOUN    dobj    direct object\n",
            "for        ADP     prep    prepositional modifier\n",
            "knowledge  NOUN    pobj    object of preposition\n",
            ".          PUNCT   punct   punctuation\n",
            "Just       ADV     advmod  adverbial modifier\n",
            "as         SCONJ   mark    marker\n",
            "I          PRON    nsubj   nominal subject\n",
            "eat        VERB    advcl   adverbial clause modifier\n",
            "bacon      PROPN   dobj    direct object\n",
            "all        DET     det     determiner\n",
            "three      NUM     nummod  numeric modifier\n",
            "meals      NOUN    npadvmod noun phrase as adverbial modifier\n",
            "of         ADP     prep    prepositional modifier\n",
            "the        DET     det     determiner\n",
            "day        NOUN    pobj    object of preposition\n",
            "(          PUNCT   punct   punctuation\n",
            "when       ADV     advmod  adverbial modifier\n",
            "possible   ADJ     advcl   adverbial clause modifier\n",
            ")          PUNCT   punct   punctuation\n",
            ",          PUNCT   punct   punctuation\n",
            "I          PRON    nsubj   nominal subject\n",
            "attempt    VERB    ROOT    None\n",
            "to         PART    aux     auxiliary\n",
            "learn      VERB    xcomp   open clausal complement\n",
            "all        DET     det     determiner\n",
            "days       NOUN    dobj    direct object\n",
            "of         ADP     prep    prepositional modifier\n",
            "the        DET     det     determiner\n",
            "week       NOUN    pobj    object of preposition\n",
            ".          PUNCT   punct   punctuation\n",
            "rather     ADV     advmod  adverbial modifier\n",
            "than       SCONJ   cc      coordinating conjunction\n",
            "make       VERB    advcl   adverbial clause modifier\n",
            "another    DET     det     determiner\n",
            "trip       NOUN    dobj    direct object\n",
            "to         ADP     prep    prepositional modifier\n",
            "some       DET     det     determiner\n",
            "lackluster ADJ     amod    adjectival modifier\n",
            "movie      NOUN    compound compound\n",
            "theatre    NOUN    pobj    object of preposition\n",
            "on         ADP     prep    prepositional modifier\n",
            "the        DET     det     determiner\n",
            "weekend    NOUN    pobj    object of preposition\n",
            ",          PUNCT   punct   punctuation\n",
            "I          PRON    nsubj   nominal subject\n",
            "dedicate   VERB    ROOT    None\n",
            "my         DET     poss    possession modifier\n",
            "time       NOUN    dobj    direct object\n",
            "to         ADP     prep    prepositional modifier\n",
            "reading    VERB    pcomp   complement of preposition\n",
            "another    DET     det     determiner\n",
            "good       ADJ     amod    adjectival modifier\n",
            "book       NOUN    dobj    direct object\n",
            ",          PUNCT   punct   punctuation\n",
            "or         CCONJ   cc      coordinating conjunction\n",
            "reviewing  VERB    conj    conjunct\n",
            "Economics  PROPN   dobj    direct object\n",
            "with       ADP     prep    prepositional modifier\n",
            "my         DET     poss    possession modifier\n",
            "friends    NOUN    pobj    object of preposition\n",
            ".          PUNCT   punct   punctuation\n",
            "But        CCONJ   cc      coordinating conjunction\n",
            "high       ADJ     amod    adjectival modifier\n",
            "school     NOUN    nsubj   nominal subject\n",
            "is         AUX     aux     auxiliary\n",
            "starting   VERB    ccomp   clausal complement\n",
            "to         PART    aux     auxiliary\n",
            "smell      VERB    xcomp   open clausal complement\n",
            "like       SCONJ   prep    prepositional modifier\n",
            "leftovers  NOUN    pobj    object of preposition\n",
            "to         ADP     prep    prepositional modifier\n",
            "me         PRON    pobj    object of preposition\n",
            "now        ADV     advmod  adverbial modifier\n",
            ";          PUNCT   punct   punctuation\n",
            "I          PRON    nsubj   nominal subject\n",
            "want       VERB    ROOT    None\n",
            "fresh      ADJ     amod    adjectival modifier\n",
            ",          PUNCT   punct   punctuation\n",
            "new        ADJ     amod    adjectival modifier\n",
            ",          PUNCT   punct   punctuation\n",
            "crisp      ADJ     amod    adjectival modifier\n",
            "learning   NOUN    dobj    direct object\n",
            ".          PUNCT   punct   punctuation\n",
            "I          PRON    nsubj   nominal subject\n",
            "want       VERB    ccomp   clausal complement\n",
            "not        PART    neg     negation modifier\n",
            "to         PART    aux     auxiliary\n",
            "read       VERB    xcomp   open clausal complement\n",
            "a          DET     det     determiner\n",
            "textbook   NOUN    dobj    direct object\n",
            "written    VERB    acl     clausal modifier of noun (adjectival clause)\n",
            "by         ADP     agent   agent\n",
            "a          DET     det     determiner\n",
            "renowned   ADJ     amod    adjectival modifier\n",
            "professor  NOUN    pobj    object of preposition\n",
            ":          PUNCT   punct   punctuation\n",
            "I          PRON    nsubj   nominal subject\n",
            "want       VERB    ROOT    None\n",
            "to         PART    aux     auxiliary\n",
            "hear       VERB    xcomp   open clausal complement\n",
            "him        PRON    nsubj   nominal subject\n",
            "speak      VERB    ccomp   clausal complement\n",
            "directly   ADV     advmod  adverbial modifier\n",
            ".          PUNCT   punct   punctuation\n",
            "I          PRON    nsubj   nominal subject\n",
            "’m         VERB    ROOT    None\n",
            "ready      ADJ     acomp   adjectival complement\n",
            "for        ADP     prep    prepositional modifier\n",
            "the        DET     det     determiner\n",
            "university NOUN    pobj    object of preposition\n",
            ",          PUNCT   punct   punctuation\n",
            "and        CCONJ   cc      coordinating conjunction\n",
            "hunger     NOUN    conj    conjunct\n",
            "for        ADP     prep    prepositional modifier\n",
            "all        DET     predet  None\n",
            "the        DET     det     determiner\n",
            "new        ADJ     amod    adjectival modifier\n",
            "opportunities NOUN    nsubj   nominal subject\n",
            "waiting    VERB    pcomp   complement of preposition\n",
            "for        ADP     prep    prepositional modifier\n",
            "me         PRON    pobj    object of preposition\n",
            "!          PUNCT   punct   punctuation\n",
            "I          PRON    nsubj   nominal subject\n",
            "’ve        VERB    aux     auxiliary\n",
            "finished   VERB    ROOT    None\n",
            "my         DET     poss    possession modifier\n",
            "breakfast  NOUN    dobj    direct object\n",
            ",          PUNCT   punct   punctuation\n",
            "and        CCONJ   cc      coordinating conjunction\n",
            "now        ADV     advmod  adverbial modifier\n",
            "it         PRON    nsubj   nominal subject\n",
            "’s         VERB    punct   punctuation\n",
            "time       NOUN    conj    conjunct\n",
            "to         PART    aux     auxiliary\n",
            "get        AUX     relcl   relative clause modifier\n",
            "going      VERB    xcomp   open clausal complement\n",
            "to         ADP     prep    prepositional modifier\n",
            "school     NOUN    pobj    object of preposition\n",
            ".          PUNCT   punct   punctuation\n"
          ]
        }
      ]
    },
    {
      "cell_type": "code",
      "metadata": {
        "id": "n2vy50-9V4JT"
      },
      "source": [
        "df_essays = df['Essay Text'].to_frame()"
      ],
      "execution_count": 137,
      "outputs": []
    },
    {
      "cell_type": "code",
      "metadata": {
        "colab": {
          "base_uri": "https://localhost:8080/",
          "height": 206
        },
        "id": "twrevbUJWPZc",
        "outputId": "8db18474-343d-46d1-ec17-29e325a15f72"
      },
      "source": [
        "df_essays.head()"
      ],
      "execution_count": 138,
      "outputs": [
        {
          "output_type": "execute_result",
          "data": {
            "text/html": [
              "<div>\n",
              "<style scoped>\n",
              "    .dataframe tbody tr th:only-of-type {\n",
              "        vertical-align: middle;\n",
              "    }\n",
              "\n",
              "    .dataframe tbody tr th {\n",
              "        vertical-align: top;\n",
              "    }\n",
              "\n",
              "    .dataframe thead th {\n",
              "        text-align: right;\n",
              "    }\n",
              "</style>\n",
              "<table border=\"1\" class=\"dataframe\">\n",
              "  <thead>\n",
              "    <tr style=\"text-align: right;\">\n",
              "      <th></th>\n",
              "      <th>Essay Text</th>\n",
              "    </tr>\n",
              "  </thead>\n",
              "  <tbody>\n",
              "    <tr>\n",
              "      <th>0</th>\n",
              "      <td>THE ALARM CLOCK IS, TO MANY high school studen...</td>\n",
              "    </tr>\n",
              "    <tr>\n",
              "      <th>1</th>\n",
              "      <td>I HAVE ALWAYS BEEN A MATH-SCIENCE girl. I sigh...</td>\n",
              "    </tr>\n",
              "    <tr>\n",
              "      <th>2</th>\n",
              "      <td>WHEN I WAS FOUR YEARS OLD, I fell in love. It ...</td>\n",
              "    </tr>\n",
              "    <tr>\n",
              "      <th>3</th>\n",
              "      <td>THIS SUMMER, I WENT TO THE governor’s Honors P...</td>\n",
              "    </tr>\n",
              "    <tr>\n",
              "      <th>4</th>\n",
              "      <td>THIS PAST SUMMER I HAD THE opportunity to part...</td>\n",
              "    </tr>\n",
              "  </tbody>\n",
              "</table>\n",
              "</div>"
            ],
            "text/plain": [
              "                                          Essay Text\n",
              "0  THE ALARM CLOCK IS, TO MANY high school studen...\n",
              "1  I HAVE ALWAYS BEEN A MATH-SCIENCE girl. I sigh...\n",
              "2  WHEN I WAS FOUR YEARS OLD, I fell in love. It ...\n",
              "3  THIS SUMMER, I WENT TO THE governor’s Honors P...\n",
              "4  THIS PAST SUMMER I HAD THE opportunity to part..."
            ]
          },
          "metadata": {},
          "execution_count": 138
        }
      ]
    },
    {
      "cell_type": "code",
      "metadata": {
        "id": "eBWqF3Ugh1-q"
      },
      "source": [
        "#df_essays_mini = df_essays[:3]"
      ],
      "execution_count": 141,
      "outputs": []
    },
    {
      "cell_type": "code",
      "metadata": {
        "id": "4UbusDWXh6Ty"
      },
      "source": [
        "#df_essays_mini"
      ],
      "execution_count": 142,
      "outputs": []
    },
    {
      "cell_type": "markdown",
      "metadata": {
        "id": "whKJ5ctrffwa"
      },
      "source": [
        "# **FEATURE EXTRACTION FROM ESSAY'S ASCII TEST**"
      ]
    },
    {
      "cell_type": "markdown",
      "metadata": {
        "id": "g-Zv7fITm-Ko"
      },
      "source": [
        "## **COUNTING SENTENCES**"
      ]
    },
    {
      "cell_type": "code",
      "metadata": {
        "id": "LgiBkzMggmCf"
      },
      "source": [
        "def count_sentences(essay):\n",
        "  doc = nlp(essay)\n",
        "  doc_sents = [sent for sent in doc.sents]\n",
        "  return len(doc_sents)\n"
      ],
      "execution_count": 143,
      "outputs": []
    },
    {
      "cell_type": "code",
      "metadata": {
        "id": "EFPH87zSevv3"
      },
      "source": [
        "df_essays['SentenceCount'] = df_essays['Essay Text'].apply(count_sentences)"
      ],
      "execution_count": 144,
      "outputs": []
    },
    {
      "cell_type": "code",
      "metadata": {
        "colab": {
          "base_uri": "https://localhost:8080/",
          "height": 362
        },
        "id": "BJNQzf5Lfy25",
        "outputId": "0648a48a-33c2-44e0-ad56-dbc1c06cb829"
      },
      "source": [
        "df_essays[:10]"
      ],
      "execution_count": 145,
      "outputs": [
        {
          "output_type": "execute_result",
          "data": {
            "text/html": [
              "<div>\n",
              "<style scoped>\n",
              "    .dataframe tbody tr th:only-of-type {\n",
              "        vertical-align: middle;\n",
              "    }\n",
              "\n",
              "    .dataframe tbody tr th {\n",
              "        vertical-align: top;\n",
              "    }\n",
              "\n",
              "    .dataframe thead th {\n",
              "        text-align: right;\n",
              "    }\n",
              "</style>\n",
              "<table border=\"1\" class=\"dataframe\">\n",
              "  <thead>\n",
              "    <tr style=\"text-align: right;\">\n",
              "      <th></th>\n",
              "      <th>Essay Text</th>\n",
              "      <th>SentenceCount</th>\n",
              "    </tr>\n",
              "  </thead>\n",
              "  <tbody>\n",
              "    <tr>\n",
              "      <th>0</th>\n",
              "      <td>THE ALARM CLOCK IS, TO MANY high school studen...</td>\n",
              "      <td>35</td>\n",
              "    </tr>\n",
              "    <tr>\n",
              "      <th>1</th>\n",
              "      <td>I HAVE ALWAYS BEEN A MATH-SCIENCE girl. I sigh...</td>\n",
              "      <td>28</td>\n",
              "    </tr>\n",
              "    <tr>\n",
              "      <th>2</th>\n",
              "      <td>WHEN I WAS FOUR YEARS OLD, I fell in love. It ...</td>\n",
              "      <td>40</td>\n",
              "    </tr>\n",
              "    <tr>\n",
              "      <th>3</th>\n",
              "      <td>THIS SUMMER, I WENT TO THE governor’s Honors P...</td>\n",
              "      <td>20</td>\n",
              "    </tr>\n",
              "    <tr>\n",
              "      <th>4</th>\n",
              "      <td>THIS PAST SUMMER I HAD THE opportunity to part...</td>\n",
              "      <td>23</td>\n",
              "    </tr>\n",
              "    <tr>\n",
              "      <th>5</th>\n",
              "      <td>My eyes widen. “It’s all Greek to me,” I whisp...</td>\n",
              "      <td>46</td>\n",
              "    </tr>\n",
              "    <tr>\n",
              "      <th>6</th>\n",
              "      <td>I could still hear her words, the words my tea...</td>\n",
              "      <td>31</td>\n",
              "    </tr>\n",
              "    <tr>\n",
              "      <th>7</th>\n",
              "      <td>It was a wet and dreary October evening. I sho...</td>\n",
              "      <td>30</td>\n",
              "    </tr>\n",
              "    <tr>\n",
              "      <th>8</th>\n",
              "      <td>Oreos. On the exterior, a firm chocolate crust...</td>\n",
              "      <td>43</td>\n",
              "    </tr>\n",
              "    <tr>\n",
              "      <th>9</th>\n",
              "      <td>Whether I was blowing out candles, writing a l...</td>\n",
              "      <td>21</td>\n",
              "    </tr>\n",
              "  </tbody>\n",
              "</table>\n",
              "</div>"
            ],
            "text/plain": [
              "                                          Essay Text  SentenceCount\n",
              "0  THE ALARM CLOCK IS, TO MANY high school studen...             35\n",
              "1  I HAVE ALWAYS BEEN A MATH-SCIENCE girl. I sigh...             28\n",
              "2  WHEN I WAS FOUR YEARS OLD, I fell in love. It ...             40\n",
              "3  THIS SUMMER, I WENT TO THE governor’s Honors P...             20\n",
              "4  THIS PAST SUMMER I HAD THE opportunity to part...             23\n",
              "5  My eyes widen. “It’s all Greek to me,” I whisp...             46\n",
              "6  I could still hear her words, the words my tea...             31\n",
              "7  It was a wet and dreary October evening. I sho...             30\n",
              "8  Oreos. On the exterior, a firm chocolate crust...             43\n",
              "9  Whether I was blowing out candles, writing a l...             21"
            ]
          },
          "metadata": {},
          "execution_count": 145
        }
      ]
    },
    {
      "cell_type": "code",
      "metadata": {
        "colab": {
          "base_uri": "https://localhost:8080/",
          "height": 122
        },
        "id": "aUjVRoOwieWV",
        "outputId": "8e73cf3b-936d-459a-c767-5f5f55157bbd"
      },
      "source": [
        "df_essays.iloc[729].values[0]"
      ],
      "execution_count": 146,
      "outputs": [
        {
          "output_type": "execute_result",
          "data": {
            "application/vnd.google.colaboratory.intrinsic+json": {
              "type": "string"
            },
            "text/plain": [
              "'As a Chemistry student in Singapore Polytechnic, we had to conduct weekly experiments. Most of them had to be done with lab instruments such as Universal Testing Machine, Scanning Electron Microscopy (SEM). Software is essential as it is how we interact with the equipment and it is how we obtain our results. Good software ensures that the end user should not have to deal with bugs or issues that might jeopardise the results. It also makes our lives much more efficient and convenient as we could alter the experiment parameters through software without manually adjusting the measuring instrument.\\nDuring my internship and National Service, I had other experiences where software greatly impacted my work. As a Data Analyst in Clariant, I assisted my supervisor with the manufacturing digitisation process where we converted all analog tasks to being fully digital and helped convert and prepare the data so that it may be presentable. I was an Admin Support Assistant during National Service, tasked with Human Resource matters. During both roles, the program; Microsoft Excel had shown me its flexibility and versatility. It allowed manipulating the data convenient and how I needed it.\\nBoth work and academic experiences have inspired me to pursue a degree in Software Engineering as I would like to contribute to developing software that will be used in various different settings; from daily life to working environments. I also learnt that almost everything we do involves interacting with software; from ordering food, booking a ride, printing, surfing the web and much more.\\nUpon graduation, I plan to enter the industry as a Full Stack Engineer as it encompasses aspects of both a Front-End and a Back-End Engineer. I would like to get involved in the visuals, aesthetics and as well as the functionality of software engineering.'"
            ]
          },
          "metadata": {},
          "execution_count": 146
        }
      ]
    },
    {
      "cell_type": "markdown",
      "metadata": {
        "id": "7eAUJiVinI55"
      },
      "source": [
        "## **COUNTING WORDS w/o STOP WORDS**"
      ]
    },
    {
      "cell_type": "code",
      "metadata": {
        "colab": {
          "base_uri": "https://localhost:8080/"
        },
        "id": "Zvtu9ecSk3Lo",
        "outputId": "7c353704-b337-4b2a-c75b-2e6ff1364e8f"
      },
      "source": [
        "nltk.download('stopwords')"
      ],
      "execution_count": 147,
      "outputs": [
        {
          "output_type": "stream",
          "name": "stdout",
          "text": [
            "[nltk_data] Downloading package stopwords to /root/nltk_data...\n",
            "[nltk_data]   Package stopwords is already up-to-date!\n"
          ]
        },
        {
          "output_type": "execute_result",
          "data": {
            "text/plain": [
              "True"
            ]
          },
          "metadata": {},
          "execution_count": 147
        }
      ]
    },
    {
      "cell_type": "code",
      "metadata": {
        "colab": {
          "base_uri": "https://localhost:8080/"
        },
        "id": "2kEbKR23ltbS",
        "outputId": "efb25f83-4a4e-4ac3-e4fd-d4e6136ba9c5"
      },
      "source": [
        "nltk.download('punkt')"
      ],
      "execution_count": 148,
      "outputs": [
        {
          "output_type": "stream",
          "name": "stdout",
          "text": [
            "[nltk_data] Downloading package punkt to /root/nltk_data...\n",
            "[nltk_data]   Package punkt is already up-to-date!\n"
          ]
        },
        {
          "output_type": "execute_result",
          "data": {
            "text/plain": [
              "True"
            ]
          },
          "metadata": {},
          "execution_count": 148
        }
      ]
    },
    {
      "cell_type": "code",
      "metadata": {
        "id": "cv9-wnJ3lkNg"
      },
      "source": [
        "word_tokens = word_tokenize(df_essays.iloc[729].values[0])\n",
        "stop_words = set(stopwords.words('english'))"
      ],
      "execution_count": 149,
      "outputs": []
    },
    {
      "cell_type": "code",
      "metadata": {
        "id": "PB6RJteKi_RG"
      },
      "source": [
        "def count_non_stop_words(essay):\n",
        "  word_tokens = word_tokenize(essay)\n",
        "  filtered_sentence = [w for w in word_tokens if not w.lower() in stop_words]\n",
        "  return len(filtered_sentence)\n"
      ],
      "execution_count": 150,
      "outputs": []
    },
    {
      "cell_type": "code",
      "metadata": {
        "id": "crbb4-tokwAt"
      },
      "source": [
        "df_essays['WordCount'] = df_essays['Essay Text'].apply(count_non_stop_words)"
      ],
      "execution_count": 151,
      "outputs": []
    },
    {
      "cell_type": "code",
      "metadata": {
        "colab": {
          "base_uri": "https://localhost:8080/",
          "height": 206
        },
        "id": "TTq9tyy4mFho",
        "outputId": "9d202267-2e7f-4e6b-8f98-1124a8822049"
      },
      "source": [
        "df_essays.head()"
      ],
      "execution_count": 152,
      "outputs": [
        {
          "output_type": "execute_result",
          "data": {
            "text/html": [
              "<div>\n",
              "<style scoped>\n",
              "    .dataframe tbody tr th:only-of-type {\n",
              "        vertical-align: middle;\n",
              "    }\n",
              "\n",
              "    .dataframe tbody tr th {\n",
              "        vertical-align: top;\n",
              "    }\n",
              "\n",
              "    .dataframe thead th {\n",
              "        text-align: right;\n",
              "    }\n",
              "</style>\n",
              "<table border=\"1\" class=\"dataframe\">\n",
              "  <thead>\n",
              "    <tr style=\"text-align: right;\">\n",
              "      <th></th>\n",
              "      <th>Essay Text</th>\n",
              "      <th>SentenceCount</th>\n",
              "      <th>WordCount</th>\n",
              "    </tr>\n",
              "  </thead>\n",
              "  <tbody>\n",
              "    <tr>\n",
              "      <th>0</th>\n",
              "      <td>THE ALARM CLOCK IS, TO MANY high school studen...</td>\n",
              "      <td>35</td>\n",
              "      <td>462</td>\n",
              "    </tr>\n",
              "    <tr>\n",
              "      <th>1</th>\n",
              "      <td>I HAVE ALWAYS BEEN A MATH-SCIENCE girl. I sigh...</td>\n",
              "      <td>28</td>\n",
              "      <td>309</td>\n",
              "    </tr>\n",
              "    <tr>\n",
              "      <th>2</th>\n",
              "      <td>WHEN I WAS FOUR YEARS OLD, I fell in love. It ...</td>\n",
              "      <td>40</td>\n",
              "      <td>532</td>\n",
              "    </tr>\n",
              "    <tr>\n",
              "      <th>3</th>\n",
              "      <td>THIS SUMMER, I WENT TO THE governor’s Honors P...</td>\n",
              "      <td>20</td>\n",
              "      <td>308</td>\n",
              "    </tr>\n",
              "    <tr>\n",
              "      <th>4</th>\n",
              "      <td>THIS PAST SUMMER I HAD THE opportunity to part...</td>\n",
              "      <td>23</td>\n",
              "      <td>320</td>\n",
              "    </tr>\n",
              "  </tbody>\n",
              "</table>\n",
              "</div>"
            ],
            "text/plain": [
              "                                          Essay Text  SentenceCount  WordCount\n",
              "0  THE ALARM CLOCK IS, TO MANY high school studen...             35        462\n",
              "1  I HAVE ALWAYS BEEN A MATH-SCIENCE girl. I sigh...             28        309\n",
              "2  WHEN I WAS FOUR YEARS OLD, I fell in love. It ...             40        532\n",
              "3  THIS SUMMER, I WENT TO THE governor’s Honors P...             20        308\n",
              "4  THIS PAST SUMMER I HAD THE opportunity to part...             23        320"
            ]
          },
          "metadata": {},
          "execution_count": 152
        }
      ]
    },
    {
      "cell_type": "markdown",
      "metadata": {
        "id": "7rlptvRvnNZo"
      },
      "source": [
        "## **COUNTING PARTS OF SPEECH**"
      ]
    },
    {
      "cell_type": "code",
      "metadata": {
        "id": "7wPh_gWUnpVc"
      },
      "source": [
        "def count_verb(essay):\n",
        "  doc=nlp(essay)\n",
        "  pos_counts = doc.count_by(spacy.attrs.POS)\n",
        "  for k,v in sorted(pos_counts.items()):\n",
        "    if doc.vocab[k] == 'VERB':\n",
        "      return v\n",
        "\n",
        "def count_noun(essay):\n",
        "  doc=nlp(essay)\n",
        "  pos_counts = doc.count_by(spacy.attrs.POS)\n",
        "  for k,v in sorted(pos_counts.items()):\n",
        "    if doc.vocab[k] == 'NOUN':\n",
        "      return v\n",
        "\n",
        "def count_adjective(essay):\n",
        "  doc=nlp(essay)\n",
        "  pos_counts = doc.count_by(spacy.attrs.POS)\n",
        "  for k,v in sorted(pos_counts.items()):\n",
        "    if doc.vocab[k] == 'ADJ':\n",
        "      return v   \n",
        "\n",
        "def count_adverb(essay):\n",
        "  doc=nlp(essay)\n",
        "  pos_counts = doc.count_by(spacy.attrs.POS)\n",
        "  for k,v in sorted(pos_counts.items()):\n",
        "    if doc.vocab[k] == 'ADV':\n",
        "      return v    \n",
        "\n",
        "def count_pronoun(essay):\n",
        "  doc=nlp(essay)\n",
        "  pos_counts = doc.count_by(spacy.attrs.POS)\n",
        "  for k,v in sorted(pos_counts.items()):\n",
        "    if doc.vocab[k] == 'PRON':\n",
        "      return v  \n",
        "\n",
        "def count_punctuations(essay):\n",
        "  doc=nlp(essay)\n",
        "  pos_counts = doc.count_by(spacy.attrs.POS)\n",
        "  for k,v in sorted(pos_counts.items()):\n",
        "    if doc.vocab[k] == 'PUNCT':\n",
        "      return v                        "
      ],
      "execution_count": 153,
      "outputs": []
    },
    {
      "cell_type": "code",
      "metadata": {
        "id": "N8pJxJsPqgNi"
      },
      "source": [
        "df_essays['VerbCount'] = df_essays['Essay Text'].apply(count_verb)\n",
        "df_essays['NounCount'] = df_essays['Essay Text'].apply(count_noun)\n",
        "df_essays['AdjCount'] = df_essays['Essay Text'].apply(count_adjective)\n",
        "df_essays['AdverbCount'] = df_essays['Essay Text'].apply(count_adverb)\n",
        "df_essays['PronounCount'] = df_essays['Essay Text'].apply(count_pronoun)\n",
        "df_essays['PunctCount'] = df_essays['Essay Text'].apply(count_punctuations)\n"
      ],
      "execution_count": 154,
      "outputs": []
    },
    {
      "cell_type": "code",
      "metadata": {
        "colab": {
          "base_uri": "https://localhost:8080/",
          "height": 206
        },
        "id": "zVxJ-lWCmIAs",
        "outputId": "77d0dad4-b9b3-4487-a34c-8915a41369c9"
      },
      "source": [
        "df_essays.head()"
      ],
      "execution_count": 155,
      "outputs": [
        {
          "output_type": "execute_result",
          "data": {
            "text/html": [
              "<div>\n",
              "<style scoped>\n",
              "    .dataframe tbody tr th:only-of-type {\n",
              "        vertical-align: middle;\n",
              "    }\n",
              "\n",
              "    .dataframe tbody tr th {\n",
              "        vertical-align: top;\n",
              "    }\n",
              "\n",
              "    .dataframe thead th {\n",
              "        text-align: right;\n",
              "    }\n",
              "</style>\n",
              "<table border=\"1\" class=\"dataframe\">\n",
              "  <thead>\n",
              "    <tr style=\"text-align: right;\">\n",
              "      <th></th>\n",
              "      <th>Essay Text</th>\n",
              "      <th>SentenceCount</th>\n",
              "      <th>WordCount</th>\n",
              "      <th>VerbCount</th>\n",
              "      <th>NounCount</th>\n",
              "      <th>AdjCount</th>\n",
              "      <th>AdverbCount</th>\n",
              "      <th>PronounCount</th>\n",
              "      <th>PunctCount</th>\n",
              "    </tr>\n",
              "  </thead>\n",
              "  <tbody>\n",
              "    <tr>\n",
              "      <th>0</th>\n",
              "      <td>THE ALARM CLOCK IS, TO MANY high school studen...</td>\n",
              "      <td>35</td>\n",
              "      <td>462</td>\n",
              "      <td>102</td>\n",
              "      <td>142</td>\n",
              "      <td>70</td>\n",
              "      <td>46</td>\n",
              "      <td>46</td>\n",
              "      <td>101</td>\n",
              "    </tr>\n",
              "    <tr>\n",
              "      <th>1</th>\n",
              "      <td>I HAVE ALWAYS BEEN A MATH-SCIENCE girl. I sigh...</td>\n",
              "      <td>28</td>\n",
              "      <td>309</td>\n",
              "      <td>75</td>\n",
              "      <td>113</td>\n",
              "      <td>45</td>\n",
              "      <td>30</td>\n",
              "      <td>46</td>\n",
              "      <td>53</td>\n",
              "    </tr>\n",
              "    <tr>\n",
              "      <th>2</th>\n",
              "      <td>WHEN I WAS FOUR YEARS OLD, I fell in love. It ...</td>\n",
              "      <td>40</td>\n",
              "      <td>532</td>\n",
              "      <td>107</td>\n",
              "      <td>146</td>\n",
              "      <td>82</td>\n",
              "      <td>50</td>\n",
              "      <td>79</td>\n",
              "      <td>113</td>\n",
              "    </tr>\n",
              "    <tr>\n",
              "      <th>3</th>\n",
              "      <td>THIS SUMMER, I WENT TO THE governor’s Honors P...</td>\n",
              "      <td>20</td>\n",
              "      <td>308</td>\n",
              "      <td>69</td>\n",
              "      <td>89</td>\n",
              "      <td>40</td>\n",
              "      <td>37</td>\n",
              "      <td>43</td>\n",
              "      <td>63</td>\n",
              "    </tr>\n",
              "    <tr>\n",
              "      <th>4</th>\n",
              "      <td>THIS PAST SUMMER I HAD THE opportunity to part...</td>\n",
              "      <td>23</td>\n",
              "      <td>320</td>\n",
              "      <td>53</td>\n",
              "      <td>107</td>\n",
              "      <td>35</td>\n",
              "      <td>28</td>\n",
              "      <td>28</td>\n",
              "      <td>63</td>\n",
              "    </tr>\n",
              "  </tbody>\n",
              "</table>\n",
              "</div>"
            ],
            "text/plain": [
              "                                          Essay Text  ...  PunctCount\n",
              "0  THE ALARM CLOCK IS, TO MANY high school studen...  ...         101\n",
              "1  I HAVE ALWAYS BEEN A MATH-SCIENCE girl. I sigh...  ...          53\n",
              "2  WHEN I WAS FOUR YEARS OLD, I fell in love. It ...  ...         113\n",
              "3  THIS SUMMER, I WENT TO THE governor’s Honors P...  ...          63\n",
              "4  THIS PAST SUMMER I HAD THE opportunity to part...  ...          63\n",
              "\n",
              "[5 rows x 9 columns]"
            ]
          },
          "metadata": {},
          "execution_count": 155
        }
      ]
    },
    {
      "cell_type": "code",
      "metadata": {
        "colab": {
          "base_uri": "https://localhost:8080/",
          "height": 1000
        },
        "id": "0pnQqU6qseKf",
        "outputId": "813d410b-86ea-49f0-b1da-c66588774ed2"
      },
      "source": [
        "df_essays.hist(figsize=(20,20))"
      ],
      "execution_count": 157,
      "outputs": [
        {
          "output_type": "execute_result",
          "data": {
            "text/plain": [
              "array([[<matplotlib.axes._subplots.AxesSubplot object at 0x7fa2b2ef7d90>,\n",
              "        <matplotlib.axes._subplots.AxesSubplot object at 0x7fa2b285ec10>,\n",
              "        <matplotlib.axes._subplots.AxesSubplot object at 0x7fa2b2886fd0>],\n",
              "       [<matplotlib.axes._subplots.AxesSubplot object at 0x7fa2b2849550>,\n",
              "        <matplotlib.axes._subplots.AxesSubplot object at 0x7fa2b27fea50>,\n",
              "        <matplotlib.axes._subplots.AxesSubplot object at 0x7fa2b27b5f50>],\n",
              "       [<matplotlib.axes._subplots.AxesSubplot object at 0x7fa2b2776510>,\n",
              "        <matplotlib.axes._subplots.AxesSubplot object at 0x7fa2b272c950>,\n",
              "        <matplotlib.axes._subplots.AxesSubplot object at 0x7fa2b272c990>]],\n",
              "      dtype=object)"
            ]
          },
          "metadata": {},
          "execution_count": 157
        },
        {
          "output_type": "display_data",
          "data": {
            "image/png": "[encoded data removed]",
            "text/plain": [
              "<Figure size 1440x1440 with 9 Axes>"
            ]
          },
          "metadata": {
            "needs_background": "light"
          }
        }
      ]
    },
    {
      "cell_type": "code",
      "metadata": {
        "id": "1VN3kS59snS1"
      },
      "source": [
        ""
      ],
      "execution_count": null,
      "outputs": []
    }
  ]
}