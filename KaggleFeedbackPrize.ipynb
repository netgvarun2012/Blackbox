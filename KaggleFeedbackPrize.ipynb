{
  "nbformat": 4,
  "nbformat_minor": 0,
  "metadata": {
    "colab": {
      "name": "KaggleFeedbackPrize",
      "provenance": [],
      "collapsed_sections": [],
      "authorship_tag": "ABX9TyPr+kqzJDK+11/72YIg+xAt",
      "include_colab_link": true
    },
    "kernelspec": {
      "name": "python3",
      "display_name": "Python 3"
    },
    "language_info": {
      "name": "python"
    },
    "accelerator": "GPU"
  },
  "cells": [
    {
      "cell_type": "markdown",
      "metadata": {
        "id": "view-in-github",
        "colab_type": "text"
      },
      "source": [
        "<a href=\"https://colab.research.google.com/github/netgvarun2021/Blackbox/blob/main/KaggleFeedbackPrize.ipynb\" target=\"_parent\"><img src=\"https://colab.research.google.com/assets/colab-badge.svg\" alt=\"Open In Colab\"/></a>"
      ]
    },
    {
      "cell_type": "code",
      "execution_count": 1,
      "metadata": {
        "colab": {
          "base_uri": "https://localhost:8080/"
        },
        "id": "-HoyK9UUaBm3",
        "outputId": "114c32ec-377f-4c99-871f-748260f6826b"
      },
      "outputs": [
        {
          "output_type": "stream",
          "name": "stdout",
          "text": [
            "Collecting transformers\n",
            "  Downloading transformers-4.15.0-py3-none-any.whl (3.4 MB)\n",
            "\u001b[K     |████████████████████████████████| 3.4 MB 8.7 MB/s \n",
            "\u001b[?25hCollecting seqeval[gpu]\n",
            "  Downloading seqeval-1.2.2.tar.gz (43 kB)\n",
            "\u001b[K     |████████████████████████████████| 43 kB 1.8 MB/s \n",
            "\u001b[?25hRequirement already satisfied: packaging>=20.0 in /usr/local/lib/python3.7/dist-packages (from transformers) (21.3)\n",
            "Collecting sacremoses\n",
            "  Downloading sacremoses-0.0.46-py3-none-any.whl (895 kB)\n",
            "\u001b[K     |████████████████████████████████| 895 kB 58.5 MB/s \n",
            "\u001b[?25hRequirement already satisfied: importlib-metadata in /usr/local/lib/python3.7/dist-packages (from transformers) (4.8.2)\n",
            "Collecting pyyaml>=5.1\n",
            "  Downloading PyYAML-6.0-cp37-cp37m-manylinux_2_5_x86_64.manylinux1_x86_64.manylinux_2_12_x86_64.manylinux2010_x86_64.whl (596 kB)\n",
            "\u001b[K     |████████████████████████████████| 596 kB 67.6 MB/s \n",
            "\u001b[?25hRequirement already satisfied: requests in /usr/local/lib/python3.7/dist-packages (from transformers) (2.23.0)\n",
            "Requirement already satisfied: tqdm>=4.27 in /usr/local/lib/python3.7/dist-packages (from transformers) (4.62.3)\n",
            "Requirement already satisfied: regex!=2019.12.17 in /usr/local/lib/python3.7/dist-packages (from transformers) (2019.12.20)\n",
            "Requirement already satisfied: numpy>=1.17 in /usr/local/lib/python3.7/dist-packages (from transformers) (1.19.5)\n",
            "Requirement already satisfied: filelock in /usr/local/lib/python3.7/dist-packages (from transformers) (3.4.0)\n",
            "Collecting huggingface-hub<1.0,>=0.1.0\n",
            "  Downloading huggingface_hub-0.2.1-py3-none-any.whl (61 kB)\n",
            "\u001b[K     |████████████████████████████████| 61 kB 581 kB/s \n",
            "\u001b[?25hCollecting tokenizers<0.11,>=0.10.1\n",
            "  Downloading tokenizers-0.10.3-cp37-cp37m-manylinux_2_5_x86_64.manylinux1_x86_64.manylinux_2_12_x86_64.manylinux2010_x86_64.whl (3.3 MB)\n",
            "\u001b[K     |████████████████████████████████| 3.3 MB 60.2 MB/s \n",
            "\u001b[?25hRequirement already satisfied: typing-extensions>=3.7.4.3 in /usr/local/lib/python3.7/dist-packages (from huggingface-hub<1.0,>=0.1.0->transformers) (3.10.0.2)\n",
            "Requirement already satisfied: pyparsing!=3.0.5,>=2.0.2 in /usr/local/lib/python3.7/dist-packages (from packaging>=20.0->transformers) (3.0.6)\n",
            "Requirement already satisfied: zipp>=0.5 in /usr/local/lib/python3.7/dist-packages (from importlib-metadata->transformers) (3.6.0)\n",
            "Requirement already satisfied: chardet<4,>=3.0.2 in /usr/local/lib/python3.7/dist-packages (from requests->transformers) (3.0.4)\n",
            "Requirement already satisfied: idna<3,>=2.5 in /usr/local/lib/python3.7/dist-packages (from requests->transformers) (2.10)\n",
            "Requirement already satisfied: certifi>=2017.4.17 in /usr/local/lib/python3.7/dist-packages (from requests->transformers) (2021.10.8)\n",
            "Requirement already satisfied: urllib3!=1.25.0,!=1.25.1,<1.26,>=1.21.1 in /usr/local/lib/python3.7/dist-packages (from requests->transformers) (1.24.3)\n",
            "Requirement already satisfied: click in /usr/local/lib/python3.7/dist-packages (from sacremoses->transformers) (7.1.2)\n",
            "Requirement already satisfied: six in /usr/local/lib/python3.7/dist-packages (from sacremoses->transformers) (1.15.0)\n",
            "Requirement already satisfied: joblib in /usr/local/lib/python3.7/dist-packages (from sacremoses->transformers) (1.1.0)\n",
            "Requirement already satisfied: scikit-learn>=0.21.3 in /usr/local/lib/python3.7/dist-packages (from seqeval[gpu]) (1.0.1)\n",
            "Requirement already satisfied: scipy>=1.1.0 in /usr/local/lib/python3.7/dist-packages (from scikit-learn>=0.21.3->seqeval[gpu]) (1.4.1)\n",
            "Requirement already satisfied: threadpoolctl>=2.0.0 in /usr/local/lib/python3.7/dist-packages (from scikit-learn>=0.21.3->seqeval[gpu]) (3.0.0)\n",
            "Building wheels for collected packages: seqeval\n",
            "  Building wheel for seqeval (setup.py) ... \u001b[?25l\u001b[?25hdone\n",
            "  Created wheel for seqeval: filename=seqeval-1.2.2-py3-none-any.whl size=16181 sha256=9704391f09a9ece669ead099a7b82793ebcb808c7b5c544e55ccf8d8f1f9138c\n",
            "  Stored in directory: /root/.cache/pip/wheels/05/96/ee/7cac4e74f3b19e3158dce26a20a1c86b3533c43ec72a549fd7\n",
            "Successfully built seqeval\n",
            "Installing collected packages: pyyaml, tokenizers, seqeval, sacremoses, huggingface-hub, transformers\n",
            "  Attempting uninstall: pyyaml\n",
            "    Found existing installation: PyYAML 3.13\n",
            "    Uninstalling PyYAML-3.13:\n",
            "      Successfully uninstalled PyYAML-3.13\n",
            "Successfully installed huggingface-hub-0.2.1 pyyaml-6.0 sacremoses-0.0.46 seqeval-1.2.2 tokenizers-0.10.3 transformers-4.15.0\n"
          ]
        }
      ],
      "source": [
        "!pip install transformers seqeval[gpu]"
      ]
    },
    {
      "cell_type": "code",
      "source": [
        "import pandas as pd\n",
        "import numpy as np\n",
        "from sklearn.metrics import accuracy_score\n",
        "import torch\n",
        "from torch.utils.data import Dataset, DataLoader\n",
        "from transformers import BertTokenizerFast, BertConfig, BertForTokenClassification\n",
        "import os\n",
        "import spacy"
      ],
      "metadata": {
        "id": "UWcMlynKaG1F"
      },
      "execution_count": 2,
      "outputs": []
    },
    {
      "cell_type": "code",
      "source": [
        "from torch import cuda\n",
        "device = 'cuda' if cuda.is_available() else 'cpu'\n",
        "print(device)"
      ],
      "metadata": {
        "colab": {
          "base_uri": "https://localhost:8080/"
        },
        "id": "YnG0Zo7RaQsA",
        "outputId": "de4d9c4b-282a-47c7-b7ea-c577fa723f95"
      },
      "execution_count": 3,
      "outputs": [
        {
          "output_type": "stream",
          "name": "stdout",
          "text": [
            "cuda\n"
          ]
        }
      ]
    },
    {
      "cell_type": "markdown",
      "source": [
        " # \"Barack Obama was born in Hawaï\", then the corresponding tags would be \n",
        " [B-PERS, I-PERS, O, O, O, B-GEO].\n",
        "\n",
        " ![image.png](data:image/png;base64,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)\n",
        "\n",
        " B-PERS means that the word \"Barack\" is the beginning of a person, I-PERS means that the word \"Obama\" is inside a person, \"O\" means that the word \"was\" is outside a named entity, and so on."
      ],
      "metadata": {
        "id": "ifRs76BpaqFF"
      }
    },
    {
      "cell_type": "code",
      "source": [
        "from google.colab import drive\n",
        "drive.mount('/content/gdrive')"
      ],
      "metadata": {
        "colab": {
          "base_uri": "https://localhost:8080/"
        },
        "id": "Ko7_T5ZSaVxt",
        "outputId": "43a5ac1c-e31b-40d2-cf73-d73f823defe5"
      },
      "execution_count": 4,
      "outputs": [
        {
          "output_type": "stream",
          "name": "stdout",
          "text": [
            "Mounted at /content/gdrive\n"
          ]
        }
      ]
    },
    {
      "cell_type": "code",
      "source": [
        "train_dir = '/content/gdrive/MyDrive/KaggleArgumentEssay/'\n",
        "train_ds = os.path.join(train_dir, 'train.csv')"
      ],
      "metadata": {
        "id": "hlrpL4UEbYoh"
      },
      "execution_count": 5,
      "outputs": []
    },
    {
      "cell_type": "code",
      "source": [
        "df =  pd.read_csv(train_ds) "
      ],
      "metadata": {
        "id": "K0m1SDQAbzDO"
      },
      "execution_count": 6,
      "outputs": []
    },
    {
      "cell_type": "code",
      "source": [
        "df.head()"
      ],
      "metadata": {
        "colab": {
          "base_uri": "https://localhost:8080/",
          "height": 206
        },
        "id": "IxcWFOJLcf2Q",
        "outputId": "ecfd8969-e762-46f8-9d6a-d23e18e8e47d"
      },
      "execution_count": 7,
      "outputs": [
        {
          "output_type": "execute_result",
          "data": {
            "text/html": [
              "\n",
              "  <div id=\"df-6d581f8f-afa8-4a55-abdb-690446d50e05\">\n",
              "    <div class=\"colab-df-container\">\n",
              "      <div>\n",
              "<style scoped>\n",
              "    .dataframe tbody tr th:only-of-type {\n",
              "        vertical-align: middle;\n",
              "    }\n",
              "\n",
              "    .dataframe tbody tr th {\n",
              "        vertical-align: top;\n",
              "    }\n",
              "\n",
              "    .dataframe thead th {\n",
              "        text-align: right;\n",
              "    }\n",
              "</style>\n",
              "<table border=\"1\" class=\"dataframe\">\n",
              "  <thead>\n",
              "    <tr style=\"text-align: right;\">\n",
              "      <th></th>\n",
              "      <th>id</th>\n",
              "      <th>discourse_id</th>\n",
              "      <th>discourse_start</th>\n",
              "      <th>discourse_end</th>\n",
              "      <th>discourse_text</th>\n",
              "      <th>discourse_type</th>\n",
              "      <th>discourse_type_num</th>\n",
              "      <th>predictionstring</th>\n",
              "    </tr>\n",
              "  </thead>\n",
              "  <tbody>\n",
              "    <tr>\n",
              "      <th>0</th>\n",
              "      <td>423A1CA112E2</td>\n",
              "      <td>1.622628e+12</td>\n",
              "      <td>8.0</td>\n",
              "      <td>229.0</td>\n",
              "      <td>Modern humans today are always on their phone....</td>\n",
              "      <td>Lead</td>\n",
              "      <td>Lead 1</td>\n",
              "      <td>1 2 3 4 5 6 7 8 9 10 11 12 13 14 15 16 17 18 1...</td>\n",
              "    </tr>\n",
              "    <tr>\n",
              "      <th>1</th>\n",
              "      <td>423A1CA112E2</td>\n",
              "      <td>1.622628e+12</td>\n",
              "      <td>230.0</td>\n",
              "      <td>312.0</td>\n",
              "      <td>They are some really bad consequences when stu...</td>\n",
              "      <td>Position</td>\n",
              "      <td>Position 1</td>\n",
              "      <td>45 46 47 48 49 50 51 52 53 54 55 56 57 58 59</td>\n",
              "    </tr>\n",
              "    <tr>\n",
              "      <th>2</th>\n",
              "      <td>423A1CA112E2</td>\n",
              "      <td>1.622628e+12</td>\n",
              "      <td>313.0</td>\n",
              "      <td>401.0</td>\n",
              "      <td>Some certain areas in the United States ban ph...</td>\n",
              "      <td>Evidence</td>\n",
              "      <td>Evidence 1</td>\n",
              "      <td>60 61 62 63 64 65 66 67 68 69 70 71 72 73 74 75</td>\n",
              "    </tr>\n",
              "    <tr>\n",
              "      <th>3</th>\n",
              "      <td>423A1CA112E2</td>\n",
              "      <td>1.622628e+12</td>\n",
              "      <td>402.0</td>\n",
              "      <td>758.0</td>\n",
              "      <td>When people have phones, they know about certa...</td>\n",
              "      <td>Evidence</td>\n",
              "      <td>Evidence 2</td>\n",
              "      <td>76 77 78 79 80 81 82 83 84 85 86 87 88 89 90 9...</td>\n",
              "    </tr>\n",
              "    <tr>\n",
              "      <th>4</th>\n",
              "      <td>423A1CA112E2</td>\n",
              "      <td>1.622628e+12</td>\n",
              "      <td>759.0</td>\n",
              "      <td>886.0</td>\n",
              "      <td>Driving is one of the way how to get around. P...</td>\n",
              "      <td>Claim</td>\n",
              "      <td>Claim 1</td>\n",
              "      <td>139 140 141 142 143 144 145 146 147 148 149 15...</td>\n",
              "    </tr>\n",
              "  </tbody>\n",
              "</table>\n",
              "</div>\n",
              "      <button class=\"colab-df-convert\" onclick=\"convertToInteractive('df-6d581f8f-afa8-4a55-abdb-690446d50e05')\"\n",
              "              title=\"Convert this dataframe to an interactive table.\"\n",
              "              style=\"display:none;\">\n",
              "        \n",
              "  <svg xmlns=\"http://www.w3.org/2000/svg\" height=\"24px\"viewBox=\"0 0 24 24\"\n",
              "       width=\"24px\">\n",
              "    <path d=\"M0 0h24v24H0V0z\" fill=\"none\"/>\n",
              "    <path d=\"M18.56 5.44l.94 2.06.94-2.06 2.06-.94-2.06-.94-.94-2.06-.94 2.06-2.06.94zm-11 1L8.5 8.5l.94-2.06 2.06-.94-2.06-.94L8.5 2.5l-.94 2.06-2.06.94zm10 10l.94 2.06.94-2.06 2.06-.94-2.06-.94-.94-2.06-.94 2.06-2.06.94z\"/><path d=\"M17.41 7.96l-1.37-1.37c-.4-.4-.92-.59-1.43-.59-.52 0-1.04.2-1.43.59L10.3 9.45l-7.72 7.72c-.78.78-.78 2.05 0 2.83L4 21.41c.39.39.9.59 1.41.59.51 0 1.02-.2 1.41-.59l7.78-7.78 2.81-2.81c.8-.78.8-2.07 0-2.86zM5.41 20L4 18.59l7.72-7.72 1.47 1.35L5.41 20z\"/>\n",
              "  </svg>\n",
              "      </button>\n",
              "      \n",
              "  <style>\n",
              "    .colab-df-container {\n",
              "      display:flex;\n",
              "      flex-wrap:wrap;\n",
              "      gap: 12px;\n",
              "    }\n",
              "\n",
              "    .colab-df-convert {\n",
              "      background-color: #E8F0FE;\n",
              "      border: none;\n",
              "      border-radius: 50%;\n",
              "      cursor: pointer;\n",
              "      display: none;\n",
              "      fill: #1967D2;\n",
              "      height: 32px;\n",
              "      padding: 0 0 0 0;\n",
              "      width: 32px;\n",
              "    }\n",
              "\n",
              "    .colab-df-convert:hover {\n",
              "      background-color: #E2EBFA;\n",
              "      box-shadow: 0px 1px 2px rgba(60, 64, 67, 0.3), 0px 1px 3px 1px rgba(60, 64, 67, 0.15);\n",
              "      fill: #174EA6;\n",
              "    }\n",
              "\n",
              "    [theme=dark] .colab-df-convert {\n",
              "      background-color: #3B4455;\n",
              "      fill: #D2E3FC;\n",
              "    }\n",
              "\n",
              "    [theme=dark] .colab-df-convert:hover {\n",
              "      background-color: #434B5C;\n",
              "      box-shadow: 0px 1px 3px 1px rgba(0, 0, 0, 0.15);\n",
              "      filter: drop-shadow(0px 1px 2px rgba(0, 0, 0, 0.3));\n",
              "      fill: #FFFFFF;\n",
              "    }\n",
              "  </style>\n",
              "\n",
              "      <script>\n",
              "        const buttonEl =\n",
              "          document.querySelector('#df-6d581f8f-afa8-4a55-abdb-690446d50e05 button.colab-df-convert');\n",
              "        buttonEl.style.display =\n",
              "          google.colab.kernel.accessAllowed ? 'block' : 'none';\n",
              "\n",
              "        async function convertToInteractive(key) {\n",
              "          const element = document.querySelector('#df-6d581f8f-afa8-4a55-abdb-690446d50e05');\n",
              "          const dataTable =\n",
              "            await google.colab.kernel.invokeFunction('convertToInteractive',\n",
              "                                                     [key], {});\n",
              "          if (!dataTable) return;\n",
              "\n",
              "          const docLinkHtml = 'Like what you see? Visit the ' +\n",
              "            '<a target=\"_blank\" href=https://colab.research.google.com/notebooks/data_table.ipynb>data table notebook</a>'\n",
              "            + ' to learn more about interactive tables.';\n",
              "          element.innerHTML = '';\n",
              "          dataTable['output_type'] = 'display_data';\n",
              "          await google.colab.output.renderOutput(dataTable, element);\n",
              "          const docLink = document.createElement('div');\n",
              "          docLink.innerHTML = docLinkHtml;\n",
              "          element.appendChild(docLink);\n",
              "        }\n",
              "      </script>\n",
              "    </div>\n",
              "  </div>\n",
              "  "
            ],
            "text/plain": [
              "             id  ...                                   predictionstring\n",
              "0  423A1CA112E2  ...  1 2 3 4 5 6 7 8 9 10 11 12 13 14 15 16 17 18 1...\n",
              "1  423A1CA112E2  ...       45 46 47 48 49 50 51 52 53 54 55 56 57 58 59\n",
              "2  423A1CA112E2  ...    60 61 62 63 64 65 66 67 68 69 70 71 72 73 74 75\n",
              "3  423A1CA112E2  ...  76 77 78 79 80 81 82 83 84 85 86 87 88 89 90 9...\n",
              "4  423A1CA112E2  ...  139 140 141 142 143 144 145 146 147 148 149 15...\n",
              "\n",
              "[5 rows x 8 columns]"
            ]
          },
          "metadata": {},
          "execution_count": 7
        }
      ]
    },
    {
      "cell_type": "markdown",
      "source": [
        "So if you want to train a deep learning model for NER, it requires that you have your data in this IOB format (or similar formats such as BILOU). There exist many annotation tools which let you create these kind of annotations automatically (such as Spacy's Prodigy, Tagtog or Doccano). You can also use Spacy's biluo_tags_from_offsets function to convert annotations at the character level to IOB format."
      ],
      "metadata": {
        "id": "qohmB0eMctAn"
      }
    },
    {
      "cell_type": "code",
      "source": [
        "!pip install spacy"
      ],
      "metadata": {
        "colab": {
          "base_uri": "https://localhost:8080/"
        },
        "id": "fEjWErLzf3b0",
        "outputId": "4b950d47-9a81-4d49-ee40-2d342af70b96"
      },
      "execution_count": 8,
      "outputs": [
        {
          "output_type": "stream",
          "name": "stdout",
          "text": [
            "Requirement already satisfied: spacy in /usr/local/lib/python3.7/dist-packages (2.2.4)\n",
            "Requirement already satisfied: plac<1.2.0,>=0.9.6 in /usr/local/lib/python3.7/dist-packages (from spacy) (1.1.3)\n",
            "Requirement already satisfied: murmurhash<1.1.0,>=0.28.0 in /usr/local/lib/python3.7/dist-packages (from spacy) (1.0.6)\n",
            "Requirement already satisfied: srsly<1.1.0,>=1.0.2 in /usr/local/lib/python3.7/dist-packages (from spacy) (1.0.5)\n",
            "Requirement already satisfied: tqdm<5.0.0,>=4.38.0 in /usr/local/lib/python3.7/dist-packages (from spacy) (4.62.3)\n",
            "Requirement already satisfied: wasabi<1.1.0,>=0.4.0 in /usr/local/lib/python3.7/dist-packages (from spacy) (0.8.2)\n",
            "Requirement already satisfied: cymem<2.1.0,>=2.0.2 in /usr/local/lib/python3.7/dist-packages (from spacy) (2.0.6)\n",
            "Requirement already satisfied: catalogue<1.1.0,>=0.0.7 in /usr/local/lib/python3.7/dist-packages (from spacy) (1.0.0)\n",
            "Requirement already satisfied: blis<0.5.0,>=0.4.0 in /usr/local/lib/python3.7/dist-packages (from spacy) (0.4.1)\n",
            "Requirement already satisfied: setuptools in /usr/local/lib/python3.7/dist-packages (from spacy) (57.4.0)\n",
            "Requirement already satisfied: numpy>=1.15.0 in /usr/local/lib/python3.7/dist-packages (from spacy) (1.19.5)\n",
            "Requirement already satisfied: preshed<3.1.0,>=3.0.2 in /usr/local/lib/python3.7/dist-packages (from spacy) (3.0.6)\n",
            "Requirement already satisfied: thinc==7.4.0 in /usr/local/lib/python3.7/dist-packages (from spacy) (7.4.0)\n",
            "Requirement already satisfied: requests<3.0.0,>=2.13.0 in /usr/local/lib/python3.7/dist-packages (from spacy) (2.23.0)\n",
            "Requirement already satisfied: importlib-metadata>=0.20 in /usr/local/lib/python3.7/dist-packages (from catalogue<1.1.0,>=0.0.7->spacy) (4.8.2)\n",
            "Requirement already satisfied: zipp>=0.5 in /usr/local/lib/python3.7/dist-packages (from importlib-metadata>=0.20->catalogue<1.1.0,>=0.0.7->spacy) (3.6.0)\n",
            "Requirement already satisfied: typing-extensions>=3.6.4 in /usr/local/lib/python3.7/dist-packages (from importlib-metadata>=0.20->catalogue<1.1.0,>=0.0.7->spacy) (3.10.0.2)\n",
            "Requirement already satisfied: chardet<4,>=3.0.2 in /usr/local/lib/python3.7/dist-packages (from requests<3.0.0,>=2.13.0->spacy) (3.0.4)\n",
            "Requirement already satisfied: urllib3!=1.25.0,!=1.25.1,<1.26,>=1.21.1 in /usr/local/lib/python3.7/dist-packages (from requests<3.0.0,>=2.13.0->spacy) (1.24.3)\n",
            "Requirement already satisfied: certifi>=2017.4.17 in /usr/local/lib/python3.7/dist-packages (from requests<3.0.0,>=2.13.0->spacy) (2021.10.8)\n",
            "Requirement already satisfied: idna<3,>=2.5 in /usr/local/lib/python3.7/dist-packages (from requests<3.0.0,>=2.13.0->spacy) (2.10)\n"
          ]
        }
      ]
    },
    {
      "cell_type": "code",
      "source": [
        "!python -m spacy download en_core_web_lg"
      ],
      "metadata": {
        "colab": {
          "base_uri": "https://localhost:8080/"
        },
        "id": "RO4_cSrHfb9D",
        "outputId": "4c8fe07d-64fe-458d-844b-4bf102f71aa0"
      },
      "execution_count": 9,
      "outputs": [
        {
          "output_type": "stream",
          "name": "stdout",
          "text": [
            "Collecting en_core_web_lg==2.2.5\n",
            "  Downloading https://github.com/explosion/spacy-models/releases/download/en_core_web_lg-2.2.5/en_core_web_lg-2.2.5.tar.gz (827.9 MB)\n",
            "\u001b[K     |████████████████████████████████| 827.9 MB 1.4 MB/s \n",
            "\u001b[?25hRequirement already satisfied: spacy>=2.2.2 in /usr/local/lib/python3.7/dist-packages (from en_core_web_lg==2.2.5) (2.2.4)\n",
            "Requirement already satisfied: tqdm<5.0.0,>=4.38.0 in /usr/local/lib/python3.7/dist-packages (from spacy>=2.2.2->en_core_web_lg==2.2.5) (4.62.3)\n",
            "Requirement already satisfied: requests<3.0.0,>=2.13.0 in /usr/local/lib/python3.7/dist-packages (from spacy>=2.2.2->en_core_web_lg==2.2.5) (2.23.0)\n",
            "Requirement already satisfied: wasabi<1.1.0,>=0.4.0 in /usr/local/lib/python3.7/dist-packages (from spacy>=2.2.2->en_core_web_lg==2.2.5) (0.8.2)\n",
            "Requirement already satisfied: preshed<3.1.0,>=3.0.2 in /usr/local/lib/python3.7/dist-packages (from spacy>=2.2.2->en_core_web_lg==2.2.5) (3.0.6)\n",
            "Requirement already satisfied: thinc==7.4.0 in /usr/local/lib/python3.7/dist-packages (from spacy>=2.2.2->en_core_web_lg==2.2.5) (7.4.0)\n",
            "Requirement already satisfied: srsly<1.1.0,>=1.0.2 in /usr/local/lib/python3.7/dist-packages (from spacy>=2.2.2->en_core_web_lg==2.2.5) (1.0.5)\n",
            "Requirement already satisfied: cymem<2.1.0,>=2.0.2 in /usr/local/lib/python3.7/dist-packages (from spacy>=2.2.2->en_core_web_lg==2.2.5) (2.0.6)\n",
            "Requirement already satisfied: numpy>=1.15.0 in /usr/local/lib/python3.7/dist-packages (from spacy>=2.2.2->en_core_web_lg==2.2.5) (1.19.5)\n",
            "Requirement already satisfied: plac<1.2.0,>=0.9.6 in /usr/local/lib/python3.7/dist-packages (from spacy>=2.2.2->en_core_web_lg==2.2.5) (1.1.3)\n",
            "Requirement already satisfied: blis<0.5.0,>=0.4.0 in /usr/local/lib/python3.7/dist-packages (from spacy>=2.2.2->en_core_web_lg==2.2.5) (0.4.1)\n",
            "Requirement already satisfied: setuptools in /usr/local/lib/python3.7/dist-packages (from spacy>=2.2.2->en_core_web_lg==2.2.5) (57.4.0)\n",
            "Requirement already satisfied: murmurhash<1.1.0,>=0.28.0 in /usr/local/lib/python3.7/dist-packages (from spacy>=2.2.2->en_core_web_lg==2.2.5) (1.0.6)\n",
            "Requirement already satisfied: catalogue<1.1.0,>=0.0.7 in /usr/local/lib/python3.7/dist-packages (from spacy>=2.2.2->en_core_web_lg==2.2.5) (1.0.0)\n",
            "Requirement already satisfied: importlib-metadata>=0.20 in /usr/local/lib/python3.7/dist-packages (from catalogue<1.1.0,>=0.0.7->spacy>=2.2.2->en_core_web_lg==2.2.5) (4.8.2)\n",
            "Requirement already satisfied: zipp>=0.5 in /usr/local/lib/python3.7/dist-packages (from importlib-metadata>=0.20->catalogue<1.1.0,>=0.0.7->spacy>=2.2.2->en_core_web_lg==2.2.5) (3.6.0)\n",
            "Requirement already satisfied: typing-extensions>=3.6.4 in /usr/local/lib/python3.7/dist-packages (from importlib-metadata>=0.20->catalogue<1.1.0,>=0.0.7->spacy>=2.2.2->en_core_web_lg==2.2.5) (3.10.0.2)\n",
            "Requirement already satisfied: urllib3!=1.25.0,!=1.25.1,<1.26,>=1.21.1 in /usr/local/lib/python3.7/dist-packages (from requests<3.0.0,>=2.13.0->spacy>=2.2.2->en_core_web_lg==2.2.5) (1.24.3)\n",
            "Requirement already satisfied: chardet<4,>=3.0.2 in /usr/local/lib/python3.7/dist-packages (from requests<3.0.0,>=2.13.0->spacy>=2.2.2->en_core_web_lg==2.2.5) (3.0.4)\n",
            "Requirement already satisfied: certifi>=2017.4.17 in /usr/local/lib/python3.7/dist-packages (from requests<3.0.0,>=2.13.0->spacy>=2.2.2->en_core_web_lg==2.2.5) (2021.10.8)\n",
            "Requirement already satisfied: idna<3,>=2.5 in /usr/local/lib/python3.7/dist-packages (from requests<3.0.0,>=2.13.0->spacy>=2.2.2->en_core_web_lg==2.2.5) (2.10)\n",
            "Building wheels for collected packages: en-core-web-lg\n",
            "  Building wheel for en-core-web-lg (setup.py) ... \u001b[?25l\u001b[?25hdone\n",
            "  Created wheel for en-core-web-lg: filename=en_core_web_lg-2.2.5-py3-none-any.whl size=829180942 sha256=ab584ff9bd15fa9b7f0bf6528f620cc799f352d46b59f3bac271a015378cdcca\n",
            "  Stored in directory: /tmp/pip-ephem-wheel-cache-cwlslhuu/wheels/11/95/ba/2c36cc368c0bd339b44a791c2c1881a1fb714b78c29a4cb8f5\n",
            "Successfully built en-core-web-lg\n",
            "Installing collected packages: en-core-web-lg\n",
            "Successfully installed en-core-web-lg-2.2.5\n",
            "\u001b[38;5;2m✔ Download and installation successful\u001b[0m\n",
            "You can now load the model via spacy.load('en_core_web_lg')\n"
          ]
        }
      ]
    },
    {
      "cell_type": "code",
      "source": [
        "import spacy\n",
        "nlp = spacy.load('en_core_web_lg')\n"
      ],
      "metadata": {
        "id": "ufyFPxmbcmlb"
      },
      "execution_count": 2,
      "outputs": []
    },
    {
      "cell_type": "code",
      "source": [
        "def get_ner_tags(text,d_type):\n",
        "  ner_list = []\n",
        "  doc=nlp(text)\n",
        "  for token in doc:\n",
        "    ner_list.append(token.ent_iob_+'-'+d_type)\n",
        "  return ','.join([str(elem) for elem in ner_list])"
      ],
      "metadata": {
        "id": "2cvLYYR8fMWJ"
      },
      "execution_count": 31,
      "outputs": []
    },
    {
      "cell_type": "code",
      "source": [
        "df['Tags']  = df.apply(lambda x: get_ner_tags(x['discourse_text'], x['discourse_type']), axis=1)\n"
      ],
      "metadata": {
        "id": "fodNzzTpmYHR"
      },
      "execution_count": 29,
      "outputs": []
    },
    {
      "cell_type": "code",
      "source": [
        "df.head()"
      ],
      "metadata": {
        "colab": {
          "base_uri": "https://localhost:8080/",
          "height": 250
        },
        "id": "5ENGLRBys81V",
        "outputId": "d59d52a8-49d5-4e73-a194-8119f9b8e964"
      },
      "execution_count": 30,
      "outputs": [
        {
          "output_type": "execute_result",
          "data": {
            "text/html": [
              "\n",
              "  <div id=\"df-9a0b8c04-0e20-436b-85bf-8040424c51da\">\n",
              "    <div class=\"colab-df-container\">\n",
              "      <div>\n",
              "<style scoped>\n",
              "    .dataframe tbody tr th:only-of-type {\n",
              "        vertical-align: middle;\n",
              "    }\n",
              "\n",
              "    .dataframe tbody tr th {\n",
              "        vertical-align: top;\n",
              "    }\n",
              "\n",
              "    .dataframe thead th {\n",
              "        text-align: right;\n",
              "    }\n",
              "</style>\n",
              "<table border=\"1\" class=\"dataframe\">\n",
              "  <thead>\n",
              "    <tr style=\"text-align: right;\">\n",
              "      <th></th>\n",
              "      <th>id</th>\n",
              "      <th>discourse_id</th>\n",
              "      <th>discourse_start</th>\n",
              "      <th>discourse_end</th>\n",
              "      <th>discourse_text</th>\n",
              "      <th>discourse_type</th>\n",
              "      <th>discourse_type_num</th>\n",
              "      <th>predictionstring</th>\n",
              "      <th>Tags</th>\n",
              "    </tr>\n",
              "  </thead>\n",
              "  <tbody>\n",
              "    <tr>\n",
              "      <th>0</th>\n",
              "      <td>423A1CA112E2</td>\n",
              "      <td>1.622628e+12</td>\n",
              "      <td>8.0</td>\n",
              "      <td>229.0</td>\n",
              "      <td>Modern humans today are always on their phone....</td>\n",
              "      <td>Lead</td>\n",
              "      <td>Lead 1</td>\n",
              "      <td>1 2 3 4 5 6 7 8 9 10 11 12 13 14 15 16 17 18 1...</td>\n",
              "      <td>O-Lead O-Lead B-Lead O-Lead O-Lead O-Lead O-Le...</td>\n",
              "    </tr>\n",
              "    <tr>\n",
              "      <th>1</th>\n",
              "      <td>423A1CA112E2</td>\n",
              "      <td>1.622628e+12</td>\n",
              "      <td>230.0</td>\n",
              "      <td>312.0</td>\n",
              "      <td>They are some really bad consequences when stu...</td>\n",
              "      <td>Position</td>\n",
              "      <td>Position 1</td>\n",
              "      <td>45 46 47 48 49 50 51 52 53 54 55 56 57 58 59</td>\n",
              "      <td>O-Position O-Position O-Position O-Position O-...</td>\n",
              "    </tr>\n",
              "    <tr>\n",
              "      <th>2</th>\n",
              "      <td>423A1CA112E2</td>\n",
              "      <td>1.622628e+12</td>\n",
              "      <td>313.0</td>\n",
              "      <td>401.0</td>\n",
              "      <td>Some certain areas in the United States ban ph...</td>\n",
              "      <td>Evidence</td>\n",
              "      <td>Evidence 1</td>\n",
              "      <td>60 61 62 63 64 65 66 67 68 69 70 71 72 73 74 75</td>\n",
              "      <td>O-Evidence O-Evidence O-Evidence O-Evidence B-...</td>\n",
              "    </tr>\n",
              "    <tr>\n",
              "      <th>3</th>\n",
              "      <td>423A1CA112E2</td>\n",
              "      <td>1.622628e+12</td>\n",
              "      <td>402.0</td>\n",
              "      <td>758.0</td>\n",
              "      <td>When people have phones, they know about certa...</td>\n",
              "      <td>Evidence</td>\n",
              "      <td>Evidence 2</td>\n",
              "      <td>76 77 78 79 80 81 82 83 84 85 86 87 88 89 90 9...</td>\n",
              "      <td>O-Evidence O-Evidence O-Evidence O-Evidence O-...</td>\n",
              "    </tr>\n",
              "    <tr>\n",
              "      <th>4</th>\n",
              "      <td>423A1CA112E2</td>\n",
              "      <td>1.622628e+12</td>\n",
              "      <td>759.0</td>\n",
              "      <td>886.0</td>\n",
              "      <td>Driving is one of the way how to get around. P...</td>\n",
              "      <td>Claim</td>\n",
              "      <td>Claim 1</td>\n",
              "      <td>139 140 141 142 143 144 145 146 147 148 149 15...</td>\n",
              "      <td>O-Claim O-Claim O-Claim O-Claim O-Claim O-Clai...</td>\n",
              "    </tr>\n",
              "  </tbody>\n",
              "</table>\n",
              "</div>\n",
              "      <button class=\"colab-df-convert\" onclick=\"convertToInteractive('df-9a0b8c04-0e20-436b-85bf-8040424c51da')\"\n",
              "              title=\"Convert this dataframe to an interactive table.\"\n",
              "              style=\"display:none;\">\n",
              "        \n",
              "  <svg xmlns=\"http://www.w3.org/2000/svg\" height=\"24px\"viewBox=\"0 0 24 24\"\n",
              "       width=\"24px\">\n",
              "    <path d=\"M0 0h24v24H0V0z\" fill=\"none\"/>\n",
              "    <path d=\"M18.56 5.44l.94 2.06.94-2.06 2.06-.94-2.06-.94-.94-2.06-.94 2.06-2.06.94zm-11 1L8.5 8.5l.94-2.06 2.06-.94-2.06-.94L8.5 2.5l-.94 2.06-2.06.94zm10 10l.94 2.06.94-2.06 2.06-.94-2.06-.94-.94-2.06-.94 2.06-2.06.94z\"/><path d=\"M17.41 7.96l-1.37-1.37c-.4-.4-.92-.59-1.43-.59-.52 0-1.04.2-1.43.59L10.3 9.45l-7.72 7.72c-.78.78-.78 2.05 0 2.83L4 21.41c.39.39.9.59 1.41.59.51 0 1.02-.2 1.41-.59l7.78-7.78 2.81-2.81c.8-.78.8-2.07 0-2.86zM5.41 20L4 18.59l7.72-7.72 1.47 1.35L5.41 20z\"/>\n",
              "  </svg>\n",
              "      </button>\n",
              "      \n",
              "  <style>\n",
              "    .colab-df-container {\n",
              "      display:flex;\n",
              "      flex-wrap:wrap;\n",
              "      gap: 12px;\n",
              "    }\n",
              "\n",
              "    .colab-df-convert {\n",
              "      background-color: #E8F0FE;\n",
              "      border: none;\n",
              "      border-radius: 50%;\n",
              "      cursor: pointer;\n",
              "      display: none;\n",
              "      fill: #1967D2;\n",
              "      height: 32px;\n",
              "      padding: 0 0 0 0;\n",
              "      width: 32px;\n",
              "    }\n",
              "\n",
              "    .colab-df-convert:hover {\n",
              "      background-color: #E2EBFA;\n",
              "      box-shadow: 0px 1px 2px rgba(60, 64, 67, 0.3), 0px 1px 3px 1px rgba(60, 64, 67, 0.15);\n",
              "      fill: #174EA6;\n",
              "    }\n",
              "\n",
              "    [theme=dark] .colab-df-convert {\n",
              "      background-color: #3B4455;\n",
              "      fill: #D2E3FC;\n",
              "    }\n",
              "\n",
              "    [theme=dark] .colab-df-convert:hover {\n",
              "      background-color: #434B5C;\n",
              "      box-shadow: 0px 1px 3px 1px rgba(0, 0, 0, 0.15);\n",
              "      filter: drop-shadow(0px 1px 2px rgba(0, 0, 0, 0.3));\n",
              "      fill: #FFFFFF;\n",
              "    }\n",
              "  </style>\n",
              "\n",
              "      <script>\n",
              "        const buttonEl =\n",
              "          document.querySelector('#df-9a0b8c04-0e20-436b-85bf-8040424c51da button.colab-df-convert');\n",
              "        buttonEl.style.display =\n",
              "          google.colab.kernel.accessAllowed ? 'block' : 'none';\n",
              "\n",
              "        async function convertToInteractive(key) {\n",
              "          const element = document.querySelector('#df-9a0b8c04-0e20-436b-85bf-8040424c51da');\n",
              "          const dataTable =\n",
              "            await google.colab.kernel.invokeFunction('convertToInteractive',\n",
              "                                                     [key], {});\n",
              "          if (!dataTable) return;\n",
              "\n",
              "          const docLinkHtml = 'Like what you see? Visit the ' +\n",
              "            '<a target=\"_blank\" href=https://colab.research.google.com/notebooks/data_table.ipynb>data table notebook</a>'\n",
              "            + ' to learn more about interactive tables.';\n",
              "          element.innerHTML = '';\n",
              "          dataTable['output_type'] = 'display_data';\n",
              "          await google.colab.output.renderOutput(dataTable, element);\n",
              "          const docLink = document.createElement('div');\n",
              "          docLink.innerHTML = docLinkHtml;\n",
              "          element.appendChild(docLink);\n",
              "        }\n",
              "      </script>\n",
              "    </div>\n",
              "  </div>\n",
              "  "
            ],
            "text/plain": [
              "             id  ...                                               Tags\n",
              "0  423A1CA112E2  ...  O-Lead O-Lead B-Lead O-Lead O-Lead O-Lead O-Le...\n",
              "1  423A1CA112E2  ...  O-Position O-Position O-Position O-Position O-...\n",
              "2  423A1CA112E2  ...  O-Evidence O-Evidence O-Evidence O-Evidence B-...\n",
              "3  423A1CA112E2  ...  O-Evidence O-Evidence O-Evidence O-Evidence O-...\n",
              "4  423A1CA112E2  ...  O-Claim O-Claim O-Claim O-Claim O-Claim O-Clai...\n",
              "\n",
              "[5 rows x 9 columns]"
            ]
          },
          "metadata": {},
          "execution_count": 30
        }
      ]
    },
    {
      "cell_type": "code",
      "source": [
        "df.iloc[400].discourse_text"
      ],
      "metadata": {
        "colab": {
          "base_uri": "https://localhost:8080/",
          "height": 35
        },
        "id": "l_loDSkmkbtb",
        "outputId": "69067907-35d7-46ca-e626-801ba910c8be"
      },
      "execution_count": 44,
      "outputs": [
        {
          "output_type": "execute_result",
          "data": {
            "application/vnd.google.colaboratory.intrinsic+json": {
              "type": "string"
            },
            "text/plain": [
              "'According to research cell phones are the leading factors that cause accidents today. But, despite the danger, people still use cell phones because they want to always stay in touch with other people. '"
            ]
          },
          "metadata": {},
          "execution_count": 44
        }
      ]
    },
    {
      "cell_type": "code",
      "source": [
        "#df.iloc[40].Tags\n",
        "print(df['Tags'].values[0])"
      ],
      "metadata": {
        "colab": {
          "base_uri": "https://localhost:8080/"
        },
        "id": "MFmKNvQ85OMd",
        "outputId": "dacfaf22-870f-4b32-8971-e99db58051f7"
      },
      "execution_count": 37,
      "outputs": [
        {
          "output_type": "stream",
          "name": "stdout",
          "text": [
            "O-Lead O-Lead B-Lead O-Lead O-Lead O-Lead O-Lead O-Lead O-Lead O-Lead O-Lead O-Lead O-Lead O-Lead O-Lead B-Lead I-Lead I-Lead I-Lead O-Lead O-Lead O-Lead O-Lead O-Lead O-Lead O-Lead O-Lead O-Lead O-Lead O-Lead O-Lead O-Lead O-Lead O-Lead O-Lead B-Lead O-Lead O-Lead O-Lead O-Lead O-Lead O-Lead O-Lead O-Lead O-Lead O-Lead O-Lead\n"
          ]
        }
      ]
    },
    {
      "cell_type": "code",
      "source": [
        "doc=nlp(\"Barack Obama was born in Hawaï\")\n",
        "for token in doc:\n",
        "  print(token.ent_iob_+'-'+token.ent_type_)"
      ],
      "metadata": {
        "colab": {
          "base_uri": "https://localhost:8080/"
        },
        "id": "e4aeSogiI-T8",
        "outputId": "53141807-322e-42ed-c2fa-da4c36e4984b"
      },
      "execution_count": 51,
      "outputs": [
        {
          "output_type": "stream",
          "name": "stdout",
          "text": [
            "B-PERSON\n",
            "I-PERSON\n",
            "O-\n",
            "O-\n",
            "O-\n",
            "B-PERSON\n"
          ]
        }
      ]
    },
    {
      "cell_type": "code",
      "source": [
        "def make_tag_lookup_table():\n",
        "    iob_labels = [\"B\", \"I\"]\n",
        "    ner_labels = [\"PER\", \"ORG\", \"LOC\", \"MISC\"]\n",
        "    all_labels = [(label1, label2) for label2 in ner_labels for label1 in iob_labels]\n",
        "    all_labels = [\"-\".join([a, b]) for a, b in all_labels]\n",
        "    all_labels = [\"[PAD]\", \"O\"] + all_labels\n",
        "    return dict(zip(range(0, len(all_labels) + 1), all_labels))\n",
        "\n",
        "\n",
        "mapping = make_tag_lookup_table()\n",
        "print(mapping)"
      ],
      "metadata": {
        "colab": {
          "base_uri": "https://localhost:8080/"
        },
        "id": "ZvjEjxuZMO7w",
        "outputId": "7d4ea591-c369-443d-9107-ae0f3c07e3d8"
      },
      "execution_count": 10,
      "outputs": [
        {
          "output_type": "stream",
          "name": "stdout",
          "text": [
            "{0: '[PAD]', 1: 'O', 2: 'B-PER', 3: 'I-PER', 4: 'B-ORG', 5: 'I-ORG', 6: 'B-LOC', 7: 'I-LOC', 8: 'B-MISC', 9: 'I-MISC'}\n"
          ]
        }
      ]
    },
    {
      "cell_type": "code",
      "source": [
        "def generate_tags(labels: 'list[str]', scheme=\"IOB\"): # '[list[str], dict[str, int]]':\n",
        "    \"\"\"\n",
        "    params\n",
        "    ------\n",
        "    df: \n",
        "        The dataframe specific for a certain text\n",
        "    labels: \n",
        "        A list of text labels (e.g. [\"PER\", \"LOC\"])\n",
        "    scheme:\n",
        "        Which scheme to use. Has to be one of:\n",
        "            - \"IO\"\n",
        "            - \"IOB\", \"BIO\"\n",
        "            - \"BILOU\"\n",
        "            - \"BIOES\"\n",
        "\n",
        "    returns\n",
        "    -------\n",
        "    tags: \n",
        "        List of tags created from the labels (e.g. [\"O\", \"I-PER\", \"B-PER\", \"I-LOC\", \"B-LOC\"]\n",
        "        if you use scheme=\"IOB\")\n",
        "    tag_to_num: \n",
        "        A dictionary mapping a tag to a number in tagged_chars\n",
        "    \"\"\"\n",
        "    labels = set(labels)\n",
        "    \n",
        "    tags = ['O']\n",
        "    scheme = scheme.upper().replace(\"O\", \"\")\n",
        "\n",
        "    for label in labels:\n",
        "        for prefix in scheme:\n",
        "            tags.append(f\"{prefix}-{label}\")\n",
        "\n",
        "    tag_to_num = {tag: i for i, tag in enumerate(tags)}\n",
        "\n",
        "    return tags, tag_to_num\n",
        "\n",
        "def create_target(\n",
        "    text: str, labels: 'list[str]', start: 'list[str]', end: 'list[str]', offset_mapping: 'list[tuple]', \n",
        "    tag_to_num: 'dict[str, int]', scheme: str = \"IOB\"\n",
        ") -> 'list[list[int]]':\n",
        "    \"\"\"\n",
        "    This function uses the offsets from a tokenizer and the labeled characters to create the NER target tags \n",
        "    in the Huggingface transformers format. It takes into account the scheme you are using (by default IOB).\n",
        "    \n",
        "    params\n",
        "    ------\n",
        "    text: \n",
        "        The text we want to tag\n",
        "    labels:\n",
        "        A list of text labels (e.g. [\"PER\", \"LOC\"])\n",
        "    start: \n",
        "        List of start index (character-level) for the corresponding label\n",
        "    end: \n",
        "        List of end index (character-level) for the corresponding label\n",
        "    offset_mapping: \n",
        "        The offsets obtained from huggingface tokenizers when offsets_mapping=True \n",
        "    labeled_chars: \n",
        "        the labeled characters from apply_labels\n",
        "    tag_to_num: \n",
        "        A dictionary mapping a tag to a number in tagged_chars\n",
        "    scheme:\n",
        "        Which scheme to use. Has to be one of:\n",
        "            - \"IO\"\n",
        "            - \"IOB\", \"BIO\",\n",
        "            - \"BILOU\"\n",
        "            - \"BIOES\"\n",
        "    \n",
        "    returns\n",
        "    -------\n",
        "    target\n",
        "        list of list of target tokens matching the length of the offset_mapping\n",
        "    \"\"\"\n",
        "    scheme = scheme.upper()\n",
        "    start = list(start)\n",
        "    end = list(end)\n",
        "    labels = list(labels)\n",
        "    \n",
        "    tag_lst = list(tag_to_num)\n",
        "    \n",
        "    i = 0\n",
        "    j = 0\n",
        "    iend = len(start)\n",
        "    jend = len(offset_mapping)\n",
        "\n",
        "    target = [tag_to_num['O']] * len(offset_mapping)\n",
        "\n",
        "    is_first = True\n",
        "\n",
        "    if \"L\" in scheme:\n",
        "        end_char = \"L\"\n",
        "    elif \"E\" in scheme:\n",
        "        end_char = \"E\"\n",
        "    else:\n",
        "        end_char = \"I\"\n",
        "\n",
        "    if \"U\" in scheme:\n",
        "        unit_char = \"U\"\n",
        "    elif \"S\" in scheme:\n",
        "        unit_char = \"S\"\n",
        "    elif \"B\" in scheme:\n",
        "        unit_char = \"B\"\n",
        "    else:\n",
        "        unit_char = \"I\"\n",
        "\n",
        "    while i < iend and j < jend:\n",
        "        s = int(start[i])\n",
        "        e = int(end[i])\n",
        "        label = labels[i]\n",
        "        \n",
        "        s_off, e_off = offset_mapping[j]\n",
        "        \n",
        "        # [PAD], [SEP] and [CLS] will have (0, 0) \n",
        "        if is_first and s_off >= s and e_off >= e:\n",
        "            tag = f\"{unit_char}-{label}\"\n",
        "            target[j] = tag_to_num[tag]\n",
        "            \n",
        "            j += 1\n",
        "            i += 1\n",
        "        \n",
        "        elif j != (jend - 1) and offset_mapping[j+1][0] >= e:\n",
        "            is_first = True\n",
        "            tag = f\"{end_char}-{label}\"\n",
        "            target[j] = tag_to_num[tag]\n",
        "            i += 1\n",
        "        \n",
        "        elif e_off - s_off == 0:\n",
        "            j+=1\n",
        "        \n",
        "             \n",
        "        elif j == (jend - 1):\n",
        "            is_first = True\n",
        "            tag = f\"{end_char}-{label}\"\n",
        "            target[j] = tag_to_num[tag]\n",
        "            i += 1\n",
        "            j += 1\n",
        "        \n",
        "\n",
        "        elif s <= s_off < e:\n",
        "            if is_first and \"B\" in scheme:\n",
        "                is_first = False\n",
        "                tag = f\"B-{label}\"\n",
        "            else:\n",
        "                tag = f\"I-{label}\"    \n",
        "            \n",
        "            \n",
        "            target[j] = tag_to_num[tag]\n",
        "            \n",
        "            j += 1\n",
        "        elif s_off < s:\n",
        "            j += 1\n",
        "            is_first = True\n",
        "\n",
        "    \n",
        "    return target\n",
        "\n",
        "if __name__ == \"__main__\":\n",
        "    # \"IO\", \"BIO\", \"IOB\", \"BIOES\" also work\n",
        "    text = \"The world !\"\n",
        "    offsets = [(0, 5), (6, 12), (12, 13)]\n",
        "    labels = ['det', 'noun']\n",
        "    start = [0, 6]\n",
        "    end = [5, 12]\n",
        "\n",
        "    for scheme in [\"BILOU\", \"BIO\", \"IO\", \"IOB\"]:\n",
        "        tags, tag_to_num = generate_tags(labels, scheme=scheme)\n",
        "        target = create_target(\n",
        "            text=text,\n",
        "            labels=labels,\n",
        "            start=start,\n",
        "            end=end,\n",
        "            offset_mapping=offsets, \n",
        "            tag_to_num=tag_to_num, \n",
        "            scheme=scheme\n",
        "        )\n",
        "\n",
        "        print('-'*50)\n",
        "        print(\"scheme:\", scheme)\n",
        "        print(text)\n",
        "        print(tag_to_num)\n",
        "        print(target)\n",
        "    \n",
        "    text = \"Jean de Bonn is in Paris, France, Europe\"\n",
        "    offsets = [(0, 4), (5, 7), (8, 12), (13, 15), (16, 18), (19, 25), (26, 32), (34, 40)]\n",
        "    tags, tag_to_num = generate_tags(['LOC', 'PER'], scheme=\"BILOU\")\n",
        "    \n",
        "    target = create_target(\n",
        "        text=text,\n",
        "        labels=['PER', 'LOC'],\n",
        "        start=[0, 19],\n",
        "        end=[12, 40],\n",
        "        offset_mapping=offsets, \n",
        "        tag_to_num=tag_to_num, \n",
        "        scheme=\"BILOU\"\n",
        "    )\n",
        "    \n",
        "    print('-'*50)\n",
        "    print(text)\n",
        "    print(tag_to_num)\n",
        "    print(target)\n",
        "    \n",
        "    offsets = [(0, 4), (5, 7), (8, 12), (13, 15), (16, 18), (19, 25), (26, 32), (34, 40), (41, 44), (45, 53)]\n",
        "    text = \"Jean de Bonn is in Paris, France, Europe for vacation\"\n",
        "    \n",
        "    tags, tag_to_num = generate_tags(['LOC', 'PER'], scheme=\"BIOES\")\n",
        "    \n",
        "    target = create_target(\n",
        "        text=text,\n",
        "        labels=['PER', 'LOC'],\n",
        "        start=[0, 19],\n",
        "        end=[12, 40],\n",
        "        offset_mapping=offsets, \n",
        "        tag_to_num=tag_to_num, \n",
        "        scheme=\"BIOES\"\n",
        "    )\n",
        "    \n",
        "    print('-'*50)\n",
        "    print(text)\n",
        "    print(tag_to_num)\n",
        "    print(target)"
      ],
      "metadata": {
        "colab": {
          "base_uri": "https://localhost:8080/"
        },
        "id": "M_CTa0oECrfv",
        "outputId": "e8aee40b-8a05-4750-a96f-dc71d22b33e1"
      },
      "execution_count": 40,
      "outputs": [
        {
          "output_type": "stream",
          "name": "stdout",
          "text": [
            "--------------------------------------------------\n",
            "scheme: BILOU\n",
            "The world !\n",
            "{'O': 0, 'B-noun': 1, 'I-noun': 2, 'L-noun': 3, 'U-noun': 4, 'B-det': 5, 'I-det': 6, 'L-det': 7, 'U-det': 8}\n",
            "[8, 4, 0]\n",
            "--------------------------------------------------\n",
            "scheme: BIO\n",
            "The world !\n",
            "{'O': 0, 'B-noun': 1, 'I-noun': 2, 'B-det': 3, 'I-det': 4}\n",
            "[3, 1, 0]\n",
            "--------------------------------------------------\n",
            "scheme: IO\n",
            "The world !\n",
            "{'O': 0, 'I-noun': 1, 'I-det': 2}\n",
            "[2, 1, 0]\n",
            "--------------------------------------------------\n",
            "scheme: IOB\n",
            "The world !\n",
            "{'O': 0, 'I-noun': 1, 'B-noun': 2, 'I-det': 3, 'B-det': 4}\n",
            "[4, 2, 0]\n",
            "--------------------------------------------------\n",
            "Jean de Bonn is in Paris, France, Europe\n",
            "{'O': 0, 'B-PER': 1, 'I-PER': 2, 'L-PER': 3, 'U-PER': 4, 'B-LOC': 5, 'I-LOC': 6, 'L-LOC': 7, 'U-LOC': 8}\n",
            "[1, 2, 3, 0, 0, 5, 6, 7]\n",
            "--------------------------------------------------\n",
            "Jean de Bonn is in Paris, France, Europe for vacation\n",
            "{'O': 0, 'B-PER': 1, 'I-PER': 2, 'E-PER': 3, 'S-PER': 4, 'B-LOC': 5, 'I-LOC': 6, 'E-LOC': 7, 'S-LOC': 8}\n",
            "[1, 2, 3, 0, 0, 5, 6, 7, 0, 0]\n"
          ]
        }
      ]
    },
    {
      "cell_type": "code",
      "source": [
        "generate_tags([df.iloc[400].discourse_text])"
      ],
      "metadata": {
        "colab": {
          "base_uri": "https://localhost:8080/"
        },
        "id": "hMBpouRJDY_Q",
        "outputId": "64994662-39b0-4712-b28b-5e3b3047c576"
      },
      "execution_count": 45,
      "outputs": [
        {
          "output_type": "execute_result",
          "data": {
            "text/plain": [
              "(['O',\n",
              "  'I-According to research cell phones are the leading factors that cause accidents today. But, despite the danger, people still use cell phones because they want to always stay in touch with other people. ',\n",
              "  'B-According to research cell phones are the leading factors that cause accidents today. But, despite the danger, people still use cell phones because they want to always stay in touch with other people. '],\n",
              " {'B-According to research cell phones are the leading factors that cause accidents today. But, despite the danger, people still use cell phones because they want to always stay in touch with other people. ': 2,\n",
              "  'I-According to research cell phones are the leading factors that cause accidents today. But, despite the danger, people still use cell phones because they want to always stay in touch with other people. ': 1,\n",
              "  'O': 0})"
            ]
          },
          "metadata": {},
          "execution_count": 45
        }
      ]
    },
    {
      "cell_type": "markdown",
      "source": [
        "# ROUGH WORK START"
      ],
      "metadata": {
        "id": "-929EHnMivBi"
      }
    },
    {
      "cell_type": "code",
      "source": [
        " # First step assigns a discourse type to each word\n",
        "def add_discourse_type(example):\n",
        "    \n",
        "    id_ = example[\"id\"]\n",
        "    \n",
        "    features = df[df[\"id\"]==id_]\n",
        "\n",
        "    with open(f\"../input/feedback-prize-2021/train/{id_}.txt\") as fp:\n",
        "        text = fp.read()\n",
        "\n",
        "    words = text.split()\n",
        "\n",
        "    labels = [\"O\"]*len(words)\n",
        "\n",
        "    for discourse, predictions in features[[\"discourse_type\", \"predictionstring\"]].values:\n",
        "        idx_iter = map(int, predictions.split())\n",
        "        for idx in idx_iter:\n",
        "            labels[idx] = discourse \n",
        "        \n",
        "    return {\n",
        "        \"id\" : id_,\n",
        "        \"labels\": labels,\n",
        "        \"words\": words,\n",
        "    }"
      ],
      "metadata": {
        "id": "G3q9OU8Siwaq"
      },
      "execution_count": 3,
      "outputs": []
    },
    {
      "cell_type": "code",
      "source": [
        "%%time\n",
        "\n",
        "from datasets import Dataset\n",
        "\n",
        "ds = Dataset.from_dict({\"id\": df[\"id\"].unique()}) \n",
        "\n",
        "tagged_ds = ds.map(add_discourse_type, num_proc=4)"
      ],
      "metadata": {
        "colab": {
          "base_uri": "https://localhost:8080/",
          "height": 519
        },
        "id": "MIeXQOUMjA0J",
        "outputId": "000ad081-1b6c-4bca-d3b1-8890bee4c1e7"
      },
      "execution_count": 5,
      "outputs": [
        {
          "output_type": "error",
          "ename": "ModuleNotFoundError",
          "evalue": "ignored",
          "traceback": [
            "\u001b[0;31m---------------------------------------------------------------------------\u001b[0m",
            "\u001b[0;31mModuleNotFoundError\u001b[0m                       Traceback (most recent call last)",
            "\u001b[0;32m<ipython-input-5-14c78e54cd81>\u001b[0m in \u001b[0;36m<module>\u001b[0;34m()\u001b[0m\n\u001b[0;32m----> 1\u001b[0;31m \u001b[0mget_ipython\u001b[0m\u001b[0;34m(\u001b[0m\u001b[0;34m)\u001b[0m\u001b[0;34m.\u001b[0m\u001b[0mrun_cell_magic\u001b[0m\u001b[0;34m(\u001b[0m\u001b[0;34m'time'\u001b[0m\u001b[0;34m,\u001b[0m \u001b[0;34m''\u001b[0m\u001b[0;34m,\u001b[0m \u001b[0;34m'\\nfrom datasets import Dataset\\n\\nds = Dataset.from_dict({\"id\": df[\"id\"].unique()}) \\n\\ntagged_ds = ds.map(add_discourse_type, num_proc=4)'\u001b[0m\u001b[0;34m)\u001b[0m\u001b[0;34m\u001b[0m\u001b[0;34m\u001b[0m\u001b[0m\n\u001b[0m",
            "\u001b[0;32m/usr/local/lib/python3.7/dist-packages/IPython/core/interactiveshell.py\u001b[0m in \u001b[0;36mrun_cell_magic\u001b[0;34m(self, magic_name, line, cell)\u001b[0m\n\u001b[1;32m   2115\u001b[0m             \u001b[0mmagic_arg_s\u001b[0m \u001b[0;34m=\u001b[0m \u001b[0mself\u001b[0m\u001b[0;34m.\u001b[0m\u001b[0mvar_expand\u001b[0m\u001b[0;34m(\u001b[0m\u001b[0mline\u001b[0m\u001b[0;34m,\u001b[0m \u001b[0mstack_depth\u001b[0m\u001b[0;34m)\u001b[0m\u001b[0;34m\u001b[0m\u001b[0;34m\u001b[0m\u001b[0m\n\u001b[1;32m   2116\u001b[0m             \u001b[0;32mwith\u001b[0m \u001b[0mself\u001b[0m\u001b[0;34m.\u001b[0m\u001b[0mbuiltin_trap\u001b[0m\u001b[0;34m:\u001b[0m\u001b[0;34m\u001b[0m\u001b[0;34m\u001b[0m\u001b[0m\n\u001b[0;32m-> 2117\u001b[0;31m                 \u001b[0mresult\u001b[0m \u001b[0;34m=\u001b[0m \u001b[0mfn\u001b[0m\u001b[0;34m(\u001b[0m\u001b[0mmagic_arg_s\u001b[0m\u001b[0;34m,\u001b[0m \u001b[0mcell\u001b[0m\u001b[0;34m)\u001b[0m\u001b[0;34m\u001b[0m\u001b[0;34m\u001b[0m\u001b[0m\n\u001b[0m\u001b[1;32m   2118\u001b[0m             \u001b[0;32mreturn\u001b[0m \u001b[0mresult\u001b[0m\u001b[0;34m\u001b[0m\u001b[0;34m\u001b[0m\u001b[0m\n\u001b[1;32m   2119\u001b[0m \u001b[0;34m\u001b[0m\u001b[0m\n",
            "\u001b[0;32m<decorator-gen-53>\u001b[0m in \u001b[0;36mtime\u001b[0;34m(self, line, cell, local_ns)\u001b[0m\n",
            "\u001b[0;32m/usr/local/lib/python3.7/dist-packages/IPython/core/magic.py\u001b[0m in \u001b[0;36m<lambda>\u001b[0;34m(f, *a, **k)\u001b[0m\n\u001b[1;32m    186\u001b[0m     \u001b[0;31m# but it's overkill for just that one bit of state.\u001b[0m\u001b[0;34m\u001b[0m\u001b[0;34m\u001b[0m\u001b[0;34m\u001b[0m\u001b[0m\n\u001b[1;32m    187\u001b[0m     \u001b[0;32mdef\u001b[0m \u001b[0mmagic_deco\u001b[0m\u001b[0;34m(\u001b[0m\u001b[0marg\u001b[0m\u001b[0;34m)\u001b[0m\u001b[0;34m:\u001b[0m\u001b[0;34m\u001b[0m\u001b[0;34m\u001b[0m\u001b[0m\n\u001b[0;32m--> 188\u001b[0;31m         \u001b[0mcall\u001b[0m \u001b[0;34m=\u001b[0m \u001b[0;32mlambda\u001b[0m \u001b[0mf\u001b[0m\u001b[0;34m,\u001b[0m \u001b[0;34m*\u001b[0m\u001b[0ma\u001b[0m\u001b[0;34m,\u001b[0m \u001b[0;34m**\u001b[0m\u001b[0mk\u001b[0m\u001b[0;34m:\u001b[0m \u001b[0mf\u001b[0m\u001b[0;34m(\u001b[0m\u001b[0;34m*\u001b[0m\u001b[0ma\u001b[0m\u001b[0;34m,\u001b[0m \u001b[0;34m**\u001b[0m\u001b[0mk\u001b[0m\u001b[0;34m)\u001b[0m\u001b[0;34m\u001b[0m\u001b[0;34m\u001b[0m\u001b[0m\n\u001b[0m\u001b[1;32m    189\u001b[0m \u001b[0;34m\u001b[0m\u001b[0m\n\u001b[1;32m    190\u001b[0m         \u001b[0;32mif\u001b[0m \u001b[0mcallable\u001b[0m\u001b[0;34m(\u001b[0m\u001b[0marg\u001b[0m\u001b[0;34m)\u001b[0m\u001b[0;34m:\u001b[0m\u001b[0;34m\u001b[0m\u001b[0;34m\u001b[0m\u001b[0m\n",
            "\u001b[0;32m/usr/local/lib/python3.7/dist-packages/IPython/core/magics/execution.py\u001b[0m in \u001b[0;36mtime\u001b[0;34m(self, line, cell, local_ns)\u001b[0m\n\u001b[1;32m   1191\u001b[0m         \u001b[0;32melse\u001b[0m\u001b[0;34m:\u001b[0m\u001b[0;34m\u001b[0m\u001b[0;34m\u001b[0m\u001b[0m\n\u001b[1;32m   1192\u001b[0m             \u001b[0mst\u001b[0m \u001b[0;34m=\u001b[0m \u001b[0mclock2\u001b[0m\u001b[0;34m(\u001b[0m\u001b[0;34m)\u001b[0m\u001b[0;34m\u001b[0m\u001b[0;34m\u001b[0m\u001b[0m\n\u001b[0;32m-> 1193\u001b[0;31m             \u001b[0mexec\u001b[0m\u001b[0;34m(\u001b[0m\u001b[0mcode\u001b[0m\u001b[0;34m,\u001b[0m \u001b[0mglob\u001b[0m\u001b[0;34m,\u001b[0m \u001b[0mlocal_ns\u001b[0m\u001b[0;34m)\u001b[0m\u001b[0;34m\u001b[0m\u001b[0;34m\u001b[0m\u001b[0m\n\u001b[0m\u001b[1;32m   1194\u001b[0m             \u001b[0mend\u001b[0m \u001b[0;34m=\u001b[0m \u001b[0mclock2\u001b[0m\u001b[0;34m(\u001b[0m\u001b[0;34m)\u001b[0m\u001b[0;34m\u001b[0m\u001b[0;34m\u001b[0m\u001b[0m\n\u001b[1;32m   1195\u001b[0m             \u001b[0mout\u001b[0m \u001b[0;34m=\u001b[0m \u001b[0;32mNone\u001b[0m\u001b[0;34m\u001b[0m\u001b[0;34m\u001b[0m\u001b[0m\n",
            "\u001b[0;32m<timed exec>\u001b[0m in \u001b[0;36m<module>\u001b[0;34m()\u001b[0m\n",
            "\u001b[0;31mModuleNotFoundError\u001b[0m: No module named 'datasets'",
            "",
            "\u001b[0;31m---------------------------------------------------------------------------\u001b[0;32m\nNOTE: If your import is failing due to a missing package, you can\nmanually install dependencies using either !pip or !apt.\n\nTo view examples of installing some common dependencies, click the\n\"Open Examples\" button below.\n\u001b[0;31m---------------------------------------------------------------------------\u001b[0m\n"
          ],
          "errorDetails": {
            "actions": [
              {
                "action": "open_url",
                "actionText": "Open Examples",
                "url": "/notebooks/snippets/importing_libraries.ipynb"
              }
            ]
          }
        }
      ]
    },
    {
      "cell_type": "code",
      "source": [
        ""
      ],
      "metadata": {
        "id": "kMQ2zD4CjEZ_"
      },
      "execution_count": null,
      "outputs": []
    }
  ]
}