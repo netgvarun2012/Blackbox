{
  "nbformat": 4,
  "nbformat_minor": 0,
  "metadata": {
    "colab": {
      "name": "ShowTellFinal.ipynb",
      "provenance": [],
      "collapsed_sections": [],
      "authorship_tag": "ABX9TyPHE5iEoZ4Ic8C9xBsqoaQ8",
      "include_colab_link": true
    },
    "kernelspec": {
      "name": "python3",
      "display_name": "Python 3"
    },
    "language_info": {
      "name": "python"
    }
  },
  "cells": [
    {
      "cell_type": "markdown",
      "metadata": {
        "id": "view-in-github",
        "colab_type": "text"
      },
      "source": [
        "<a href=\"https://colab.research.google.com/github/netgvarun2021/Blackbox/blob/main/ShowTellFinal.ipynb\" target=\"_parent\"><img src=\"https://colab.research.google.com/assets/colab-badge.svg\" alt=\"Open In Colab\"/></a>"
      ]
    },
    {
      "cell_type": "code",
      "execution_count": 3,
      "metadata": {
        "id": "AjP_0zffRYX-"
      },
      "outputs": [],
      "source": [
        "# Perform standard imports\n",
        "import spacy\n",
        "nlp = spacy.load('en_core_web_sm')\n",
        "from spacy.matcher import Matcher"
      ]
    },
    {
      "cell_type": "code",
      "source": [
        "# Enter your code here:\n",
        "doc = nlp(u'I was walking out of a company with a smile on my face, happiness in my heart and a voice inside my head saying this is what you are and you finally did it. Before I explain you why I was so happy and satisfied let me start with an incident happened 2 months back. \\\n",
        "From 1 year I was working on my independent project to build a network system which cannot be hacked, I went to different companies to know the major issues they are facing with information security, and one day I came up with an idea to build a centralized network which acts like a \\\n",
        "brain which has no way to hack into. So I went to a company to meet the systems architect to confirm if the idea could work, he was surprised with the idea and said it will work if I can design the absolute network I explained. He gave me some of his research records and said if they \\\n",
        "could help, I returned home and started reading his work and after reading some pages I thought it was useless to me so I kept it aside.\\\n",
        "After a few days I started searching for top universities in the world with best undergraduate research opportunities and I found out most of them were situated in America. I decided to apply to some of the universities, so I read the requirements and found that SAT score is a major part of the application. My father encouraged me to take SAT even though we found it hard to pay. I decided to take SAT in October so that I could apply early, I started working hard for SAT as there is only one month left. It\\'s October 13 and I was confident that I could perform well, I reached the exam center and at checkpoint I was asked to show my ID, I showed them my government issued ID, but he said they would only accept passport as valuable ID in India, which I didn\\'t have. I was not allowed even after requesting for long time and I didn\\'t know what to do, I was in shock because I was never expected a hit like that, and it was replaying over and over in my head that I cannot afford for another registration and all my dreams of attending those universities were fading away.\\\n",
        "I was inconsolably angry with myself. I spent the entire car ride home tuning out my mother\\'s words of consolation and my father blaming me for my over-confidence and recklessness. For the next few days I was thinking about any last chances for making it right and I was angry on my father for blaming me because I thought it was an honest mistake. One day my father came to me saying about the option of changing test date even after the exam at an affordable cost, and I shed tears with happiness and thanked my dad for helping. Later my father said it would take more than 2 months to get passport, so the only option left for me to take SAT in January which I thought would be late for submission. I send emails to universities requesting to accept January scores and they replied positively, everything was back to normal and I am ready to apply to the universities.\\\n",
        "But one day I was recalling all those nightmares and I started asking myself why I have gone through all these, so I opened the College Board website to read all the terms and conditions and I found out the line mentioning about specific countries was exactly below the line mentioning \"any government issued ID will be accepted\", and I was thinking why I didn\\'t read that line, then I remembered the negatives my father used to point out in me, which I didn\\'t care until I went through a break song. Yes, I had a habit of not reading completely and imagining what they would write next will be useless, I thought myself as genius while doing those but now see that behavior as nothing but immaturity. My father was right I was a lot over-confident in things I used to do, but I think that failure is not actually a failure, it gave me a second chance to change my attitude. \\\n",
        "I started seeing myself nothing but a common student like others, so I started reading the research work gave to me by the engineer and after working on it for a month I found a brilliant \\\n",
        "formula to build my project. I visited his company to thank him personally for giving his personal work for my project and he said he was very happy to see a passionate student like me, and this is what made me happy and satisfied today and maybe I needed to stopped entering the exam hall to see the other side.')\n",
        "\n",
        "for sents in doc.sents:\n",
        "  print(\"Sentence is \" )\n",
        "  print(sents)\n",
        "  for token in sents:\n",
        "    #print(sents)\n",
        "    if token.i == 1:    # checking for first token\n",
        "    #if token.is_sent_start:    # checking for first token\n",
        "      print('first token is ' + token.text)\n",
        "      print(token.is_sent_start)\n",
        "\n",
        "    # if token.pos_ == 'VERB':\n",
        "    #   print(f'{token.text:{12}} {token.pos_:{6}} {token.tag_:{6}} {spacy.explain(token.tag_)}')"
      ],
      "metadata": {
        "colab": {
          "base_uri": "https://localhost:8080/"
        },
        "id": "TPZMZKCGVIzs",
        "outputId": "b540205d-c953-4714-b1df-8352e4d22a45"
      },
      "execution_count": null,
      "outputs": [
        {
          "output_type": "stream",
          "name": "stdout",
          "text": [
            "Sentence is \n",
            "I was walking out of a company with a smile on my face, happiness in my heart and a voice inside my head saying this is what you are\n",
            "first token is was\n",
            "None\n",
            "Sentence is \n",
            "and you finally did it.\n",
            "Sentence is \n",
            "Before I explain you why I was so happy and satisfied\n",
            "Sentence is \n",
            "let me start with an incident happened 2 months back.\n",
            "Sentence is \n",
            "From 1 year I was working on my independent project to build a network system which cannot be hacked, I went to different companies to know the major issues they are facing with information security, and one day I came up with an idea to build a centralized network which acts like a brain which has no way to hack into.\n",
            "Sentence is \n",
            "So I went to a company to meet the systems architect to confirm if the idea could work, he was surprised with the idea and said it will work if I can design the absolute network I explained.\n",
            "Sentence is \n",
            "He gave me some of his research records and said if they could help, I returned home and started reading his work and after reading some pages I thought it was useless to me\n",
            "Sentence is \n",
            "so I kept it aside.\n",
            "Sentence is \n",
            "After a few days I started searching for top universities in the world with best undergraduate research opportunities and I found out most of them were situated in America.\n",
            "Sentence is \n",
            "I decided to apply to some of the universities, so I read the requirements and found that SAT score is a major part of the application.\n",
            "Sentence is \n",
            "My father encouraged me to take SAT even though we found it hard to pay.\n",
            "Sentence is \n",
            "I decided to take SAT in October so that I could apply early, I started working hard for SAT as there is only one month left.\n",
            "Sentence is \n",
            "It's October 13\n",
            "Sentence is \n",
            "and I was confident that I could perform well\n",
            "Sentence is \n",
            ", I reached the exam center and at checkpoint I was asked to show my ID\n",
            "Sentence is \n",
            ", I showed them my government issued ID, but he said they would only accept passport as valuable ID in India, which I didn't have.\n",
            "Sentence is \n",
            "I was not allowed even after requesting for long time\n",
            "Sentence is \n",
            "and I didn't know what to do, I was in shock because I was never expected a hit like that, and it was replaying over and over in my head that I cannot afford for another registration and all my dreams of attending those universities were fading away.\n",
            "Sentence is \n",
            "I was inconsolably angry with myself.\n",
            "Sentence is \n",
            "I spent the entire car ride home tuning out my mother's words of consolation and my father blaming me for my over-confidence and recklessness.\n",
            "Sentence is \n",
            "For the next few days I was thinking about any last chances for making it right\n",
            "Sentence is \n",
            "and I was angry on my father for blaming me because I thought it was an honest mistake.\n",
            "Sentence is \n",
            "One day my father came to me saying about the option of changing test date even after the exam at an affordable cost, and I shed tears with happiness and thanked my dad for helping.\n",
            "Sentence is \n",
            "Later my father said it would take more than 2 months to get passport, so\n",
            "Sentence is \n",
            "the only option left for me to take SAT in January which I thought would be late for submission.\n",
            "Sentence is \n",
            "I send emails to universities requesting to accept January scores and they replied positively, everything was back to normal\n",
            "Sentence is \n",
            "and I am ready to apply to the universities.\n",
            "Sentence is \n",
            "But one day I was recalling all those nightmares and I started asking myself why I have gone through all these, so I opened the College Board website to read all the terms and conditions\n",
            "Sentence is \n",
            "and I found out the line mentioning about specific countries was exactly below the line mentioning\n",
            "Sentence is \n",
            "\"any government issued ID will be accepted\", and I was thinking why I didn't read that line, then I remembered the negatives my father used to point out in me, which I didn't care until I went through a break song.\n",
            "Sentence is \n",
            "Yes, I had a habit of not reading completely and imagining what they would write next will be useless, I thought myself as genius while doing those but now see that behavior as nothing but immaturity.\n",
            "Sentence is \n",
            "My father was right\n",
            "Sentence is \n",
            "I was a lot over-confident in things I used to do, but I think that failure is not actually a failure, it gave me a second chance to change my attitude.\n",
            "Sentence is \n",
            "I started seeing myself nothing but a common student like others, so I started reading the research work gave to me by the engineer and\n",
            "Sentence is \n",
            "after working on it for a month I found a brilliant formula to build my project.\n",
            "Sentence is \n",
            "I visited his company to thank him personally for giving his personal work for my project and he said he was very happy to see a passionate student like me, and this is what made me happy and satisfied today\n",
            "Sentence is \n",
            "and maybe I needed to stopped entering the exam hall to see the other side.\n"
          ]
        }
      ]
    },
    {
      "cell_type": "code",
      "source": [
        "# Enter your code here:\n",
        "doc = nlp(u'I was walking out of a company with a smile on my face, happiness in my heart and a voice inside my head saying this is what you are and you finally did it. Before I explain you why I was so happy and satisfied let me start with an incident happened 2 months back. \\\n",
        "From 1 year I was working on my independent project to build a network system which cannot be hacked, I went to different companies to know the major issues they are facing with information security, and one day I came up with an idea to build a centralized network which acts like a \\\n",
        "brain which has no way to hack into. So I went to a company to meet the systems architect to confirm if the idea could work, he was surprised with the idea and said it will work if I can design the absolute network I explained. He gave me some of his research records and said if they \\\n",
        "could help, I returned home and started reading his work and after reading some pages I thought it was useless to me so I kept it aside.\\\n",
        "After a few days I started searching for top universities in the world with best undergraduate research opportunities and I found out most of them were situated in America. I decided to apply to some of the universities, so I read the requirements and found that SAT score is a major part of the application. My father encouraged me to take SAT even though we found it hard to pay. I decided to take SAT in October so that I could apply early, I started working hard for SAT as there is only one month left. It\\'s October 13 and I was confident that I could perform well, I reached the exam center and at checkpoint I was asked to show my ID, I showed them my government issued ID, but he said they would only accept passport as valuable ID in India, which I didn\\'t have. I was not allowed even after requesting for long time and I didn\\'t know what to do, I was in shock because I was never expected a hit like that, and it was replaying over and over in my head that I cannot afford for another registration and all my dreams of attending those universities were fading away.\\\n",
        "I was inconsolably angry with myself. I spent the entire car ride home tuning out my mother\\'s words of consolation and my father blaming me for my over-confidence and recklessness. For the next few days I was thinking about any last chances for making it right and I was angry on my father for blaming me because I thought it was an honest mistake. One day my father came to me saying about the option of changing test date even after the exam at an affordable cost, and I shed tears with happiness and thanked my dad for helping. Later my father said it would take more than 2 months to get passport, so the only option left for me to take SAT in January which I thought would be late for submission. I send emails to universities requesting to accept January scores and they replied positively, everything was back to normal and I am ready to apply to the universities.\\\n",
        "But one day I was recalling all those nightmares and I started asking myself why I have gone through all these, so I opened the College Board website to read all the terms and conditions and I found out the line mentioning about specific countries was exactly below the line mentioning \"any government issued ID will be accepted\", and I was thinking why I didn\\'t read that line, then I remembered the negatives my father used to point out in me, which I didn\\'t care until I went through a break song. Yes, I had a habit of not reading completely and imagining what they would write next will be useless, I thought myself as genius while doing those but now see that behavior as nothing but immaturity. My father was right I was a lot over-confident in things I used to do, but I think that failure is not actually a failure, it gave me a second chance to change my attitude. \\\n",
        "I started seeing myself nothing but a common student like others, so I started reading the research work gave to me by the engineer and after working on it for a month I found a brilliant \\\n",
        "formula to build my project. I visited his company to thank him personally for giving his personal work for my project and he said he was very happy to see a passionate student like me, and this is what made me happy and satisfied today and maybe I needed to stopped entering the exam hall to see the other side.')\n",
        "\n",
        "for sents in doc.sents:\n",
        "  for token in sents:\n",
        "    if token.pos_ == 'ADV':\n",
        "      print(f'{token.text:{12}} {token.pos_:{6}} {token.tag_:{6}} {spacy.explain(token.tag_)}')"
      ],
      "metadata": {
        "colab": {
          "base_uri": "https://localhost:8080/"
        },
        "id": "MWUVdhQMZuBm",
        "outputId": "d61622da-a201-4c25-e1ac-cc1b1de33d6b"
      },
      "execution_count": null,
      "outputs": [
        {
          "output_type": "stream",
          "name": "stdout",
          "text": [
            "finally      ADV    RB     adverb\n",
            "why          ADV    WRB    wh-adverb\n",
            "so           ADV    RB     adverb\n",
            "back         ADV    RB     adverb\n",
            "So           ADV    RB     adverb\n",
            "home         ADV    RB     adverb\n",
            "so           ADV    RB     adverb\n",
            "aside        ADV    RB     adverb\n",
            "even         ADV    RB     adverb\n",
            "early        ADV    RB     adverb\n",
            "hard         ADV    RB     adverb\n",
            "only         ADV    RB     adverb\n",
            "well         ADV    RB     adverb\n",
            "only         ADV    RB     adverb\n",
            "even         ADV    RB     adverb\n",
            "never        ADV    RB     adverb\n",
            "over         ADV    RB     adverb\n",
            "over         ADV    RB     adverb\n",
            "away         ADV    RB     adverb\n",
            "inconsolably ADV    RB     adverb\n",
            "even         ADV    RB     adverb\n",
            "Later        ADV    RBR    adverb, comparative\n",
            "positively   ADV    RB     adverb\n",
            "back         ADV    RB     adverb\n",
            "why          ADV    WRB    wh-adverb\n",
            "so           ADV    RB     adverb\n",
            "exactly      ADV    RB     adverb\n",
            "why          ADV    WRB    wh-adverb\n",
            "then         ADV    RB     adverb\n",
            "completely   ADV    RB     adverb\n",
            "now          ADV    RB     adverb\n",
            "actually     ADV    RB     adverb\n",
            "personally   ADV    RB     adverb\n",
            "very         ADV    RB     adverb\n",
            "maybe        ADV    RB     adverb\n"
          ]
        }
      ]
    },
    {
      "cell_type": "code",
      "source": [
        "# Enter your code here:\n",
        "doc = nlp(u'I couldn\\'t hide my excitement');\n",
        "doc = nlp(u'I walked slowly across the room');\n",
        "doc = nlp(u'As i ran toward the door, I heard footsteps behind me. I felt a chill of unease run down my spine. It was terrifying.')\n",
        "doc = nlp(u'The scariest thing that I have ever done is to ride a roller coaster.')\n",
        "#doc = nlp(u'You should admit me to the college because I truly understand the meaning of diversity')\n",
        "#doc = nlp(u'My big sister used to tease me growing, because even my dolls were arranged in order ')\n",
        "\n",
        "doc = nlp(u'I come from a diverse background and believe it is important to give 100% in every project I do. Whether it’s in school or at work, I always go above and beyond to ensure a successful outcome. I’m also an organized person')\n",
        "for sents in doc.sents:\n",
        "  for token in sents:\n",
        "      print(f'{token.text:{12}} {token.dep_:{6}} {token.pos_:{6}} {token.tag_:{6}} {spacy.explain(token.tag_)}')"
      ],
      "metadata": {
        "colab": {
          "base_uri": "https://localhost:8080/"
        },
        "id": "DjrYm76_gduM",
        "outputId": "2d5215ee-bbf1-4ff5-c687-4db8a6e1a804"
      },
      "execution_count": null,
      "outputs": [
        {
          "output_type": "stream",
          "name": "stdout",
          "text": [
            "I            nsubj  PRON   PRP    pronoun, personal\n",
            "come         ROOT   VERB   VBP    verb, non-3rd person singular present\n",
            "from         prep   ADP    IN     conjunction, subordinating or preposition\n",
            "a            det    DET    DT     determiner\n",
            "diverse      amod   ADJ    JJ     adjective\n",
            "background   pobj   NOUN   NN     noun, singular or mass\n",
            "and          cc     CCONJ  CC     conjunction, coordinating\n",
            "believe      conj   VERB   VBP    verb, non-3rd person singular present\n",
            "it           nsubj  PRON   PRP    pronoun, personal\n",
            "is           ccomp  AUX    VBZ    verb, 3rd person singular present\n",
            "important    acomp  ADJ    JJ     adjective\n",
            "to           aux    PART   TO     infinitival \"to\"\n",
            "give         xcomp  VERB   VB     verb, base form\n",
            "100          nummod NUM    CD     cardinal number\n",
            "%            dobj   NOUN   NN     noun, singular or mass\n",
            "in           prep   ADP    IN     conjunction, subordinating or preposition\n",
            "every        det    DET    DT     determiner\n",
            "project      pobj   NOUN   NN     noun, singular or mass\n",
            "I            nsubj  PRON   PRP    pronoun, personal\n",
            "do           relcl  AUX    VBP    verb, non-3rd person singular present\n",
            ".            punct  PUNCT  .      punctuation mark, sentence closer\n",
            "Whether      mark   SCONJ  IN     conjunction, subordinating or preposition\n",
            "it           advcl  PRON   PRP    pronoun, personal\n",
            "’s           punct  VERB   VBZ    verb, 3rd person singular present\n",
            "in           prep   ADP    IN     conjunction, subordinating or preposition\n",
            "school       pobj   NOUN   NN     noun, singular or mass\n",
            "or           cc     CCONJ  CC     conjunction, coordinating\n",
            "at           conj   ADP    IN     conjunction, subordinating or preposition\n",
            "work         pobj   NOUN   NN     noun, singular or mass\n",
            ",            punct  PUNCT  ,      punctuation mark, comma\n",
            "I            nsubj  PRON   PRP    pronoun, personal\n",
            "always       advmod ADV    RB     adverb\n",
            "go           ROOT   VERB   VBP    verb, non-3rd person singular present\n",
            "above        advmod ADV    RB     adverb\n",
            "and          cc     CCONJ  CC     conjunction, coordinating\n",
            "beyond       conj   ADP    IN     conjunction, subordinating or preposition\n",
            "to           aux    PART   TO     infinitival \"to\"\n",
            "ensure       advcl  VERB   VB     verb, base form\n",
            "a            det    DET    DT     determiner\n",
            "successful   amod   ADJ    JJ     adjective\n",
            "outcome      dobj   NOUN   NN     noun, singular or mass\n",
            ".            punct  PUNCT  .      punctuation mark, sentence closer\n",
            "I            nsubj  PRON   PRP    pronoun, personal\n",
            "’m           ROOT   VERB   VBP    verb, non-3rd person singular present\n",
            "also         advmod ADV    RB     adverb\n",
            "an           det    DET    DT     determiner\n",
            "organized    amod   VERB   VBN    verb, past participle\n",
            "person       attr   NOUN   NN     noun, singular or mass\n"
          ]
        }
      ]
    },
    {
      "cell_type": "code",
      "source": [
        "nltk.download('punkt')"
      ],
      "metadata": {
        "colab": {
          "base_uri": "https://localhost:8080/"
        },
        "id": "Vel46GipL-by",
        "outputId": "b0e96067-7131-42dc-9bfc-b4989eb70a30"
      },
      "execution_count": null,
      "outputs": [
        {
          "output_type": "stream",
          "name": "stdout",
          "text": [
            "[nltk_data] Downloading package punkt to /root/nltk_data...\n",
            "[nltk_data]   Unzipping tokenizers/punkt.zip.\n"
          ]
        },
        {
          "output_type": "execute_result",
          "data": {
            "text/plain": [
              "True"
            ]
          },
          "metadata": {},
          "execution_count": 60
        }
      ]
    },
    {
      "cell_type": "code",
      "source": [
        "nltk.__version__\n",
        "nltk.download('averaged_perceptron_tagger')"
      ],
      "metadata": {
        "colab": {
          "base_uri": "https://localhost:8080/"
        },
        "id": "XTAWGDUGMGn7",
        "outputId": "06b3ad23-528d-41ff-a8b0-3f9d53661ce4"
      },
      "execution_count": null,
      "outputs": [
        {
          "output_type": "stream",
          "name": "stdout",
          "text": [
            "[nltk_data] Downloading package averaged_perceptron_tagger to\n",
            "[nltk_data]     /root/nltk_data...\n",
            "[nltk_data]   Unzipping taggers/averaged_perceptron_tagger.zip.\n"
          ]
        },
        {
          "output_type": "execute_result",
          "data": {
            "text/plain": [
              "True"
            ]
          },
          "metadata": {},
          "execution_count": 63
        }
      ]
    },
    {
      "cell_type": "code",
      "source": [
        "from nltk import word_tokenize\n",
        "text = nltk.word_tokenize(\"I come from a diverse background and believe it is important to give 100% in every project I do. Whether it’s in school or at work, I always go above and beyond to ensure a successful outcome. I’m also an organized person'\")\n",
        "nltk.pos_tag(text)\n",
        "#nltk.pos_tag_sents(text)"
      ],
      "metadata": {
        "colab": {
          "base_uri": "https://localhost:8080/"
        },
        "id": "IwN8DS7wK555",
        "outputId": "4aab73ee-6f05-4e5a-983a-b2a771eed42d"
      },
      "execution_count": null,
      "outputs": [
        {
          "output_type": "execute_result",
          "data": {
            "text/plain": [
              "[('I', 'PRP'),\n",
              " ('come', 'VBP'),\n",
              " ('from', 'IN'),\n",
              " ('a', 'DT'),\n",
              " ('diverse', 'NN'),\n",
              " ('background', 'NN'),\n",
              " ('and', 'CC'),\n",
              " ('believe', 'VB'),\n",
              " ('it', 'PRP'),\n",
              " ('is', 'VBZ'),\n",
              " ('important', 'JJ'),\n",
              " ('to', 'TO'),\n",
              " ('give', 'VB'),\n",
              " ('100', 'CD'),\n",
              " ('%', 'NN'),\n",
              " ('in', 'IN'),\n",
              " ('every', 'DT'),\n",
              " ('project', 'NN'),\n",
              " ('I', 'PRP'),\n",
              " ('do', 'VBP'),\n",
              " ('.', '.'),\n",
              " ('Whether', 'VB'),\n",
              " ('it', 'PRP'),\n",
              " ('’', 'NNP'),\n",
              " ('s', 'NN'),\n",
              " ('in', 'IN'),\n",
              " ('school', 'NN'),\n",
              " ('or', 'CC'),\n",
              " ('at', 'IN'),\n",
              " ('work', 'NN'),\n",
              " (',', ','),\n",
              " ('I', 'PRP'),\n",
              " ('always', 'RB'),\n",
              " ('go', 'VBP'),\n",
              " ('above', 'RB'),\n",
              " ('and', 'CC'),\n",
              " ('beyond', 'IN'),\n",
              " ('to', 'TO'),\n",
              " ('ensure', 'VB'),\n",
              " ('a', 'DT'),\n",
              " ('successful', 'JJ'),\n",
              " ('outcome', 'NN'),\n",
              " ('.', '.'),\n",
              " ('I', 'PRP'),\n",
              " ('’', 'VBP'),\n",
              " ('m', 'RB'),\n",
              " ('also', 'RB'),\n",
              " ('an', 'DT'),\n",
              " ('organized', 'VBN'),\n",
              " ('person', 'NN'),\n",
              " (\"'\", \"''\")]"
            ]
          },
          "metadata": {},
          "execution_count": 68
        }
      ]
    },
    {
      "cell_type": "code",
      "source": [
        "! pip install nltk"
      ],
      "metadata": {
        "colab": {
          "base_uri": "https://localhost:8080/"
        },
        "id": "2hI2hL-4LprS",
        "outputId": "d9190b04-7ca4-4631-9179-8e329e612e36"
      },
      "execution_count": null,
      "outputs": [
        {
          "output_type": "stream",
          "name": "stdout",
          "text": [
            "Requirement already satisfied: nltk in /usr/local/lib/python3.7/dist-packages (3.2.5)\n",
            "Requirement already satisfied: six in /usr/local/lib/python3.7/dist-packages (from nltk) (1.15.0)\n"
          ]
        }
      ]
    },
    {
      "cell_type": "code",
      "source": [
        "matcher = Matcher(nlp.vocab)\n",
        "\n",
        "# function to check the type of sentence\n",
        "def checkForSentType(inputEssay):  \n",
        "    # running the model on sentence\n",
        "    doc = nlp(inputEssay)\n",
        "    # sents = list(doc.sents)\n",
        "\n",
        "    passive_rule = [{'DEP':'nsubjpass'},{'DEP':'aux','OP':'*'},{'DEP':'auxpass'},{'TAG':'VBN'}]\n",
        "    matcher.add('Passive',None,passive_rule)\n",
        "    matches = matcher(doc)\n",
        "    print(matches)\n",
        "    #return (len(matches)/len(sents),(len(sents)-len(matches))/len(sents))\n",
        "   # return ((len(sents)-len(matches))/len(sents))\n",
        "\n",
        "#df_essays[['NumberofPassiveVoice','NumberofActiveVoice']] = df_essays.apply(lambda row: pd.Series(checkForSentType(row['Essay Text'])),axis=1) \n",
        "# df_essays['NumberofActiveVoice'] = df_essays.apply(lambda row: pd.Series(checkForSentType(row['Essay Text'])),axis=1) \n",
        "\n",
        "# df_essays.reset_index(drop=True,inplace=True)\n",
        "checkForSentType(\"The temperature fell and the ice reflected the sun.\")"
      ],
      "metadata": {
        "colab": {
          "base_uri": "https://localhost:8080/"
        },
        "id": "2ceflQ4MRYyw",
        "outputId": "fdbc610e-f94a-4836-9914-e6863c0fa135"
      },
      "execution_count": null,
      "outputs": [
        {
          "output_type": "stream",
          "name": "stdout",
          "text": [
            "[]\n"
          ]
        }
      ]
    },
    {
      "cell_type": "code",
      "source": [
        "doc = nlp(u'is ')\n",
        "#doc = nlp(u'The family was at the lake.') # non specific Nouns\n",
        "#doc = nlp(u'The Johnson family–John, Carol, and little Mary–drove to Lake Lilly on Sunday afternoon for a picnic.')\n",
        "\n",
        "#doc =  nlp(u'It was a wet and dreary October evening. I shook off the dirt from my cleats on the concrete with frustration. Click, clack, click. The sound echoed through my head until I finally rested my heavy legs on the wooden bench in front of my locker. Up until that practice, I had done everything just the way I had the year before in the Netherlands, yet I still did not reap the same successes. At home, I relished being on the national under 15 field hockey team, consistently having high grades, and knowing just about everyone. At Deerfield, however, simply doing my best at practice, finishing my homework and socializing did not yield the same results. Looking down, I began to wonder why I had ever moved to Deerfield and traded my field hockey gear for muddy soccer cleats.\\\n",
        "#In search for answers, I decided to tell Deerfield’s field hockey coach about my tough transition. But instead of an answer, Ms. McVaugh offered me to join a girls’ field hockey practice. I felt thrown off by the unusual opportunity at first, yet I quickly relished a warm rush of excitement surging through my veins as I imagined putting on field hockey cleats again. When I set foot on the turf the following day, however, my initial anxiety rejoined my exuberance. I felt more eyes turning towards me with each step I made. “Boys do not play field hockey,” I could hear the girls think. As I trailed behind the girls during the warm-up, the thought of quitting seemed more tempting with each second of silence that passed. But when the whistle blew and the ball was finally in play, I was surprised to see how quickly the gender barrier vanished. Where there was silence and separation at first, I could now see the shared fanaticism through our red faces and hear the emotion in our clamor. At the end of practice, I felt a burning glow of joy overtake my body as I caught my breath on the bench. In that moment, I gradually realized how I should not let obstacles, like gender boundaries in field hockey, hold me back from exploring new opportunities.\\\n",
        "#Realizing the joy I had found in trying the unconventional, I took this experience to the soccer field to take on its new athletic challenges once again. Rather than agonizing over playing time or titles, I simply redirected my focus on the joy and beauty of the sport. Within days, I noticed the same atmosphere of sweat and screams from the turf take hold of the soccer field. Over time, this helped me take in feedback more readily, ask questions about tactics, and try out new skills. With each new improvement I made through this, I slowly began to grasp the value of my new approach to the sport.\\\n",
        "#As a result, I decided to bring the same open, curious, and risk-taking mindset with me to the other opportunities that boarding school holds. In the classroom, I began asking deeper questions to fully comprehend new material. Back in the dorm, I turned the cultural differences between my peers into opportunities to learn from and contribute back to. From truly grasping nucleophile-electrophile reactions in organic chemistry to sharing Dutch ‘stroopwafels’ with my hall, such moments remind me of why I sacrificed my field hockey gear to go to Deerfield; even as my new mindset gradually led to the grades, friendships, and even athletic achievements I sought before, I realized that I value the exploration, growth and joy behind such successes far more.\\\n",
        "#Now, before I put on my cleats, walk into the classroom or enter my dorm, I do not worry about the successes I might fail to reach or the obstacles that might hold me back. Rather, I pour my heart into such opportunities and take their experiences with me.')\n",
        "\n",
        "doc = nlp(u'My brother and I are exactly one year and one day apart. We look like twins — people confuse us — but we couldn’t be any more different.As children we wore the same clothes, received the same haircut. By the time we got to middle school it was clear that my older brother preferred quiet, indoor activities, while I was a born performer who preferred the theatrical, even when off stage. I took his relative silence to be disinterest and found it offensive. To the chagrin of my parents, we simply didn’t get along.I didn’t mind having a tense relationship with my brother because I was involved at school. In particular I delved into the world of musical theater in addition to regularly singing solos at our high school choir concerts. I spent hours after school preparing for shows. And when I came home, I practiced as well, falling into a rigorous routine I thought I needed to remain at my best and be competitive for parts.My bedroom was far enough from my parents so as not to disturb them, but space to practice became an issue with my brother because, well, we shared a room. Imagine him meditating on a window seat while I am belting, trying to sustain a high note. Needless to say, this created tension between us. From my point of view he could have meditated in the living room or while I was at practice, but he wasn’t willing to budge. From his point of view, high school was hard enough without the constant sound of Glee arrangements.At the start of the semester, I practiced “Circle of Life” for a concert audition. While I could sing it fine in its original key, I had a hard time singing it along with the music because the arrangement of the song we were working on had a key change that was out of my range. I couldn’t change key without my voice cracking as I switched to a head voice. This was the first time I struggled to learn a song, and I was a week from the audition. I was irritable in that period and stopped practicing, declaring I had reached the height of my singing career. My brother experiencing quiet when I got home for the first time in years.After a couple days of this, when I got home, he asked me to join him in meditation. And feeling my anger at my inability to navigate this song gracefully, I did. It was difficult at first. I was trying to clear my head. Later my brother told me that wasn’t the point. When your mind drifts away, you simply come back, no judgment. I liked the sound of that, and it became my new philosophy. I kept trying at the song, no longer getting angry at myself, and just in time for the audition I was able to maintain power in my voice despite the key change. It was important for me to learn you don’t have to always get everything right the first time and that good things come with continual effort. As for my brother, we no longer argue. I now understand why he prefers the quiet.')\n",
        "\n",
        "doc = nlp(u'Michael was terribly afraid of the dark '\\\n",
        "          \n",
        "            'You should select me for college') # non specific Nouns\n",
        "\n",
        "doc  = nlp(u'I heard a course through the forest. It was already Fall and I was getting cold')\n",
        "doc  = nlp(u'Her heart filled in melancholy')\n",
        "doc  = nlp(u'When I was reach the hotel door, six zombies burst out of the woods')\n",
        "doc  = nlp(u'As I ran toward the door, I heard footsteps behind me. I felt a chil of unease run down my spine. It was intimidating')\n",
        "doc  = nlp(u'I reached over to pickup the brush')\n",
        "doc = nlp(u'Chuck sighed with relief.')\n",
        "emotional_tells = ('Adoration Agitation Amazement Amusement Anger Anguish Annoyance Anticipation Anxiety Confidence Conflicted Confusion Contempt Curiosity Defeat Defensiveness Denial Depression Desire Desperation Determination Disappointment Disbelief Disgust Doubt Dread Eagerness Elation Embarrassment Envy Excitement Fear Frustration Gratitude Guilt Happiness Hatred Hopefulness Humiliation Hurt Impatience Indifference Insecurity Irritation Jealousy Loneliness Love Nervousness Nostalgia Overwhelmed Paranoia Peacefulness Pride Rage Regret Relief Reluctance Remorse Resentment Resignation Sadness Satisfaction Scorn Shame Skepticism Smugness Somberness Surprise Shock Suspicion Sympathy Terror Uncertainty Unease Wariness Worry')\n",
        "\n",
        "doc = nlp(emotional_tells)\n",
        "doc = nlp(u'I am already friendly\\\n",
        "             He is going to take bath')\n",
        "print('Lemma       Text        Dep        DepExplain        POS       POSExplain           Tag            tagExplain ')\n",
        "for sents in doc.sents:\n",
        "  for token in sents:\n",
        "      print(f'{token.i} {token.lemma_:{12}} {token.text:{12}} {token.dep_:{6}} {spacy.explain(token.dep_)}  {token.pos_:{12}} {spacy.explain(token.pos_)} {token.tag_:{6}} {spacy.explain(token.tag_)}  ')"
      ],
      "metadata": {
        "colab": {
          "base_uri": "https://localhost:8080/"
        },
        "id": "ct9sBMzUTKCG",
        "outputId": "5d4fd4fe-0d92-4d56-e25b-f8e561ceea53"
      },
      "execution_count": null,
      "outputs": [
        {
          "output_type": "stream",
          "name": "stdout",
          "text": [
            "Lemma       Text        Dep        DepExplain        POS       POSExplain           Tag            tagExplain \n",
            "0 -PRON-       I            nsubj  nominal subject  PRON         pronoun PRP    pronoun, personal  \n",
            "1 be           am           ROOT   None  AUX          auxiliary VBP    verb, non-3rd person singular present  \n",
            "2 already      already      advmod adverbial modifier  ADV          adverb RB     adverb  \n",
            "3 friendly     friendly     acomp  adjectival complement  ADJ          adjective JJ     adjective  \n",
            "4                                  None  SPACE        space _SP    None  \n",
            "5 -PRON-       He           nsubj  nominal subject  PRON         pronoun PRP    pronoun, personal  \n",
            "6 be           is           aux    auxiliary  AUX          auxiliary VBZ    verb, 3rd person singular present  \n",
            "7 go           going        ROOT   None  VERB         verb VBG    verb, gerund or present participle  \n",
            "8 to           to           aux    auxiliary  PART         particle TO     infinitival \"to\"  \n",
            "9 take         take         xcomp  open clausal complement  VERB         verb VB     verb, base form  \n",
            "10 bath         bath         dobj   direct object  NOUN         noun NN     noun, singular or mass  \n"
          ]
        }
      ]
    },
    {
      "cell_type": "markdown",
      "source": [
        "# Auxiliary verbs are also called helping verbs, helper verbs, or (verbal) auxiliaries."
      ],
      "metadata": {
        "id": "AEAUh7KqfsH2"
      }
    },
    {
      "cell_type": "markdown",
      "source": [
        "![image.png](data:image/png;base64,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)\n",
        "\n",
        "I dont think We can use 'Stage Directional Tells' as they are more suited for 'Novel/Books' and not 'Admission Essays'. (We can still use 'When' from below list but not others)\n",
        "\n",
        "![image.png](data:image/png;base64,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)"
      ],
      "metadata": {
        "id": "zO0w26mw6dOe"
      }
    },
    {
      "cell_type": "code",
      "source": [
        "import pprint\n",
        "doc  = nlp(u'My brother and I are exactly one year and one day apart. We look like twins — people confuse us — but we couldn’t be any more different.\\\n",
        "As children we wore the same clothes, received the same haircut. By the time we got to middle school it was clear that my older brother preferred quiet, indoor activities, \\\n",
        "while I was a born performer who preferred the theatrical, even when off stage. I took his relative silence to be disinterest and found it offensive. \\\n",
        "To the chagrin of my parents, we simply didn’t get along.I didn’t mind having a tense relationship with my brother because I was involved at school. \\\n",
        "In particular I delved into the world of musical theater in addition to regularly singing solos at our high school choir concerts. \\\n",
        "I spent hours after school preparing for shows. And when I came home, I practiced as well, falling into a rigorous routine I thought I needed \\\n",
        "to remain at my best and be competitive for parts.My bedroom was far enough from my parents so as not to disturb them, but space to practice became an issue \\\n",
        "with my brother because, well, we shared a room. Imagine him meditating on a window seat while I am belting, trying to sustain a high note. Needless to say, \\\n",
        "this created tension between us. From my point of view he could have meditated in the living room or while I was at practice, but he wasn’t willing to budge. \\\n",
        "From his point of view, high school was hard enough without the constant sound of Glee arrangements.At the start of the semester, I practiced “Circle of Life” \\\n",
        "for a concert audition. While I could sing it fine in its original key, I had a hard time singing it along with the music because the arrangement of the song we \\\n",
        "were working on had a key change that was out of my range. I couldn’t change key without my voice cracking as I switched to a head voice. This was the first time \\\n",
        "I struggled to learn a song, and I was a week from the audition. I was irritable in that period and stopped practicing, declaring I had reached the height of my \\\n",
        "singing career. My brother experiencing quiet when I got home for the first time in years.After a couple days of this, when I got home, he asked me to join him \\\n",
        "in meditation. And feeling my anger at my inability to navigate this song gracefully, I did. It was difficult at first. I was trying to clear my head. Later my \\\n",
        "brother told me that wasn’t the point. When your mind drifts away, you simply come back, no judgment. I liked the sound of that, and it became my new philosophy. \\\n",
        "I kept trying at the song, no longer getting angry at myself, and just in time for the audition I was able to maintain power in my voice despite the key change. \\\n",
        "It was important for me to learn you don’t have to always get everything right the first time and that good things come with continual effort. As for my brother, \\\n",
        "# we no longer argue. I now understand why he prefers the quiet.')\n",
        "\n",
        "mental_tells = ['loved','realized','thought','hoped','considered','wondered','prayed','knew','saw','watched','heard','felt','could','see','seemed','appeared',\n",
        "'looked','believed','reflected','disgusted','feared','show','noticed','smelled','wonder','walked','come','hate','decided','wished','feel','see','smell',\n",
        "'fell']\n",
        "\n",
        "emotional_tells = ['adoration','agitation','amazement','amusement','anger','anguish','annoyance','anticipation','anxiety','confidence','conflicted','confusion',\n",
        "'contempt','curiosity','defeat','defensiveness','denial','depression','desire','desperation','determination','disappointment','disbelief','disgust','doubt','dread',\n",
        "'eagerness','elation','embarrassment','envy','excitement','fear','frustration','gratitude','guilt','happiness','hatred','hopefulness','humiliation','hurt','impatience',\n",
        "'indifference','insecurity','irritation','jealousy','loneliness','love','nervousness','nostalgia','overwhelmed','paranoia','peacefulness','pride','rage','regret','relief',\n",
        "'reluctance','remorse','resentment','resignation','sadness','satisfaction','scorn','shame','skepticism','smugness','somberness','surprise','shock','suspicion','sympathy',\n",
        "'terror','uncertainty','unease','wariness','worry']\n",
        "\n",
        "motivational_tells = ['decided','because','tried','when']\n",
        "\n",
        "emotional_adjectives = ['frustated', 'happy', 'tall', 'angry', 'sad', 'hungry', 'excited', 'embarrased', 'bright', 'shocked', 'hot', 'beautiful', \n",
        "                        'afraid', 'cold', 'interesting', 'confused', 'sweet', 'different', 'scared', 'mournful', 'furious', 'overwhelmed', 'stressed', \n",
        "                        'unique', 'overjoyed', 'scarier', 'tired', 'shy', 'giddy', 'anxious','chilly','friendly','ghastly','ghostly','holy','kingly',\n",
        "                        'knightly','lonely','lovely','orderly','prickly','queenly','surly','ugly','worldly','wrinkly']\n",
        "\n",
        "adverbs_avoid = ['very', 'really', 'spectacularly','already' 'abruptly', 'absently', 'absentmindedly', 'accusingly', 'actually', 'adversely', 'affectionately', \n",
        "                 'amazingly', 'angrily', 'anxiously', 'arrogantly', 'bashfully', 'beautifully', 'boldly', 'bravely', 'breathlessly', 'brightly', 'briskly', 'broadly', \n",
        "                 'calmly', 'carefully', 'carelessly', 'certainly', 'cheaply', 'cheerfully', 'cleanly', 'clearly', 'cleverly', 'closely', 'clumsily', 'coaxingly', 'commonly', \n",
        "                 'compassionately', 'conspicuously', 'continually', 'coolly', 'correctly', 'crisply', 'crossly', 'curiously', 'daintily', 'dangerously', 'darkly', 'dearly', \n",
        "                 'deceivingly', 'delicately', 'delightfully', 'desperately', 'determinedly', 'diligently', 'disgustingly', 'distinctly', 'doggedly', 'dreamily', 'emptily', \n",
        "                 'energetically', 'enormously', 'enticingly', 'entirely', 'enviously', 'especially', 'evenly', 'exactly', 'excitedly', 'exclusively', 'expertly', 'extremely', \n",
        "                 'fairly', 'faithfully', 'famously', 'fearlessly', 'ferociously', 'fervently', 'finally', 'foolishly', 'fortunately', 'frankly', 'frantically', 'freely', \n",
        "                 'frenetically', 'frightfully', 'fully', 'furiously', 'generally', 'generously', 'gently', 'gleefully', 'gratefully', 'greatly', 'greedily', 'grumpily', \n",
        "                 'guiltily', 'happily', 'harshly', 'hatefully', 'heartily', 'heavily', 'helpfully', 'helplessly', 'highly', 'hopelessly', 'hungrily', 'immediately', 'importantly', \n",
        "                 'impulsively', 'inadvertently', 'increasingly', 'incredibly', 'innocently', 'instantly', 'intensely', 'intently', 'inwardly', 'jokingly', 'kindly', 'knowingly', \n",
        "                 'lawfully', 'lightly', 'likely', 'longingly', 'loudly', 'madly', 'marvelously', 'meaningfully', 'mechanically', 'meekly', 'mentally', 'messily', 'mindfully', 'miserably', \n",
        "                 'mockingly', 'mostly', 'mysteriously', 'naturally', 'nearly', 'neatly', 'negatively', 'nervously', 'nicely', 'obviously', 'occasionally', 'oddly', 'openly', 'outwardly', \n",
        "                 'partially', 'passionately', 'patiently', 'perfectly', 'perpetually', 'playfully', 'pleasantly', 'pleasingly', 'politely', 'poorly', 'positively', 'potentially', 'powerfully', \n",
        "                 'professionally', 'properly', 'proudly', 'quaveringly', 'queerly', 'quickly', 'quietly', 'quintessentially', 'rapidly', 'rapturously', 'ravenously', 'readily', 'reassuringly', \n",
        "                 'regretfully', 'reluctantly', 'reproachfully', 'restfully', 'righteously', 'rightfully', 'rigidly', 'rudely', 'sadly', 'safely', 'scarcely', 'searchingly', 'sedately', \n",
        "                 'seemingly', 'selfishly', 'separately', 'seriously', 'sharply', 'sheepishly', 'sleepily', 'slowly', 'slyly', 'softly', 'solidly', 'speedily', 'sternly', 'stingily', 'strictly', \n",
        "                 'stubbornly', 'successfully', 'superstitiously', 'surprisingly', 'suspiciously', 'sympathetically', 'tenderly', 'terribly', 'thankfully', 'thoroughly', 'thoughtfully', 'tightly', \n",
        "                 'totally', 'tremendously', 'triumphantly', 'truly', 'truthfully', 'understandably', 'unfairly', 'unfortunately', 'unhappily', 'unwillingly', 'urgently', 'usually', 'utterly', 'vastly', \n",
        "                 'venomously', 'viciously', 'violently', 'warmly', 'wearily wholly', 'wildly', 'wilfully', 'wisely', 'wonderfully', 'wonderingly', 'worriedly']\n",
        "\n",
        "# doc = nlp(u'I walked through the forest. It was already Fall and I was getting cold')\n",
        "# doc = nlp(u'The scariest thing that I have ever done is to ride a roller coaster.')\n",
        "#doc = nlp(u'I reached over to pick up the cup')\n",
        "\n",
        "# doc = nlp(u'She decided he didn’t need to be part of her life after all.\\\n",
        "#             He reached over to brush the hair out of my eyes\\\n",
        "#             He reached over and brushed the hair out of my eyes\\\n",
        "#             Chuck sighed with relief\\\n",
        "#             The assassin dove through the window, knives glinting in the moonlight,and Lori screamed in fear\\\n",
        "#             I knew what was going on between Bob and Jane. It was so obvious\\\n",
        "#             I knew what was going on between Bob and Jane, because Bob acted like a kid with a crush whenever he saw her\\\n",
        "#             A door creaked, and Bob realized he’d forgotten to lock the back door.\\\n",
        "#             I have been very excellent cook')\n",
        "#print('Lemma       Text        Dep        DepExplain        POS       POSExplain           Tag            tagExplain ')\n",
        "\n",
        "\n",
        "doc = nlp(u'These days, birds are losing the battle of favored domestic animal to dogs and cats. At best, they\\'re an easily forgotten blot in the otherwise clear sky, and at worst, they\\'re nasty pests associated with filth \\\n",
        "and disease. But for many years, birds were something much greater, the catalyst of folklore and tales for nearly every culture around the world. \\\n",
        "We\\'ve all heard some iteration of a bird story before: Common characters you might recall include the wise owl, mischievous raven, vain peacock, and motherly hen. I was introduced to these stories early on, first captivated\\\n",
        " by the avian parables I listened to on CDs, and they became an integral part of my early years. I can still remember proudly reciting \\\"\"The Ant and the Magpie\\\"\" word for word to my parents, an important tale reminding \\\n",
        " listeners to save resources for a time in need, represented by the winter in the animal world.\\\n",
        "As I got older, my love for birds persisted, but the influence those childlike stories had on me waned. After all, none of my classmates proclaimed their love of dogs stemmed from a Danish fairytale or Chinese folklore. \\\n",
        "I figured the reason I loved birds was shallower: I enjoyed the startling, colorful plumage and the joyous calls I heard outside my window. No longer were birds a central part of my identity; instead, they became an answer \\\n",
        "when I had to state my favorite animal during a summer camp icebreaker.\\\n",
        "It wasn\\'t until I was well into high school, nearly a decade after I last closed the cover, that I found one of my favorite childhood books, \\\"\"Why Snails Have Shells,\\\"\" in the depths of my closet. Rediscovering \\\n",
        "this book reminded me of the importance I placed on the lessons I learned from the cherished bird characters. Leafing through the pages and rereading the familiar stories, I realized the straightforward teachings \\\n",
        "of the birds were more relevant to my current life than they ever were in my childhood. Birds once again were not simply my favorite animal, they guided the way I reacted in challenging situations, which - like for \\\n",
        "most of my peers - came in a barrage as I got older.\\\n",
        "The lesson that permeates my life today is from an old Chinese proverb, famously summed up by poet Maya Angelou as \\\"\"A bird doesn\\'t sing because it has an answer, it sings because it has a song.\\\"\" High school \\\n",
        "life, especially for my generation, is hyper-focused on the approval of others. Instagram is littered with polls asking if outfits are \\\"\"ok,\\\"\" popularity is measured by the average number of comments you get in \\\n",
        "response to your posts, and every joke uttered is followed by a scan of the room to make sure at least someone is laughing. Contrastingly, the bird doesn\\'t focus on the answer it receives from its song; in fact, it doesn\\'t \\\n",
        "even expect an answer. The bird sings because it wishes to, because of the joy it experiences when doing so.\\\n",
        "It can be easy to get swept away in the desire to please, but the personal mantra I\\'ve adopted reminds me of the importance of doing things for the sake of making yourself happy, not others. I build relationships\\\n",
        " I genuinely value, I invest my time in activities I love to do, and I express myself in ways that bring me joy. Although the stories and proverbs I learned when I was younger originated from distant times and places,\\\n",
        "  they have woven themselves into my values and shaped me into the person I am today.')\n",
        "\n",
        "\n",
        "doc  = nlp(u'The callouses on my mother\\'s hands formed during the years spent scaling fish at the market in Go Noi, Vietnam. My mother never finished her formal education because she labored on the streets to help\\\n",
        "six others survive. Her calloused hands not only scaled fish, they also slaved over the stove, mustering a meal from the few items in the pantry. This image resurfaces as I watch my mother\\'s calloused hands wipe \\\n",
        "her sweat-beaded forehead while she manages the family business, compiling resources to provide for the family.\\\n",
        "Living in an impoverished region of Vietnam pushed my parents to emigrate. My two year-old memory fails me, but my mother vividly recounts my frightened eyes staring up at her on my first plane ride. With life packed into \\\n",
        "a single suitcase, my mother\\'s heart, though, trembled more than mine. Knowing only a few words of English, my mother embarked on a journey shrouded in a haze of uncertainty.\\\n",
        "Our initial year in America bore an uncanny resemblance to Vietnam– from making one meal last the entire day to wearing the same four shirts over and over again. Through thin walls, I heard my parents debating their \\\n",
        "decision to come to the United States, a land where they knew no one. My grandparents\\’ support came in half-hearted whispers cracking through long-distance phone calls. My dad\\’s scanty income barely kept food on the \\\n",
        "table. We lived on soup and rice for what seemed an interminable time. \\\n",
        "However, an opportunity knocked on my parents\\’ door: a grocery store in the town of Decatur, Mississippi, was up for rent. My parents took the chance, risking all of their savings. To help my parents, I spent most\\\n",
        " of my adolescent afternoons stocking shelves, mopping floors, and even translating. My parents\\’ voices wavered when speaking English; through every attempt to communicate with their customers, a language barrier \\\n",
        " forged a palpable presence in each transaction. My parents\\’ spirits faltered as customers grew impatient. A life of poverty awaited us in Vietnam if the business was not successful. \\\n",
        "On the first day, the business brought in only twenty dollars. Twenty dollars. My mother and my father wept after they closed the shop. Seeing the business as a failure, my mom commenced her packing that night; \\\n",
        "returning to Vietnam seemed inevitable. \\\n",
        "The next business day, however, sales increased ten-fold. More and more customers came each successive day. My mom\\’s tears turned into—well, more tears, but they were tears of joy. My mother unpacked a bag each night. \\\n",
        "Fifteen years later, my parents now own Blue Bear Grocery. My parents work, work, work to keep the shelves stocked and the customers coming. The grocery store holds a special place in my heart: it is the catalyst for my\\\n",
        " success. My parents serve as my role-models, teaching me a new lesson with every can placed on the shelf. One lesson that resurfaces is the importance of pursuing a formal education, something that my parents never had\\\n",
        "  the chance of When the opportunity to attend the Mississippi School for Mathematics and Science (MSMS) presented itself, I took it and ran, as did my parents by leaving Vietnam and by buying the store. Although I am not managing\\\n",
        " hundreds of products, I am managing hundreds of assignments at MSMS – from Mu Alpha Theta tutoring to lab reports to student government to British literature. \\\n",
        "Had I not immigrated, my hands would be calloused from the tight grip of the knife scaling fish rather than from the tight grip on my pencil. My hands would be calloused from scrubbing my clothes covered in fish scales\\\n",
        " rather than from long hours spent typing a research paper. \\\n",
        "Although the opportunities that my parents and I pursued are different, our journey is  essentially the same: we walk a road paved with uncertainty and doubt with the prospect of success fortified by our hearts and our hands')\n",
        "\n",
        "# doc = nlp(u'He was nervous\\\n",
        "#           His face was bright red and his hands shook.')\n",
        "\n",
        "# doc = nlp(u'We were tied, 4-4, in the ninth inning with barely enough sunlight for another at-bat. I looked at a strike. On the next pitch, I tightened my core, swung the bat low, and felt it make contact in the middle of the ball. I was almost to second base by the time it crashed into the scoreboard beyond the right-field fence. My teammates greeted me at home plate with the obligatory dogpile')\n",
        "\n",
        "#doc = nlp(u'I hit a home run yesterday. I\\'ve never felt so good in my life. My teammates finally appreciated me, because it won the game, and I\\'m glad all the hard work paid off. I realized what it meant to succeed.')\n",
        "\n",
        "# doc = nlp(u'It is October 9, and a multitude of high school students have gathered at the test center for a morning of standardized testing. This morning, we are all faceless little numbers.\\ This morning, I am registration number *******7. It is very nice to meet you. Three hours later, it is time to commence a mass exodus. A sea of bodies floods the halls before\\ bursting through the floodgates, eventually separating and becoming individual trickles. As we all return to our various corners of Little Rock, we finally lose the anonymous masks\\\n",
        "#  and become individuals. I am no longer just a number; I am now me. I am a sister. I am a daughter. I am an under-the-covers reader of fashion magazines. I am absolutely obsessed\\ with math and science. I am the girl whose laugh you hear all the way down the hallway. I am a figure skater whose favorite spin is a layback. The ice rink is my escape, and the\\ Diamond Edge Figure Skating Club is a second family. I am a pianist whose favorite piece is Edvard Grieg\\'s Piano Concerto in A Minor, Op. 16. My thirteen-year-long love affair\\ with music has led me to much happiness and accomplishment, and I hope it continues for all of my life. Endless hours devoted to these activities have taught me skills necessary\\ for the future, including self-discipline and perseverance. I am an ardent volunteer in my community, and I have the privilege of serving as the president of the largest Junior\\ Civitan club in the world. The people I have met and the experiences I have had have left lasting impacts on me and given me memories and lessons that I will carry forever. Being\\ a Civitan, while allowing me to participate in something that I love, has taught me the gift of appreciation. In one particular experience, I was especially struck with the amount\\\n",
        "#  of good fortune I possess. While working with the Salvation Army during their Christmas Angel Tree program, I met a mother whose family had become homeless very recently after a\\ fire burned their house to the ground. The past few days had been an unimaginable struggle for hope. At the end of her story, her eyes were not the only ones filled with tears.\\ Her unceasing thanks over just a few clothes and toys for her children brought my world into perspective for me. Since then, I have become the most avid promoter of community\\ service because I believe that it is unquestionably essential to give back to the community in which you have thrived. Numbers will always follow me. About two weeks later, I\\ would be 2400. In the spring, a smattering of 5s would label me as well. But at the end of the day, the numbers and academics all fall away, and I am just me. The only number that\\\n",
        "#  remains is 1; there is only one me. I am Whitney, and it is very nice to meet you.')\n",
        "\n",
        "# doc = nlp(u'A teenage girl, JAMIE, walks out on stage alone from stage left. She has brown hair that falls to her shoulders and deep blue eyes. She is wearing a white blouse and blue jeans and in her right\\\n",
        "#  hand is a pair of binoculars. The stage is dark except for a single spotlight following JAMIE across the stage. When she reaches the center, she sits down on the edge of the stage, her feet dangling over, and\\\n",
        "#   raises the binoculars to her eyes. She proceeds to stare at the audience through them for a few seconds, then slowly moves them away from her face.\\\n",
        "# JAMIE: With these binoculars I can see each one of you on an extremely personal level. (She brings the binoculars to her eyes then down again.) Do any of you audience members by any chance have your own pair handy?\\\n",
        "#  (scanning the audience) I was afraid of this. Well, here, why don’t you take mine for a while? (She jumps off the front of the stage, hands a front row audience member her pair of binoculars, then resumes her previous\\\n",
        "#   position.) Now look through those and tell me what you see. Be honest now, I could use a good session of constructive criticism. Wait, maybe if I stand up you could get a better look at my true self. (She stands and\\\n",
        "#    gracefully turns around.) Make sure you get every angle now. Okay, now tell me everything you know about me… not much to tell, is there. I mean, you really don\\’t know what kind of person is standing up on this stage\\\n",
        "#     in front of you blabbering on about binoculars and constructive criticism. Well, I guess I have my work cut out for me today; I must describe who I am. Fortunately, I did come prepared. I have provided myself with\\\n",
        "#      a prop – and the influence of a very special person – to assist me throughout one of the most difficult performances of my life, an interpretation of a piece I call \\“Myself.\\” (she steps off the stage and returns\\\n",
        "#       to the audience member in the front row.) Do you mind if I take these back now? (She returns to the stage.) the one prop is, you guessed it, a pair of binoculars. Not just any binoculars, they are one of the few\\\n",
        "#        reminders I have of my great-grandmother, Gran. No, she wasn’t an infamous spy at large during World War 2 nor was she an avid birdwatcher. In 1986, when I was six and she was ninety-four we both watched Halley\\'s\\\n",
        "#         Comet make its celestial appearance through these binoculars. I remember she said that she and I were truly blessed because we both were able to see Halley\\'s Comet twice in our lives. She told me about seeing it\\\n",
        "#          out in her backyard in 1909, when she was the same age I am now. there we were together, seventy-seven years later, watching the same comet shoot across the same sky. I think of all the things that have happened \\\n",
        "#          during those seventy-seven years, the triumphs and setbacks Gran achieved and endured, and it has given me strength to deal with the challenges in my own life. I imagine how much life had changed since 1909 and \\\n",
        "#          wonder how my life will change by the time I see Halley\\'s Comet again. What will I become? I will not, like Gran, be a part of the Oklahoma land run or witness the birth of the automobile. I will probably not be \\\n",
        "#          quarantined for tuberculosis or listen to the progression of two world wars over the radio. But I know I will do and be something. And the determination and success of my great-grandmother will help me reach this \\\n",
        "#          something. She is more than a memory or a story, she has become a part of me: my family, my history, my source of knowledge and my source of pride. Her struggles and achievements are reflected in mine. She is with\\\n",
        "#           me when I rise and fall and always there to make sure my feet are still on the ground. She is with me backstage and with me in the spotlight. She is a woman. She is my great-grandmother. And that’s truly what she \\\n",
        "#           is – great, grand, everything. Gran. It\\'s amazing how a simple name can inspire so much.She sits down, returning to her initial position with her feet dangling over the edge. She brings the binoculars to her eyes\\\n",
        "#            and looks through them. But instead of looking at the audience, she is attempting to look beyond them, almost as if there is some invisible sky behind the rows of seats. She slowly moves the binoculars away from\\\n",
        "#             her face, but her eyes are still fixed on some object off in the distance.')\n",
        "\n",
        "\n",
        "aux_tell_list = []\n",
        "ment_tell_list = []\n",
        "det_tell_list = []\n",
        "motiv_tell_list = []\n",
        "emot_adj_tell_list  = []\n",
        "adv_tell_list  = []\n",
        "adj_tell_list = []\n",
        "output_dict = {}\n",
        "sent_level_dict = {}\n",
        "count = 0\n",
        "doc_sents = [sent for sent in doc.sents]\n",
        "len_tot_sents = len(doc_sents)\n",
        "for sents in doc.sents:\n",
        "  count = 0\n",
        "  for ix,token in enumerate(sents):\n",
        "    left_pos = token.i-1\n",
        "    tok_pos=token.i\n",
        "    right_pos = token.i+2\n",
        "    if token.is_sent_start:    # checking for first token\n",
        "      if sents[ix].tag_ == 'PRP' or sents[ix].tag_ == 'PRP$' or sents[ix].tag_ == 'NN' :        # check for 'PRP' (Pronoun Personal) specifically with  'I','We','They','He','She'. 'You'.\n",
        "        if sents[ix + 1].pos_ == 'AUX' or sents[ix + 1].pos_ == 'MD':                           # check for 'PRP$' (Pronoun Possessive) my, our, your, his, her, its, and their.\n",
        "          tok = str(sents[ix:ix+2])                                                                  # check for 'NN' (noun, singular or mass) i.e. 'Non-specific Nouns'\n",
        "          loc = (tok_pos,right_pos)\n",
        "          aux_tell_list.append(tok)     \n",
        "          aux_tell_list.append(loc)                                                    \n",
        "          count +=1\n",
        "          sent_level_dict[sents] = count\n",
        "        elif sents[ix + 1].pos_ == 'VERB':\n",
        "          if sents[ix+1].text.lower() in mental_tells or sents[ix+1].lemma_.lower() in mental_tells: # check if the token next to the first token is a 'VERB' out of 'mental tell' verbs.\n",
        "            tok = str(sents[ix:ix+2])                                                                  # check for 'NN' (noun, singular or mass) i.e. 'Non-specific Nouns'\n",
        "            loc = (tok_pos,right_pos)\n",
        "            ment_tell_list.append(tok)\n",
        "            ment_tell_list.append(loc)\n",
        "            count +=1\n",
        "            sent_level_dict[sents] = count            \n",
        "      elif sents[ix].pos_ == 'DET':                                                             # check if the first token is a 'determiner' \n",
        "        if sents[ix + 1].pos_ == 'ADJ' or sents[ix + 1].tag_ == 'RBS':                          # and next one is 'adverb superlative' or an 'adjective'.\n",
        "            tok = str(sents[ix:ix+2])\n",
        "            loc = (tok_pos,right_pos)\n",
        "            det_tell_list.append(tok)\n",
        "            det_tell_list.append(loc)\n",
        "            count +=1\n",
        "            sent_level_dict[sents] = count            \n",
        "    if token.text.lower() in motivational_tells or token.lemma_.lower() in motivational_tells:   # check if the token is out of the 'motivational tell' list\n",
        "        tok = str(sents[ix-1:ix+2])\n",
        "        loc = (left_pos,right_pos)\n",
        "        motiv_tell_list.append(tok)\n",
        "        motiv_tell_list.append(loc)\n",
        "        count +=1\n",
        "        sent_level_dict[sents] = count        \n",
        "    elif sents[ix].text.lower() == 'to' and sents[ix + 1].pos_ == 'VERB':                        # check if the word is of the form 'to [Verb]'\n",
        "        tok = str(sents[ix:ix+2])\n",
        "        loc = (tok_pos,right_pos)\n",
        "        motiv_tell_list.append(tok)\n",
        "        motiv_tell_list.append(loc)\n",
        "        count +=1\n",
        "        sent_level_dict[sents] = count        \n",
        "    elif any(x in sents[ix].text.lower() for x in ['with','in']) and (sents[ix + 1].pos_ == 'NOUN' or sents[ix + 1].pos_ == 'PROPN') and sents[ix + 1].text.lower() in emotional_tells: # check if the word is of the form 'with [noun] or in [noun]'\n",
        "        tok = str(sents[ix:ix+2])\n",
        "        loc = (tok_pos,right_pos)\n",
        "        emot_adj_tell_list.append(tok)\n",
        "        emot_adj_tell_list.append(loc)\n",
        "        count +=1\n",
        "        sent_level_dict[sents] = count        \n",
        "    elif token.pos_ == 'ADJ' and (token.text.lower() in emotional_adjectives or token.lemma_.lower() in emotional_adjectives):  # check if the word is out of the list of 'emotional' adjective word list\n",
        "      tok = str(sents[ix:ix+2])\n",
        "      loc = (tok_pos,tok_pos+1)\n",
        "      adj_tell_list.append(tok)\n",
        "      adj_tell_list.append(loc)\n",
        "      count +=1\n",
        "      sent_level_dict[sents] = count      \n",
        "    elif token.pos_ == 'ADV' and (token.text.lower() in adverbs_avoid or token.lemma_.lower() in adverbs_avoid):             # check if the word is out of the list of 'adverb to avoid' word list\n",
        "      tok = str(sents[ix-1:ix+2])\n",
        "      loc = (left_pos,right_pos)\n",
        "      adv_tell_list.append(tok)\n",
        "      adv_tell_list.append(loc)\n",
        "      count +=1\n",
        "      sent_level_dict[sents] = count   \n",
        "\n",
        "output_dict['TELL_REASON_ADJ']    = adj_tell_list\n",
        "output_dict['TELL_REASON_ADV']    = adv_tell_list\n",
        "output_dict['TELL_REASON_AUX']    = aux_tell_list\n",
        "output_dict['TELL_REASON_DET']    = det_tell_list\n",
        "output_dict['TELL_REASON_EMOT']   = emot_adj_tell_list\n",
        "output_dict['TELL_REASON_MENTAL'] = ment_tell_list\n",
        "output_dict['TELL_REASON_MOTIV']  = motiv_tell_list\n",
        "\n",
        "pprint.pprint(output_dict)\n",
        "\n",
        "print()\n",
        "\n",
        "pprint.pprint(sent_level_dict)\n",
        "\n",
        "len_tell_sents = len(sent_level_dict)\n",
        "perc = (len_tell_sents/len_tot_sents)*100\n",
        "print()\n",
        "print('In this Essay, Out of total sentences %g,we have %g \\'tell\\' sentences which forms %.1f percent' %(len(doc_sents),len(sent_level_dict),perc))\n",
        "               \n"
      ],
      "metadata": {
        "colab": {
          "base_uri": "https://localhost:8080/"
        },
        "id": "2IoKdO69fbfl",
        "outputId": "ded1a719-5462-40fd-efc5-f491b4231321"
      },
      "execution_count": 2,
      "outputs": [
        {
          "output_type": "stream",
          "name": "stdout",
          "text": [
            "{'TELL_REASON_ADJ': ['different,', (720, 721)],\n",
            " 'TELL_REASON_ADV': [],\n",
            " 'TELL_REASON_AUX': [],\n",
            " 'TELL_REASON_DET': ['The next', (445, 447)],\n",
            " 'TELL_REASON_EMOT': ['with uncertainty', (735, 737)],\n",
            " 'TELL_REASON_MENTAL': [],\n",
            " 'TELL_REASON_MOTIV': ['education because she',\n",
            "                       (29, 32),\n",
            "                       'to helpsix',\n",
            "                       (36, 38),\n",
            "                       'to provide',\n",
            "                       (93, 95),\n",
            "                       'to emigrate',\n",
            "                       (109, 111),\n",
            "                       'to wearing',\n",
            "                       (200, 202),\n",
            "                       'to come',\n",
            "                       (222, 224),\n",
            "                       'To help',\n",
            "                       (319, 321),\n",
            "                       'wavered when speaking',\n",
            "                       (345, 348),\n",
            "                       'to communicate',\n",
            "                       (353, 355),\n",
            "                       'to keep',\n",
            "                       (513, 515),\n",
            "                       'of When the',\n",
            "                       (586, 589),\n",
            "                       'to attend',\n",
            "                       (590, 592)]}\n",
            "\n",
            "{My mother never finished her formal education because she labored on the streets to helpsix others survive.: 2,\n",
            " This image resurfaces as I watch my mother's calloused hands wipe her sweat-beaded forehead while she manages the family business, compiling resources to provide for the family.: 1,\n",
            " Living in an impoverished region of Vietnam pushed my parents to emigrate.: 1,\n",
            " Our initial year in America bore an uncanny resemblance to Vietnam– from making one meal last the entire day to wearing the same four shirts over and over again.: 1,\n",
            " Through thin walls, I heard my parents debating their decision to come to the United States, a land where they knew no one.: 1,\n",
            " To help my parents, I spent most of my adolescent afternoons stocking shelves, mopping floors, and even translating.: 1,\n",
            " voices wavered when speaking English; through every attempt to communicate with their customers, a language barrier  forged a palpable presence in each transaction.: 2,\n",
            " The next business day, however, sales increased ten-fold.: 1,\n",
            " My parents work, work, work to keep the shelves stocked and the customers coming.: 1,\n",
            " One lesson that resurfaces is the importance of pursuing a formal education, something that my parents never had  the chance of When the opportunity to attend the Mississippi School for Mathematics and Science (MSMS) presented itself, I took it and ran, as did my parents by leaving Vietnam and by buying the store.: 2,\n",
            " Although the opportunities that my parents and I pursued are different, our journey is  essentially the same: we walk a road paved with uncertainty and doubt with the prospect of success fortified by our hearts and our hands: 2}\n",
            "\n",
            "In this Essay, Out of total sentences 38,we have 11 'tell' sentences which forms 28.9 percent\n"
          ]
        }
      ]
    },
    {
      "cell_type": "code",
      "source": [
        "\n",
        "doc = nlp(u'These days, birds are losing the battle of favored domestic animal to dogs and cats. At best, they\\'re an easily forgotten blot in the otherwise clear sky, and at worst, they\\'re nasty pests associated with filth \\\n",
        "and disease. But for many years, birds were something much greater, the catalyst of folklore and tales for nearly every culture around the world. \\\n",
        "We\\'ve all heard some iteration of a bird story before: Common characters you might recall include the wise owl, mischievous raven, vain peacock, and motherly hen. I was introduced to these stories early on, first captivated\\\n",
        " by the avian parables I listened to on CDs, and they became an integral part of my early years. I can still remember proudly reciting \\\"\"The Ant and the Magpie\\\"\" word for word to my parents, an important tale reminding \\\n",
        " listeners to save resources for a time in need, represented by the winter in the animal world.\\\n",
        "As I got older, my love for birds persisted, but the influence those childlike stories had on me waned. After all, none of my classmates proclaimed their love of dogs stemmed from a Danish fairytale or Chinese folklore. \\\n",
        "I figured the reason I loved birds was shallower: I enjoyed the startling, colorful plumage and the joyous calls I heard outside my window. No longer were birds a central part of my identity; instead, they became an answer \\\n",
        "when I had to state my favorite animal during a summer camp icebreaker.\\\n",
        "It wasn\\'t until I was well into high school, nearly a decade after I last closed the cover, that I found one of my favorite childhood books, \\\"\"Why Snails Have Shells,\\\"\" in the depths of my closet. Rediscovering \\\n",
        "this book reminded me of the importance I placed on the lessons I learned from the cherished bird characters. Leafing through the pages and rereading the familiar stories, I realized the straightforward teachings \\\n",
        "of the birds were more relevant to my current life than they ever were in my childhood. Birds once again were not simply my favorite animal, they guided the way I reacted in challenging situations, which - like for \\\n",
        "most of my peers - came in a barrage as I got older.\\\n",
        "The lesson that permeates my life today is from an old Chinese proverb, famously summed up by poet Maya Angelou as \\\"\"A bird doesn\\'t sing because it has an answer, it sings because it has a song.\\\"\" High school \\\n",
        "life, especially for my generation, is hyper-focused on the approval of others. Instagram is littered with polls asking if outfits are \\\"\"ok,\\\"\" popularity is measured by the average number of comments you get in \\\n",
        "response to your posts, and every joke uttered is followed by a scan of the room to make sure at least someone is laughing. Contrastingly, the bird doesn\\'t focus on the answer it receives from its song; in fact, it doesn\\'t \\\n",
        "even expect an answer. The bird sings because it wishes to, because of the joy it experiences when doing so.\\\n",
        "It can be easy to get swept away in the desire to please, but the personal mantra I\\'ve adopted reminds me of the importance of doing things for the sake of making yourself happy, not others. I build relationships\\\n",
        " I genuinely value, I invest my time in activities I love to do, and I express myself in ways that bring me joy. Although the stories and proverbs I learned when I was younger originated from distant times and places,\\\n",
        "  they have woven themselves into my values and shaped me into the person I am today.')\n",
        "\n",
        "doc = nlp(u'A teenage girl, JAMIE, walks out on stage alone from stage left. She has brown hair that falls to her shoulders and deep blue eyes. She is wearing a white blouse and blue jeans and in her right\\\n",
        " hand is a pair of binoculars. The stage is dark except for a single spotlight following JAMIE across the stage. When she reaches the center, she sits down on the edge of the stage, her feet dangling over, and\\\n",
        "  raises the binoculars to her eyes. She proceeds to stare at the audience through them for a few seconds, then slowly moves them away from her face.\\\n",
        "JAMIE: With these binoculars I can see each one of you on an extremely personal level. (She brings the binoculars to her eyes then down again.) Do any of you audience members by any chance have your own pair handy?\\\n",
        " (scanning the audience) I was afraid of this. Well, here, why don’t you take mine for a while? (She jumps off the front of the stage, hands a front row audience member her pair of binoculars, then resumes her previous\\\n",
        "  position.) Now look through those and tell me what you see. Be honest now, I could use a good session of constructive criticism. Wait, maybe if I stand up you could get a better look at my true self. (She stands and\\\n",
        "   gracefully turns around.) Make sure you get every angle now. Okay, now tell me everything you know about me… not much to tell, is there. I mean, you really don\\’t know what kind of person is standing up on this stage\\\n",
        "    in front of you blabbering on about binoculars and constructive criticism. Well, I guess I have my work cut out for me today; I must describe who I am. Fortunately, I did come prepared. I have provided myself with\\\n",
        "     a prop – and the influence of a very special person – to assist me throughout one of the most difficult performances of my life, an interpretation of a piece I call \\“Myself.\\” (she steps off the stage and returns\\\n",
        "      to the audience member in the front row.) Do you mind if I take these back now? (She returns to the stage.) the one prop is, you guessed it, a pair of binoculars. Not just any binoculars, they are one of the few\\\n",
        "       reminders I have of my great-grandmother, Gran. No, she wasn’t an infamous spy at large during World War 2 nor was she an avid birdwatcher. In 1986, when I was six and she was ninety-four we both watched Halley\\'s\\\n",
        "        Comet make its celestial appearance through these binoculars. I remember she said that she and I were truly blessed because we both were able to see Halley\\'s Comet twice in our lives. She told me about seeing it\\\n",
        "         out in her backyard in 1909, when she was the same age I am now. there we were together, seventy-seven years later, watching the same comet shoot across the same sky. I think of all the things that have happened \\\n",
        "         during those seventy-seven years, the triumphs and setbacks Gran achieved and endured, and it has given me strength to deal with the challenges in my own life. I imagine how much life had changed since 1909 and \\\n",
        "         wonder how my life will change by the time I see Halley\\'s Comet again. What will I become? I will not, like Gran, be a part of the Oklahoma land run or witness the birth of the automobile. I will probably not be \\\n",
        "         quarantined for tuberculosis or listen to the progression of two world wars over the radio. But I know I will do and be something. And the determination and success of my great-grandmother will help me reach this \\\n",
        "         something. She is more than a memory or a story, she has become a part of me: my family, my history, my source of knowledge and my source of pride. Her struggles and achievements are reflected in mine. She is with\\\n",
        "          me when I rise and fall and always there to make sure my feet are still on the ground. She is with me backstage and with me in the spotlight. She is a woman. She is my great-grandmother. And that’s truly what she \\\n",
        "          is – great, grand, everything. Gran. It\\'s amazing how a simple name can inspire so much.She sits down, returning to her initial position with her feet dangling over the edge. She brings the binoculars to her eyes\\\n",
        "           and looks through them. But instead of looking at the audience, she is attempting to look beyond them, almost as if there is some invisible sky behind the rows of seats. She slowly moves the binoculars away from\\\n",
        "            her face, but her eyes are still fixed on some object off in the distance.')\n",
        "\n",
        "print(nlp.pipeline)\n",
        "# for token in doc:\n",
        "#       print(f'{token.i} {token.lemma_:{12}} {token.text:{12}} {token.dep_:{6}} {spacy.explain(token.dep_)}  {token.pos_:{12}} {spacy.explain(token.pos_)} {token.tag_:{6}} {spacy.explain(token.tag_)}  ')"
      ],
      "metadata": {
        "colab": {
          "base_uri": "https://localhost:8080/"
        },
        "id": "JBVHQHMUyx6B",
        "outputId": "c9c568ef-d1e0-46de-d513-aaf5d5799a81"
      },
      "execution_count": null,
      "outputs": [
        {
          "output_type": "stream",
          "name": "stdout",
          "text": [
            "[('tagger', <spacy.pipeline.pipes.Tagger object at 0x7fde3954ee50>), ('parser', <spacy.pipeline.pipes.DependencyParser object at 0x7fde34aa41a0>), ('ner', <spacy.pipeline.pipes.EntityRecognizer object at 0x7fde34aa4210>)]\n"
          ]
        }
      ]
    },
    {
      "cell_type": "code",
      "source": [
        "!pip install fastapi"
      ],
      "metadata": {
        "colab": {
          "base_uri": "https://localhost:8080/"
        },
        "id": "bZN1shukrfO2",
        "outputId": "e0dbc542-5ab3-47de-ba2e-702be13c11d6"
      },
      "execution_count": 5,
      "outputs": [
        {
          "output_type": "stream",
          "name": "stdout",
          "text": [
            "Collecting fastapi\n",
            "  Downloading fastapi-0.70.1-py3-none-any.whl (51 kB)\n",
            "\u001b[K     |████████████████████████████████| 51 kB 618 kB/s \n",
            "\u001b[?25hCollecting starlette==0.16.0\n",
            "  Downloading starlette-0.16.0-py3-none-any.whl (61 kB)\n",
            "\u001b[K     |████████████████████████████████| 61 kB 272 kB/s \n",
            "\u001b[?25hCollecting pydantic!=1.7,!=1.7.1,!=1.7.2,!=1.7.3,!=1.8,!=1.8.1,<2.0.0,>=1.6.2\n",
            "  Downloading pydantic-1.8.2-cp37-cp37m-manylinux2014_x86_64.whl (10.1 MB)\n",
            "\u001b[K     |████████████████████████████████| 10.1 MB 70.6 MB/s \n",
            "\u001b[?25hCollecting anyio<4,>=3.0.0\n",
            "  Downloading anyio-3.4.0-py3-none-any.whl (78 kB)\n",
            "\u001b[K     |████████████████████████████████| 78 kB 6.8 MB/s \n",
            "\u001b[?25hRequirement already satisfied: typing-extensions in /usr/local/lib/python3.7/dist-packages (from starlette==0.16.0->fastapi) (3.10.0.2)\n",
            "Requirement already satisfied: idna>=2.8 in /usr/local/lib/python3.7/dist-packages (from anyio<4,>=3.0.0->starlette==0.16.0->fastapi) (2.10)\n",
            "Collecting sniffio>=1.1\n",
            "  Downloading sniffio-1.2.0-py3-none-any.whl (10 kB)\n",
            "Installing collected packages: sniffio, anyio, starlette, pydantic, fastapi\n",
            "Successfully installed anyio-3.4.0 fastapi-0.70.1 pydantic-1.8.2 sniffio-1.2.0 starlette-0.16.0\n"
          ]
        }
      ]
    },
    {
      "cell_type": "code",
      "source": [
        "!pip install uvicorn"
      ],
      "metadata": {
        "colab": {
          "base_uri": "https://localhost:8080/"
        },
        "id": "idPv5-UQrlCg",
        "outputId": "edb21568-7014-4e2a-fdc0-2977c620c3d0"
      },
      "execution_count": 6,
      "outputs": [
        {
          "output_type": "stream",
          "name": "stdout",
          "text": [
            "Collecting uvicorn\n",
            "  Downloading uvicorn-0.16.0-py3-none-any.whl (54 kB)\n",
            "\u001b[?25l\r\u001b[K     |██████                          | 10 kB 16.3 MB/s eta 0:00:01\r\u001b[K     |████████████                    | 20 kB 21.8 MB/s eta 0:00:01\r\u001b[K     |██████████████████              | 30 kB 25.6 MB/s eta 0:00:01\r\u001b[K     |███████████████████████▉        | 40 kB 18.8 MB/s eta 0:00:01\r\u001b[K     |█████████████████████████████▉  | 51 kB 8.5 MB/s eta 0:00:01\r\u001b[K     |████████████████████████████████| 54 kB 2.0 MB/s \n",
            "\u001b[?25hCollecting asgiref>=3.4.0\n",
            "  Downloading asgiref-3.4.1-py3-none-any.whl (25 kB)\n",
            "Requirement already satisfied: click>=7.0 in /usr/local/lib/python3.7/dist-packages (from uvicorn) (7.1.2)\n",
            "Collecting h11>=0.8\n",
            "  Downloading h11-0.12.0-py3-none-any.whl (54 kB)\n",
            "\u001b[?25l\r\u001b[K     |██████                          | 10 kB 20.3 MB/s eta 0:00:01\r\u001b[K     |████████████                    | 20 kB 27.7 MB/s eta 0:00:01\r\u001b[K     |██████████████████              | 30 kB 36.0 MB/s eta 0:00:01\r\u001b[K     |████████████████████████        | 40 kB 41.7 MB/s eta 0:00:01\r\u001b[K     |█████████████████████████████▉  | 51 kB 44.4 MB/s eta 0:00:01\r\u001b[K     |████████████████████████████████| 54 kB 2.5 MB/s \n",
            "\u001b[?25hRequirement already satisfied: typing-extensions in /usr/local/lib/python3.7/dist-packages (from uvicorn) (3.10.0.2)\n",
            "Installing collected packages: h11, asgiref, uvicorn\n",
            "Successfully installed asgiref-3.4.1 h11-0.12.0 uvicorn-0.16.0\n"
          ]
        }
      ]
    },
    {
      "cell_type": "code",
      "source": [
        "!pip install fastapi nest-asyncio pyngrok uvicorn\n"
      ],
      "metadata": {
        "colab": {
          "base_uri": "https://localhost:8080/"
        },
        "id": "shqXHx4Is0Du",
        "outputId": "40e1111a-584f-490a-e2f1-d9cacfd263e9"
      },
      "execution_count": 11,
      "outputs": [
        {
          "output_type": "stream",
          "name": "stdout",
          "text": [
            "Requirement already satisfied: fastapi in /usr/local/lib/python3.7/dist-packages (0.70.1)\n",
            "Requirement already satisfied: nest-asyncio in /usr/local/lib/python3.7/dist-packages (1.5.4)\n",
            "Collecting pyngrok\n",
            "  Downloading pyngrok-5.1.0.tar.gz (745 kB)\n",
            "\u001b[K     |████████████████████████████████| 745 kB 7.5 MB/s \n",
            "\u001b[?25hRequirement already satisfied: uvicorn in /usr/local/lib/python3.7/dist-packages (0.16.0)\n",
            "Requirement already satisfied: pydantic!=1.7,!=1.7.1,!=1.7.2,!=1.7.3,!=1.8,!=1.8.1,<2.0.0,>=1.6.2 in /usr/local/lib/python3.7/dist-packages (from fastapi) (1.8.2)\n",
            "Requirement already satisfied: starlette==0.16.0 in /usr/local/lib/python3.7/dist-packages (from fastapi) (0.16.0)\n",
            "Requirement already satisfied: typing-extensions in /usr/local/lib/python3.7/dist-packages (from starlette==0.16.0->fastapi) (3.10.0.2)\n",
            "Requirement already satisfied: anyio<4,>=3.0.0 in /usr/local/lib/python3.7/dist-packages (from starlette==0.16.0->fastapi) (3.4.0)\n",
            "Requirement already satisfied: sniffio>=1.1 in /usr/local/lib/python3.7/dist-packages (from anyio<4,>=3.0.0->starlette==0.16.0->fastapi) (1.2.0)\n",
            "Requirement already satisfied: idna>=2.8 in /usr/local/lib/python3.7/dist-packages (from anyio<4,>=3.0.0->starlette==0.16.0->fastapi) (2.10)\n",
            "Requirement already satisfied: PyYAML in /usr/local/lib/python3.7/dist-packages (from pyngrok) (3.13)\n",
            "Requirement already satisfied: click>=7.0 in /usr/local/lib/python3.7/dist-packages (from uvicorn) (7.1.2)\n",
            "Requirement already satisfied: asgiref>=3.4.0 in /usr/local/lib/python3.7/dist-packages (from uvicorn) (3.4.1)\n",
            "Requirement already satisfied: h11>=0.8 in /usr/local/lib/python3.7/dist-packages (from uvicorn) (0.12.0)\n",
            "Building wheels for collected packages: pyngrok\n",
            "  Building wheel for pyngrok (setup.py) ... \u001b[?25l\u001b[?25hdone\n",
            "  Created wheel for pyngrok: filename=pyngrok-5.1.0-py3-none-any.whl size=19006 sha256=68643276b5f197febbddaa07e166579c1df22682fd1351e4d5ad611c05dbdd4b\n",
            "  Stored in directory: /root/.cache/pip/wheels/bf/e6/af/ccf6598ecefecd44104069371795cb9b3afbcd16987f6ccfb3\n",
            "Successfully built pyngrok\n",
            "Installing collected packages: pyngrok\n",
            "Successfully installed pyngrok-5.1.0\n"
          ]
        }
      ]
    },
    {
      "cell_type": "code",
      "source": [
        "def check_essay(essay_text):\n",
        "  import spacy\n",
        "  nlp = spacy.load('en_core_web_sm')\n",
        "  doc  = nlp(essay_text)\n",
        "  mental_tells = ['loved','realized','thought','hoped','considered','wondered','prayed','knew','saw','watched','heard','felt','could','see','seemed','appeared',\n",
        "  'looked','believed','reflected','disgusted','feared','show','noticed','smelled','wonder','walked','come','hate','decided','wished','feel','see','smell',\n",
        "  'fell']\n",
        "\n",
        "  emotional_tells = ['adoration','agitation','amazement','amusement','anger','anguish','annoyance','anticipation','anxiety','confidence','conflicted','confusion',\n",
        "  'contempt','curiosity','defeat','defensiveness','denial','depression','desire','desperation','determination','disappointment','disbelief','disgust','doubt','dread',\n",
        "  'eagerness','elation','embarrassment','envy','excitement','fear','frustration','gratitude','guilt','happiness','hatred','hopefulness','humiliation','hurt','impatience',\n",
        "  'indifference','insecurity','irritation','jealousy','loneliness','love','nervousness','nostalgia','overwhelmed','paranoia','peacefulness','pride','rage','regret','relief',\n",
        "  'reluctance','remorse','resentment','resignation','sadness','satisfaction','scorn','shame','skepticism','smugness','somberness','surprise','shock','suspicion','sympathy',\n",
        "  'terror','uncertainty','unease','wariness','worry']\n",
        "\n",
        "  motivational_tells = ['decided','because','tried','when']\n",
        "\n",
        "  emotional_adjectives = ['frustated', 'happy', 'tall', 'angry', 'sad', 'hungry', 'excited', 'embarrased', 'bright', 'shocked', 'hot', 'beautiful', \n",
        "                          'afraid', 'cold', 'interesting', 'confused', 'sweet', 'different', 'scared', 'mournful', 'furious', 'overwhelmed', 'stressed', \n",
        "                          'unique', 'overjoyed', 'scarier', 'tired', 'shy', 'giddy', 'anxious','chilly','friendly','ghastly','ghostly','holy','kingly',\n",
        "                          'knightly','lonely','lovely','orderly','prickly','queenly','surly','ugly','worldly','wrinkly']\n",
        "\n",
        "  adverbs_avoid = ['very', 'really', 'spectacularly','already' 'abruptly', 'absently', 'absentmindedly', 'accusingly', 'actually', 'adversely', 'affectionately', \n",
        "                  'amazingly', 'angrily', 'anxiously', 'arrogantly', 'bashfully', 'beautifully', 'boldly', 'bravely', 'breathlessly', 'brightly', 'briskly', 'broadly', \n",
        "                  'calmly', 'carefully', 'carelessly', 'certainly', 'cheaply', 'cheerfully', 'cleanly', 'clearly', 'cleverly', 'closely', 'clumsily', 'coaxingly', 'commonly', \n",
        "                  'compassionately', 'conspicuously', 'continually', 'coolly', 'correctly', 'crisply', 'crossly', 'curiously', 'daintily', 'dangerously', 'darkly', 'dearly', \n",
        "                  'deceivingly', 'delicately', 'delightfully', 'desperately', 'determinedly', 'diligently', 'disgustingly', 'distinctly', 'doggedly', 'dreamily', 'emptily', \n",
        "                  'energetically', 'enormously', 'enticingly', 'entirely', 'enviously', 'especially', 'evenly', 'exactly', 'excitedly', 'exclusively', 'expertly', 'extremely', \n",
        "                  'fairly', 'faithfully', 'famously', 'fearlessly', 'ferociously', 'fervently', 'finally', 'foolishly', 'fortunately', 'frankly', 'frantically', 'freely', \n",
        "                  'frenetically', 'frightfully', 'fully', 'furiously', 'generally', 'generously', 'gently', 'gleefully', 'gratefully', 'greatly', 'greedily', 'grumpily', \n",
        "                  'guiltily', 'happily', 'harshly', 'hatefully', 'heartily', 'heavily', 'helpfully', 'helplessly', 'highly', 'hopelessly', 'hungrily', 'immediately', 'importantly', \n",
        "                  'impulsively', 'inadvertently', 'increasingly', 'incredibly', 'innocently', 'instantly', 'intensely', 'intently', 'inwardly', 'jokingly', 'kindly', 'knowingly', \n",
        "                  'lawfully', 'lightly', 'likely', 'longingly', 'loudly', 'madly', 'marvelously', 'meaningfully', 'mechanically', 'meekly', 'mentally', 'messily', 'mindfully', 'miserably', \n",
        "                  'mockingly', 'mostly', 'mysteriously', 'naturally', 'nearly', 'neatly', 'negatively', 'nervously', 'nicely', 'obviously', 'occasionally', 'oddly', 'openly', 'outwardly', \n",
        "                  'partially', 'passionately', 'patiently', 'perfectly', 'perpetually', 'playfully', 'pleasantly', 'pleasingly', 'politely', 'poorly', 'positively', 'potentially', 'powerfully', \n",
        "                  'professionally', 'properly', 'proudly', 'quaveringly', 'queerly', 'quickly', 'quietly', 'quintessentially', 'rapidly', 'rapturously', 'ravenously', 'readily', 'reassuringly', \n",
        "                  'regretfully', 'reluctantly', 'reproachfully', 'restfully', 'righteously', 'rightfully', 'rigidly', 'rudely', 'sadly', 'safely', 'scarcely', 'searchingly', 'sedately', \n",
        "                  'seemingly', 'selfishly', 'separately', 'seriously', 'sharply', 'sheepishly', 'sleepily', 'slowly', 'slyly', 'softly', 'solidly', 'speedily', 'sternly', 'stingily', 'strictly', \n",
        "                  'stubbornly', 'successfully', 'superstitiously', 'surprisingly', 'suspiciously', 'sympathetically', 'tenderly', 'terribly', 'thankfully', 'thoroughly', 'thoughtfully', 'tightly', \n",
        "                  'totally', 'tremendously', 'triumphantly', 'truly', 'truthfully', 'understandably', 'unfairly', 'unfortunately', 'unhappily', 'unwillingly', 'urgently', 'usually', 'utterly', 'vastly', \n",
        "                  'venomously', 'viciously', 'violently', 'warmly', 'wearily wholly', 'wildly', 'wilfully', 'wisely', 'wonderfully', 'wonderingly', 'worriedly']\n",
        "\n",
        "  aux_tell_list = []\n",
        "  ment_tell_list = []\n",
        "  det_tell_list = []\n",
        "  motiv_tell_list = []\n",
        "  emot_adj_tell_list  = []\n",
        "  adv_tell_list  = []\n",
        "  adj_tell_list = []\n",
        "  output_dict = {}\n",
        "  sent_level_dict = {}\n",
        "  count = 0\n",
        "  doc_sents = [sent for sent in doc.sents]\n",
        "  len_tot_sents = len(doc_sents)\n",
        "  for sents in doc.sents:\n",
        "    count = 0\n",
        "    for ix,token in enumerate(sents):\n",
        "      left_pos = token.i-1\n",
        "      tok_pos=token.i\n",
        "      right_pos = token.i+2\n",
        "      if token.is_sent_start:    # checking for first token\n",
        "        if sents[ix].tag_ == 'PRP' or sents[ix].tag_ == 'PRP$' or sents[ix].tag_ == 'NN' :        # check for 'PRP' (Pronoun Personal) specifically with  'I','We','They','He','She'. 'You'.\n",
        "          if sents[ix + 1].pos_ == 'AUX' or sents[ix + 1].pos_ == 'MD':                           # check for 'PRP$' (Pronoun Possessive) my, our, your, his, her, its, and their.\n",
        "            tok = str(sents[ix:ix+2])                                                                  # check for 'NN' (noun, singular or mass) i.e. 'Non-specific Nouns'\n",
        "            loc = (tok_pos,right_pos)\n",
        "            aux_tell_list.append(tok)     \n",
        "            aux_tell_list.append(loc)                                                    \n",
        "            count +=1\n",
        "            sent_level_dict[sents] = count\n",
        "          elif sents[ix + 1].pos_ == 'VERB':\n",
        "            if sents[ix+1].text.lower() in mental_tells or sents[ix+1].lemma_.lower() in mental_tells: # check if the token next to the first token is a 'VERB' out of 'mental tell' verbs.\n",
        "              tok = str(sents[ix:ix+2])                                                                  # check for 'NN' (noun, singular or mass) i.e. 'Non-specific Nouns'\n",
        "              loc = (tok_pos,right_pos)\n",
        "              ment_tell_list.append(tok)\n",
        "              ment_tell_list.append(loc)\n",
        "              count +=1\n",
        "              sent_level_dict[sents] = count            \n",
        "        elif sents[ix].pos_ == 'DET':                                                             # check if the first token is a 'determiner' \n",
        "          if sents[ix + 1].pos_ == 'ADJ' or sents[ix + 1].tag_ == 'RBS':                          # and next one is 'adverb superlative' or an 'adjective'.\n",
        "              tok = str(sents[ix:ix+2])\n",
        "              loc = (tok_pos,right_pos)\n",
        "              det_tell_list.append(tok)\n",
        "              det_tell_list.append(loc)\n",
        "              count +=1\n",
        "              sent_level_dict[sents] = count            \n",
        "      if token.text.lower() in motivational_tells or token.lemma_.lower() in motivational_tells:   # check if the token is out of the 'motivational tell' list\n",
        "          tok = str(sents[ix-1:ix+2])\n",
        "          loc = (left_pos,right_pos)\n",
        "          motiv_tell_list.append(tok)\n",
        "          motiv_tell_list.append(loc)\n",
        "          count +=1\n",
        "          sent_level_dict[sents] = count        \n",
        "      elif sents[ix].text.lower() == 'to' and sents[ix + 1].pos_ == 'VERB':                        # check if the word is of the form 'to [Verb]'\n",
        "          tok = str(sents[ix:ix+2])\n",
        "          loc = (tok_pos,right_pos)\n",
        "          motiv_tell_list.append(tok)\n",
        "          motiv_tell_list.append(loc)\n",
        "          count +=1\n",
        "          sent_level_dict[sents] = count        \n",
        "      elif any(x in sents[ix].text.lower() for x in ['with','in']) and (sents[ix + 1].pos_ == 'NOUN' or sents[ix + 1].pos_ == 'PROPN') and sents[ix + 1].text.lower() in emotional_tells: # check if the word is of the form 'with [noun] or in [noun]'\n",
        "          tok = str(sents[ix:ix+2])\n",
        "          loc = (tok_pos,right_pos)\n",
        "          emot_adj_tell_list.append(tok)\n",
        "          emot_adj_tell_list.append(loc)\n",
        "          count +=1\n",
        "          sent_level_dict[sents] = count        \n",
        "      elif token.pos_ == 'ADJ' and (token.text.lower() in emotional_adjectives or token.lemma_.lower() in emotional_adjectives):  # check if the word is out of the list of 'emotional' adjective word list\n",
        "        tok = str(sents[ix:ix+2])\n",
        "        loc = (tok_pos,tok_pos+1)\n",
        "        adj_tell_list.append(tok)\n",
        "        adj_tell_list.append(loc)\n",
        "        count +=1\n",
        "        sent_level_dict[sents] = count      \n",
        "      elif token.pos_ == 'ADV' and (token.text.lower() in adverbs_avoid or token.lemma_.lower() in adverbs_avoid):             # check if the word is out of the list of 'adverb to avoid' word list\n",
        "        tok = str(sents[ix-1:ix+2])\n",
        "        loc = (left_pos,right_pos)\n",
        "        adv_tell_list.append(tok)\n",
        "        adv_tell_list.append(loc)\n",
        "        count +=1\n",
        "        sent_level_dict[sents] = count   \n",
        "\n",
        "  output_dict['TELL_REASON_ADJ']    = adj_tell_list\n",
        "  output_dict['TELL_REASON_ADV']    = adv_tell_list\n",
        "  output_dict['TELL_REASON_AUX']    = aux_tell_list\n",
        "  output_dict['TELL_REASON_DET']    = det_tell_list\n",
        "  output_dict['TELL_REASON_EMOT']   = emot_adj_tell_list\n",
        "  output_dict['TELL_REASON_MENTAL'] = ment_tell_list\n",
        "  output_dict['TELL_REASON_MOTIV']  = motiv_tell_list\n",
        "\n",
        "  return (output_dict)"
      ],
      "metadata": {
        "id": "UxZOyjCs4p0N"
      },
      "execution_count": 6,
      "outputs": []
    },
    {
      "cell_type": "code",
      "source": [
        "essay_input = 'These days, birds are losing the battle of favored domestic animal to dogs and cats. At best, they\\'re an easily forgotten blot in the otherwise clear sky, and at worst, they\\'re nasty pests associated with filth \\\n",
        "and disease. But for many years, birds were something much greater, the catalyst of folklore and tales for nearly every culture around the world. \\\n",
        "We\\'ve all heard some iteration of a bird story before: Common characters you might recall include the wise owl, mischievous raven, vain peacock, and motherly hen. I was introduced to these stories early on, first captivated\\\n",
        " by the avian parables I listened to on CDs, and they became an integral part of my early years. I can still remember proudly reciting \\\"\"The Ant and the Magpie\\\"\" word for word to my parents, an important tale reminding \\\n",
        " listeners to save resources for a time in need, represented by the winter in the animal world.\\\n",
        "As I got older, my love for birds persisted, but the influence those childlike stories had on me waned. After all, none of my classmates proclaimed their love of dogs stemmed from a Danish fairytale or Chinese folklore. \\\n",
        "I figured the reason I loved birds was shallower: I enjoyed the startling, colorful plumage and the joyous calls I heard outside my window. No longer were birds a central part of my identity; instead, they became an answer \\\n",
        "when I had to state my favorite animal during a summer camp icebreaker.\\\n",
        "It wasn\\'t until I was well into high school, nearly a decade after I last closed the cover, that I found one of my favorite childhood books, \\\"\"Why Snails Have Shells,\\\"\" in the depths of my closet. Rediscovering \\\n",
        "this book reminded me of the importance I placed on the lessons I learned from the cherished bird characters. Leafing through the pages and rereading the familiar stories, I realized the straightforward teachings \\\n",
        "of the birds were more relevant to my current life than they ever were in my childhood. Birds once again were not simply my favorite animal, they guided the way I reacted in challenging situations, which - like for \\\n",
        "most of my peers - came in a barrage as I got older.\\\n",
        "The lesson that permeates my life today is from an old Chinese proverb, famously summed up by poet Maya Angelou as \\\"\"A bird doesn\\'t sing because it has an answer, it sings because it has a song.\\\"\" High school \\\n",
        "life, especially for my generation, is hyper-focused on the approval of others. Instagram is littered with polls asking if outfits are \\\"\"ok,\\\"\" popularity is measured by the average number of comments you get in \\\n",
        "response to your posts, and every joke uttered is followed by a scan of the room to make sure at least someone is laughing. Contrastingly, the bird doesn\\'t focus on the answer it receives from its song; in fact, it doesn\\'t \\\n",
        "even expect an answer. The bird sings because it wishes to, because of the joy it experiences when doing so.\\\n",
        "It can be easy to get swept away in the desire to please, but the personal mantra I\\'ve adopted reminds me of the importance of doing things for the sake of making yourself happy, not others. I build relationships\\\n",
        " I genuinely value, I invest my time in activities I love to do, and I express myself in ways that bring me joy. Although the stories and proverbs I learned when I was younger originated from distant times and places,\\\n",
        "  they have woven themselves into my values and shaped me into the person I am today.'\n",
        "check_essay(essay_input)"
      ],
      "metadata": {
        "colab": {
          "base_uri": "https://localhost:8080/"
        },
        "id": "DfYEzIhD5iW_",
        "outputId": "fdcef7c7-3f56-442c-e80b-04886d9da6f6"
      },
      "execution_count": 7,
      "outputs": [
        {
          "output_type": "execute_result",
          "data": {
            "text/plain": [
              "{'TELL_REASON_ADJ': ['happy,', (618, 619)],\n",
              " 'TELL_REASON_ADV': ['for nearly every',\n",
              "  (63, 66),\n",
              "  'remember proudly reciting',\n",
              "  (138, 141),\n",
              "  ', nearly a',\n",
              "  (292, 295),\n",
              "  ', famously summed',\n",
              "  (434, 437),\n",
              "  ', especially for',\n",
              "  (469, 472)],\n",
              " 'TELL_REASON_AUX': [\"We've\",\n",
              "  (71, 73),\n",
              "  'I was',\n",
              "  (103, 105),\n",
              "  'It was',\n",
              "  (282, 284)],\n",
              " 'TELL_REASON_DET': [],\n",
              " 'TELL_REASON_EMOT': [],\n",
              " 'TELL_REASON_MENTAL': [],\n",
              " 'TELL_REASON_MOTIV': ['to save',\n",
              "  (163, 165),\n",
              "  'answer when I',\n",
              "  (267, 270),\n",
              "  'to state',\n",
              "  (271, 273),\n",
              "  'sing because it',\n",
              "  (449, 452),\n",
              "  'sings because it',\n",
              "  (457, 460),\n",
              "  'to make',\n",
              "  (529, 531),\n",
              "  'sings because it',\n",
              "  (567, 570),\n",
              "  ', because of',\n",
              "  (572, 575),\n",
              "  'experiences when doing',\n",
              "  (578, 581),\n",
              "  'to please',\n",
              "  (594, 596),\n",
              "  'learned when I',\n",
              "  (658, 661)]}"
            ]
          },
          "metadata": {},
          "execution_count": 7
        }
      ]
    },
    {
      "cell_type": "code",
      "source": [
        "! ngrok authtoken 22PJMsI1m7iGI76gpmxR4Z2yyHm_HzeA6PQme8h54syeC9wJ"
      ],
      "metadata": {
        "colab": {
          "base_uri": "https://localhost:8080/"
        },
        "id": "FYLrkwQsatJG",
        "outputId": "e686f097-fd8d-404c-ab38-208dd3cf4b71"
      },
      "execution_count": 1,
      "outputs": [
        {
          "output_type": "stream",
          "name": "stdout",
          "text": [
            "Authtoken saved to configuration file: /root/.ngrok2/ngrok.yml\n"
          ]
        }
      ]
    },
    {
      "cell_type": "code",
      "source": [
        "from pyngrok import ngrok\n",
        "public_url = ngrok.connect(port = '8000')\n",
        "ssh_url = ngrok.connect(22, \"tcp\")"
      ],
      "metadata": {
        "id": "p0pOwxQ9a1r6"
      },
      "execution_count": 2,
      "outputs": []
    },
    {
      "cell_type": "code",
      "source": [
        "from fastapi import FastAPI\n",
        "import nest_asyncio\n",
        "from pyngrok import ngrok\n",
        "import uvicorn\n",
        "from pydantic import BaseModel\n",
        "from typing import Optional\n",
        "\n",
        "app = FastAPI()\n",
        "\n",
        "# @app.get(\"/\")\n",
        "# def hell_world():\n",
        "#   return {\"hello\": \"world\"}\n",
        "\n",
        "# @app.get(\"/abc\")\n",
        "# def abc_view():\n",
        "#   return {\"data\": [1,2,3]}\n",
        "\n",
        "# class Essay(BaseModel):\n",
        "#   EssayText:str\n",
        "\n",
        "# students = {\n",
        "#     1: {\n",
        "#         \"name\": \"john\",\n",
        "#         \"age\": 17,\n",
        "#         \"class\": \"year 12\"\n",
        "#     }\n",
        "# }\n",
        "\n",
        "# @app.get(\"/\")\n",
        "# def index():\n",
        "#   return {\"name\": \"First Data\"}\n",
        "\n",
        "# @app.get(\"/get-student/{student_id}\")\n",
        "# def get_student(student_id:int):\n",
        "#   return students[student_id]\n",
        "\n",
        "# class Item(BaseModel):\n",
        "#     name: str\n",
        "#     description: Optional[str] = None\n",
        "#     price: float\n",
        "#     tax: Optional[float] = None\n",
        "\n",
        "\n",
        "@app.post(\"/items/\")\n",
        "# async def create_item(item: Essay):\n",
        "#     return item\n",
        "\n",
        "# @app.post(\"/check-essay/{EssayText}\")\n",
        "#def check_essay(EssayText : Essay):\n",
        "async def create_item(item: str):\n",
        "  import spacy\n",
        "  nlp = spacy.load('en_core_web_sm')\n",
        "  doc  = nlp(item)\n",
        "  mental_tells = ['loved','realized','thought','hoped','considered','wondered','prayed','knew','saw','watched','heard','felt','could','see','seemed','appeared',\n",
        "  'looked','believed','reflected','disgusted','feared','show','noticed','smelled','wonder','walked','come','hate','decided','wished','feel','see','smell',\n",
        "  'fell']\n",
        "\n",
        "  emotional_tells = ['adoration','agitation','amazement','amusement','anger','anguish','annoyance','anticipation','anxiety','confidence','conflicted','confusion',\n",
        "  'contempt','curiosity','defeat','defensiveness','denial','depression','desire','desperation','determination','disappointment','disbelief','disgust','doubt','dread',\n",
        "  'eagerness','elation','embarrassment','envy','excitement','fear','frustration','gratitude','guilt','happiness','hatred','hopefulness','humiliation','hurt','impatience',\n",
        "  'indifference','insecurity','irritation','jealousy','loneliness','love','nervousness','nostalgia','overwhelmed','paranoia','peacefulness','pride','rage','regret','relief',\n",
        "  'reluctance','remorse','resentment','resignation','sadness','satisfaction','scorn','shame','skepticism','smugness','somberness','surprise','shock','suspicion','sympathy',\n",
        "  'terror','uncertainty','unease','wariness','worry']\n",
        "\n",
        "  motivational_tells = ['decided','because','tried','when']\n",
        "\n",
        "  emotional_adjectives = ['frustated', 'happy', 'tall', 'angry', 'sad', 'hungry', 'excited', 'embarrased', 'bright', 'shocked', 'hot', 'beautiful', \n",
        "                          'afraid', 'cold', 'interesting', 'confused', 'sweet', 'different', 'scared', 'mournful', 'furious', 'overwhelmed', 'stressed', \n",
        "                          'unique', 'overjoyed', 'scarier', 'tired', 'shy', 'giddy', 'anxious','chilly','friendly','ghastly','ghostly','holy','kingly',\n",
        "                          'knightly','lonely','lovely','orderly','prickly','queenly','surly','ugly','worldly','wrinkly']\n",
        "\n",
        "  adverbs_avoid = ['very', 'really', 'spectacularly','already' 'abruptly', 'absently', 'absentmindedly', 'accusingly', 'actually', 'adversely', 'affectionately', \n",
        "                  'amazingly', 'angrily', 'anxiously', 'arrogantly', 'bashfully', 'beautifully', 'boldly', 'bravely', 'breathlessly', 'brightly', 'briskly', 'broadly', \n",
        "                  'calmly', 'carefully', 'carelessly', 'certainly', 'cheaply', 'cheerfully', 'cleanly', 'clearly', 'cleverly', 'closely', 'clumsily', 'coaxingly', 'commonly', \n",
        "                  'compassionately', 'conspicuously', 'continually', 'coolly', 'correctly', 'crisply', 'crossly', 'curiously', 'daintily', 'dangerously', 'darkly', 'dearly', \n",
        "                  'deceivingly', 'delicately', 'delightfully', 'desperately', 'determinedly', 'diligently', 'disgustingly', 'distinctly', 'doggedly', 'dreamily', 'emptily', \n",
        "                  'energetically', 'enormously', 'enticingly', 'entirely', 'enviously', 'especially', 'evenly', 'exactly', 'excitedly', 'exclusively', 'expertly', 'extremely', \n",
        "                  'fairly', 'faithfully', 'famously', 'fearlessly', 'ferociously', 'fervently', 'finally', 'foolishly', 'fortunately', 'frankly', 'frantically', 'freely', \n",
        "                  'frenetically', 'frightfully', 'fully', 'furiously', 'generally', 'generously', 'gently', 'gleefully', 'gratefully', 'greatly', 'greedily', 'grumpily', \n",
        "                  'guiltily', 'happily', 'harshly', 'hatefully', 'heartily', 'heavily', 'helpfully', 'helplessly', 'highly', 'hopelessly', 'hungrily', 'immediately', 'importantly', \n",
        "                  'impulsively', 'inadvertently', 'increasingly', 'incredibly', 'innocently', 'instantly', 'intensely', 'intently', 'inwardly', 'jokingly', 'kindly', 'knowingly', \n",
        "                  'lawfully', 'lightly', 'likely', 'longingly', 'loudly', 'madly', 'marvelously', 'meaningfully', 'mechanically', 'meekly', 'mentally', 'messily', 'mindfully', 'miserably', \n",
        "                  'mockingly', 'mostly', 'mysteriously', 'naturally', 'nearly', 'neatly', 'negatively', 'nervously', 'nicely', 'obviously', 'occasionally', 'oddly', 'openly', 'outwardly', \n",
        "                  'partially', 'passionately', 'patiently', 'perfectly', 'perpetually', 'playfully', 'pleasantly', 'pleasingly', 'politely', 'poorly', 'positively', 'potentially', 'powerfully', \n",
        "                  'professionally', 'properly', 'proudly', 'quaveringly', 'queerly', 'quickly', 'quietly', 'quintessentially', 'rapidly', 'rapturously', 'ravenously', 'readily', 'reassuringly', \n",
        "                  'regretfully', 'reluctantly', 'reproachfully', 'restfully', 'righteously', 'rightfully', 'rigidly', 'rudely', 'sadly', 'safely', 'scarcely', 'searchingly', 'sedately', \n",
        "                  'seemingly', 'selfishly', 'separately', 'seriously', 'sharply', 'sheepishly', 'sleepily', 'slowly', 'slyly', 'softly', 'solidly', 'speedily', 'sternly', 'stingily', 'strictly', \n",
        "                  'stubbornly', 'successfully', 'superstitiously', 'surprisingly', 'suspiciously', 'sympathetically', 'tenderly', 'terribly', 'thankfully', 'thoroughly', 'thoughtfully', 'tightly', \n",
        "                  'totally', 'tremendously', 'triumphantly', 'truly', 'truthfully', 'understandably', 'unfairly', 'unfortunately', 'unhappily', 'unwillingly', 'urgently', 'usually', 'utterly', 'vastly', \n",
        "                  'venomously', 'viciously', 'violently', 'warmly', 'wearily wholly', 'wildly', 'wilfully', 'wisely', 'wonderfully', 'wonderingly', 'worriedly']\n",
        "\n",
        "  aux_tell_list = []\n",
        "  ment_tell_list = []\n",
        "  det_tell_list = []\n",
        "  motiv_tell_list = []\n",
        "  emot_adj_tell_list  = []\n",
        "  adv_tell_list  = []\n",
        "  adj_tell_list = []\n",
        "  output_dict = {}\n",
        "  sent_level_dict = {}\n",
        "  count = 0\n",
        "  doc_sents = [sent for sent in doc.sents]\n",
        "  len_tot_sents = len(doc_sents)\n",
        "  for sents in doc.sents:\n",
        "    count = 0\n",
        "    for ix,token in enumerate(sents):\n",
        "      left_pos = token.i-1\n",
        "      tok_pos=token.i\n",
        "      right_pos = token.i+2\n",
        "      if token.is_sent_start:    # checking for first token\n",
        "        if sents[ix].tag_ == 'PRP' or sents[ix].tag_ == 'PRP$' or sents[ix].tag_ == 'NN' :        # check for 'PRP' (Pronoun Personal) specifically with  'I','We','They','He','She'. 'You'.\n",
        "          if sents[ix + 1].pos_ == 'AUX' or sents[ix + 1].pos_ == 'MD':                           # check for 'PRP$' (Pronoun Possessive) my, our, your, his, her, its, and their.\n",
        "            tok = str(sents[ix:ix+2])                                                                  # check for 'NN' (noun, singular or mass) i.e. 'Non-specific Nouns'\n",
        "            loc = (tok_pos,right_pos)\n",
        "            aux_tell_list.append(tok)     \n",
        "            aux_tell_list.append(loc)                                                    \n",
        "            count +=1\n",
        "            sent_level_dict[sents] = count\n",
        "          elif sents[ix + 1].pos_ == 'VERB':\n",
        "            if sents[ix+1].text.lower() in mental_tells or sents[ix+1].lemma_.lower() in mental_tells: # check if the token next to the first token is a 'VERB' out of 'mental tell' verbs.\n",
        "              tok = str(sents[ix:ix+2])                                                                  # check for 'NN' (noun, singular or mass) i.e. 'Non-specific Nouns'\n",
        "              loc = (tok_pos,right_pos)\n",
        "              ment_tell_list.append(tok)\n",
        "              ment_tell_list.append(loc)\n",
        "              count +=1\n",
        "              sent_level_dict[sents] = count            \n",
        "        elif sents[ix].pos_ == 'DET':                                                             # check if the first token is a 'determiner' \n",
        "          if sents[ix + 1].pos_ == 'ADJ' or sents[ix + 1].tag_ == 'RBS':                          # and next one is 'adverb superlative' or an 'adjective'.\n",
        "              tok = str(sents[ix:ix+2])\n",
        "              loc = (tok_pos,right_pos)\n",
        "              det_tell_list.append(tok)\n",
        "              det_tell_list.append(loc)\n",
        "              count +=1\n",
        "              sent_level_dict[sents] = count            \n",
        "      if token.text.lower() in motivational_tells or token.lemma_.lower() in motivational_tells:   # check if the token is out of the 'motivational tell' list\n",
        "          tok = str(sents[ix-1:ix+2])\n",
        "          loc = (left_pos,right_pos)\n",
        "          motiv_tell_list.append(tok)\n",
        "          motiv_tell_list.append(loc)\n",
        "          count +=1\n",
        "          sent_level_dict[sents] = count        \n",
        "      elif sents[ix].text.lower() == 'to' and sents[ix + 1].pos_ == 'VERB':                        # check if the word is of the form 'to [Verb]'\n",
        "          tok = str(sents[ix:ix+2])\n",
        "          loc = (tok_pos,right_pos)\n",
        "          motiv_tell_list.append(tok)\n",
        "          motiv_tell_list.append(loc)\n",
        "          count +=1\n",
        "          sent_level_dict[sents] = count        \n",
        "      elif any(x in sents[ix].text.lower() for x in ['with','in']) and (sents[ix + 1].pos_ == 'NOUN' or sents[ix + 1].pos_ == 'PROPN') and sents[ix + 1].text.lower() in emotional_tells: # check if the word is of the form 'with [noun] or in [noun]'\n",
        "          tok = str(sents[ix:ix+2])\n",
        "          loc = (tok_pos,right_pos)\n",
        "          emot_adj_tell_list.append(tok)\n",
        "          emot_adj_tell_list.append(loc)\n",
        "          count +=1\n",
        "          sent_level_dict[sents] = count        \n",
        "      elif token.pos_ == 'ADJ' and (token.text.lower() in emotional_adjectives or token.lemma_.lower() in emotional_adjectives):  # check if the word is out of the list of 'emotional' adjective word list\n",
        "        tok = str(sents[ix:ix+2])\n",
        "        loc = (tok_pos,tok_pos+1)\n",
        "        adj_tell_list.append(tok)\n",
        "        adj_tell_list.append(loc)\n",
        "        count +=1\n",
        "        sent_level_dict[sents] = count      \n",
        "      elif token.pos_ == 'ADV' and (token.text.lower() in adverbs_avoid or token.lemma_.lower() in adverbs_avoid):             # check if the word is out of the list of 'adverb to avoid' word list\n",
        "        tok = str(sents[ix-1:ix+2])\n",
        "        loc = (left_pos,right_pos)\n",
        "        adv_tell_list.append(tok)\n",
        "        adv_tell_list.append(loc)\n",
        "        count +=1\n",
        "        sent_level_dict[sents] = count   \n",
        "\n",
        "  output_dict['TELL_REASON_ADJ']    = adj_tell_list\n",
        "  output_dict['TELL_REASON_ADV']    = adv_tell_list\n",
        "  output_dict['TELL_REASON_AUX']    = aux_tell_list\n",
        "  output_dict['TELL_REASON_DET']    = det_tell_list\n",
        "  output_dict['TELL_REASON_EMOT']   = emot_adj_tell_list\n",
        "  output_dict['TELL_REASON_MENTAL'] = ment_tell_list\n",
        "  output_dict['TELL_REASON_MOTIV']  = motiv_tell_list\n",
        "\n",
        "  return (output_dict)\n",
        "\n",
        "\n",
        "# #@app.get(\"/\")\n",
        "\n",
        "# def index():\n",
        "#   return {\"name\": \"First Data\"}\n"
      ],
      "metadata": {
        "id": "JvTl9IYxryNz"
      },
      "execution_count": 7,
      "outputs": []
    },
    {
      "cell_type": "code",
      "source": [
        "!pip install flask\n",
        "!pip install flask-ngrok"
      ],
      "metadata": {
        "colab": {
          "base_uri": "https://localhost:8080/"
        },
        "id": "qF44ieEnTPX1",
        "outputId": "464b3ce9-32a0-4df1-e693-f84c04b59911"
      },
      "execution_count": 17,
      "outputs": [
        {
          "output_type": "stream",
          "name": "stdout",
          "text": [
            "Requirement already satisfied: flask in /usr/local/lib/python3.7/dist-packages (1.1.4)\n",
            "Requirement already satisfied: itsdangerous<2.0,>=0.24 in /usr/local/lib/python3.7/dist-packages (from flask) (1.1.0)\n",
            "Requirement already satisfied: Jinja2<3.0,>=2.10.1 in /usr/local/lib/python3.7/dist-packages (from flask) (2.11.3)\n",
            "Requirement already satisfied: Werkzeug<2.0,>=0.15 in /usr/local/lib/python3.7/dist-packages (from flask) (1.0.1)\n",
            "Requirement already satisfied: click<8.0,>=5.1 in /usr/local/lib/python3.7/dist-packages (from flask) (7.1.2)\n",
            "Requirement already satisfied: MarkupSafe>=0.23 in /usr/local/lib/python3.7/dist-packages (from Jinja2<3.0,>=2.10.1->flask) (2.0.1)\n",
            "Collecting flask-ngrok\n",
            "  Downloading flask_ngrok-0.0.25-py3-none-any.whl (3.1 kB)\n",
            "Requirement already satisfied: Flask>=0.8 in /usr/local/lib/python3.7/dist-packages (from flask-ngrok) (1.1.4)\n",
            "Requirement already satisfied: requests in /usr/local/lib/python3.7/dist-packages (from flask-ngrok) (2.23.0)\n",
            "Requirement already satisfied: Jinja2<3.0,>=2.10.1 in /usr/local/lib/python3.7/dist-packages (from Flask>=0.8->flask-ngrok) (2.11.3)\n",
            "Requirement already satisfied: Werkzeug<2.0,>=0.15 in /usr/local/lib/python3.7/dist-packages (from Flask>=0.8->flask-ngrok) (1.0.1)\n",
            "Requirement already satisfied: click<8.0,>=5.1 in /usr/local/lib/python3.7/dist-packages (from Flask>=0.8->flask-ngrok) (7.1.2)\n",
            "Requirement already satisfied: itsdangerous<2.0,>=0.24 in /usr/local/lib/python3.7/dist-packages (from Flask>=0.8->flask-ngrok) (1.1.0)\n",
            "Requirement already satisfied: MarkupSafe>=0.23 in /usr/local/lib/python3.7/dist-packages (from Jinja2<3.0,>=2.10.1->Flask>=0.8->flask-ngrok) (2.0.1)\n",
            "Requirement already satisfied: certifi>=2017.4.17 in /usr/local/lib/python3.7/dist-packages (from requests->flask-ngrok) (2021.10.8)\n",
            "Requirement already satisfied: urllib3!=1.25.0,!=1.25.1,<1.26,>=1.21.1 in /usr/local/lib/python3.7/dist-packages (from requests->flask-ngrok) (1.24.3)\n",
            "Requirement already satisfied: idna<3,>=2.5 in /usr/local/lib/python3.7/dist-packages (from requests->flask-ngrok) (2.10)\n",
            "Requirement already satisfied: chardet<4,>=3.0.2 in /usr/local/lib/python3.7/dist-packages (from requests->flask-ngrok) (3.0.4)\n",
            "Installing collected packages: flask-ngrok\n",
            "Successfully installed flask-ngrok-0.0.25\n"
          ]
        }
      ]
    },
    {
      "cell_type": "code",
      "source": [
        "ngrok_tunnel = ngrok.connect(8000)\n",
        "print('Public URL:', ngrok_tunnel.public_url)\n",
        "nest_asyncio.apply()\n",
        "uvicorn.run(app, port=8000)  "
      ],
      "metadata": {
        "colab": {
          "base_uri": "https://localhost:8080/"
        },
        "id": "8pFpIccRbc7f",
        "outputId": "b8afc143-b101-4c3e-fcb0-64f26989449e"
      },
      "execution_count": 9,
      "outputs": [
        {
          "output_type": "stream",
          "name": "stdout",
          "text": [
            "Public URL: http://fb9a-35-227-159-21.ngrok.io\n"
          ]
        },
        {
          "output_type": "stream",
          "name": "stderr",
          "text": [
            "INFO:     Started server process [1586]\n",
            "INFO:     Waiting for application startup.\n",
            "INFO:     Application startup complete.\n",
            "INFO:     Uvicorn running on http://127.0.0.1:8000 (Press CTRL+C to quit)\n"
          ]
        },
        {
          "output_type": "stream",
          "name": "stdout",
          "text": [
            "INFO:     49.44.81.169:0 - \"GET / HTTP/1.1\" 404 Not Found\n",
            "INFO:     122.161.48.209:0 - \"GET / HTTP/1.1\" 404 Not Found\n",
            "INFO:     122.161.48.209:0 - \"GET /favicon.ico HTTP/1.1\" 404 Not Found\n",
            "INFO:     122.161.48.209:0 - \"GET /docs HTTP/1.1\" 200 OK\n",
            "INFO:     122.161.48.209:0 - \"GET /openapi.json HTTP/1.1\" 200 OK\n",
            "INFO:     49.44.86.232:0 - \"GET /docs HTTP/1.1\" 200 OK\n",
            "INFO:     49.44.86.232:0 - \"GET /openapi.json HTTP/1.1\" 200 OK\n",
            "INFO:     122.161.48.209:0 - \"POST /items/?item=%22HIIIIIIIIIIII%22 HTTP/1.1\" 200 OK\n",
            "INFO:     122.161.48.209:0 - \"POST /items/?item=%22I%20am%20going%20to%20go%20to%20a%20barber%22 HTTP/1.1\" 200 OK\n",
            "INFO:     122.161.48.209:0 - \"POST /items/?item=These%20days%2C%20birds%20are%20losing%20the%20battle%20of%20favored%20domestic%20animal%20to%20dogs%20and%20cats.%20At%20best%2C%20they%5C%27re%20an%20easily%20forgotten%20blot%20in%20the%20otherwise%20clear%20sky%2C%20and%20at%20worst%2C%20they%5C%27re%20nasty%20pests%20associated%20with%20filth%20%5C%20and%20disease.%20But%20for%20many%20years%2C%20birds%20were%20something%20much%20greater%2C%20the%20catalyst%20of%20folklore%20and%20tales%20for%20nearly%20every%20culture%20around%20the%20world.%20%5C%20We%5C%27ve%20all%20heard%20some%20iteration%20of%20a%20bird%20story%20before%3A%20Common%20characters%20you%20might%20recall%20include%20the%20wise%20owl%2C%20mischievous%20raven%2C%20vain%20peacock%2C%20and%20motherly%20hen.%20I%20was%20introduced%20to%20these%20stories%20early%20on%2C%20first%20captivated%5C%20%20by%20the%20avian%20parables%20I%20listened%20to%20on%20CDs%2C%20and%20they%20became%20an%20integral%20part%20of%20my%20early%20years.%20I%20can%20still%20remember%20proudly%20reciting%20%5C%22%22The%20Ant%20and%20the%20Magpie%5C%22%22%20word%20for%20word%20to%20my%20parents%2C%20an%20important%20tale%20reminding%20%5C%20%20listeners%20to%20save%20resources%20for%20a%20time%20in%20need%2C%20represented%20by%20the%20winter%20in%20the%20animal%20world.%5C%20As%20I%20got%20older%2C%20my%20love%20for%20birds%20persisted%2C%20but%20the%20influence%20those%20childlike%20stories%20had%20on%20me%20waned.%20After%20all%2C%20none%20of%20my%20classmates%20proclaimed%20their%20love%20of%20dogs%20stemmed%20from%20a%20Danish%20fairytale%20or%20Chinese%20folklore.%20%5C%20I%20figured%20the%20reason%20I%20loved%20birds%20was%20shallower%3A%20I%20enjoyed%20the%20startling%2C%20colorful%20plumage%20and%20the%20joyous%20calls%20I%20heard%20outside%20my%20window.%20No%20longer%20were%20birds%20a%20central%20part%20of%20my%20identity%3B%20instead%2C%20they%20became%20an%20answer%20%5C%20when%20I%20had%20to%20state%20my%20favorite%20animal%20during%20a%20summer%20camp%20icebreaker.%5C%20It%20wasn%5C%27t%20until%20I%20was%20well%20into%20high%20school%2C%20nearly%20a%20decade%20after%20I%20last%20closed%20the%20cover%2C%20that%20I%20found%20one%20of%20my%20favorite%20childhood%20books%2C%20%5C%22%22Why%20Snails%20Have%20Shells%2C%5C%22%22%20in%20the%20depths%20of%20my%20closet.%20Rediscovering%20%5C%20this%20book%20reminded%20me%20of%20the%20importance%20I%20placed%20on%20the%20lessons%20I%20learned%20from%20the%20cherished%20bird%20characters.%20Leafing%20through%20the%20pages%20and%20rereading%20the%20familiar%20stories%2C%20I%20realized%20the%20straightforward%20teachings%20%5C%20of%20the%20birds%20were%20more%20relevant%20to%20my%20current%20life%20than%20they%20ever%20were%20in%20my%20childhood.%20Birds%20once%20again%20were%20not%20simply%20my%20favorite%20animal%2C%20they%20guided%20the%20way%20I%20reacted%20in%20challenging%20situations%2C%20which%20-%20like%20for%20%5C%20most%20of%20my%20peers%20-%20came%20in%20a%20barrage%20as%20I%20got%20older.%5C%20The%20lesson%20that%20permeates%20my%20life%20today%20is%20from%20an%20old%20Chinese%20proverb%2C%20famously%20summed%20up%20by%20poet%20Maya%20Angelou%20as%20%5C%22%22A%20bird%20doesn%5C%27t%20sing%20because%20it%20has%20an%20answer%2C%20it%20sings%20because%20it%20has%20a%20song.%5C%22%22%20High%20school%20%5C%20life%2C%20especially%20for%20my%20generation%2C%20is%20hyper-focused%20on%20the%20approval%20of%20others.%20Instagram%20is%20littered%20with%20polls%20asking%20if%20outfits%20are%20%5C%22%22ok%2C%5C%22%22%20popularity%20is%20measured%20by%20the%20average%20number%20of%20comments%20you%20get%20in%20%5C%20response%20to%20your%20posts%2C%20and%20every%20joke%20uttered%20is%20followed%20by%20a%20scan%20of%20the%20room%20to%20make%20sure%20at%20least%20someone%20is%20laughing.%20Contrastingly%2C%20the%20bird%20doesn%5C%27t%20focus%20on%20the%20answer%20it%20receives%20from%20its%20song%3B%20in%20fact%2C%20it%20doesn%5C%27t%20%5C%20even%20expect%20an%20answer.%20The%20bird%20sings%20because%20it%20wishes%20to%2C%20because%20of%20the%20joy%20it%20experiences%20when%20doing%20so.%5C%20It%20can%20be%20easy%20to%20get%20swept%20away%20in%20the%20desire%20to%20please%2C%20but%20the%20personal%20mantra%20I%5C%27ve%20adopted%20reminds%20me%20of%20the%20importance%20of%20doing%20things%20for%20the%20sake%20of%20making%20yourself%20happy%2C%20not%20others.%20I%20build%20relationships%5C%20%20I%20genuinely%20value%2C%20I%20invest%20my%20time%20in%20activities%20I%20love%20to%20do%2C%20and%20I%20express%20myself%20in%20ways%20that%20bring%20me%20joy.%20Although%20the%20stories%20and%20proverbs%20I%20learned%20when%20I%20was%20younger%20originated%20from%20distant%20times%20and%20places%2C%5C%20%20%20they%20have%20woven%20themselves%20into%20my%20values%20and%20shaped%20me%20into%20the%20person%20I%20am%20today. HTTP/1.1\" 200 OK\n"
          ]
        },
        {
          "output_type": "stream",
          "name": "stderr",
          "text": [
            "INFO:     Shutting down\n",
            "INFO:     Waiting for application shutdown.\n",
            "INFO:     Application shutdown complete.\n",
            "INFO:     Finished server process [1586]\n"
          ]
        }
      ]
    },
    {
      "cell_type": "code",
      "source": [
        "ngrok.kill()"
      ],
      "metadata": {
        "id": "WOAmv_EseN82"
      },
      "execution_count": 8,
      "outputs": []
    },
    {
      "cell_type": "code",
      "source": [
        "from flask import *\n",
        "from flask_ngrok import run_with_ngrok\n",
        "app = Flask(__name__)\n",
        "@app.route('/index')\n",
        "def home():\n",
        "  return 'Hello World'\n",
        "\n",
        "# run_with_ngrok(app)\n",
        "# app.run()"
      ],
      "metadata": {
        "colab": {
          "base_uri": "https://localhost:8080/"
        },
        "id": "1NgjI-EVuz4Z",
        "outputId": "338f85af-80dd-4230-c8d6-33bd147c5397"
      },
      "execution_count": 1,
      "outputs": [
        {
          "output_type": "stream",
          "name": "stdout",
          "text": [
            " * Serving Flask app \"__main__\" (lazy loading)\n",
            " * Environment: production\n",
            "\u001b[31m   WARNING: This is a development server. Do not use it in a production deployment.\u001b[0m\n",
            "\u001b[2m   Use a production WSGI server instead.\u001b[0m\n",
            " * Debug mode: off\n"
          ]
        },
        {
          "output_type": "stream",
          "name": "stderr",
          "text": [
            " * Running on http://127.0.0.1:5000/ (Press CTRL+C to quit)\n",
            "Exception in thread _colab_inspector_thread:\n",
            "Traceback (most recent call last):\n",
            "  File \"/usr/lib/python3.7/threading.py\", line 926, in _bootstrap_inner\n",
            "    self.run()\n",
            "  File \"/usr/lib/python3.7/threading.py\", line 870, in run\n",
            "    self._target(*self._args, **self._kwargs)\n",
            "  File \"/usr/local/lib/python3.7/dist-packages/google/colab/_debugpy.py\", line 59, in inspector_thread\n",
            "    _variable_inspector.run(shell, time)\n",
            "  File \"/usr/local/lib/python3.7/dist-packages/google/colab/_variable_inspector.py\", line 28, in run\n",
            "    globals().clear()\n",
            "TypeError: 'module' object is not callable\n",
            "\n"
          ]
        },
        {
          "output_type": "stream",
          "name": "stdout",
          "text": [
            " * Running on http://5721-35-227-159-21.ngrok.io\n",
            " * Traffic stats available on http://127.0.0.1:4040\n"
          ]
        },
        {
          "output_type": "stream",
          "name": "stderr",
          "text": [
            "127.0.0.1 - - [17/Dec/2021 12:12:15] \"\u001b[33mGET / HTTP/1.1\u001b[0m\" 404 -\n",
            "127.0.0.1 - - [17/Dec/2021 12:12:15] \"\u001b[33mGET /favicon.ico HTTP/1.1\u001b[0m\" 404 -\n",
            "127.0.0.1 - - [17/Dec/2021 12:12:16] \"\u001b[33mGET / HTTP/1.1\u001b[0m\" 404 -\n"
          ]
        }
      ]
    },
    {
      "cell_type": "code",
      "source": [
        ""
      ],
      "metadata": {
        "id": "M1lGiWxdTLF9"
      },
      "execution_count": null,
      "outputs": []
    }
  ]
}